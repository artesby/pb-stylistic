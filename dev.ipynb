{
 "cells": [
  {
   "cell_type": "code",
   "execution_count": 324,
   "metadata": {},
   "outputs": [
    {
     "name": "stdout",
     "output_type": "stream",
     "text": [
      "CPU times: user 2.19 s, sys: 24 ms, total: 2.21 s\n",
      "Wall time: 2.3 s\n"
     ]
    }
   ],
   "source": [
    "%%time\n",
    "data = []\n",
    "lengths = []\n",
    "for filename in sorted(os.listdir(\"txt_cut\")):\n",
    "    book_id = int(filename.split('.')[0])\n",
    "    if get_author(book_id, catalog) in singles:\n",
    "        continue\n",
    "    with codecs.open(os.path.join(\"txt_cut\", filename), encoding='utf-8') as book:\n",
    "        content = book.read()\n",
    "        data.append(content)\n",
    "        lengths.append(len(re.findall(u\"(?u)\\\\b\\\\w+\\\\b\", content)))"
   ]
  },
  {
   "cell_type": "code",
   "execution_count": 325,
   "metadata": {
    "scrolled": true
   },
   "outputs": [
    {
     "name": "stdout",
     "output_type": "stream",
     "text": [
      "test_fraction: 0.18608414239482202\n"
     ]
    }
   ],
   "source": [
    "train_idx, test_idx = train_test_split(np.array(data), authors, return_idx=True)"
   ]
  },
  {
   "cell_type": "code",
   "execution_count": 325,
   "metadata": {
    "scrolled": true
   },
   "outputs": [
    {
     "name": "stdout",
     "output_type": "stream",
     "text": [
      "test_fraction: 0.18608414239482202\n"
     ]
    }
   ],
   "source": [
    "train_idx, test_idx = train_test_split(np.array(data), authors, return_idx=True)"
   ]
  },
  {
   "cell_type": "code",
   "execution_count": null,
   "metadata": {},
   "outputs": [],
   "source": [
    "train_idx, test_idx = train_test_split(np.array(data), authors, return_idx=True)"
   ]
  },
  {
   "cell_type": "code",
   "execution_count": null,
   "metadata": {},
   "outputs": [],
   "source": []
  },
  {
   "cell_type": "code",
   "execution_count": null,
   "metadata": {},
   "outputs": [],
   "source": [
    "aa"
   ]
  }
 ],
 "metadata": {
  "kernelspec": {
   "display_name": "Python 3",
   "language": "python",
   "name": "python3"
  },
  "language_info": {
   "codemirror_mode": {
    "name": "ipython",
    "version": 3
   },
   "file_extension": ".py",
   "mimetype": "text/x-python",
   "name": "python",
   "nbconvert_exporter": "python",
   "pygments_lexer": "ipython3",
   "version": "3.7.3"
  }
 },
 "nbformat": 4,
 "nbformat_minor": 2
}
