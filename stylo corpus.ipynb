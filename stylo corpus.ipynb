{
 "cells": [
  {
   "cell_type": "code",
   "execution_count": 10,
   "metadata": {},
   "outputs": [],
   "source": [
    "import os\n",
    "import pandas as pd\n",
    "import shutil\n",
    "catalog = pd.read_csv('collection_catalog.csv', sep=';')\n",
    "\n",
    "def get_author_id(fbusta_id, catalog):\n",
    "    return catalog.loc[catalog['fbusta_id'] == fbusta_id]['author_id'].item()\n",
    "\n",
    "def get_author_name(fbusta_id, catalog):\n",
    "#     return catalog.loc[catalog['fbusta_id'] == book_id]['author_name'].item() + \\\n",
    "    return catalog.loc[catalog['fbusta_id'] == fbusta_id]['author_surname'].item()\n",
    "\n",
    "\n",
    "def get_book_name(fbusta_id, catalog):\n",
    "    return catalog.loc[catalog['fbusta_id'] == fbusta_id]['book_title'].item()\n",
    "\n",
    "def get_book_id(fbusta_id, catalog):\n",
    "    return catalog.loc[catalog['fbusta_id'] == fbusta_id]['book_id'].item()"
   ]
  },
  {
   "cell_type": "code",
   "execution_count": 12,
   "metadata": {},
   "outputs": [],
   "source": [
    "os.mkdir('StyloProject/corpus')\n",
    "for filename in os.listdir('txt_cut'):\n",
    "    fbusta_id = int(filename.split('.')[0])\n",
    "    author = get_author_name(fbusta_id, catalog)\n",
    "    book = get_book_name(fbusta_id, catalog).replace(',', ' ')\n",
    "    shutil.copy(os.path.join('txt_cut', filename), os.path.join('StyloProject/corpus', author+'_'+book))"
   ]
  },
  {
   "cell_type": "code",
   "execution_count": null,
   "metadata": {},
   "outputs": [],
   "source": []
  }
 ],
 "metadata": {
  "kernelspec": {
   "display_name": "Python 3",
   "language": "python",
   "name": "python3"
  },
  "language_info": {
   "codemirror_mode": {
    "name": "ipython",
    "version": 3
   },
   "file_extension": ".py",
   "mimetype": "text/x-python",
   "name": "python",
   "nbconvert_exporter": "python",
   "pygments_lexer": "ipython3",
   "version": "3.7.3"
  }
 },
 "nbformat": 4,
 "nbformat_minor": 2
}
