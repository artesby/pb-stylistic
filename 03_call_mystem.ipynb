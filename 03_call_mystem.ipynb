{
 "cells": [
  {
   "cell_type": "code",
   "execution_count": 1,
   "metadata": {},
   "outputs": [],
   "source": [
    "import subprocess\n",
    "import os\n",
    "import time"
   ]
  },
  {
   "cell_type": "code",
   "execution_count": 2,
   "metadata": {},
   "outputs": [],
   "source": [
    "dir_in = 'plain_texts_cut'#'ridero_books' #'txt_cut_chunks15'\n",
    "dir_out = 'plain_texts_json_cut'#'json_ridero_books' #'json_cut_chunks'"
   ]
  },
  {
   "cell_type": "code",
   "execution_count": 3,
   "metadata": {},
   "outputs": [],
   "source": [
    "# if not os.path.exists(\"output_mystem\"):\n",
    "#     os.makedirs(\"output_mystem\")\n",
    "\n",
    "# for f in os.listdir('txt')[:2]:\n",
    "#     input_f = os.path.join('./txt', f)\n",
    "#     output_f = os.path.join('./output_mystem', f)\n",
    "#     ! ./mystem -cdginfs --format json $input_f $output_f"
   ]
  },
  {
   "cell_type": "code",
   "execution_count": 4,
   "metadata": {
    "scrolled": true
   },
   "outputs": [
    {
     "name": "stderr",
     "output_type": "stream",
     "text": [
      "100%|██████████| 38425/38425 [2:59:35<00:00,  3.57it/s]  \n"
     ]
    },
    {
     "name": "stdout",
     "output_type": "stream",
     "text": [
      "CPU times: user 58.2 s, sys: 1min 57s, total: 2min 56s\n",
      "Wall time: 2h 59min 36s\n"
     ]
    }
   ],
   "source": [
    "%%time\n",
    "processes = set()\n",
    "max_processes = 5\n",
    "\n",
    "if not os.path.exists(dir_out):\n",
    "    os.makedirs(dir_out)\n",
    "n=0\n",
    "from tqdm import tqdm\n",
    "for f in tqdm(os.listdir(dir_in)):\n",
    "#     if (f[-3:] == \"txt\"):\n",
    "    if True:\n",
    "        json_file_name = os.path.join(dir_out, f + \".txt\")\n",
    "        if not os.path.isfile(json_file_name):\n",
    "            #-nigfcsd\n",
    "            processes.add(subprocess.Popen([\"./mystem\", \"--format=text\", \"-wnld\", os.path.join(dir_in, f), json_file_name]))\n",
    "            while len(processes) >= max_processes:\n",
    "                time.sleep(0.2)\n",
    "                processes.difference_update(\n",
    "                    [p for p in processes if p.poll() is not None])\n",
    "            n+=1\n",
    "#             print(n, \"creating\", json_file_name)\n",
    "#         else:\n",
    "#             print(\"exists\", json_file_name)\n",
    "\n",
    "    \n",
    "#Check if all the child processes were closed\n",
    "for p in processes:\n",
    "    if p.poll() is None:\n",
    "        p.wait()"
   ]
  },
  {
   "cell_type": "code",
   "execution_count": null,
   "metadata": {},
   "outputs": [],
   "source": [
    "for "
   ]
  }
 ],
 "metadata": {
  "kernelspec": {
   "display_name": "Python 3",
   "language": "python",
   "name": "python3"
  },
  "language_info": {
   "codemirror_mode": {
    "name": "ipython",
    "version": 3
   },
   "file_extension": ".py",
   "mimetype": "text/x-python",
   "name": "python",
   "nbconvert_exporter": "python",
   "pygments_lexer": "ipython3",
   "version": "3.7.3"
  }
 },
 "nbformat": 4,
 "nbformat_minor": 2
}
