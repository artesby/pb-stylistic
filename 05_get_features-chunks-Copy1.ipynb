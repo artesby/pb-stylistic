{
 "cells": [
  {
   "cell_type": "code",
   "execution_count": 20,
   "metadata": {},
   "outputs": [],
   "source": [
    "import os\n",
    "import re\n",
    "import json\n",
    "import codecs\n",
    "import gc\n",
    "import numpy as np\n",
    "import pandas as pd\n",
    "from sklearn.feature_extraction.text import CountVectorizer, TfidfVectorizer\n",
    "from collections import Counter\n",
    "from sklearn.preprocessing import normalize, StandardScaler\n",
    "from sklearn.neighbors import DistanceMetric\n",
    "from metric_learn import ITML_Supervised, Covariance, LSML, LSML_Supervised\n",
    "from sklearn.metrics.pairwise import pairwise_distances as pdist\n",
    "# import delta\n",
    "from xgboost import XGBRegressor, plot_importance\n",
    "\n",
    "from scripts.utils import *\n",
    "from scripts.readability_functions import *"
   ]
  },
  {
   "cell_type": "code",
   "execution_count": 2,
   "metadata": {},
   "outputs": [],
   "source": [
    "dir_in_parsed = 'parsed_json_cut_chunks'\n",
    "dir_in_raw = 'json_cut_chunks15'\n",
    "dir_in_ridero_parsed = 'parsed_json_cut_chunks'\n",
    "dir_in_ridero_raw = 'json_cut_chunks15'"
   ]
  },
  {
   "cell_type": "code",
   "execution_count": 4,
   "metadata": {},
   "outputs": [],
   "source": [
    "catalog = pd.read_csv('collection_catalog_full_final.csv', sep=';')\n",
    "with open('stop3grams.txt', 'r') as f:\n",
    "    stop3grams = set([s.lower() for s in f.read().splitlines()])"
   ]
  },
  {
   "cell_type": "code",
   "execution_count": 5,
   "metadata": {},
   "outputs": [
    {
     "data": {
      "text/plain": [
       "4559"
      ]
     },
     "execution_count": 5,
     "metadata": {},
     "output_type": "execute_result"
    }
   ],
   "source": [
    "len(stop3grams)"
   ]
  },
  {
   "cell_type": "code",
   "execution_count": 6,
   "metadata": {},
   "outputs": [],
   "source": [
    "# def get_author_id(fbusta_id, catalog):\n",
    "#     return catalog.loc[catalog['fbusta_id'] == fbusta_id]['author_id'].item()"
   ]
  },
  {
   "cell_type": "code",
   "execution_count": 7,
   "metadata": {},
   "outputs": [],
   "source": [
    "# def get_author_name(fbusta_id, catalog):\n",
    "# #     return catalog.loc[catalog['fbusta_id'] == book_id]['author_name'].item() + \\\n",
    "#     return catalog.loc[catalog['fbusta_id'] == fbusta_id]['author_surname'].item()\n"
   ]
  },
  {
   "cell_type": "code",
   "execution_count": 8,
   "metadata": {},
   "outputs": [],
   "source": [
    "# def get_book_name(fbusta_id, catalog):\n",
    "#     return catalog.loc[catalog['fbusta_id'] == fbusta_id]['book_title'].item()"
   ]
  },
  {
   "cell_type": "code",
   "execution_count": 9,
   "metadata": {},
   "outputs": [],
   "source": [
    "# def get_book_id(fbusta_id, catalog):\n",
    "#     return catalog.loc[catalog['fbusta_id'] == fbusta_id]['book_id'].item()"
   ]
  },
  {
   "cell_type": "code",
   "execution_count": 10,
   "metadata": {},
   "outputs": [],
   "source": [
    "authors = []\n",
    "book_names = []\n",
    "book_fbusta_ids = []\n",
    "book_ids = []\n",
    "for filename in sorted(os.listdir(dir_in_parsed)):\n",
    "    with open(os.path.join(dir_in_parsed, filename), 'r') as book:\n",
    "        fbusta_id = int(filename.split('.')[0])\n",
    "        book_fbusta_ids.append(fbusta_id)\n",
    "        book_ids.append(get_book_id(fbusta_id, catalog))\n",
    "        authors.append(get_author_id(fbusta_id, catalog))\n",
    "        book_names.append(get_book_name(fbusta_id, catalog))\n",
    "book_fbusta_ids = np.array(book_fbusta_ids)\n",
    "book_names = np.array(book_names)\n",
    "authors = np.array(authors)\n",
    "book_ids = np.array(book_ids)"
   ]
  },
  {
   "cell_type": "code",
   "execution_count": 11,
   "metadata": {},
   "outputs": [
    {
     "data": {
      "text/plain": [
       "20"
      ]
     },
     "execution_count": 11,
     "metadata": {},
     "output_type": "execute_result"
    }
   ],
   "source": [
    "gc.collect()"
   ]
  },
  {
   "cell_type": "code",
   "execution_count": 12,
   "metadata": {},
   "outputs": [
    {
     "data": {
      "text/plain": [
       "2338"
      ]
     },
     "execution_count": 12,
     "metadata": {},
     "output_type": "execute_result"
    }
   ],
   "source": [
    "len(authors)"
   ]
  },
  {
   "cell_type": "code",
   "execution_count": 13,
   "metadata": {},
   "outputs": [
    {
     "data": {
      "text/plain": [
       "array([], dtype=int64)"
      ]
     },
     "execution_count": 13,
     "metadata": {},
     "output_type": "execute_result"
    }
   ],
   "source": [
    "groups = pd.Series(authors).value_counts()\n",
    "singles = np.array(groups[groups==1].index)\n",
    "singles"
   ]
  },
  {
   "cell_type": "code",
   "execution_count": 14,
   "metadata": {},
   "outputs": [
    {
     "data": {
      "text/plain": [
       "2338"
      ]
     },
     "execution_count": 14,
     "metadata": {},
     "output_type": "execute_result"
    }
   ],
   "source": [
    "authors = np.array([a for a in authors if a not in singles])\n",
    "len(authors)"
   ]
  },
  {
   "cell_type": "code",
   "execution_count": 15,
   "metadata": {
    "scrolled": true
   },
   "outputs": [
    {
     "data": {
      "text/plain": [
       "16    33\n",
       "20    32\n",
       "12    15\n",
       "24    11\n",
       "8      6\n",
       "4      5\n",
       "19     5\n",
       "13     5\n",
       "10     4\n",
       "14     4\n",
       "15     4\n",
       "17     4\n",
       "18     3\n",
       "11     3\n",
       "22     2\n",
       "9      2\n",
       "32     1\n",
       "21     1\n",
       "28     1\n",
       "6      1\n",
       "5      1\n",
       "33     1\n",
       "dtype: int64"
      ]
     },
     "execution_count": 15,
     "metadata": {},
     "output_type": "execute_result"
    }
   ],
   "source": [
    "pd.Series(authors).value_counts().value_counts()"
   ]
  },
  {
   "cell_type": "code",
   "execution_count": 16,
   "metadata": {},
   "outputs": [
    {
     "data": {
      "text/plain": [
       "<matplotlib.axes._subplots.AxesSubplot at 0x7f47c63a7cc0>"
      ]
     },
     "execution_count": 16,
     "metadata": {},
     "output_type": "execute_result"
    },
    {
     "data": {
      "image/png": "[encoded data removed]",
      "text/plain": [
       "<Figure size 432x288 with 1 Axes>"
      ]
     },
     "metadata": {
      "needs_background": "light"
     },
     "output_type": "display_data"
    }
   ],
   "source": [
    "%matplotlib inline\n",
    "pd.Series(authors).value_counts().hist()"
   ]
  },
  {
   "cell_type": "code",
   "execution_count": 17,
   "metadata": {},
   "outputs": [],
   "source": [
    "def metric(M):\n",
    "    return lambda x, y: (x-y).dot(M).dot(x-y)"
   ]
  },
  {
   "cell_type": "code",
   "execution_count": 18,
   "metadata": {},
   "outputs": [],
   "source": [
    "def r_precision_m(matrix, authors, verbose=False):\n",
    "    result = []\n",
    "    for col in matrix:\n",
    "        true_R = sum(authors == authors[col]) - 1\n",
    "        \n",
    "        closest = authors[matrix[col].argsort()][1:true_R+1]\n",
    "        rp = sum(closest == authors[col]) / true_R\n",
    "        if verbose:\n",
    "            print(authors[col], closest, true_R, rp)\n",
    "        result.append(rp)\n",
    "    return result"
   ]
  },
  {
   "cell_type": "code",
   "execution_count": 26,
   "metadata": {},
   "outputs": [],
   "source": [
    "def r_precision10_m(matrix, authors, verbose=False):\n",
    "    result = []\n",
    "    for col in matrix:\n",
    "        true_R = sum(authors == authors[col]) - 1\n",
    "        \n",
    "        closest = authors[matrix[col].argsort()][1:11]\n",
    "        rp = sum(closest == authors[col]) / true_R\n",
    "        if verbose:\n",
    "            print(authors[col], closest, true_R, rp)\n",
    "        result.append(rp)\n",
    "    return result"
   ]
  },
  {
   "cell_type": "code",
   "execution_count": 20,
   "metadata": {},
   "outputs": [],
   "source": [
    "SAME_BOOK = 4\n",
    "SAME_AUTHOR = 3\n",
    "SAME_AGE = 2\n",
    "LINKS_BOOKS = 1\n",
    "LINKS_AUTHORS = 1\n",
    "OTHER = 0"
   ]
  },
  {
   "cell_type": "code",
   "execution_count": 22,
   "metadata": {},
   "outputs": [],
   "source": [
    "rel_matrix = pd.DataFrame(np.zeros((catalog.shape[0], catalog.shape[0])))\n",
    "rel_matrix.columns = catalog['book_id']\n",
    "rel_matrix.index = rel_matrix.columns"
   ]
  },
  {
   "cell_type": "code",
   "execution_count": 280,
   "metadata": {
    "scrolled": true
   },
   "outputs": [
    {
     "name": "stdout",
     "output_type": "stream",
     "text": [
      "CPU times: user 2min 48s, sys: 29.9 ms, total: 2min 48s\n",
      "Wall time: 2min 48s\n"
     ]
    }
   ],
   "source": [
    "%%time\n",
    "for i in range(catalog.shape[0]):\n",
    "    row = catalog.iloc[i]\n",
    "    rel_matrix.iloc[i, i] = SAME_BOOK\n",
    "    for j in range(i+1, catalog.shape[0]):\n",
    "        row2 = catalog.iloc[j]\n",
    "        assert row2.book_id.item() == rel_matrix.iloc[j].name\n",
    "        if rel_matrix.iloc[i, j] != 0:\n",
    "#             print(i, j, 'zaneto', rel_matrix.iloc[i, j])\n",
    "            continue\n",
    "        if row.author_id.item() == row2.author_id.item():\n",
    "            rel_matrix.iloc[i, j] = SAME_AUTHOR\n",
    "            rel_matrix.iloc[j, i] = SAME_AUTHOR\n",
    "#             print(i, j, 'author', rel_matrix.iloc[i, j])\n",
    "        elif abs(row.year.item() - row2.year.item()) < 10:\n",
    "            rel_matrix.iloc[i, j] = SAME_AGE\n",
    "            rel_matrix.iloc[j, i] = SAME_AGE\n",
    "#             print(i, j, 'age', rel_matrix.iloc[i, j])\n",
    "        elif str(row.book_id) in str(row2.book_com_links).split('_'):\n",
    "            rel_matrix.iloc[i, j] = LINKS_BOOKS\n",
    "            rel_matrix.iloc[j, i] = LINKS_BOOKS\n",
    "#             print(i, j, 'books', rel_matrix.iloc[i, j])\n",
    "        elif str(row.author_id) in str(row2.author_com_links).split('_'):\n",
    "            rel_matrix.iloc[i, j] = LINKS_AUTHORS\n",
    "            rel_matrix.iloc[j, i] = LINKS_AUTHORS\n",
    "#             print(i, j, 'authors', rel_matrix.iloc[i, j])\n",
    "#         else:\n",
    "#             print(i, j, 'none', rel_matrix.iloc[i, j])"
   ]
  },
  {
   "cell_type": "code",
   "execution_count": 340,
   "metadata": {
    "scrolled": true
   },
   "outputs": [
    {
     "data": {
      "text/plain": [
       "(67.69750883827172, 98, 98)"
      ]
     },
     "execution_count": 340,
     "metadata": {},
     "output_type": "execute_result"
    }
   ],
   "source": [
    "true_rel_row = sorted(rel_matrix[2].value_counts().items(), reverse=True)\n",
    "k, v = true_rel_row[0]\n",
    "true_rel_row[0] = (k, v-1)\n",
    "true_rel_row\n",
    "\n",
    "i = 0\n",
    "idcg = 0\n",
    "for k, v in true_rel_row:\n",
    "    if not k:\n",
    "        break\n",
    "    for j in range(v):\n",
    "        i += 1\n",
    "        idcg += (2 ** k - 1) / np.log2(i+1)\n",
    "        \n",
    "idcg, i, (rel_matrix[2] > 0).sum()-1"
   ]
  },
  {
   "cell_type": "code",
   "execution_count": 367,
   "metadata": {},
   "outputs": [],
   "source": [
    "def ndcg_m(dists, book_ids, catalog=catalog, verbose=False):\n",
    "    result = []\n",
    "    for col in dists:\n",
    "        print(book_ids[col])\n",
    "        if book_ids[col] == 303:\n",
    "            continue\n",
    "        p = (rel_matrix[book_ids[col]] > 0).sum() - 1\n",
    "        cur_book_info = catalog[catalog['book_id'] == book_ids[col]]\n",
    "        closest = book_ids[dists[col].argsort()][1:p+1]\n",
    "        dcg = 0\n",
    "        for i, book_id in enumerate(closest):\n",
    "            book_info = catalog[catalog['book_id'] == book_id]\n",
    "            if book_id == 303:\n",
    "                continue\n",
    "            if book_id == cur_book_info['book_id'].item():\n",
    "                rel = SAME_BOOK\n",
    "            elif cur_book_info['author_id'].item() == book_info['author_id'].item():\n",
    "                rel = SAME_AUTHOR\n",
    "            elif abs(cur_book_info['year'].item() - book_info['year'].item()) < 10:\n",
    "                rel = SAME_AGE\n",
    "            elif str(book_id) in str(cur_book_info['book_com_links'].item()).split('_'):\n",
    "                rel = LINKS_BOOKS\n",
    "            elif str(book_info['author_id'].item()) in str(cur_book_info['author_com_links'].item()).split('_'):\n",
    "                rel = LINKS_AUTHORS\n",
    "            else:\n",
    "                rel = OTHER\n",
    "            dcg += (2 ** rel - 1) / np.log2(i+2)\n",
    "        \n",
    "        i = 0\n",
    "        idcg = 0\n",
    "        true_rel_row = sorted(rel_matrix[book_ids[col]].value_counts().items(), reverse=True)\n",
    "        k, v = true_rel_row[0]\n",
    "        true_rel_row[0] = (k, v-1)\n",
    "        for k, v in true_rel_row:\n",
    "            if not k:\n",
    "                break\n",
    "            for j in range(v):\n",
    "                i += 1\n",
    "                idcg += (2 ** k - 1) / np.log2(i+1)\n",
    "        assert p == i\n",
    "        result.append(dcg / idcg)\n",
    "        \n",
    "    return result"
   ]
  },
  {
   "cell_type": "code",
   "execution_count": 368,
   "metadata": {},
   "outputs": [
    {
     "data": {
      "text/html": [
       "<div>\n",
       "<style scoped>\n",
       "    .dataframe tbody tr th:only-of-type {\n",
       "        vertical-align: middle;\n",
       "    }\n",
       "\n",
       "    .dataframe tbody tr th {\n",
       "        vertical-align: top;\n",
       "    }\n",
       "\n",
       "    .dataframe thead th {\n",
       "        text-align: right;\n",
       "    }\n",
       "</style>\n",
       "<table border=\"1\" class=\"dataframe\">\n",
       "  <thead>\n",
       "    <tr style=\"text-align: right;\">\n",
       "      <th></th>\n",
       "      <th>Unnamed: 0</th>\n",
       "      <th>author_surname</th>\n",
       "      <th>fbusta_id</th>\n",
       "      <th>author_id</th>\n",
       "      <th>author_name</th>\n",
       "      <th>book_id</th>\n",
       "      <th>book_title</th>\n",
       "      <th>polka_title</th>\n",
       "      <th>size</th>\n",
       "      <th>year</th>\n",
       "      <th>wiki_book</th>\n",
       "      <th>wiki_author</th>\n",
       "      <th>author_com_links</th>\n",
       "      <th>book_com_links</th>\n",
       "    </tr>\n",
       "  </thead>\n",
       "  <tbody>\n",
       "    <tr>\n",
       "      <th>38</th>\n",
       "      <td>38</td>\n",
       "      <td>Андреев</td>\n",
       "      <td>288557</td>\n",
       "      <td>6</td>\n",
       "      <td>Леонид Николаевич</td>\n",
       "      <td>30</td>\n",
       "      <td>Иуда Искариот</td>\n",
       "      <td>NaN</td>\n",
       "      <td>60</td>\n",
       "      <td>1907.0</td>\n",
       "      <td>https://ru.wikipedia.org/wiki/Иуда_Искариот_(п...</td>\n",
       "      <td>https://ru.wikipedia.org/wiki/Андреев,_Леонид_...</td>\n",
       "      <td>54_26_52_22</td>\n",
       "      <td>32_34_31</td>\n",
       "    </tr>\n",
       "  </tbody>\n",
       "</table>\n",
       "</div>"
      ],
      "text/plain": [
       "    Unnamed: 0 author_surname  fbusta_id  author_id        author_name  \\\n",
       "38          38        Андреев     288557          6  Леонид Николаевич   \n",
       "\n",
       "    book_id     book_title polka_title  size    year  \\\n",
       "38       30  Иуда Искариот         NaN    60  1907.0   \n",
       "\n",
       "                                            wiki_book  \\\n",
       "38  https://ru.wikipedia.org/wiki/Иуда_Искариот_(п...   \n",
       "\n",
       "                                          wiki_author author_com_links  \\\n",
       "38  https://ru.wikipedia.org/wiki/Андреев,_Леонид_...      54_26_52_22   \n",
       "\n",
       "   book_com_links  \n",
       "38       32_34_31  "
      ]
     },
     "execution_count": 368,
     "metadata": {},
     "output_type": "execute_result"
    }
   ],
   "source": [
    "catalog[catalog.book_id == 30]"
   ]
  },
  {
   "cell_type": "code",
   "execution_count": 369,
   "metadata": {
    "scrolled": true
   },
   "outputs": [
    {
     "name": "stdout",
     "output_type": "stream",
     "text": [
      "2\n",
      "1\n",
      "4\n",
      "1\n",
      "3\n",
      "2\n",
      "2\n",
      "4\n",
      "7\n",
      "9\n",
      "5\n",
      "5\n",
      "7\n",
      "6\n",
      "6\n",
      "8\n",
      "7\n",
      "5\n",
      "13\n",
      "14\n",
      "12\n",
      "13\n",
      "13\n",
      "12\n",
      "11\n",
      "11\n",
      "10\n",
      "10\n",
      "16\n",
      "16\n",
      "17\n",
      "16\n",
      "18\n",
      "18\n",
      "16\n",
      "15\n",
      "17\n",
      "18\n",
      "20\n",
      "22\n",
      "20\n",
      "22\n",
      "24\n",
      "21\n",
      "21\n",
      "25\n",
      "27\n",
      "21\n",
      "26\n",
      "23\n",
      "23\n",
      "27\n",
      "26\n",
      "25\n",
      "34\n",
      "28\n",
      "32\n",
      "28\n",
      "32\n",
      "34\n",
      "32\n",
      "31\n",
      "30\n",
      "33\n",
      "33\n",
      "37\n",
      "37\n",
      "35\n",
      "36\n",
      "35\n",
      "35\n",
      "39\n",
      "36\n",
      "38\n",
      "37\n",
      "44\n",
      "41\n",
      "42\n",
      "40\n",
      "40\n",
      "41\n",
      "42\n",
      "42\n",
      "47\n",
      "45\n",
      "45\n",
      "47\n",
      "49\n",
      "47\n",
      "48\n",
      "49\n",
      "47\n",
      "48\n",
      "52\n",
      "51\n",
      "51\n",
      "50\n",
      "52\n",
      "50\n",
      "53\n",
      "53\n",
      "54\n",
      "53\n",
      "55\n",
      "57\n",
      "58\n",
      "58\n",
      "59\n",
      "60\n",
      "60\n",
      "59\n",
      "61\n",
      "60\n",
      "62\n",
      "62\n",
      "65\n",
      "64\n",
      "63\n",
      "64\n",
      "64\n",
      "63\n",
      "69\n",
      "66\n",
      "69\n",
      "68\n",
      "66\n",
      "70\n",
      "66\n",
      "67\n",
      "69\n",
      "71\n",
      "73\n",
      "72\n",
      "75\n",
      "74\n",
      "74\n",
      "72\n",
      "73\n",
      "75\n",
      "75\n",
      "82\n",
      "78\n",
      "79\n",
      "78\n",
      "78\n",
      "81\n",
      "80\n",
      "79\n",
      "82\n",
      "81\n",
      "81\n",
      "77\n",
      "86\n",
      "84\n",
      "85\n",
      "85\n",
      "86\n",
      "84\n",
      "87\n",
      "84\n",
      "83\n",
      "85\n",
      "91\n",
      "92\n",
      "89\n",
      "90\n",
      "88\n",
      "89\n",
      "90\n",
      "88\n",
      "92\n",
      "91\n",
      "98\n",
      "96\n",
      "95\n",
      "97\n",
      "93\n",
      "97\n",
      "96\n",
      "95\n",
      "94\n",
      "96\n",
      "98\n",
      "106\n",
      "101\n",
      "107\n",
      "102\n",
      "99\n",
      "106\n",
      "99\n",
      "102\n",
      "106\n",
      "102\n",
      "100\n",
      "103\n",
      "105\n",
      "103\n",
      "103\n",
      "105\n",
      "105\n",
      "105\n",
      "111\n",
      "110\n",
      "109\n",
      "113\n",
      "111\n",
      "112\n",
      "109\n",
      "113\n",
      "108\n",
      "110\n",
      "109\n",
      "108\n",
      "118\n",
      "120\n",
      "117\n",
      "118\n",
      "116\n",
      "117\n",
      "120\n",
      "117\n",
      "118\n",
      "124\n",
      "124\n",
      "124\n",
      "123\n",
      "122\n",
      "122\n",
      "126\n",
      "125\n",
      "127\n",
      "126\n",
      "125\n",
      "126\n",
      "129\n",
      "129\n",
      "128\n",
      "128\n",
      "129\n",
      "136\n",
      "137\n",
      "135\n",
      "137\n",
      "133\n",
      "133\n",
      "135\n",
      "134\n",
      "135\n",
      "136\n",
      "138\n",
      "138\n",
      "143\n",
      "142\n",
      "139\n",
      "141\n",
      "141\n",
      "142\n",
      "141\n",
      "140\n",
      "141\n",
      "139\n",
      "145\n",
      "144\n",
      "146\n",
      "147\n",
      "146\n",
      "144\n",
      "147\n",
      "146\n",
      "148\n",
      "149\n",
      "148\n",
      "149\n",
      "150\n",
      "152\n",
      "151\n",
      "152\n",
      "152\n",
      "151\n",
      "153\n",
      "153\n",
      "155\n",
      "156\n",
      "154\n",
      "156\n",
      "157\n",
      "156\n",
      "157\n",
      "154\n",
      "158\n",
      "158\n",
      "162\n",
      "162\n",
      "159\n",
      "161\n",
      "161\n",
      "160\n",
      "161\n",
      "163\n",
      "166\n",
      "166\n",
      "163\n",
      "167\n",
      "164\n",
      "166\n",
      "164\n",
      "164\n",
      "165\n",
      "170\n",
      "171\n",
      "171\n",
      "173\n",
      "172\n",
      "168\n",
      "172\n",
      "169\n",
      "169\n",
      "172\n",
      "168\n",
      "170\n",
      "175\n",
      "176\n",
      "174\n",
      "176\n",
      "174\n",
      "175\n",
      "180\n",
      "179\n",
      "177\n",
      "179\n",
      "178\n",
      "180\n",
      "178\n",
      "177\n",
      "187\n",
      "181\n",
      "183\n",
      "186\n",
      "182\n",
      "186\n",
      "183\n",
      "189\n",
      "191\n",
      "190\n",
      "188\n",
      "189\n",
      "192\n",
      "188\n",
      "191\n",
      "192\n",
      "194\n",
      "194\n",
      "197\n",
      "196\n",
      "196\n",
      "197\n",
      "197\n",
      "196\n",
      "196\n",
      "194\n",
      "198\n",
      "198\n",
      "201\n",
      "200\n",
      "198\n",
      "199\n",
      "200\n",
      "204\n",
      "203\n",
      "206\n",
      "206\n",
      "202\n",
      "206\n",
      "202\n",
      "204\n",
      "204\n",
      "202\n",
      "209\n",
      "208\n",
      "207\n",
      "209\n",
      "211\n",
      "209\n",
      "209\n",
      "207\n",
      "210\n",
      "213\n",
      "215\n",
      "217\n",
      "215\n",
      "214\n",
      "219\n",
      "216\n",
      "217\n",
      "221\n",
      "220\n",
      "212\n",
      "220\n",
      "221\n",
      "215\n",
      "213\n",
      "220\n",
      "212\n",
      "226\n",
      "225\n",
      "222\n",
      "223\n",
      "224\n",
      "225\n",
      "225\n",
      "224\n",
      "222\n",
      "226\n",
      "230\n",
      "228\n",
      "230\n",
      "227\n",
      "227\n",
      "228\n",
      "232\n",
      "231\n",
      "234\n",
      "232\n",
      "235\n",
      "232\n",
      "233\n",
      "231\n",
      "231\n",
      "234\n",
      "238\n",
      "240\n",
      "236\n",
      "238\n",
      "238\n",
      "239\n",
      "240\n",
      "237\n",
      "237\n",
      "237\n",
      "244\n",
      "243\n",
      "242\n",
      "241\n",
      "244\n",
      "241\n",
      "242\n",
      "241\n",
      "246\n",
      "248\n",
      "250\n",
      "249\n",
      "250\n",
      "245\n",
      "247\n",
      "247\n",
      "250\n",
      "248\n",
      "249\n",
      "250\n",
      "254\n",
      "254\n",
      "254\n",
      "256\n",
      "257\n",
      "256\n",
      "258\n",
      "259\n",
      "255\n",
      "256\n",
      "258\n",
      "257\n",
      "263\n",
      "261\n",
      "264\n",
      "262\n",
      "264\n",
      "264\n",
      "261\n",
      "263\n",
      "263\n",
      "262\n",
      "265\n",
      "269\n",
      "269\n",
      "266\n",
      "268\n",
      "273\n",
      "272\n",
      "270\n",
      "272\n",
      "270\n",
      "272\n",
      "272\n",
      "276\n",
      "277\n",
      "278\n",
      "276\n",
      "274\n",
      "277\n",
      "274\n",
      "277\n",
      "275\n",
      "274\n",
      "279\n",
      "275\n",
      "281\n",
      "280\n",
      "280\n",
      "280\n",
      "280\n",
      "282\n",
      "282\n",
      "283\n",
      "285\n",
      "284\n",
      "284\n",
      "287\n",
      "284\n",
      "288\n",
      "286\n",
      "285\n",
      "286\n",
      "287\n",
      "292\n",
      "292\n",
      "291\n",
      "293\n",
      "290\n",
      "292\n",
      "289\n",
      "295\n",
      "297\n",
      "294\n",
      "294\n",
      "296\n",
      "295\n",
      "298\n",
      "295\n",
      "295\n",
      "296\n",
      "299\n",
      "302\n",
      "300\n",
      "299\n",
      "299\n",
      "299\n",
      "300\n",
      "301\n",
      "303\n",
      "303\n",
      "307\n",
      "306\n",
      "307\n",
      "304\n",
      "304\n",
      "306\n",
      "306\n",
      "305\n",
      "304\n",
      "304\n",
      "311\n",
      "311\n",
      "313\n",
      "312\n",
      "310\n",
      "309\n",
      "313\n",
      "313\n",
      "311\n",
      "309\n",
      "316\n",
      "317\n",
      "317\n",
      "317\n",
      "316\n",
      "314\n",
      "315\n",
      "315\n",
      "321\n",
      "319\n",
      "319\n",
      "319\n",
      "320\n",
      "320\n",
      "323\n",
      "325\n",
      "324\n",
      "325\n",
      "322\n",
      "322\n",
      "322\n",
      "324\n",
      "326\n",
      "330\n",
      "330\n",
      "328\n",
      "331\n",
      "327\n",
      "331\n",
      "329\n",
      "328\n",
      "327\n",
      "326\n",
      "329\n",
      "333\n",
      "332\n",
      "332\n",
      "335\n",
      "333\n",
      "334\n",
      "332\n",
      "334\n",
      "337\n",
      "337\n",
      "336\n",
      "336\n",
      "338\n",
      "340\n",
      "340\n",
      "338\n",
      "339\n",
      "338\n",
      "340\n",
      "340\n",
      "344\n",
      "343\n",
      "345\n",
      "344\n",
      "345\n",
      "343\n",
      "345\n",
      "346\n",
      "350\n",
      "346\n",
      "347\n",
      "348\n",
      "348\n",
      "350\n",
      "348\n",
      "349\n",
      "350\n",
      "351\n",
      "353\n",
      "353\n",
      "353\n",
      "352\n",
      "351\n",
      "354\n",
      "354\n",
      "358\n",
      "356\n",
      "358\n",
      "361\n",
      "357\n",
      "355\n",
      "361\n",
      "355\n",
      "355\n",
      "355\n",
      "357\n",
      "359\n",
      "359\n",
      "357\n",
      "367\n",
      "365\n",
      "363\n",
      "367\n",
      "363\n",
      "366\n",
      "362\n",
      "362\n",
      "364\n",
      "363\n",
      "364\n",
      "365\n",
      "370\n",
      "372\n",
      "371\n",
      "371\n",
      "372\n",
      "371\n",
      "370\n",
      "371\n",
      "368\n",
      "369\n",
      "375\n",
      "375\n",
      "373\n",
      "374\n",
      "374\n",
      "374\n",
      "376\n",
      "373\n",
      "377\n",
      "379\n",
      "377\n",
      "377\n",
      "379\n",
      "383\n",
      "382\n",
      "380\n",
      "383\n",
      "383\n",
      "382\n",
      "380\n",
      "383\n",
      "388\n",
      "386\n",
      "386\n",
      "384\n",
      "388\n",
      "387\n",
      "387\n",
      "386\n",
      "390\n",
      "389\n",
      "390\n",
      "390\n",
      "391\n",
      "393\n",
      "392\n",
      "393\n",
      "394\n",
      "393\n",
      "393\n",
      "392\n",
      "400\n",
      "397\n",
      "396\n",
      "398\n",
      "399\n",
      "399\n",
      "397\n",
      "398\n",
      "396\n",
      "396\n",
      "401\n",
      "403\n",
      "404\n",
      "401\n",
      "401\n",
      "402\n",
      "402\n",
      "404\n",
      "405\n",
      "407\n",
      "405\n",
      "406\n",
      "407\n",
      "405\n",
      "409\n",
      "413\n",
      "408\n",
      "411\n",
      "408\n",
      "410\n",
      "411\n",
      "413\n",
      "409\n",
      "412\n",
      "409\n",
      "418\n",
      "419\n",
      "421\n",
      "419\n",
      "416\n",
      "417\n",
      "419\n",
      "416\n",
      "420\n",
      "414\n",
      "414\n",
      "416\n",
      "415\n",
      "414\n",
      "414\n",
      "417\n",
      "427\n",
      "426\n",
      "427\n",
      "426\n",
      "425\n",
      "423\n",
      "424\n",
      "424\n",
      "422\n",
      "424\n",
      "423\n",
      "424\n",
      "431\n",
      "428\n",
      "428\n",
      "430\n",
      "429\n",
      "431\n",
      "429\n",
      "429\n",
      "433\n",
      "434\n",
      "435\n",
      "434\n",
      "435\n",
      "435\n",
      "433\n",
      "436\n",
      "437\n",
      "438\n",
      "439\n",
      "438\n",
      "439\n",
      "439\n",
      "438\n",
      "440\n",
      "441\n",
      "443\n",
      "446\n",
      "446\n",
      "446\n",
      "444\n",
      "445\n",
      "445\n",
      "444\n",
      "450\n",
      "451\n",
      "448\n",
      "451\n",
      "451\n",
      "449\n",
      "449\n",
      "447\n",
      "447\n",
      "449\n",
      "452\n",
      "454\n",
      "456\n",
      "455\n",
      "452\n",
      "456\n",
      "456\n",
      "453\n",
      "455\n",
      "454\n",
      "457\n",
      "458\n",
      "457\n",
      "460\n",
      "460\n",
      "459\n",
      "457\n",
      "458\n",
      "462\n",
      "461\n",
      "463\n",
      "463\n",
      "463\n",
      "462\n",
      "464\n",
      "461\n",
      "470\n",
      "465\n",
      "465\n",
      "467\n",
      "466\n",
      "467\n",
      "468\n",
      "469\n",
      "466\n",
      "468\n",
      "469\n",
      "465\n",
      "472\n",
      "474\n",
      "475\n",
      "471\n",
      "474\n",
      "471\n",
      "474\n",
      "476\n",
      "475\n",
      "471\n",
      "473\n",
      "471\n",
      "484\n",
      "483\n",
      "479\n",
      "485\n",
      "479\n",
      "484\n",
      "487\n",
      "487\n",
      "491\n",
      "492\n",
      "488\n",
      "491\n",
      "488\n",
      "488\n",
      "489\n",
      "492\n",
      "490\n",
      "490\n",
      "496\n",
      "497\n",
      "495\n",
      "496\n",
      "494\n",
      "494\n",
      "496\n",
      "497\n",
      "495\n",
      "498\n",
      "499\n",
      "498\n",
      "499\n",
      "500\n",
      "504\n",
      "503\n",
      "503\n",
      "502\n",
      "504\n",
      "503\n",
      "502\n",
      "501\n",
      "506\n",
      "508\n",
      "508\n",
      "505\n",
      "505\n",
      "505\n",
      "507\n",
      "507\n",
      "512\n",
      "513\n",
      "510\n",
      "514\n",
      "512\n",
      "513\n",
      "510\n",
      "511\n",
      "514\n",
      "509\n",
      "513\n",
      "517\n",
      "519\n",
      "517\n",
      "518\n",
      "519\n",
      "515\n",
      "518\n",
      "516\n",
      "519\n",
      "516\n",
      "522\n",
      "521\n",
      "522\n",
      "523\n",
      "523\n",
      "524\n",
      "525\n",
      "526\n",
      "524\n",
      "528\n",
      "524\n",
      "528\n",
      "532\n",
      "533\n",
      "529\n",
      "531\n",
      "531\n",
      "530\n",
      "532\n",
      "533\n",
      "529\n",
      "532\n",
      "535\n",
      "536\n",
      "534\n",
      "535\n",
      "536\n",
      "534\n",
      "538\n",
      "540\n",
      "540\n",
      "539\n",
      "539\n",
      "537\n",
      "538\n",
      "542\n",
      "543\n",
      "545\n",
      "544\n",
      "542\n",
      "545\n",
      "547\n",
      "546\n",
      "547\n",
      "547\n",
      "546\n",
      "549\n",
      "547\n",
      "549\n",
      "551\n",
      "553\n",
      "552\n",
      "552\n",
      "552\n",
      "551\n",
      "557\n",
      "557\n",
      "555\n",
      "555\n",
      "557\n",
      "554\n",
      "554\n",
      "556\n",
      "559\n",
      "561\n",
      "562\n",
      "560\n",
      "561\n",
      "562\n",
      "558\n",
      "558\n",
      "562\n",
      "560\n",
      "563\n",
      "563\n",
      "565\n",
      "566\n",
      "565\n",
      "565\n",
      "564\n",
      "566\n",
      "568\n",
      "568\n",
      "569\n",
      "567\n",
      "567\n",
      "569\n",
      "570\n",
      "572\n",
      "571\n",
      "573\n",
      "570\n",
      "575\n",
      "577\n",
      "574\n",
      "574\n",
      "577\n",
      "574\n",
      "579\n",
      "580\n",
      "579\n",
      "580\n",
      "576\n",
      "576\n",
      "578\n",
      "578\n",
      "585\n",
      "581\n",
      "583\n",
      "585\n",
      "583\n",
      "581\n",
      "583\n",
      "584\n",
      "584\n",
      "582\n",
      "588\n",
      "586\n",
      "587\n",
      "587\n",
      "586\n",
      "587\n",
      "593\n",
      "590\n",
      "591\n",
      "592\n",
      "592\n",
      "593\n",
      "591\n",
      "589\n",
      "589\n",
      "589\n",
      "596\n",
      "596\n",
      "597\n",
      "597\n",
      "597\n",
      "594\n",
      "595\n",
      "596\n",
      "598\n",
      "601\n",
      "600\n",
      "600\n",
      "598\n",
      "598\n",
      "601\n",
      "601\n",
      "604\n",
      "602\n",
      "604\n",
      "602\n",
      "604\n",
      "603\n",
      "606\n",
      "605\n",
      "605\n",
      "607\n",
      "611\n",
      "608\n",
      "611\n",
      "610\n",
      "610\n",
      "611\n",
      "610\n",
      "612\n",
      "616\n",
      "614\n",
      "615\n",
      "616\n",
      "613\n",
      "613\n",
      "614\n",
      "614\n",
      "616\n",
      "619\n",
      "621\n",
      "619\n",
      "621\n",
      "620\n",
      "621\n",
      "619\n",
      "620\n",
      "620\n",
      "617\n",
      "626\n",
      "624\n",
      "625\n",
      "622\n",
      "624\n",
      "626\n",
      "622\n",
      "626\n",
      "624\n",
      "623\n",
      "627\n",
      "629\n",
      "629\n",
      "628\n",
      "628\n",
      "627\n",
      "628\n",
      "630\n",
      "631\n",
      "634\n",
      "633\n",
      "633\n",
      "632\n",
      "631\n",
      "634\n",
      "633\n",
      "635\n",
      "635\n",
      "638\n",
      "638\n",
      "637\n",
      "635\n",
      "637\n",
      "635\n",
      "640\n",
      "643\n",
      "643\n",
      "639\n",
      "641\n",
      "641\n",
      "646\n",
      "644\n",
      "647\n",
      "646\n",
      "644\n",
      "647\n",
      "646\n",
      "644\n",
      "CPU times: user 1min 25s, sys: 492 ms, total: 1min 25s\n",
      "Wall time: 1min 23s\n"
     ]
    },
    {
     "data": {
      "text/plain": [
       "[0.19905981690194083,\n",
       " 0.179120637125413,\n",
       " 0.18846082680254775,\n",
       " 0.10870740384737454,\n",
       " 0.318188948099461,\n",
       " 0.3812329513441127,\n",
       " 0.20609787026432932,\n",
       " 0.25641237177348597,\n",
       " 0.08697870408721267,\n",
       " 0.09513287862525484,\n",
       " 0.08785373537560331,\n",
       " 0.240239526933179,\n",
       " 0.06733925124902393,\n",
       " 0.22402906526118405,\n",
       " 0.03884653004886332,\n",
       " 0.054904429925066923,\n",
       " 0.15175352658169625,\n",
       " 0.2481324668620943,\n",
       " 0.09763334455068114,\n",
       " 0.10579287450065171,\n",
       " 0.04268676364868686,\n",
       " 0.0,\n",
       " 0.3157644265580898,\n",
       " 0.24574315355994697,\n",
       " 0.3117075846660475,\n",
       " 0.8406586943262788,\n",
       " 0.1784758209244809,\n",
       " 0.0867598957265661,\n",
       " 0.32883720014477175,\n",
       " 0.1244788975492593,\n",
       " 0.1054281574843961,\n",
       " 0.3102873350688905,\n",
       " 0.11999096444686981,\n",
       " 0.1839867632574725,\n",
       " 0.19041951414243866,\n",
       " 0.10553664115086539,\n",
       " 0.1374710257372214,\n",
       " 0.15553553673790516,\n",
       " 0.18866532031573038,\n",
       " 0.0740746655894307,\n",
       " 0.2920490281087141,\n",
       " 0.043131856403280204,\n",
       " 0.0,\n",
       " 0.09988998606646039,\n",
       " 0.18368492770047123,\n",
       " 0.0,\n",
       " 0.0,\n",
       " 0.13795025383637083,\n",
       " 0.0,\n",
       " 0.13849493509166388,\n",
       " 0.09689313849694621,\n",
       " 0.0,\n",
       " 0.0,\n",
       " 0.0,\n",
       " 0.049725565565817226,\n",
       " 0.11576236377074915,\n",
       " 0.05128503594008061,\n",
       " 0.1155333077043792,\n",
       " 0.02227523643615571,\n",
       " 0.05437207807272719,\n",
       " 0.06017081933400645,\n",
       " 0.061596051635322814,\n",
       " 0.09718141148735532,\n",
       " 0.30112144051401746,\n",
       " 0.09690898857745825,\n",
       " 0.08757445784916389,\n",
       " 0.022143310786127083,\n",
       " 0.0,\n",
       " 0.0,\n",
       " 0.0,\n",
       " 0.3903800499921017,\n",
       " 0.166698368434077,\n",
       " 0.0,\n",
       " 0.10174457326786625,\n",
       " 0.21757678434820674,\n",
       " 0.09691077837843579,\n",
       " 0.0,\n",
       " 0.09961829060258318,\n",
       " 0.0,\n",
       " 0.0,\n",
       " 0.0,\n",
       " 0.23867800606769893,\n",
       " 0.12536479733962902,\n",
       " 0.07529042786682108,\n",
       " 0.05682307415439922,\n",
       " 0.1951771914823033,\n",
       " 0.2356458445837414,\n",
       " 0.0,\n",
       " 0.13362781987451078,\n",
       " 0.10047087329791159,\n",
       " 0.24630238874073,\n",
       " 0.14965742494014256,\n",
       " 0.03979083093069292,\n",
       " 0.13525306940807674,\n",
       " 0.19702688769927765,\n",
       " 0.0732292250830988,\n",
       " 0.0,\n",
       " 0.1724912776285244,\n",
       " 0.0,\n",
       " 0.0,\n",
       " 0.03215070818426392,\n",
       " 0.0,\n",
       " 0.10737850360301203,\n",
       " 0.0,\n",
       " 0.0,\n",
       " 0.17634905005666948,\n",
       " 0.27579623989259433,\n",
       " 0.20305653819990999,\n",
       " 0.0,\n",
       " 0.0,\n",
       " 0.18241442103013916,\n",
       " 0.0976360071786102,\n",
       " 0.0,\n",
       " 0.2653938318749537,\n",
       " 0.11065580556413682,\n",
       " 0.0,\n",
       " 0.0,\n",
       " 0.0,\n",
       " 0.0,\n",
       " 0.0,\n",
       " 0.0,\n",
       " 0.04097351904457933,\n",
       " 0.0,\n",
       " 0.029423315246534625,\n",
       " 0.09023290344026473,\n",
       " 0.0,\n",
       " 0.09001596123384108,\n",
       " 0.0,\n",
       " 0.0744118064601326,\n",
       " 0.02152623997194723,\n",
       " 0.08175552944608191,\n",
       " 0.16023004252418774,\n",
       " 0.15868248719199163,\n",
       " 0.36930428542300814,\n",
       " 0.265361458835799,\n",
       " 0.19312171618015625,\n",
       " 0.1244211309750261,\n",
       " 0.14249910206550115,\n",
       " 0.32962041976455336,\n",
       " 0.387200303706816,\n",
       " 0.0,\n",
       " 0.12212517737031972,\n",
       " 0.17479145871737425,\n",
       " 0.1521029644303769,\n",
       " 0.28409490208725124,\n",
       " 0.7267718684434631,\n",
       " 0.08858242045906697,\n",
       " 0.11796028063311645,\n",
       " 0.0,\n",
       " 0.36338593422173154,\n",
       " 0.0,\n",
       " 0.0,\n",
       " 0.17189172524406118,\n",
       " 0.0969832851217389,\n",
       " 0.2537183415577257,\n",
       " 0.41812527877337397,\n",
       " 0.1078186169901706,\n",
       " 0.06445477817632493,\n",
       " 0.0895585373089828,\n",
       " 0.0872818233497264,\n",
       " 0.21590770044593457,\n",
       " 0.1304089991158861,\n",
       " 0.04171788857678337,\n",
       " 0.0,\n",
       " 0.0,\n",
       " 0.0,\n",
       " 0.0,\n",
       " 0.0,\n",
       " 0.0,\n",
       " 0.0,\n",
       " 0.0,\n",
       " 0.17121768831543666,\n",
       " 0.26885013809840874,\n",
       " 0.25775413017041743,\n",
       " 0.29713261113041783,\n",
       " 0.257473023181382,\n",
       " 0.21119841677168555,\n",
       " 0.2898373214249347,\n",
       " 0.5009850051876646,\n",
       " 0.24272630260354228,\n",
       " 0.31585151562133323,\n",
       " 0.4070674969749857,\n",
       " 0.21356903582790945,\n",
       " 0.271207619870063,\n",
       " 0.09746260488509947,\n",
       " 0.048974790266397054,\n",
       " 0.22816151248762429,\n",
       " 0.15626762541786723,\n",
       " 0.10689389702455518,\n",
       " 0.16738901605897108,\n",
       " 0.2730445227690338,\n",
       " 0.14404111930980676,\n",
       " 0.26343160712480784,\n",
       " 0.24231521291076813,\n",
       " 0.29042976466621867,\n",
       " 0.24413468529594154,\n",
       " 0.18464972003127672,\n",
       " 0.23312567577606544,\n",
       " 0.16757174514193288,\n",
       " 0.26888040978648353,\n",
       " 0.3048562974787312,\n",
       " 0.11641333349628874,\n",
       " 0.05850730728876422,\n",
       " 0.0656187619722136,\n",
       " 0.00713585345661029,\n",
       " 0.2817760824256196,\n",
       " 0.07945954153473106,\n",
       " 0.1400162454668853,\n",
       " 0.18797877293980447,\n",
       " 0.1573183675528636,\n",
       " 0.010313621200324766,\n",
       " 0.13519241988346237,\n",
       " 0.11543159173490976,\n",
       " 0.2880084162743087,\n",
       " 0.20824652544220054,\n",
       " 0.17047378804579266,\n",
       " 0.17536727119933063,\n",
       " 0.2213682507743632,\n",
       " 0.1449091698794806,\n",
       " 0.32909280767509436,\n",
       " 0.21315223505362296,\n",
       " 0.17474271684037934,\n",
       " 0.6718511539507116,\n",
       " 0.40585666626612416,\n",
       " 0.053396761717675705,\n",
       " 0.007540248997366101,\n",
       " 0.1160950629833459,\n",
       " 0.04641981271636139,\n",
       " 0.2385568796022637,\n",
       " 0.14782935690325094,\n",
       " 0.09951425676800552,\n",
       " 0.20685402430700892,\n",
       " 0.15355940249713879,\n",
       " 0.2256648972653591,\n",
       " 0.36339693200852446,\n",
       " 0.40471885423222226,\n",
       " 0.0,\n",
       " 0.011266197788902322,\n",
       " 0.20108826884189496,\n",
       " 0.16745503749712912,\n",
       " 0.0,\n",
       " 0.18311312673692653,\n",
       " 0.0,\n",
       " 0.0,\n",
       " 0.0,\n",
       " 0.20813395643994398,\n",
       " 0.23062583179679855,\n",
       " 0.19351698314334745,\n",
       " 0.14833384809901703,\n",
       " 0.00719098651338026,\n",
       " 0.06645949738532561,\n",
       " 0.23279512764830396,\n",
       " 0.24288971542754234,\n",
       " 0.1398171203848486,\n",
       " 0.21298958412294222,\n",
       " 0.2456958136347158,\n",
       " 0.1479917777791113,\n",
       " 0.3677947608677017,\n",
       " 0.1310706452923939,\n",
       " 0.4022958486618303,\n",
       " 0.2080665688945807,\n",
       " 0.08586684488795167,\n",
       " 0.03267772548576255,\n",
       " 0.14955676810399446,\n",
       " 0.1869835702289746,\n",
       " 0.1660339547449304,\n",
       " 0.040468468142098854,\n",
       " 0.14875289771437775,\n",
       " 0.18212526903779883,\n",
       " 0.0,\n",
       " 0.08397270662181382,\n",
       " 0.0,\n",
       " 0.09954527301274678,\n",
       " 0.06583680951586242,\n",
       " 0.19497586308499293,\n",
       " 0.05615558451912625,\n",
       " 0.07355527794583462,\n",
       " 0.08003699004151962,\n",
       " 0.07871587336103629,\n",
       " 0.14019218379091353,\n",
       " 0.1052993723813264,\n",
       " 0.19523077015450685,\n",
       " 0.07924134853148197,\n",
       " 0.08854798260345438,\n",
       " 0.3455129660789146,\n",
       " 0.06227123415293125,\n",
       " 0.009856912377584402,\n",
       " 0.0960287180837192,\n",
       " 0.0,\n",
       " 0.011107486809963,\n",
       " 0.07192952438055192,\n",
       " 0.1384544649184425,\n",
       " 0.05100868216389635,\n",
       " 0.10372129509995533,\n",
       " 0.10978644380466426,\n",
       " 0.0600100834578856,\n",
       " 0.20468638312071688,\n",
       " 0.049347287716118314,\n",
       " 0.04996192005754968,\n",
       " 0.07957531914268871,\n",
       " 0.20579967167734653,\n",
       " 0.0905318410952513,\n",
       " 0.0,\n",
       " 0.20662601802015207,\n",
       " 0.10468540123990706,\n",
       " 0.0,\n",
       " 0.028120022411252773,\n",
       " 0.15585759159995335,\n",
       " 0.23944831937383293,\n",
       " 0.044911620417477864,\n",
       " 0.30903404313672495,\n",
       " 0.0,\n",
       " 0.0746760053739726,\n",
       " 0.10326633457875976,\n",
       " 0.04761887723239257,\n",
       " 0.2153209024687347,\n",
       " 0.11932412644461246,\n",
       " 0.04961366405315185,\n",
       " 0.11104414267207634,\n",
       " 0.2608546354741535,\n",
       " 0.0,\n",
       " 0.09293393572201422,\n",
       " 0.039418322409531206,\n",
       " 0.06367867038294359,\n",
       " 0.07264271683205463,\n",
       " 0.0,\n",
       " 0.025194338518748603,\n",
       " 0.07368209616318581,\n",
       " 0.04370755087525162,\n",
       " 0.2705121400468946,\n",
       " 0.04137536827700674,\n",
       " 0.005947832855759576,\n",
       " 0.10425147296087339,\n",
       " 0.12429355196636878,\n",
       " 0.0,\n",
       " 0.0,\n",
       " 0.0,\n",
       " 0.09947520202388421,\n",
       " 0.07882189447050125,\n",
       " 0.020320790344257676,\n",
       " 0.01183324436206143,\n",
       " 0.1433466209575265,\n",
       " 0.14802186847209653,\n",
       " 0.08897880577842475,\n",
       " 0.10448193810528716,\n",
       " 0.13065895177649625,\n",
       " 0.15204580743194973,\n",
       " 0.044188060884753126,\n",
       " 0.10964132757620507,\n",
       " 0.19677160038571426,\n",
       " 0.04990783825372853,\n",
       " 0.11537153795834384,\n",
       " 0.0,\n",
       " 0.0,\n",
       " 0.0,\n",
       " 0.0,\n",
       " 0.0,\n",
       " 0.0,\n",
       " 0.0,\n",
       " 0.07677740676688598,\n",
       " 0.11334249527712585,\n",
       " 0.0709402170573014,\n",
       " 0.012827728808479233,\n",
       " 0.048169965443275134,\n",
       " 0.18005954868003546,\n",
       " 0.0705361833237654,\n",
       " 0.020423910120264975,\n",
       " 0.0,\n",
       " 0.0,\n",
       " 0.0,\n",
       " 0.0,\n",
       " 0.11457387184626082,\n",
       " 0.0,\n",
       " 0.06591304371593101,\n",
       " 0.0,\n",
       " 0.19519002499605084,\n",
       " 0.0,\n",
       " 0.52779083301585,\n",
       " 0.0,\n",
       " 0.08348846534167129,\n",
       " 0.8365286785545036,\n",
       " 0.0,\n",
       " 0.0,\n",
       " 0.8365286785545036,\n",
       " 0.1542867148766594,\n",
       " 0.07713994756393219,\n",
       " 0.23290549396374705,\n",
       " 0.1668248731567844,\n",
       " 0.10019296846379902,\n",
       " 0.1689745565329332,\n",
       " 0.08220632450996872,\n",
       " 0.049442217837740395,\n",
       " 0.15416983210345914,\n",
       " 0.10641246867253185,\n",
       " 0.11174139687674073,\n",
       " 0.23578398238781847,\n",
       " 0.14455764175929486,\n",
       " 0.3197425164784926,\n",
       " 0.039709472153285685,\n",
       " 0.1232533008003113,\n",
       " 0.07690814513084455,\n",
       " 0.2776987257817772,\n",
       " 0.08109690692104207,\n",
       " 0.10961030346307468,\n",
       " 0.3147284348885286,\n",
       " 0.06278522317432735,\n",
       " 0.007428444860580281,\n",
       " 0.03271052511945815,\n",
       " 0.14892255852890873,\n",
       " 0.2791849210338427,\n",
       " 0.023500561410098736,\n",
       " 0.025352448128593604,\n",
       " 0.08513464583922623,\n",
       " 0.3920266037903654,\n",
       " 0.20901116396931055,\n",
       " 0.25694500675664766,\n",
       " 0.27745232585295027,\n",
       " 0.23113927488506994,\n",
       " 0.28922875775977547,\n",
       " 0.21748112064378444,\n",
       " 0.24043544118009982,\n",
       " 0.2390148123057311,\n",
       " 0.2975256954115446,\n",
       " 0.19592922588539827,\n",
       " 0.3107973168094847,\n",
       " 0.27508266126058034,\n",
       " 0.252671956535106,\n",
       " 0.22814219420415324,\n",
       " 0.2648270214092197,\n",
       " 0.19561083211896754,\n",
       " 0.10740457058915356,\n",
       " 0.11181974671666652,\n",
       " 0.2186922057591219,\n",
       " 0.167033112273757,\n",
       " 0.049202228592637426,\n",
       " 0.300993525210581,\n",
       " 0.22821091292685344,\n",
       " 0.20466761403805597,\n",
       " 0.15021573071980468,\n",
       " 0.10504917045324434,\n",
       " 0.2024944655693727,\n",
       " 0.21243553399990667,\n",
       " 0.04299153153858025,\n",
       " 0.19039049890883475,\n",
       " 0.12920693207866552,\n",
       " 0.23481594377108755,\n",
       " 0.06286673953067692,\n",
       " 0.08799701372820433,\n",
       " 0.006402026782240903,\n",
       " 0.1531484063745844,\n",
       " 0.12351996507228205,\n",
       " 0.2098735350424388,\n",
       " 0.08692562093008092,\n",
       " 0.006968185836034836,\n",
       " 0.05204882929713164,\n",
       " 0.14144661416261764,\n",
       " 0.057703811831143384,\n",
       " 0.16088369286128,\n",
       " 0.1484539897725544,\n",
       " 0.06355235599501548,\n",
       " 0.07911530395280633,\n",
       " 0.12798741105879052,\n",
       " 0.19500399697256746,\n",
       " 0.20322804672662817,\n",
       " 0.2177664840838809,\n",
       " 0.26719399434797675,\n",
       " 0.28415251430968197,\n",
       " 0.18702637211285908,\n",
       " 0.27746854163533285,\n",
       " 0.2826855580498588,\n",
       " 0.26639211331355184,\n",
       " 0.3981184917903177,\n",
       " 0.2021762984330846,\n",
       " 0.293279204952787,\n",
       " 0.1329111837184912,\n",
       " 0.32727560642739034,\n",
       " 0.24426910442625327,\n",
       " 0.163658124055045,\n",
       " 0.18647931949231472,\n",
       " 0.18674191450760116,\n",
       " 0.18487101762301103,\n",
       " 0.0,\n",
       " 0.8365286785545036,\n",
       " 0.4182643392772518,\n",
       " 0.0,\n",
       " 0.0,\n",
       " 0.07424782901035053,\n",
       " 0.07732200909079491,\n",
       " 0.13778330002094885,\n",
       " 0.16577875150127505,\n",
       " 0.15584202238679074,\n",
       " 0.13416723404613645,\n",
       " 0.10168010034898893,\n",
       " 0.11521616204170834,\n",
       " 0.16590818313016809,\n",
       " 0.11868822055748,\n",
       " 0.24176648284935429,\n",
       " 0.15219185214600311,\n",
       " 0.06792135971107324,\n",
       " 0.1561972977035621,\n",
       " 0.0058520296071310875,\n",
       " 0.16032795473123332,\n",
       " 0.17397205695070617,\n",
       " 0.11724503928677567,\n",
       " 0.15022215927403307,\n",
       " 0.1800517290692397,\n",
       " 0.12679797544851096,\n",
       " 0.21953164460553443,\n",
       " 0.07179747118682252,\n",
       " 0.2040884527717133,\n",
       " 0.11778699118249973,\n",
       " 0.06277038932140074,\n",
       " 0.1494895100603948,\n",
       " 0.09591184726172242,\n",
       " 0.05621566359296508,\n",
       " 0.04610077766477999,\n",
       " 0.11643624081712702,\n",
       " 0.051720740500043674,\n",
       " 0.05550808521848738,\n",
       " 0.12119087597579349,\n",
       " 0.127615775956482,\n",
       " 0.061844182100105526,\n",
       " 0.057046989813944696,\n",
       " 0.0,\n",
       " 0.0,\n",
       " 0.0,\n",
       " 0.1341425887626061,\n",
       " 0.0,\n",
       " 0.0,\n",
       " 0.3903800499921017,\n",
       " 0.11187243782477303,\n",
       " 0.13783890126832707,\n",
       " 0.015533697017791594,\n",
       " 0.061534922883669074,\n",
       " 0.5416426333017705,\n",
       " 0.5782821327876105,\n",
       " 0.04871183527732156,\n",
       " 0.39479019439256263,\n",
       " 0.2790848577812472,\n",
       " 0.20419249744246384,\n",
       " 0.20930523589921612,\n",
       " 0.0,\n",
       " 0.29962578100079723,\n",
       " 0.5914120914068599,\n",
       " 0.03257790674475238,\n",
       " 0.7745214081363502,\n",
       " 0.10448055161712932,\n",
       " 0.0,\n",
       " 0.0,\n",
       " 0.0,\n",
       " 0.0,\n",
       " 0.12493888699099372,\n",
       " 0.23613062023859788,\n",
       " 0.0,\n",
       " 0.0,\n",
       " 0.24630238874073,\n",
       " 0.3538816436380716,\n",
       " 0.25923256364480524,\n",
       " 0.11749520292827102,\n",
       " 0.14288699596002757,\n",
       " 0.026836452560504518,\n",
       " 0.0,\n",
       " 0.02458291655288204,\n",
       " 0.07709561026951907,\n",
       " 0.024173103215147058,\n",
       " 0.11344523785663245,\n",
       " 0.03774970602193103,\n",
       " 0.06769256194370352,\n",
       " 0.0,\n",
       " 0.0,\n",
       " 0.0,\n",
       " 0.0,\n",
       " 0.0,\n",
       " 0.047661339533347086,\n",
       " 0.10421420317972771,\n",
       " 0.056277572624455194,\n",
       " 0.07634978617265559,\n",
       " 0.2288128050422615,\n",
       " 0.4523670076877102,\n",
       " 0.20051779919544332,\n",
       " 0.033361492387523256,\n",
       " 0.10959000091050176,\n",
       " 0.02516157381576011,\n",
       " 0.0542244962338795,\n",
       " 0.04242059879204846,\n",
       " 0.10222233415171014,\n",
       " 0.08400005642602654,\n",
       " 0.06227793346024191,\n",
       " 0.028748419623975563,\n",
       " 0.05809781610771061,\n",
       " 0.007633401972504074,\n",
       " 0.11606064473785502,\n",
       " 0.07011889360734957,\n",
       " 0.12241524782488222,\n",
       " 0.05402342488545813,\n",
       " 0.0711161987979234,\n",
       " 0.007633401972504074,\n",
       " 0.149411053346378,\n",
       " 0.1775975895734499,\n",
       " 0.03669647254456168,\n",
       " 0.12086639556907201,\n",
       " 0.0473688241031923,\n",
       " 0.10650011458072424,\n",
       " 0.1767051391460989,\n",
       " 0.3146076935762494,\n",
       " 0.1644445552718633,\n",
       " 0.1770324136413815,\n",
       " 0.23830474036541338,\n",
       " 0.14735317124147657,\n",
       " 0.17813061977470762,\n",
       " 0.13671856304501537,\n",
       " 0.06415978953592762,\n",
       " 0.24405186778368207,\n",
       " 0.28234884463237264,\n",
       " 0.30750702411209685,\n",
       " 0.46756167537705245,\n",
       " 0.3419038335358094,\n",
       " 0.0067337118978597656,\n",
       " 0.02401614130107185,\n",
       " 0.15887252585258924,\n",
       " 0.179631282643873,\n",
       " 0.38336855894635646,\n",
       " 0.0,\n",
       " 0.0,\n",
       " 0.06626190486125758,\n",
       " 0.0,\n",
       " 0.1369507242820326,\n",
       " 0.0,\n",
       " 0.054139649291887845,\n",
       " 0.0,\n",
       " 0.0,\n",
       " 0.01345923140674384,\n",
       " 0.0731933549891755,\n",
       " 0.26995712916653675,\n",
       " 0.09149406419335553,\n",
       " 0.3618812991127884,\n",
       " 0.2541669974495289,\n",
       " 0.0,\n",
       " 0.0,\n",
       " 0.131534748260244,\n",
       " 0.2501170265784607,\n",
       " 0.2460907316372711,\n",
       " 0.09571215704031431,\n",
       " 0.1430171692640951,\n",
       " 0.13111855549018836,\n",
       " 0.1776344526886847,\n",
       " 0.15424897938943793,\n",
       " 0.2012371012113312,\n",
       " 0.3277744778307166,\n",
       " 0.20622303977746467,\n",
       " 0.25916603624610407,\n",
       " 0.17753700820237553,\n",
       " 0.2038890504150772,\n",
       " 0.12516165877908267,\n",
       " 0.22208624065993643,\n",
       " 0.21383341424940105,\n",
       " 0.14623260666928026,\n",
       " 0.2706379626130079,\n",
       " 0.17962721430286707,\n",
       " 0.2290521832195188,\n",
       " 0.25773549427450765,\n",
       " 0.06050039926109225,\n",
       " 0.0,\n",
       " 0.1377744063559684,\n",
       " 0.09815568654334234,\n",
       " 0.14979713106722287,\n",
       " 0.0,\n",
       " 0.0,\n",
       " 0.0,\n",
       " 0.0,\n",
       " 0.10498005869866373,\n",
       " 0.0,\n",
       " 0.0,\n",
       " 0.08851445980917945,\n",
       " 0.2893477562101527,\n",
       " 0.07413807519526677,\n",
       " 0.10665770354201398,\n",
       " 0.186198836722184,\n",
       " 0.0793554479081598,\n",
       " 0.10340721286701252,\n",
       " 0.18443514561100857,\n",
       " 0.09187731084353973,\n",
       " 0.15220534033218452,\n",
       " 0.11923520942442033,\n",
       " 0.11866012361725663,\n",
       " 0.0659359068992985,\n",
       " 0.040939129498061305,\n",
       " 0.3485194413194745,\n",
       " 0.11250590669340345,\n",
       " 0.16217148663825387,\n",
       " 0.06915150553240518,\n",
       " 0.15455988886145655,\n",
       " 0.13027667517865033,\n",
       " 0.2030959187228958,\n",
       " 0.18930812921709175,\n",
       " 0.101566045202252,\n",
       " 0.02638888516636079,\n",
       " 0.14633910574299347,\n",
       " 0.07079004177266697,\n",
       " 0.055715080745499544,\n",
       " 0.3838087364231363,\n",
       " 0.2616764896390721,\n",
       " 0.09664727291082147,\n",
       " 0.11847580687946091,\n",
       " 0.04652203873947117,\n",
       " 0.0,\n",
       " 0.0,\n",
       " 0.0,\n",
       " 0.02769193772142885,\n",
       " 0.36027329200953745,\n",
       " 0.0,\n",
       " 0.0,\n",
       " 0.16105764045067883,\n",
       " 0.05144777513903682,\n",
       " 0.16432182481813354,\n",
       " 0.11241505539807141,\n",
       " 0.13668334034412716,\n",
       " 0.21338111571995266,\n",
       " 0.2433878217461239,\n",
       " 0.1840609499797563,\n",
       " 0.10808363899318259,\n",
       " 0.15899760477300107,\n",
       " 0.21669908050200395,\n",
       " 0.2164820743879207,\n",
       " 0.12791181893664377,\n",
       " 0.0,\n",
       " 0.0,\n",
       " 0.10655011680663022,\n",
       " 0.33775587917193584,\n",
       " 0.1955882687880016,\n",
       " 0.0,\n",
       " 0.21310023361326044,\n",
       " 0.9368628318388372,\n",
       " 0.0,\n",
       " 0.2379845942790743,\n",
       " 0.13943947019531358,\n",
       " 0.16355981760391056,\n",
       " 0.37349152570419997,\n",
       " 0.17675303349951466,\n",
       " 0.17902195089306028,\n",
       " 0.22581476028678632,\n",
       " 0.12578139209389494,\n",
       " 0.12402639143503186,\n",
       " 0.13802465733086736,\n",
       " 0.09973514706729136,\n",
       " 0.08749562697774559,\n",
       " 0.1247022314992882,\n",
       " 0.03958610174875576,\n",
       " 0.13352778807214205,\n",
       " 0.1718409819188832,\n",
       " 0.22532394971005584,\n",
       " 0.07053828943144282,\n",
       " 0.1162199477900672,\n",
       " 0.058120428407624415,\n",
       " 0.20846443588677074,\n",
       " 0.1358780393395888,\n",
       " 0.09522010493038989,\n",
       " 0.05712930770256871,\n",
       " 0.25912503464478226,\n",
       " 0.17651245853463426,\n",
       " 0.24129087926706158,\n",
       " 0.14569645689297916,\n",
       " 0.23169670800331135,\n",
       " 0.21384594443217744,\n",
       " 0.013400624904704783,\n",
       " 0.18321922438094843,\n",
       " 0.0788068126179993,\n",
       " 0.0,\n",
       " 0.32783216810300564,\n",
       " 0.8583616000131506,\n",
       " 0.08247982988614783,\n",
       " 0.08082693001808106,\n",
       " 0.00966261512022054,\n",
       " 0.26864767941211554,\n",
       " 0.0,\n",
       " 0.0,\n",
       " 0.3089983453466955,\n",
       " 0.0,\n",
       " 0.617996690693391,\n",
       " 0.06871836991045248,\n",
       " 0.0,\n",
       " 0.11667696111515037,\n",
       " 0.09058259282115884,\n",
       " 0.17213636734674176,\n",
       " 0.1054878764791016,\n",
       " 0.0,\n",
       " 0.08615720926131608,\n",
       " 0.13782104004625836,\n",
       " 0.20227235769361787,\n",
       " 0.1982767517528716,\n",
       " 0.17844288623544033,\n",
       " 0.11451855515917858,\n",
       " 0.13293238272224642,\n",
       " 0.18972423458869606,\n",
       " 0.20316393303069433,\n",
       " 0.20744921820200202,\n",
       " 0.0,\n",
       " 0.0,\n",
       " 0.0,\n",
       " 0.016837712558115777,\n",
       " 0.0,\n",
       " 0.0,\n",
       " 0.0,\n",
       " 0.11078880374310866,\n",
       " 0.10413547087362396,\n",
       " 0.1447401695115747,\n",
       " 0.09445487504505312,\n",
       " 0.2067491951720378,\n",
       " 0.22938719562132542,\n",
       " 0.07560800596596177,\n",
       " 0.08459386660905689,\n",
       " 0.01034279854251781,\n",
       " 0.059486994215960654,\n",
       " 0.019689352469352696,\n",
       " 0.0,\n",
       " 0.0,\n",
       " 0.04157174377688938,\n",
       " 0.08471579828007202,\n",
       " 0.1823502235053768,\n",
       " 0.02818221525868729,\n",
       " 0.0,\n",
       " 0.0,\n",
       " 0.043095179227011525,\n",
       " 0.0,\n",
       " 0.0,\n",
       " 0.0,\n",
       " 0.0,\n",
       " 0.0,\n",
       " 0.0,\n",
       " 0.0,\n",
       " 0.18650096883545358,\n",
       " 0.2524163371854051,\n",
       " 0.1676422652268655,\n",
       " 0.2853789024449673,\n",
       " 0.15602419970652803,\n",
       " 0.22625932490535416,\n",
       " 0.2101373390391366,\n",
       " 0.11041107355877312,\n",
       " 0.2597644488402924,\n",
       " 0.2057502800301778,\n",
       " 0.0914606974077013,\n",
       " 0.018204303026678085,\n",
       " 0.06273566893148265,\n",
       " 0.0,\n",
       " 0.0,\n",
       " 0.0,\n",
       " 0.12615908429312533,\n",
       " 0.0,\n",
       " 0.05141510490406377,\n",
       " 0.17714301789744114,\n",
       " 0.13299815941127885,\n",
       " 0.21892318870751973,\n",
       " 0.16788048526130844,\n",
       " 0.08324837583545118,\n",
       " 0.11398916626062904,\n",
       " 0.08002668785331717,\n",
       " 0.007250978109471664,\n",
       " 0.21903354665048963,\n",
       " 0.43387410987138214,\n",
       " 0.05332119460440008,\n",
       " 0.16066994221890837,\n",
       " 0.13048108685533572,\n",
       " 0.2050146798869104,\n",
       " 0.10895512694000796,\n",
       " 0.1414498380088092,\n",
       " 0.24110082036944755,\n",
       " 0.06436343432424013,\n",
       " 0.5053763085773594,\n",
       " 0.1251813474583794,\n",
       " 0.2824139135997304,\n",
       " 0.0,\n",
       " 0.425645975932007,\n",
       " 0.11154659532515608,\n",
       " 0.0,\n",
       " 0.25055173245466383,\n",
       " 0.050520584427025166,\n",
       " 0.0,\n",
       " 0.0,\n",
       " 0.0,\n",
       " 0.2128229879660035,\n",
       " 0.22645248436020923,\n",
       " 0.056648355695184886,\n",
       " 0.2020671905224778,\n",
       " 0.049360447002681614,\n",
       " 0.12819190448076895,\n",
       " 0.18631932833027567,\n",
       " 0.0,\n",
       " 0.0,\n",
       " 0.21103069229137397,\n",
       " 0.26514354975825105,\n",
       " 0.11321922340233455,\n",
       " 0.20793645564350174,\n",
       " 0.2842833043196832,\n",
       " 0.21847911523639374,\n",
       " 0.20460947617520778,\n",
       " 0.22573305786896702,\n",
       " 0.22767148840563184,\n",
       " 0.199329393465522,\n",
       " 0.45879319600137275,\n",
       " 0.0,\n",
       " 0.015842000332305598,\n",
       " 0.05959745108424538,\n",
       " 0.0,\n",
       " 0.015842000332305598,\n",
       " 0.45879319600137275,\n",
       " 0.0,\n",
       " 0.0,\n",
       " 0.0,\n",
       " 0.0,\n",
       " 0.0,\n",
       " 0.0,\n",
       " 0.0,\n",
       " 0.21837494220033493,\n",
       " 0.23806354672817934,\n",
       " 0.23751858500294537,\n",
       " 0.12900651449549097,\n",
       " 0.20873148930843194,\n",
       " 0.1594065510214162,\n",
       " 0.17535239626771584,\n",
       " 0.18624893854790658,\n",
       " 0.17846523745010362,\n",
       " 0.11793217328737902,\n",
       " 0.11526572258077193,\n",
       " 0.11298166149727651,\n",
       " 0.11540405324599481,\n",
       " 0.09158719756876632,\n",
       " 0.05706018523375882,\n",
       " 0.13753686389276149,\n",
       " 0.03292118429199189,\n",
       " 0.0,\n",
       " 0.07685472298290012,\n",
       " 0.09016181568591257,\n",
       " 0.015417642696244552,\n",
       " 0.11895152809262098,\n",
       " 0.1391615463733592,\n",
       " 0.007106195062022328,\n",
       " 0.1173718080048035,\n",
       " 0.01553479225153824,\n",
       " 0.2010005005526487,\n",
       " 0.14787982437530567,\n",
       " 0.12587429919553464,\n",
       " 0.08582591526907628,\n",
       " 0.07882722158634356,\n",
       " 0.26510913775155076,\n",
       " 0.1365884522181663,\n",
       " 0.06639903213445421,\n",
       " 0.10971327376324103,\n",
       " 0.1474710479738866,\n",
       " 0.06718080029757025,\n",
       " 0.023554721355366785,\n",
       " 0.0,\n",
       " 0.0,\n",
       " 0.09105259011588179,\n",
       " 0.0983069901475098,\n",
       " 0.11373226190264885,\n",
       " 0.05543937412705367,\n",
       " 0.17484099918387738,\n",
       " 0.16039142589179595,\n",
       " 0.1508641935712507,\n",
       " 0.1039098344301371,\n",
       " 0.2681572260892293,\n",
       " 0.0,\n",
       " 0.0,\n",
       " 0.0,\n",
       " 0.08209089983076562,\n",
       " 0.046190837984145174,\n",
       " 0.0,\n",
       " 0.0,\n",
       " 0.0,\n",
       " 0.0,\n",
       " 0.0,\n",
       " 0.24628119874183016,\n",
       " 0.2137142943461907,\n",
       " 0.30066941707976,\n",
       " 0.2072519785012641,\n",
       " 0.1843210586936901,\n",
       " 0.30271160922479334,\n",
       " 0.1751348916448646,\n",
       " 0.19935722505266068,\n",
       " 0.10621357379756081,\n",
       " 0.40417242824509486,\n",
       " 0.2776046240739048,\n",
       " 0.15563378349287124,\n",
       " 0.24116590308442176,\n",
       " 0.1535748070102053,\n",
       " 0.1591931924317895,\n",
       " 0.22746882030468718,\n",
       " 0.11822831097268018,\n",
       " 0.1722967637600614,\n",
       " 0.1339951694880461,\n",
       " 0.049655814823671915,\n",
       " 0.08709985366254573,\n",
       " 0.2701836264253954,\n",
       " 0.21534464163018432,\n",
       " 0.15573590696940057,\n",
       " 0.15297208327012998,\n",
       " 0.21850127154651922,\n",
       " 0.25897521985174504,\n",
       " 0.24553945467567298,\n",
       " 0.165664664346195,\n",
       " ...]"
      ]
     },
     "execution_count": 369,
     "metadata": {},
     "output_type": "execute_result"
    }
   ],
   "source": [
    "%%time\n",
    "ndcg_m(pd.DataFrame(dist_xgb_train), book_ids_train, catalog)"
   ]
  },
  {
   "cell_type": "markdown",
   "metadata": {},
   "source": [
    "### Train test grouped split"
   ]
  },
  {
   "cell_type": "code",
   "execution_count": 19,
   "metadata": {},
   "outputs": [],
   "source": [
    "def train_test_split(data, authors, test_size=.2, mod='grouped', random_state=17, return_idx=False):\n",
    "    np.random.seed(random_state)\n",
    "    uniques = np.unique(authors)\n",
    "    if mod == 'grouped':\n",
    "        test_authors = np.random.choice(uniques, int(len(uniques)*test_size), replace=False)\n",
    "        test_idx = np.hstack([np.where(authors == a)[0] for a in test_authors])\n",
    "        train_idx = np.array([i for i in range(len(authors)) if i not in test_idx])\n",
    "    elif mod == 'stratified' or mod == 's':\n",
    "        dropped = []\n",
    "        test_idx = []\n",
    "        train_idx = []\n",
    "        for author in uniques:\n",
    "            a_idx = np.where(authors == author)[0]\n",
    "            if len(a_idx) < 3:\n",
    "                dropped.append(a_idx)\n",
    "                continue\n",
    "            if len(a_idx) % 2 != 0:\n",
    "                bi = a_idx[0]\n",
    "                train_idx.append(bi)\n",
    "                test_idx.append(bi)\n",
    "                a_idx = a_idx[1:]\n",
    "            a_idx_train = np.random.choice(a_idx, len(a_idx) // 2, replace=False)\n",
    "            a_idx_test = np.array([i for i in a_idx if i not in a_idx_train])\n",
    "            train_idx.extend(a_idx_train)\n",
    "            test_idx.extend(a_idx_test)\n",
    "        test_idx = np.array(test_idx)\n",
    "        train_idx = np.array(train_idx)\n",
    "    fraction = len(test_idx) / len(authors)\n",
    "    print(\"test_fraction:\", fraction)\n",
    "    if return_idx:\n",
    "        return train_idx, test_idx\n",
    "    return data[train_idx], authors[train_idx], data[test_idx], authors[test_idx]\n"
   ]
  },
  {
   "cell_type": "markdown",
   "metadata": {},
   "source": [
    "# 3 pos"
   ]
  },
  {
   "cell_type": "code",
   "execution_count": 33,
   "metadata": {},
   "outputs": [],
   "source": [
    "def count_n_grams(texts, n=3, stopgrams=[], max_features=None):\n",
    "    cv = CountVectorizer(ngram_range=(n, n), token_pattern=u\"(?u)\\\\b\\\\w+\\\\b\", max_features=max_features)\n",
    "    cv.fit(texts)\n",
    "    for s in stopgrams:\n",
    "        if s in cv.vocabulary_:\n",
    "            del cv.vocabulary_[s]\n",
    "    for i, s in enumerate(sorted(cv.vocabulary_)):\n",
    "        cv.vocabulary_[s] = i\n",
    "    transformed = cv.transform(texts)\n",
    "    return transformed, cv"
   ]
  },
  {
   "cell_type": "code",
   "execution_count": 111,
   "metadata": {},
   "outputs": [
    {
     "name": "stdout",
     "output_type": "stream",
     "text": [
      "2344\n",
      "CPU times: user 2.31 s, sys: 132 ms, total: 2.44 s\n",
      "Wall time: 2.64 s\n"
     ]
    }
   ],
   "source": [
    "%%time\n",
    "\n",
    "data = []\n",
    "for filename in sorted(os.listdir(dir_in_parsed)):\n",
    "    with open(os.path.join(dir_in_parsed, filename), 'r') as book:\n",
    "        fbusta_id = int(filename.split('.')[0])\n",
    "        if get_author_id(fbusta_id, catalog) not in singles:\n",
    "            data.append(book.read())\n",
    "data = np.array(data)\n",
    "print(len(data))"
   ]
  },
  {
   "cell_type": "code",
   "execution_count": 40,
   "metadata": {},
   "outputs": [
    {
     "name": "stdout",
     "output_type": "stream",
     "text": [
      "2344\n",
      "test_fraction: 0.5051194539249146\n",
      "CPU times: user 10.5 s, sys: 200 ms, total: 10.7 s\n",
      "Wall time: 10.7 s\n"
     ]
    }
   ],
   "source": [
    "idx_train, idx_test = train_test_split(data, authors, return_idx=True, mod='s')\n",
    "data_train, y_train, data_test, y_test = data[idx_train], authors[idx_train], data[idx_test], authors[idx_test]\n",
    "x_train_tri, cv_tri_grams = count_n_grams(data_train, n=3, stopgrams=stop3grams, max_features=5000) #5700\n",
    "x_test_tri = cv_tri_grams.transform(data_test)\n",
    "# tri_grams = normalize(tri_grams, norm='l1')"
   ]
  },
  {
   "cell_type": "code",
   "execution_count": 41,
   "metadata": {},
   "outputs": [
    {
     "data": {
      "text/plain": [
       "<1184x4381 sparse matrix of type '<class 'numpy.int64'>'\n",
       "\twith 1086965 stored elements in Compressed Sparse Row format>"
      ]
     },
     "execution_count": 41,
     "metadata": {},
     "output_type": "execute_result"
    }
   ],
   "source": [
    "x_train_tri"
   ]
  },
  {
   "cell_type": "code",
   "execution_count": 42,
   "metadata": {},
   "outputs": [
    {
     "data": {
      "text/plain": [
       "40"
      ]
     },
     "execution_count": 42,
     "metadata": {},
     "output_type": "execute_result"
    }
   ],
   "source": [
    "del data\n",
    "gc.collect()"
   ]
  },
  {
   "cell_type": "code",
   "execution_count": 23,
   "metadata": {},
   "outputs": [],
   "source": [
    "df = pd.DataFrame(tri_grams.todense())\n",
    "df.columns = sorted(cv_tri_grams.vocabulary_)"
   ]
  },
  {
   "cell_type": "markdown",
   "metadata": {},
   "source": [
    "### 3 pos + covariance"
   ]
  },
  {
   "cell_type": "code",
   "execution_count": 97,
   "metadata": {},
   "outputs": [],
   "source": [
    "ddf = df[df.std().sort_values()[-50:].index]\n",
    "# ddf = df"
   ]
  },
  {
   "cell_type": "code",
   "execution_count": 112,
   "metadata": {},
   "outputs": [
    {
     "name": "stdout",
     "output_type": "stream",
     "text": [
      "CPU times: user 4min 15s, sys: 1.92 s, total: 4min 17s\n",
      "Wall time: 4min 14s\n"
     ]
    }
   ],
   "source": [
    "%%time\n",
    "cr = ddf.corr()\n",
    "cr.loc[:,:] = np.tril(cr.abs().values, k=-1)\n",
    "rr = cr[cr>0].unstack()\n",
    "rr = rr[(~np.isnan(rr)) & (rr >= 0.8)]\n",
    "# np.round(rr.sort_values(), 3)"
   ]
  },
  {
   "cell_type": "code",
   "execution_count": 276,
   "metadata": {},
   "outputs": [],
   "source": [
    "df.drop([x[0] for x in d.index], inplace=True, axis=1)"
   ]
  },
  {
   "cell_type": "code",
   "execution_count": 102,
   "metadata": {},
   "outputs": [],
   "source": [
    "d = np.round(rr.sort_values(), 3)"
   ]
  },
  {
   "cell_type": "code",
   "execution_count": 86,
   "metadata": {},
   "outputs": [],
   "source": [
    "ddf = df[df.columns[(df.sum() > 100).values]]"
   ]
  },
  {
   "cell_type": "code",
   "execution_count": 103,
   "metadata": {
    "collapsed": true
   },
   "outputs": [
    {
     "data": {
      "text/plain": [
       "s v spro          spro v spro         0.500\n",
       "s conj vприч      vприч s conj        0.500\n",
       "part spro part    part spro v         0.500\n",
       "adv spro v        s spro v            0.500\n",
       "s a a             vприч pr s          0.501\n",
       "spro part spro    spro pr spro        0.501\n",
       "spro pr spro      s pr spro           0.501\n",
       "v a s             s v s               0.501\n",
       "pr s apro         pr apro s           0.501\n",
       "vприч s s         a s a               0.501\n",
       "apro s apro       apro a s            0.501\n",
       "part v spro       spro v spro         0.501\n",
       "apro s spro       spro v pr           0.502\n",
       "vдеепр pr a       vдеепр pr s         0.502\n",
       "conj pr apro      apro s conj         0.502\n",
       "part spro v       conj spro adv       0.502\n",
       "part pr spro      spro pr spro        0.502\n",
       "vдеепр s s        vдеепр s pr         0.502\n",
       "s advpro part     advpro part v       0.502\n",
       "part spro part    advpro part spro    0.502\n",
       "spro apro a       v spro apro         0.502\n",
       "conj a a          a s pr              0.503\n",
       "apro s conj       v apro s            0.503\n",
       "spro pr apro      spro pr spro        0.503\n",
       "part v vинф       conj spro part      0.503\n",
       "conj conj spro    conj spro spro      0.503\n",
       "spro advpro part  conj spro v         0.503\n",
       "s v adv           s adv v             0.503\n",
       "conj apro s       apro s pr           0.503\n",
       "apro s pr         apro s v            0.503\n",
       "                                      ...  \n",
       "v vинф apro       vинф apro s         0.749\n",
       "pr apro apro      apro apro s         0.754\n",
       "pr num anum       num anum s          0.754\n",
       "s num anum        num anum s          0.755\n",
       "v s conj          s conj v            0.757\n",
       "v pr a            pr a s              0.760\n",
       "a s a             a s s               0.761\n",
       "v a a             a a s               0.762\n",
       "s apro a          apro a s            0.762\n",
       "a s conj          conj a s            0.763\n",
       "v apro a          apro a s            0.766\n",
       "spro v s          spro v pr           0.772\n",
       "s conj a          conj a s            0.784\n",
       "s v s             s v pr              0.784\n",
       "s a a             a a s               0.787\n",
       "s pr vприч        pr vприч s          0.787\n",
       "s conj a          a s conj            0.787\n",
       "pr a apro         a apro s            0.788\n",
       "a s s             s a s               0.793\n",
       "a s pr            pr a s              0.804\n",
       "s v a             v a s               0.806\n",
       "pr s pr           s pr s              0.813\n",
       "s v pr            v pr s              0.824\n",
       "pr s a            s a s               0.826\n",
       "pr apro a         apro a s            0.835\n",
       "a s a             s a s               0.845\n",
       "s pr a            a s pr              0.867\n",
       "pr a a            a a s               0.891\n",
       "s pr a            pr a s              0.892\n",
       "anum part s       pr anum part        0.901\n",
       "Length: 835, dtype: float64"
      ]
     },
     "execution_count": 103,
     "metadata": {},
     "output_type": "execute_result"
    }
   ],
   "source": [
    "d"
   ]
  },
  {
   "cell_type": "code",
   "execution_count": 34,
   "metadata": {
    "scrolled": true
   },
   "outputs": [
    {
     "data": {
      "text/plain": [
       "241407"
      ]
     },
     "execution_count": 34,
     "metadata": {},
     "output_type": "execute_result"
    }
   ],
   "source": [
    "book_names[249]"
   ]
  },
  {
   "cell_type": "code",
   "execution_count": 98,
   "metadata": {},
   "outputs": [],
   "source": [
    "# tri_grams = normalize(df, norm='l1')\n",
    "# X = tri_grams\n",
    "X = normalize(ddf, norm='l1')"
   ]
  },
  {
   "cell_type": "code",
   "execution_count": 99,
   "metadata": {},
   "outputs": [
    {
     "name": "stdout",
     "output_type": "stream",
     "text": [
      "test_fraction: 0.546191247974068\n"
     ]
    }
   ],
   "source": [
    "idx_train, idx_test = train_test_split(X, authors, return_idx=True, mod='s')\n",
    "x_train, y_train, x_test, y_test = X[idx_train], authors[idx_train], X[idx_test], authors[idx_test]"
   ]
  },
  {
   "cell_type": "code",
   "execution_count": 100,
   "metadata": {},
   "outputs": [],
   "source": [
    "scaler = StandardScaler().fit(x_train)\n",
    "x_train_sc = scaler.transform(x_train)\n",
    "x_test_sc = scaler.transform(x_test)"
   ]
  },
  {
   "cell_type": "code",
   "execution_count": 440,
   "metadata": {},
   "outputs": [],
   "source": [
    "# from sklearn.feature_selection import SelectKBest, chi2, mutual_info_classif\n",
    "# skb = SelectKBest(mutual_info_classif, k=50)\n",
    "# skb.fit(x_train_sc, y_train)\n",
    "# x_train_sc = skb.transform(x_train_sc)"
   ]
  },
  {
   "cell_type": "code",
   "execution_count": 101,
   "metadata": {},
   "outputs": [
    {
     "data": {
      "text/plain": [
       "(337, 50)"
      ]
     },
     "execution_count": 101,
     "metadata": {},
     "output_type": "execute_result"
    }
   ],
   "source": [
    "x_train_sc.shape"
   ]
  },
  {
   "cell_type": "code",
   "execution_count": 102,
   "metadata": {},
   "outputs": [
    {
     "name": "stdout",
     "output_type": "stream",
     "text": [
      "CPU times: user 42.1 ms, sys: 12 ms, total: 54.1 ms\n",
      "Wall time: 13.7 ms\n"
     ]
    }
   ],
   "source": [
    "%%time\n",
    "sk_cov_metric = DistanceMetric.get_metric('mahalanobis', V=np.cov(x_train_sc.T))"
   ]
  },
  {
   "cell_type": "code",
   "execution_count": 103,
   "metadata": {},
   "outputs": [
    {
     "name": "stdout",
     "output_type": "stream",
     "text": [
      "CPU times: user 206 ms, sys: 4 µs, total: 206 ms\n",
      "Wall time: 204 ms\n"
     ]
    }
   ],
   "source": [
    "%%time\n",
    "distances = sk_cov_metric.pairwise(x_train_sc)"
   ]
  },
  {
   "cell_type": "code",
   "execution_count": 78,
   "metadata": {},
   "outputs": [
    {
     "data": {
      "text/plain": [
       "0.0"
      ]
     },
     "execution_count": 78,
     "metadata": {},
     "output_type": "execute_result"
    }
   ],
   "source": [
    "np.linalg.det(np.cov(x_train_sc.T))"
   ]
  },
  {
   "cell_type": "code",
   "execution_count": 104,
   "metadata": {},
   "outputs": [
    {
     "data": {
      "text/plain": [
       "0.1592482690405539"
      ]
     },
     "execution_count": 104,
     "metadata": {},
     "output_type": "execute_result"
    }
   ],
   "source": [
    "np.array(r_precision_m(authors=y_train, matrix=pd.DataFrame(distances))).mean()"
   ]
  },
  {
   "cell_type": "code",
   "execution_count": 105,
   "metadata": {},
   "outputs": [
    {
     "name": "stdout",
     "output_type": "stream",
     "text": [
      "CPU times: user 132 ms, sys: 3.99 ms, total: 136 ms\n",
      "Wall time: 135 ms\n"
     ]
    }
   ],
   "source": [
    "%%time\n",
    "# x_test_sc = skb.transform(x_test_sc)\n",
    "test_distances = sk_cov_metric.pairwise(x_test_sc)"
   ]
  },
  {
   "cell_type": "code",
   "execution_count": 106,
   "metadata": {},
   "outputs": [
    {
     "data": {
      "text/plain": [
       "0.1347675568743818"
      ]
     },
     "execution_count": 106,
     "metadata": {},
     "output_type": "execute_result"
    }
   ],
   "source": [
    "np.array(r_precision_m(authors=y_test, matrix=pd.DataFrame(test_distances))).mean()"
   ]
  },
  {
   "cell_type": "code",
   "execution_count": 95,
   "metadata": {},
   "outputs": [
    {
     "data": {
      "text/plain": [
       "55266"
      ]
     },
     "execution_count": 95,
     "metadata": {},
     "output_type": "execute_result"
    }
   ],
   "source": [
    "np.isnan(test_distances).sum()"
   ]
  },
  {
   "cell_type": "code",
   "execution_count": 452,
   "metadata": {},
   "outputs": [
    {
     "data": {
      "text/plain": [
       "(115, 50)"
      ]
     },
     "execution_count": 452,
     "metadata": {},
     "output_type": "execute_result"
    }
   ],
   "source": [
    "x_test_sc.shape"
   ]
  },
  {
   "cell_type": "markdown",
   "metadata": {},
   "source": [
    "### 3pos + xgb"
   ]
  },
  {
   "cell_type": "code",
   "execution_count": 50,
   "metadata": {},
   "outputs": [
    {
     "name": "stderr",
     "output_type": "stream",
     "text": [
      "/home/artesby/anaconda3/envs/myenv/lib/python3.7/site-packages/sklearn/utils/validation.py:595: DataConversionWarning: Data with input dtype int64 was converted to float64 by StandardScaler.\n",
      "  warnings.warn(msg, DataConversionWarning)\n"
     ]
    }
   ],
   "source": [
    "x_train_tri = normalize(x_train_tri, norm='l1').todense()\n",
    "x_test_tri = x_test_tri.todense()\n",
    "book_ids_train, book_ids_test = book_ids[idx_train], book_ids[idx_test]\n",
    "\n",
    "scaler = StandardScaler().fit(x_train_tri)\n",
    "x_train_sc = scaler.transform(x_train_tri)\n",
    "x_test_sc = scaler.transform(x_test_tri)"
   ]
  },
  {
   "cell_type": "code",
   "execution_count": 51,
   "metadata": {},
   "outputs": [
    {
     "name": "stdout",
     "output_type": "stream",
     "text": [
      "eu train rpec: 0.05854078236890737\n",
      "eu test rpec: 0.04102223086598087\n",
      "CPU times: user 8.23 s, sys: 87.5 ms, total: 8.32 s\n",
      "Wall time: 7.01 s\n"
     ]
    }
   ],
   "source": [
    "%%time\n",
    "eu_train_matrix = pdist(x_train_sc)\n",
    "eu_test_matrix = pdist(x_test_sc)\n",
    "print(\"eu train rpec:\", np.mean(r_precision_m(matrix=pd.DataFrame(eu_train_matrix), authors=y_train)))\n",
    "print(\"eu test rpec:\", np.mean(r_precision_m(matrix=pd.DataFrame(eu_test_matrix), authors=y_test)))"
   ]
  },
  {
   "cell_type": "code",
   "execution_count": 52,
   "metadata": {},
   "outputs": [
    {
     "data": {
      "text/plain": [
       "674"
      ]
     },
     "execution_count": 52,
     "metadata": {},
     "output_type": "execute_result"
    }
   ],
   "source": [
    "del eu_test_matrix\n",
    "del eu_train_matrix\n",
    "gc.collect()"
   ]
  },
  {
   "cell_type": "code",
   "execution_count": 53,
   "metadata": {},
   "outputs": [],
   "source": [
    "np.random.seed(17)\n",
    "CLOSE = 0\n",
    "MID = 1\n",
    "FAR = 2\n",
    "positive = []\n",
    "labels_positive = []\n",
    "for i, x1 in enumerate(x_train_sc):\n",
    "    for j, x2 in enumerate(x_train_sc):\n",
    "        if book_ids_train[i] == book_ids_train[j] and i != j:\n",
    "            positive.append( np.abs(x1 - x2) )\n",
    "            labels_positive.append(CLOSE)\n",
    "        elif y_train[i] == y_train[j] and i != j:\n",
    "            positive.append( np.abs(x1 - x2) )\n",
    "            labels_positive.append(MID)\n",
    "\n",
    "negative = []\n",
    "labels_negative = []\n",
    "while len(negative) < len(positive):\n",
    "    idx1, idx2 = np.random.choice(len(y_train), 2, replace=False)\n",
    "    if y_train[idx1] == y_train[idx2]:\n",
    "        continue\n",
    "    negative.append(\n",
    "        np.abs(x_train_sc[idx1] - x_train_sc[idx2])\n",
    "    )\n",
    "    labels_negative.append(FAR)\n",
    "\n",
    "data_train = [*positive, *negative]\n",
    "labels_train = [*labels_positive, *labels_negative]\n",
    "\n",
    "positive_test = []\n",
    "labels_positive_test = []\n",
    "for i, x1 in enumerate(x_test_sc):\n",
    "    for j, x2 in enumerate(x_test_sc):\n",
    "        if book_ids_test[i] == book_ids_test[j] and i != j:\n",
    "            positive_test.append( np.abs(x1 - x2) )\n",
    "            labels_positive_test.append(CLOSE)\n",
    "        elif y_test[i] == y_test[j] and i != j:\n",
    "            positive_test.append( np.abs(x1 - x2) )\n",
    "            labels_positive_test.append(MID)\n",
    "            \n",
    "negative_test = []\n",
    "labels_negative_test = []\n",
    "while len(negative_test) < len(positive_test):\n",
    "    idx1, idx2 = np.random.choice(len(y_test), 2, replace=False)\n",
    "    if y_test[idx1] == y_test[idx2]:\n",
    "        continue\n",
    "    negative_test.append(\n",
    "        np.abs(x_test_sc[idx1] - x_test_sc[idx2])\n",
    "    )\n",
    "    labels_negative_test.append(FAR)\n",
    "    \n",
    "data_test = [*positive_test, *negative_test]\n",
    "labels_test = [*labels_positive_test, *labels_negative_test]\n",
    "\n",
    "eval_set = [(data_train, labels_train), (data_test, labels_test)]"
   ]
  },
  {
   "cell_type": "code",
   "execution_count": null,
   "metadata": {},
   "outputs": [],
   "source": []
  },
  {
   "cell_type": "code",
   "execution_count": 56,
   "metadata": {},
   "outputs": [],
   "source": [
    "from xgboost import XGBRegressor, plot_importance"
   ]
  },
  {
   "cell_type": "code",
   "execution_count": 67,
   "metadata": {},
   "outputs": [],
   "source": [
    "xreg = XGBRegressor(objective ='reg:linear', n_jobs=1, booster='gbtree', \n",
    "              n_estimators=2000, subsample=0.8, colsample_by_tree=0.7)"
   ]
  },
  {
   "cell_type": "code",
   "execution_count": 68,
   "metadata": {
    "scrolled": true
   },
   "outputs": [
    {
     "name": "stdout",
     "output_type": "stream",
     "text": [
      "[0]\tvalidation_0-rmse:1.07876\tvalidation_1-rmse:1.06592\n",
      "Multiple eval metrics have been passed: 'validation_1-rmse' will be used for early stopping.\n",
      "\n",
      "Will train until validation_1-rmse hasn't improved in 50 rounds.\n",
      "[1]\tvalidation_0-rmse:1.04188\tvalidation_1-rmse:1.01564\n",
      "[2]\tvalidation_0-rmse:1.00757\tvalidation_1-rmse:0.96946\n",
      "[3]\tvalidation_0-rmse:0.975412\tvalidation_1-rmse:0.928914\n",
      "[4]\tvalidation_0-rmse:0.945359\tvalidation_1-rmse:0.889878\n",
      "[5]\tvalidation_0-rmse:0.917384\tvalidation_1-rmse:0.855297\n",
      "[6]\tvalidation_0-rmse:0.891256\tvalidation_1-rmse:0.822343\n",
      "[7]\tvalidation_0-rmse:0.866792\tvalidation_1-rmse:0.793271\n",
      "[8]\tvalidation_0-rmse:0.844162\tvalidation_1-rmse:0.768395\n",
      "[9]\tvalidation_0-rmse:0.823031\tvalidation_1-rmse:0.744401\n",
      "[10]\tvalidation_0-rmse:0.803287\tvalidation_1-rmse:0.723853\n",
      "[11]\tvalidation_0-rmse:0.785049\tvalidation_1-rmse:0.709368\n",
      "[12]\tvalidation_0-rmse:0.768046\tvalidation_1-rmse:0.693227\n",
      "[13]\tvalidation_0-rmse:0.752306\tvalidation_1-rmse:0.679519\n",
      "[14]\tvalidation_0-rmse:0.737594\tvalidation_1-rmse:0.667787\n",
      "[15]\tvalidation_0-rmse:0.723977\tvalidation_1-rmse:0.657046\n",
      "[16]\tvalidation_0-rmse:0.711167\tvalidation_1-rmse:0.649533\n",
      "[17]\tvalidation_0-rmse:0.699518\tvalidation_1-rmse:0.644006\n",
      "[18]\tvalidation_0-rmse:0.688691\tvalidation_1-rmse:0.63982\n",
      "[19]\tvalidation_0-rmse:0.678569\tvalidation_1-rmse:0.637501\n",
      "[20]\tvalidation_0-rmse:0.66919\tvalidation_1-rmse:0.636394\n",
      "[21]\tvalidation_0-rmse:0.660562\tvalidation_1-rmse:0.637097\n",
      "[22]\tvalidation_0-rmse:0.652535\tvalidation_1-rmse:0.638544\n",
      "[23]\tvalidation_0-rmse:0.644948\tvalidation_1-rmse:0.640507\n",
      "[24]\tvalidation_0-rmse:0.638039\tvalidation_1-rmse:0.643718\n",
      "[25]\tvalidation_0-rmse:0.631692\tvalidation_1-rmse:0.64685\n",
      "[26]\tvalidation_0-rmse:0.625781\tvalidation_1-rmse:0.650977\n",
      "[27]\tvalidation_0-rmse:0.620301\tvalidation_1-rmse:0.656284\n",
      "[28]\tvalidation_0-rmse:0.61525\tvalidation_1-rmse:0.662759\n",
      "[29]\tvalidation_0-rmse:0.61048\tvalidation_1-rmse:0.669091\n",
      "[30]\tvalidation_0-rmse:0.605976\tvalidation_1-rmse:0.676526\n",
      "[31]\tvalidation_0-rmse:0.601687\tvalidation_1-rmse:0.683263\n",
      "[32]\tvalidation_0-rmse:0.597739\tvalidation_1-rmse:0.690048\n",
      "[33]\tvalidation_0-rmse:0.594094\tvalidation_1-rmse:0.696554\n",
      "[34]\tvalidation_0-rmse:0.590697\tvalidation_1-rmse:0.704573\n",
      "[35]\tvalidation_0-rmse:0.587498\tvalidation_1-rmse:0.712601\n",
      "[36]\tvalidation_0-rmse:0.584466\tvalidation_1-rmse:0.719738\n",
      "[37]\tvalidation_0-rmse:0.581518\tvalidation_1-rmse:0.72799\n",
      "[38]\tvalidation_0-rmse:0.578753\tvalidation_1-rmse:0.735242\n",
      "[39]\tvalidation_0-rmse:0.5762\tvalidation_1-rmse:0.74253\n",
      "[40]\tvalidation_0-rmse:0.573753\tvalidation_1-rmse:0.748816\n",
      "[41]\tvalidation_0-rmse:0.571558\tvalidation_1-rmse:0.756631\n",
      "[42]\tvalidation_0-rmse:0.5694\tvalidation_1-rmse:0.767488\n",
      "[43]\tvalidation_0-rmse:0.567388\tvalidation_1-rmse:0.775598\n",
      "[44]\tvalidation_0-rmse:0.565407\tvalidation_1-rmse:0.783333\n",
      "[45]\tvalidation_0-rmse:0.56349\tvalidation_1-rmse:0.790791\n",
      "[46]\tvalidation_0-rmse:0.561696\tvalidation_1-rmse:0.798385\n",
      "[47]\tvalidation_0-rmse:0.559925\tvalidation_1-rmse:0.808546\n",
      "[48]\tvalidation_0-rmse:0.558238\tvalidation_1-rmse:0.815423\n",
      "[49]\tvalidation_0-rmse:0.556581\tvalidation_1-rmse:0.821668\n",
      "[50]\tvalidation_0-rmse:0.555002\tvalidation_1-rmse:0.829585\n",
      "[51]\tvalidation_0-rmse:0.553568\tvalidation_1-rmse:0.838553\n",
      "[52]\tvalidation_0-rmse:0.552146\tvalidation_1-rmse:0.845369\n",
      "[53]\tvalidation_0-rmse:0.550769\tvalidation_1-rmse:0.851269\n",
      "[54]\tvalidation_0-rmse:0.549447\tvalidation_1-rmse:0.861981\n",
      "[55]\tvalidation_0-rmse:0.548099\tvalidation_1-rmse:0.869805\n",
      "[56]\tvalidation_0-rmse:0.546854\tvalidation_1-rmse:0.87619\n",
      "[57]\tvalidation_0-rmse:0.54568\tvalidation_1-rmse:0.885441\n",
      "[58]\tvalidation_0-rmse:0.544352\tvalidation_1-rmse:0.890049\n",
      "[59]\tvalidation_0-rmse:0.543168\tvalidation_1-rmse:0.895351\n",
      "[60]\tvalidation_0-rmse:0.541999\tvalidation_1-rmse:0.90428\n",
      "[61]\tvalidation_0-rmse:0.540887\tvalidation_1-rmse:0.914344\n",
      "[62]\tvalidation_0-rmse:0.539764\tvalidation_1-rmse:0.919036\n",
      "[63]\tvalidation_0-rmse:0.53867\tvalidation_1-rmse:0.919075\n",
      "[64]\tvalidation_0-rmse:0.537615\tvalidation_1-rmse:0.924685\n",
      "[65]\tvalidation_0-rmse:0.536575\tvalidation_1-rmse:0.932109\n",
      "[66]\tvalidation_0-rmse:0.535553\tvalidation_1-rmse:0.939301\n",
      "[67]\tvalidation_0-rmse:0.53456\tvalidation_1-rmse:0.945629\n",
      "[68]\tvalidation_0-rmse:0.533662\tvalidation_1-rmse:0.95098\n",
      "[69]\tvalidation_0-rmse:0.532619\tvalidation_1-rmse:0.957477\n",
      "[70]\tvalidation_0-rmse:0.531675\tvalidation_1-rmse:0.96193\n",
      "Stopping. Best iteration:\n",
      "[20]\tvalidation_0-rmse:0.66919\tvalidation_1-rmse:0.636394\n",
      "\n",
      "CPU times: user 2min 36s, sys: 3.47 s, total: 2min 40s\n",
      "Wall time: 2min 40s\n"
     ]
    },
    {
     "data": {
      "text/plain": [
       "XGBRegressor(base_score=0.5, booster='gbtree', colsample_by_tree=0.7,\n",
       "       colsample_bylevel=1, colsample_bytree=1, gamma=0,\n",
       "       importance_type='gain', learning_rate=0.05, max_delta_step=0,\n",
       "       max_depth=3, min_child_weight=1, missing=None, n_estimators=2000,\n",
       "       n_jobs=1, nthread=None, objective='reg:linear', random_state=0,\n",
       "       reg_alpha=0, reg_lambda=1, scale_pos_weight=1, seed=None,\n",
       "       silent=True, subsample=0.8)"
      ]
     },
     "execution_count": 68,
     "metadata": {},
     "output_type": "execute_result"
    }
   ],
   "source": [
    "%%time\n",
    "xreg.fit(data_train,labels_train, eval_set=eval_set, early_stopping_rounds=50)"
   ]
  },
  {
   "cell_type": "code",
   "execution_count": 69,
   "metadata": {
    "scrolled": true
   },
   "outputs": [
    {
     "name": "stdout",
     "output_type": "stream",
     "text": [
      "xgb train rpec: 0.1222888468982219\n",
      "xgb test rpec: 0.009104998558123559\n",
      "CPU times: user 29min 24s, sys: 199 ms, total: 29min 25s\n",
      "Wall time: 29min 25s\n"
     ]
    }
   ],
   "source": [
    "%%time\n",
    "dist_xgb_train = np.zeros((len(x_train_sc), len(x_train_sc)))\n",
    "for i, x1 in enumerate(x_train_sc):\n",
    "    for j, x2 in enumerate(x_train_sc):\n",
    "        if dist_xgb_train[i][j] == 0:\n",
    "            p = xreg.predict(np.abs([x1 - x2]))[0]\n",
    "            dist_xgb_train[i][j] = p\n",
    "            dist_xgb_train[j][i] = p\n",
    "\n",
    "print(\"xgb train rpec:\", np.mean(r_precision_m(matrix=pd.DataFrame(dist_xgb_train), authors=y_train)))\n",
    "\n",
    "dist_xgb_test = np.zeros((len(x_test_sc), len(x_test_sc)))\n",
    "for i, x1 in enumerate(x_test_sc):\n",
    "    for j, x2 in enumerate(x_test_sc):\n",
    "        if dist_xgb_test[i][j] == 0:\n",
    "            p = xreg.predict(np.abs([x1 - x2]))[0]\n",
    "            dist_xgb_test[i][j] = p\n",
    "            dist_xgb_test[j][i] = p\n",
    "\n",
    "print(\"xgb test rpec:\", np.mean(r_precision_m(matrix=pd.DataFrame(dist_xgb_test), authors=y_test)))"
   ]
  },
  {
   "cell_type": "code",
   "execution_count": 146,
   "metadata": {
    "scrolled": true
   },
   "outputs": [
    {
     "data": {
      "text/plain": [
       "<matplotlib.axes._subplots.AxesSubplot at 0x7f5a2cca9d68>"
      ]
     },
     "execution_count": 146,
     "metadata": {},
     "output_type": "execute_result"
    },
    {
     "data": {
      "image/png": "[encoded data removed]",
      "text/plain": [
       "<Figure size 432x288 with 1 Axes>"
      ]
     },
     "metadata": {
      "needs_background": "light"
     },
     "output_type": "display_data"
    }
   ],
   "source": [
    "plot_importance(xreg, max_num_features=30)"
   ]
  },
  {
   "cell_type": "code",
   "execution_count": 145,
   "metadata": {},
   "outputs": [
    {
     "data": {
      "text/plain": [
       "Index(['pвнутр pвнутр nl', 'pтире advpro pгран', 'pтире advpro pвнутр',\n",
       "       'pтире advpro pr', 'pтире advpro conj', 'pтире advpro apro',\n",
       "       'pтире advpro advpro', 'pтире advpro pкавычки', 'pтире advpro adv',\n",
       "       'pтире adv vприч'],\n",
       "      dtype='object')"
      ]
     },
     "execution_count": 145,
     "metadata": {},
     "output_type": "execute_result"
    }
   ],
   "source": [
    "df.columns[xreg.feature_importances_.argsort()[:10]]"
   ]
  },
  {
   "cell_type": "markdown",
   "metadata": {},
   "source": [
    "### 3pos + features from xgb + cov"
   ]
  },
  {
   "cell_type": "code",
   "execution_count": 291,
   "metadata": {},
   "outputs": [],
   "source": [
    "x_features = xreg.feature_importances_"
   ]
  },
  {
   "cell_type": "code",
   "execution_count": 292,
   "metadata": {},
   "outputs": [],
   "source": [
    "# columns = x_features > 0\n",
    "columns = x_features.argsort()[-50:]"
   ]
  },
  {
   "cell_type": "code",
   "execution_count": 293,
   "metadata": {},
   "outputs": [],
   "source": [
    "df = pd.DataFrame(normalize(tri_grams.todense(), norm='l1'))\n",
    "df.columns = sorted(cv_tri_grams.vocabulary_)"
   ]
  },
  {
   "cell_type": "code",
   "execution_count": 294,
   "metadata": {},
   "outputs": [],
   "source": [
    "df = df[df.columns[columns]]"
   ]
  },
  {
   "cell_type": "code",
   "execution_count": 295,
   "metadata": {
    "scrolled": true
   },
   "outputs": [
    {
     "name": "stdout",
     "output_type": "stream",
     "text": [
      "test_fraction: 0.18638573743922204\n"
     ]
    }
   ],
   "source": [
    "X = np.array(df)\n",
    "idx_train, idx_test = train_test_split(X, authors, return_idx=True)\n",
    "x_train, y_train, x_test, y_test = X[idx_train], authors[idx_train], X[idx_test], authors[idx_test]\n",
    "\n",
    "scaler = StandardScaler().fit(x_train)\n",
    "x_train_sc = scaler.transform(x_train)\n",
    "x_test_sc = scaler.transform(x_test)"
   ]
  },
  {
   "cell_type": "code",
   "execution_count": 296,
   "metadata": {},
   "outputs": [
    {
     "name": "stdout",
     "output_type": "stream",
     "text": [
      "CPU times: user 2.52 ms, sys: 0 ns, total: 2.52 ms\n",
      "Wall time: 707 µs\n"
     ]
    }
   ],
   "source": [
    "%%time\n",
    "sk_cov_metric = DistanceMetric.get_metric('mahalanobis', V=np.cov(x_train_sc.T))"
   ]
  },
  {
   "cell_type": "code",
   "execution_count": 297,
   "metadata": {},
   "outputs": [
    {
     "name": "stdout",
     "output_type": "stream",
     "text": [
      "CPU times: user 461 ms, sys: 0 ns, total: 461 ms\n",
      "Wall time: 290 ms\n"
     ]
    }
   ],
   "source": [
    "%%time\n",
    "distances = sk_cov_metric.pairwise(x_train_sc)"
   ]
  },
  {
   "cell_type": "code",
   "execution_count": 298,
   "metadata": {},
   "outputs": [
    {
     "data": {
      "text/plain": [
       "3.424298646266824e-15"
      ]
     },
     "execution_count": 298,
     "metadata": {},
     "output_type": "execute_result"
    }
   ],
   "source": [
    "np.linalg.det(np.cov(x_train_sc.T))"
   ]
  },
  {
   "cell_type": "code",
   "execution_count": 299,
   "metadata": {},
   "outputs": [
    {
     "data": {
      "text/plain": [
       "array([[0.        , 9.39815864, 8.9480539 , ..., 7.01979552, 7.04437388,\n",
       "        6.53056068],\n",
       "       [9.39815864, 0.        , 9.64527917, ..., 8.80556814, 8.85322019,\n",
       "        7.14251881],\n",
       "       [8.9480539 , 9.64527917, 0.        , ..., 9.4508984 , 8.62625623,\n",
       "        7.73862668],\n",
       "       ...,\n",
       "       [7.01979552, 8.80556814, 9.4508984 , ..., 0.        , 7.13602134,\n",
       "        7.66938786],\n",
       "       [7.04437388, 8.85322019, 8.62625623, ..., 7.13602134, 0.        ,\n",
       "        6.56454605],\n",
       "       [6.53056068, 7.14251881, 7.73862668, ..., 7.66938786, 6.56454605,\n",
       "        0.        ]])"
      ]
     },
     "execution_count": 299,
     "metadata": {},
     "output_type": "execute_result"
    }
   ],
   "source": [
    "distances"
   ]
  },
  {
   "cell_type": "code",
   "execution_count": 300,
   "metadata": {},
   "outputs": [
    {
     "data": {
      "text/plain": [
       "0"
      ]
     },
     "execution_count": 300,
     "metadata": {},
     "output_type": "execute_result"
    }
   ],
   "source": [
    "np.isnan(distances).sum()"
   ]
  },
  {
   "cell_type": "code",
   "execution_count": 301,
   "metadata": {},
   "outputs": [
    {
     "data": {
      "text/plain": [
       "0.17018592297476762"
      ]
     },
     "execution_count": 301,
     "metadata": {},
     "output_type": "execute_result"
    }
   ],
   "source": [
    "np.array(r_precision_m(authors=y_train, matrix=pd.DataFrame(distances))).mean()"
   ]
  },
  {
   "cell_type": "code",
   "execution_count": 302,
   "metadata": {},
   "outputs": [
    {
     "name": "stdout",
     "output_type": "stream",
     "text": [
      "CPU times: user 15.2 ms, sys: 0 ns, total: 15.2 ms\n",
      "Wall time: 15.2 ms\n"
     ]
    }
   ],
   "source": [
    "%%time\n",
    "# x_test_sc = skb.transform(x_test_sc)\n",
    "test_distances = sk_cov_metric.pairwise(x_test_sc)"
   ]
  },
  {
   "cell_type": "code",
   "execution_count": 303,
   "metadata": {},
   "outputs": [
    {
     "data": {
      "text/plain": [
       "0.3473913043478261"
      ]
     },
     "execution_count": 303,
     "metadata": {},
     "output_type": "execute_result"
    }
   ],
   "source": [
    "np.array(r_precision_m(authors=y_test, matrix=pd.DataFrame(test_distances))).mean()"
   ]
  },
  {
   "cell_type": "code",
   "execution_count": 304,
   "metadata": {},
   "outputs": [
    {
     "data": {
      "text/plain": [
       "0"
      ]
     },
     "execution_count": 304,
     "metadata": {},
     "output_type": "execute_result"
    }
   ],
   "source": [
    "np.isnan(test_distances).sum()"
   ]
  },
  {
   "cell_type": "code",
   "execution_count": 305,
   "metadata": {},
   "outputs": [
    {
     "data": {
      "text/plain": [
       "(115, 50)"
      ]
     },
     "execution_count": 305,
     "metadata": {},
     "output_type": "execute_result"
    }
   ],
   "source": [
    "x_test_sc.shape"
   ]
  },
  {
   "cell_type": "markdown",
   "metadata": {},
   "source": [
    "### 3pos + ITML"
   ]
  },
  {
   "cell_type": "code",
   "execution_count": 23,
   "metadata": {},
   "outputs": [
    {
     "name": "stdout",
     "output_type": "stream",
     "text": [
      "test_fraction: 0.546191247974068\n"
     ]
    }
   ],
   "source": [
    "tri_grams = normalize(tri_grams, norm='l1')\n",
    "\n",
    "X = tri_grams.todense()\n",
    "\n",
    "idx_train, idx_test = train_test_split(X, authors, return_idx=True, mod='s')\n",
    "x_train, y_train, x_test, y_test = X[idx_train], authors[idx_train], X[idx_test], authors[idx_test]\n",
    "\n",
    "scaler = StandardScaler().fit(x_train)\n",
    "x_train_sc = scaler.transform(x_train)\n",
    "x_test_sc = scaler.transform(x_test)"
   ]
  },
  {
   "cell_type": "code",
   "execution_count": 24,
   "metadata": {},
   "outputs": [],
   "source": [
    "clf = ITML_Supervised(num_constraints=300, verbose=True, convergence_threshold=0.001, )"
   ]
  },
  {
   "cell_type": "code",
   "execution_count": 25,
   "metadata": {},
   "outputs": [
    {
     "name": "stdout",
     "output_type": "stream",
     "text": [
      "itml iter: 0, conv = 16.645941\n",
      "itml iter: 1, conv = 1.452794\n",
      "itml iter: 2, conv = 0.278795\n",
      "itml iter: 3, conv = 0.065051\n",
      "itml iter: 4, conv = 0.015902\n",
      "itml iter: 5, conv = 0.003892\n",
      "itml converged at iter: 6, conv = 0.000960\n",
      "CPU times: user 57min 50s, sys: 7min 25s, total: 1h 5min 15s\n",
      "Wall time: 16min 25s\n"
     ]
    },
    {
     "data": {
      "text/plain": [
       "ITML_Supervised(A0=None, bounds=None, convergence_threshold=0.001, gamma=1.0,\n",
       "        max_iter=1000, num_constraints=300, num_labeled=inf, verbose=True)"
      ]
     },
     "execution_count": 25,
     "metadata": {},
     "output_type": "execute_result"
    }
   ],
   "source": [
    "%%time\n",
    "clf.fit(x_train_sc, y_train)"
   ]
  },
  {
   "cell_type": "code",
   "execution_count": 26,
   "metadata": {},
   "outputs": [],
   "source": [
    "i_metric = metric(clf.metric())"
   ]
  },
  {
   "cell_type": "code",
   "execution_count": 27,
   "metadata": {},
   "outputs": [
    {
     "name": "stdout",
     "output_type": "stream",
     "text": [
      "CPU times: user 1h 14min 52s, sys: 18.8 s, total: 1h 15min 10s\n",
      "Wall time: 18min 56s\n"
     ]
    }
   ],
   "source": [
    "%%time\n",
    "train_dist_matrix = pdist(x_train_sc, metric=i_metric)"
   ]
  },
  {
   "cell_type": "code",
   "execution_count": 31,
   "metadata": {},
   "outputs": [
    {
     "data": {
      "text/plain": [
       "0.9169139465875371"
      ]
     },
     "execution_count": 31,
     "metadata": {},
     "output_type": "execute_result"
    }
   ],
   "source": [
    "np.mean(r_precision_m(authors=y_train, matrix=pd.DataFrame(train_dist_matrix)))"
   ]
  },
  {
   "cell_type": "code",
   "execution_count": 40,
   "metadata": {
    "scrolled": true
   },
   "outputs": [
    {
     "data": {
      "text/plain": [
       "array([  0,   0,   1,   1,   1,   2,   2,   2,   3,   3,   3,   5,   5,\n",
       "         5,   6,   6,   6,   8,   8,   8,   9,   9,  10,  10,  10,  11,\n",
       "        11,  12,  12,  12,  13,  13,  15,  15,  16,  16,  16,  17,  17,\n",
       "        17,  19,  19,  19,  20,  20,  20,  21,  21,  21,  22,  22,  22,\n",
       "        23,  23,  23,  24,  24,  25,  25,  25,  26,  26,  26,  27,  27,\n",
       "        28,  28,  29,  29,  30,  30,  30,  32,  32,  32,  33,  33,  35,\n",
       "        35,  37,  37,  37,  40,  40,  40,  41,  41,  41,  42,  42,  43,\n",
       "        43,  44,  44,  44,  45,  45,  45,  46,  46,  46,  47,  47,  48,\n",
       "        48,  48,  49,  49,  49,  50,  50,  50,  50,  50,  51,  51,  51,\n",
       "        52,  52,  53,  53,  53,  54,  54,  54,  55,  55,  56,  56,  56,\n",
       "        58,  58,  58,  59,  59,  59,  60,  60,  60,  61,  61,  62,  62,\n",
       "        62,  63,  63,  64,  64,  64,  65,  65,  65,  66,  66,  66,  67,\n",
       "        67,  69,  69,  69,  70,  70,  70,  71,  71,  72,  72,  73,  73,\n",
       "        74,  74,  74,  75,  75,  77,  77,  78,  78,  79,  79,  79,  80,\n",
       "        80,  81,  81,  81,  81,  82,  82,  82,  83,  83,  83,  84,  84,\n",
       "        85,  85,  86,  86,  87,  87,  89,  89,  89,  90,  90,  90,  91,\n",
       "        91,  92,  92,  93,  93,  93,  94,  94,  94,  94,  95,  95,  95,\n",
       "        96,  96,  97,  97,  98,  98,  99,  99,  99, 100, 100, 100, 101,\n",
       "       101, 101, 102, 102, 103, 103, 104, 104, 104, 105, 105, 105, 106,\n",
       "       106, 108, 108, 108, 109, 109, 109, 110, 110, 111, 111, 112, 112,\n",
       "       113, 113, 113, 114, 114, 114, 115, 115, 116, 116, 117, 117, 117,\n",
       "       118, 118, 119, 119, 120, 120, 120, 121, 121, 122, 122, 123, 123,\n",
       "       124, 124, 124, 125, 125, 126, 126, 127, 127, 128, 128, 129, 129,\n",
       "       130, 130, 130, 131, 131, 132, 132, 132, 133, 133, 134, 134, 135,\n",
       "       135, 136, 136, 137, 137, 138, 138, 138, 139, 139, 139, 140, 140,\n",
       "       140, 141, 141, 142, 142, 143, 143, 144, 144, 144, 145, 145])"
      ]
     },
     "execution_count": 40,
     "metadata": {},
     "output_type": "execute_result"
    }
   ],
   "source": [
    "y_train"
   ]
  },
  {
   "cell_type": "code",
   "execution_count": 29,
   "metadata": {},
   "outputs": [
    {
     "name": "stdout",
     "output_type": "stream",
     "text": [
      "CPU times: user 1h 14min 32s, sys: 18.7 s, total: 1h 14min 51s\n",
      "Wall time: 18min 49s\n"
     ]
    }
   ],
   "source": [
    "%%time\n",
    "test_dist_matrix = pdist(x_test_sc, metric=i_metric)"
   ]
  },
  {
   "cell_type": "code",
   "execution_count": 30,
   "metadata": {},
   "outputs": [
    {
     "data": {
      "text/plain": [
       "0.11572700296735905"
      ]
     },
     "execution_count": 30,
     "metadata": {},
     "output_type": "execute_result"
    }
   ],
   "source": [
    "np.mean(r_precision_m(authors=y_test, matrix=pd.DataFrame(test_dist_matrix)))"
   ]
  },
  {
   "cell_type": "markdown",
   "metadata": {},
   "source": [
    "| method    \t| test_rp \t| train_rp \t|\n",
    "|-----------\t|---------\t|----------\t|\n",
    "| ITML(300) \t| 0,167   \t|          \t|\n",
    "| ITML(500) \t| 0,153   \t|          \t|\n",
    "| ITML(2000) \t| 0,164 \t|          \t|"
   ]
  },
  {
   "cell_type": "markdown",
   "metadata": {},
   "source": [
    "### 3pos + LSML"
   ]
  },
  {
   "cell_type": "code",
   "execution_count": 41,
   "metadata": {},
   "outputs": [],
   "source": [
    "prior = np.ones((len(x_train_sc), len(x_train_sc)))\n",
    "for i, a1 in enumerate(y_train):\n",
    "    for j, a2 in enumerate(y_train):\n",
    "        if a1 == a2:\n",
    "            prior[i][j] = 0\n",
    "            prior[j][i] = 0"
   ]
  },
  {
   "cell_type": "code",
   "execution_count": 42,
   "metadata": {},
   "outputs": [],
   "source": [
    "clf = LSML_Supervised(num_constraints=300, verbose=True, prior=prior)"
   ]
  },
  {
   "cell_type": "code",
   "execution_count": 43,
   "metadata": {
    "collapsed": true
   },
   "outputs": [
    {
     "ename": "LinAlgError",
     "evalue": "Singular matrix",
     "output_type": "error",
     "traceback": [
      "\u001b[0;31m---------------------------------------------------------------------------\u001b[0m",
      "\u001b[0;31mLinAlgError\u001b[0m                               Traceback (most recent call last)",
      "\u001b[0;32m<timed eval>\u001b[0m in \u001b[0;36m<module>\u001b[0;34m\u001b[0m\n",
      "\u001b[0;32m~/anaconda3/envs/myenv/lib/python3.7/site-packages/metric_learn/lsml.py\u001b[0m in \u001b[0;36mfit\u001b[0;34m(self, X, y, random_state)\u001b[0m\n\u001b[1;32m    189\u001b[0m     pairs = c.positive_negative_pairs(num_constraints, same_length=True,\n\u001b[1;32m    190\u001b[0m                                       random_state=random_state)\n\u001b[0;32m--> 191\u001b[0;31m     \u001b[0;32mreturn\u001b[0m \u001b[0mLSML\u001b[0m\u001b[0;34m.\u001b[0m\u001b[0mfit\u001b[0m\u001b[0;34m(\u001b[0m\u001b[0mself\u001b[0m\u001b[0;34m,\u001b[0m \u001b[0mX\u001b[0m\u001b[0;34m,\u001b[0m \u001b[0mpairs\u001b[0m\u001b[0;34m,\u001b[0m \u001b[0mweights\u001b[0m\u001b[0;34m=\u001b[0m\u001b[0mself\u001b[0m\u001b[0;34m.\u001b[0m\u001b[0mweights\u001b[0m\u001b[0;34m)\u001b[0m\u001b[0;34m\u001b[0m\u001b[0;34m\u001b[0m\u001b[0m\n\u001b[0m",
      "\u001b[0;32m~/anaconda3/envs/myenv/lib/python3.7/site-packages/metric_learn/lsml.py\u001b[0m in \u001b[0;36mfit\u001b[0;34m(self, X, constraints, weights)\u001b[0m\n\u001b[1;32m     70\u001b[0m         \u001b[0mscale\u001b[0m \u001b[0mfactor\u001b[0m \u001b[0;32mfor\u001b[0m \u001b[0meach\u001b[0m \u001b[0mconstraint\u001b[0m\u001b[0;34m\u001b[0m\u001b[0;34m\u001b[0m\u001b[0m\n\u001b[1;32m     71\u001b[0m     \"\"\"\n\u001b[0;32m---> 72\u001b[0;31m     \u001b[0mself\u001b[0m\u001b[0;34m.\u001b[0m\u001b[0m_prepare_inputs\u001b[0m\u001b[0;34m(\u001b[0m\u001b[0mX\u001b[0m\u001b[0;34m,\u001b[0m \u001b[0mconstraints\u001b[0m\u001b[0;34m,\u001b[0m \u001b[0mweights\u001b[0m\u001b[0;34m)\u001b[0m\u001b[0;34m\u001b[0m\u001b[0;34m\u001b[0m\u001b[0m\n\u001b[0m\u001b[1;32m     73\u001b[0m     \u001b[0mstep_sizes\u001b[0m \u001b[0;34m=\u001b[0m \u001b[0mnp\u001b[0m\u001b[0;34m.\u001b[0m\u001b[0mlogspace\u001b[0m\u001b[0;34m(\u001b[0m\u001b[0;34m-\u001b[0m\u001b[0;36m10\u001b[0m\u001b[0;34m,\u001b[0m \u001b[0;36m0\u001b[0m\u001b[0;34m,\u001b[0m \u001b[0;36m10\u001b[0m\u001b[0;34m)\u001b[0m\u001b[0;34m\u001b[0m\u001b[0;34m\u001b[0m\u001b[0m\n\u001b[1;32m     74\u001b[0m     \u001b[0;31m# Keep track of the best step size and the loss at that step.\u001b[0m\u001b[0;34m\u001b[0m\u001b[0;34m\u001b[0m\u001b[0;34m\u001b[0m\u001b[0m\n",
      "\u001b[0;32m~/anaconda3/envs/myenv/lib/python3.7/site-packages/metric_learn/lsml.py\u001b[0m in \u001b[0;36m_prepare_inputs\u001b[0;34m(self, X, constraints, weights)\u001b[0m\n\u001b[1;32m     53\u001b[0m     \u001b[0;32melse\u001b[0m\u001b[0;34m:\u001b[0m\u001b[0;34m\u001b[0m\u001b[0;34m\u001b[0m\u001b[0m\n\u001b[1;32m     54\u001b[0m       \u001b[0mself\u001b[0m\u001b[0;34m.\u001b[0m\u001b[0mM_\u001b[0m \u001b[0;34m=\u001b[0m \u001b[0mself\u001b[0m\u001b[0;34m.\u001b[0m\u001b[0mprior\u001b[0m\u001b[0;34m\u001b[0m\u001b[0;34m\u001b[0m\u001b[0m\n\u001b[0;32m---> 55\u001b[0;31m       \u001b[0mself\u001b[0m\u001b[0;34m.\u001b[0m\u001b[0mprior_inv_\u001b[0m \u001b[0;34m=\u001b[0m \u001b[0mnp\u001b[0m\u001b[0;34m.\u001b[0m\u001b[0mlinalg\u001b[0m\u001b[0;34m.\u001b[0m\u001b[0minv\u001b[0m\u001b[0;34m(\u001b[0m\u001b[0mself\u001b[0m\u001b[0;34m.\u001b[0m\u001b[0mprior\u001b[0m\u001b[0;34m)\u001b[0m\u001b[0;34m\u001b[0m\u001b[0;34m\u001b[0m\u001b[0m\n\u001b[0m\u001b[1;32m     56\u001b[0m \u001b[0;34m\u001b[0m\u001b[0m\n\u001b[1;32m     57\u001b[0m   \u001b[0;32mdef\u001b[0m \u001b[0mmetric\u001b[0m\u001b[0;34m(\u001b[0m\u001b[0mself\u001b[0m\u001b[0;34m)\u001b[0m\u001b[0;34m:\u001b[0m\u001b[0;34m\u001b[0m\u001b[0;34m\u001b[0m\u001b[0m\n",
      "\u001b[0;32m~/anaconda3/envs/myenv/lib/python3.7/site-packages/numpy/linalg/linalg.py\u001b[0m in \u001b[0;36minv\u001b[0;34m(a)\u001b[0m\n\u001b[1;32m    549\u001b[0m     \u001b[0msignature\u001b[0m \u001b[0;34m=\u001b[0m \u001b[0;34m'D->D'\u001b[0m \u001b[0;32mif\u001b[0m \u001b[0misComplexType\u001b[0m\u001b[0;34m(\u001b[0m\u001b[0mt\u001b[0m\u001b[0;34m)\u001b[0m \u001b[0;32melse\u001b[0m \u001b[0;34m'd->d'\u001b[0m\u001b[0;34m\u001b[0m\u001b[0;34m\u001b[0m\u001b[0m\n\u001b[1;32m    550\u001b[0m     \u001b[0mextobj\u001b[0m \u001b[0;34m=\u001b[0m \u001b[0mget_linalg_error_extobj\u001b[0m\u001b[0;34m(\u001b[0m\u001b[0m_raise_linalgerror_singular\u001b[0m\u001b[0;34m)\u001b[0m\u001b[0;34m\u001b[0m\u001b[0;34m\u001b[0m\u001b[0m\n\u001b[0;32m--> 551\u001b[0;31m     \u001b[0mainv\u001b[0m \u001b[0;34m=\u001b[0m \u001b[0m_umath_linalg\u001b[0m\u001b[0;34m.\u001b[0m\u001b[0minv\u001b[0m\u001b[0;34m(\u001b[0m\u001b[0ma\u001b[0m\u001b[0;34m,\u001b[0m \u001b[0msignature\u001b[0m\u001b[0;34m=\u001b[0m\u001b[0msignature\u001b[0m\u001b[0;34m,\u001b[0m \u001b[0mextobj\u001b[0m\u001b[0;34m=\u001b[0m\u001b[0mextobj\u001b[0m\u001b[0;34m)\u001b[0m\u001b[0;34m\u001b[0m\u001b[0;34m\u001b[0m\u001b[0m\n\u001b[0m\u001b[1;32m    552\u001b[0m     \u001b[0;32mreturn\u001b[0m \u001b[0mwrap\u001b[0m\u001b[0;34m(\u001b[0m\u001b[0mainv\u001b[0m\u001b[0;34m.\u001b[0m\u001b[0mastype\u001b[0m\u001b[0;34m(\u001b[0m\u001b[0mresult_t\u001b[0m\u001b[0;34m,\u001b[0m \u001b[0mcopy\u001b[0m\u001b[0;34m=\u001b[0m\u001b[0;32mFalse\u001b[0m\u001b[0;34m)\u001b[0m\u001b[0;34m)\u001b[0m\u001b[0;34m\u001b[0m\u001b[0;34m\u001b[0m\u001b[0m\n\u001b[1;32m    553\u001b[0m \u001b[0;34m\u001b[0m\u001b[0m\n",
      "\u001b[0;32m~/anaconda3/envs/myenv/lib/python3.7/site-packages/numpy/linalg/linalg.py\u001b[0m in \u001b[0;36m_raise_linalgerror_singular\u001b[0;34m(err, flag)\u001b[0m\n\u001b[1;32m     95\u001b[0m \u001b[0;34m\u001b[0m\u001b[0m\n\u001b[1;32m     96\u001b[0m \u001b[0;32mdef\u001b[0m \u001b[0m_raise_linalgerror_singular\u001b[0m\u001b[0;34m(\u001b[0m\u001b[0merr\u001b[0m\u001b[0;34m,\u001b[0m \u001b[0mflag\u001b[0m\u001b[0;34m)\u001b[0m\u001b[0;34m:\u001b[0m\u001b[0;34m\u001b[0m\u001b[0;34m\u001b[0m\u001b[0m\n\u001b[0;32m---> 97\u001b[0;31m     \u001b[0;32mraise\u001b[0m \u001b[0mLinAlgError\u001b[0m\u001b[0;34m(\u001b[0m\u001b[0;34m\"Singular matrix\"\u001b[0m\u001b[0;34m)\u001b[0m\u001b[0;34m\u001b[0m\u001b[0;34m\u001b[0m\u001b[0m\n\u001b[0m\u001b[1;32m     98\u001b[0m \u001b[0;34m\u001b[0m\u001b[0m\n\u001b[1;32m     99\u001b[0m \u001b[0;32mdef\u001b[0m \u001b[0m_raise_linalgerror_nonposdef\u001b[0m\u001b[0;34m(\u001b[0m\u001b[0merr\u001b[0m\u001b[0;34m,\u001b[0m \u001b[0mflag\u001b[0m\u001b[0;34m)\u001b[0m\u001b[0;34m:\u001b[0m\u001b[0;34m\u001b[0m\u001b[0;34m\u001b[0m\u001b[0m\n",
      "\u001b[0;31mLinAlgError\u001b[0m: Singular matrix"
     ]
    }
   ],
   "source": [
    "%%time\n",
    "clf.fit(x_train_sc, y_train)"
   ]
  },
  {
   "cell_type": "code",
   "execution_count": 437,
   "metadata": {},
   "outputs": [
    {
     "data": {
      "text/plain": [
       "56"
      ]
     },
     "execution_count": 437,
     "metadata": {},
     "output_type": "execute_result"
    }
   ],
   "source": [
    "y_train[460]"
   ]
  },
  {
   "cell_type": "code",
   "execution_count": 429,
   "metadata": {},
   "outputs": [
    {
     "data": {
      "text/plain": [
       "(array([280, 479, 365, 293, 272, 472, 312,  76, 109, 458]),\n",
       " array([ 41,  43,  44, 292, 167, 473, 313, 485, 136, 489]),\n",
       " array([ 54,  12, 405, 376, 465, 244, 462, 285, 430, 125]),\n",
       " array([365, 460,  35,  99, 145, 329, 366, 302, 232, 251]))"
      ]
     },
     "execution_count": 429,
     "metadata": {},
     "output_type": "execute_result"
    }
   ],
   "source": [
    "from metric_learn import Constraints\n",
    "c = Constraints.random_subset(y_train, np.inf, random_state=np.random)\n",
    "c.positive_negative_pairs(10)"
   ]
  },
  {
   "cell_type": "markdown",
   "metadata": {},
   "source": [
    "### Удобочитаемые фичи"
   ]
  },
  {
   "cell_type": "markdown",
   "metadata": {},
   "source": [
    "#### % диалогов"
   ]
  },
  {
   "cell_type": "code",
   "execution_count": 112,
   "metadata": {},
   "outputs": [],
   "source": [
    "def dialog_fraction(parsed_json):\n",
    "    return np.array([d.count('NL Pтире') / d.count('NL') for d in parsed_json]).reshape(-1, 1)"
   ]
  },
  {
   "cell_type": "code",
   "execution_count": 113,
   "metadata": {},
   "outputs": [
    {
     "data": {
      "text/plain": [
       "(2344, 1)"
      ]
     },
     "execution_count": 113,
     "metadata": {},
     "output_type": "execute_result"
    }
   ],
   "source": [
    "dia_frac = dialog_fraction(data)\n",
    "dia_frac.shape"
   ]
  },
  {
   "cell_type": "markdown",
   "metadata": {},
   "source": [
    "#### avg sentence length"
   ]
  },
  {
   "cell_type": "code",
   "execution_count": 114,
   "metadata": {},
   "outputs": [],
   "source": [
    "punct_pos= [\n",
    "    'Pвнутр', 'Pгран', 'Pтире', 'Pкавычки', 'NL',\n",
    "]\n",
    "\n",
    "def avg_sent_len_one(parsed_json):\n",
    "    sentences = [[w for w in s.split() if w not in punct_pos] for s in re.split('NL|Pгран', parsed_json)]\n",
    "    sentences_len = [len(s) for s in sentences if len(s) > 0]\n",
    "    return sum(sentences_len) / len(sentences_len)\n",
    "\n",
    "def avg_sent_len_many(parsed_jsons):\n",
    "    return np.array([avg_sent_len_one(json) for json in parsed_jsons])\n",
    "        "
   ]
  },
  {
   "cell_type": "code",
   "execution_count": 115,
   "metadata": {},
   "outputs": [],
   "source": [
    "avg_sent_l = avg_sent_len_many(data).reshape(-1, 1)"
   ]
  },
  {
   "cell_type": "code",
   "execution_count": 116,
   "metadata": {},
   "outputs": [
    {
     "data": {
      "text/plain": [
       "(2344, 1)"
      ]
     },
     "execution_count": 116,
     "metadata": {},
     "output_type": "execute_result"
    }
   ],
   "source": [
    "avg_sent_l.shape"
   ]
  },
  {
   "cell_type": "code",
   "execution_count": 117,
   "metadata": {},
   "outputs": [
    {
     "data": {
      "text/plain": [
       "(11.67605837665916, 4.713126782705324)"
      ]
     },
     "execution_count": 117,
     "metadata": {},
     "output_type": "execute_result"
    }
   ],
   "source": [
    "avg_sent_l.mean(), avg_sent_l.std()"
   ]
  },
  {
   "cell_type": "markdown",
   "metadata": {},
   "source": [
    "#### pos fractions"
   ]
  },
  {
   "cell_type": "code",
   "execution_count": 50,
   "metadata": {},
   "outputs": [],
   "source": [
    "# def pos_fraction(parsed_json):\n",
    "#     d = Counter(parsed_json.split())\n",
    "#     for k in punct_pos:\n",
    "#         del d[k]\n",
    "#     total = sum(d.values())\n",
    "#     for k in d:\n",
    "#         d[k] /= total\n",
    "#     return d"
   ]
  },
  {
   "cell_type": "code",
   "execution_count": 118,
   "metadata": {},
   "outputs": [
    {
     "name": "stdout",
     "output_type": "stream",
     "text": [
      "CPU times: user 6.81 s, sys: 0 ns, total: 6.81 s\n",
      "Wall time: 6.81 s\n"
     ]
    }
   ],
   "source": [
    "%%time\n",
    "pos_fractions, cv_fractions = count_n_grams(data, n=1, stopgrams=[s.lower() for s in punct_pos])\n",
    "pos_fractions = normalize(pos_fractions, norm='l1')"
   ]
  },
  {
   "cell_type": "code",
   "execution_count": 119,
   "metadata": {
    "scrolled": true
   },
   "outputs": [
    {
     "data": {
      "text/plain": [
       "<2344x20 sparse matrix of type '<class 'numpy.float64'>'\n",
       "\twith 39500 stored elements in Compressed Sparse Row format>"
      ]
     },
     "execution_count": 119,
     "metadata": {},
     "output_type": "execute_result"
    }
   ],
   "source": [
    "pos_fractions"
   ]
  },
  {
   "cell_type": "markdown",
   "metadata": {},
   "source": [
    "#### avg word length"
   ]
  },
  {
   "cell_type": "code",
   "execution_count": 53,
   "metadata": {},
   "outputs": [],
   "source": [
    "# def avg_word_len(json):\n",
    "#     sum_len = 0\n",
    "#     n_words = 0\n",
    "#     for line in json:\n",
    "#         if 'analysis' in line:\n",
    "#             sum_len += len(line['text'])\n",
    "#             n_words += 1\n",
    "#     return sum_len / n_words"
   ]
  },
  {
   "cell_type": "code",
   "execution_count": 124,
   "metadata": {},
   "outputs": [
    {
     "name": "stdout",
     "output_type": "stream",
     "text": [
      "CPU times: user 1min 40s, sys: 376 ms, total: 1min 41s\n",
      "Wall time: 1min 41s\n"
     ]
    }
   ],
   "source": [
    "%%time\n",
    "data = []\n",
    "for filename in sorted(os.listdir(dir_in_raw)):\n",
    "    book_id = int(filename.split('.')[0])\n",
    "    if get_author_id(book_id, catalog) in singles:\n",
    "        continue\n",
    "    wl = 0\n",
    "    wn = 0\n",
    "    with codecs.open(os.path.join(dir_in_raw, filename), encoding='utf-8') as book:\n",
    "        content = book.read()\n",
    "        lines = [json.loads(l) for l in content.splitlines()]\n",
    "        for line in lines:\n",
    "            if 'analysis' in line:\n",
    "                wl += len(line['text'])\n",
    "                wn += 1\n",
    "    data.append(wl / wn)\n"
   ]
  },
  {
   "cell_type": "code",
   "execution_count": 125,
   "metadata": {},
   "outputs": [
    {
     "data": {
      "text/plain": [
       "(2344, 1)"
      ]
     },
     "execution_count": 125,
     "metadata": {},
     "output_type": "execute_result"
    }
   ],
   "source": [
    "avg_len_word = np.array(data).reshape(-1, 1)\n",
    "avg_len_word.shape"
   ]
  },
  {
   "cell_type": "code",
   "execution_count": 126,
   "metadata": {},
   "outputs": [
    {
     "data": {
      "text/plain": [
       "(5.241211620335765, 0.30312214853361935)"
      ]
     },
     "execution_count": 126,
     "metadata": {},
     "output_type": "execute_result"
    }
   ],
   "source": [
    "avg_len_word.mean(), avg_len_word.std()"
   ]
  },
  {
   "cell_type": "markdown",
   "metadata": {},
   "source": [
    "#### Type token ratio"
   ]
  },
  {
   "cell_type": "code",
   "execution_count": 120,
   "metadata": {},
   "outputs": [],
   "source": [
    "def type_token_ratio(json):\n",
    "    vocabulary = Counter()\n",
    "    for line in json:\n",
    "        if 'analysis' in line and line['analysis']:\n",
    "            if 'lex' in line['analysis'][0]:\n",
    "                word = line['analysis'][0]['lex']\n",
    "                vocabulary[word] += 1\n",
    "    return len(vocabulary) / sum(vocabulary.values())"
   ]
  },
  {
   "cell_type": "code",
   "execution_count": 121,
   "metadata": {},
   "outputs": [
    {
     "name": "stdout",
     "output_type": "stream",
     "text": [
      "CPU times: user 1min 48s, sys: 324 ms, total: 1min 49s\n",
      "Wall time: 1min 49s\n"
     ]
    }
   ],
   "source": [
    "%%time\n",
    "data = []\n",
    "for filename in sorted(os.listdir(dir_in_raw)):\n",
    "    book_id = int(filename.split('.')[0])\n",
    "    if get_author_id(book_id, catalog) in singles:\n",
    "        continue\n",
    "    with codecs.open(os.path.join(dir_in_raw, filename), encoding='utf-8') as book:\n",
    "        content = book.read()\n",
    "        lines = [json.loads(l) for l in content.splitlines()]\n",
    "        data.append(type_token_ratio(lines))"
   ]
  },
  {
   "cell_type": "code",
   "execution_count": 122,
   "metadata": {},
   "outputs": [
    {
     "data": {
      "text/plain": [
       "(2344, 1)"
      ]
     },
     "execution_count": 122,
     "metadata": {},
     "output_type": "execute_result"
    }
   ],
   "source": [
    "type_token_ratio = np.array(data).reshape(-1, 1)\n",
    "type_token_ratio.shape"
   ]
  },
  {
   "cell_type": "code",
   "execution_count": 123,
   "metadata": {},
   "outputs": [
    {
     "data": {
      "text/plain": [
       "(0.4211732502969508, 0.05659772891845692)"
      ]
     },
     "execution_count": 123,
     "metadata": {},
     "output_type": "execute_result"
    }
   ],
   "source": [
    "type_token_ratio.mean(), type_token_ratio.std()"
   ]
  },
  {
   "cell_type": "markdown",
   "metadata": {},
   "source": [
    "#### %  редких слов"
   ]
  },
  {
   "cell_type": "code",
   "execution_count": 127,
   "metadata": {},
   "outputs": [
    {
     "data": {
      "text/plain": [
       "413942"
      ]
     },
     "execution_count": 127,
     "metadata": {},
     "output_type": "execute_result"
    }
   ],
   "source": [
    "threshold = 10\n",
    "ncrl = pd.read_csv('1grams-3.txt', sep='\\t', header=None)\n",
    "ncrl = ncrl[(ncrl[0] > threshold)]\n",
    "def is_russian_alpha(word):\n",
    "    return re.match('[а-яА-Я]', str(word))\n",
    "rare_words = set(w.lower() for w in ncrl[1] if is_russian_alpha(w))\n",
    "len(rare_words)"
   ]
  },
  {
   "cell_type": "code",
   "execution_count": 128,
   "metadata": {},
   "outputs": [],
   "source": [
    "def rare_words_fraction(json, rare_words=set()):\n",
    "    n_rare = 0\n",
    "    n_all = 0\n",
    "    for line in json:\n",
    "        if 'analysis' in line:\n",
    "            n_all += 1\n",
    "            if line['text'].lower() not in rare_words:\n",
    "                n_rare += 1\n",
    "            elif ( \n",
    "                line['analysis']\n",
    "                and 'lex' in line['analysis'][0]\n",
    "                and line['analysis'][0]['lex'] not in rare_words):\n",
    "                n_rare += 1\n",
    "    return n_rare / n_all"
   ]
  },
  {
   "cell_type": "code",
   "execution_count": 129,
   "metadata": {},
   "outputs": [
    {
     "name": "stdout",
     "output_type": "stream",
     "text": [
      "CPU times: user 1min 31s, sys: 296 ms, total: 1min 31s\n",
      "Wall time: 1min 32s\n"
     ]
    }
   ],
   "source": [
    "%%time\n",
    "data = []\n",
    "for filename in sorted(os.listdir(dir_in_raw)):\n",
    "    book_id = int(filename.split('.')[0])\n",
    "    if get_author_id(book_id, catalog) in singles:\n",
    "        continue\n",
    "    with codecs.open(os.path.join(dir_in_raw, filename), encoding='utf-8') as book:\n",
    "        content = book.read()\n",
    "        lines = [json.loads(l) for l in content.splitlines()]\n",
    "        data.append(rare_words_fraction(lines, rare_words))"
   ]
  },
  {
   "cell_type": "code",
   "execution_count": 130,
   "metadata": {},
   "outputs": [
    {
     "data": {
      "text/plain": [
       "(2344, 1)"
      ]
     },
     "execution_count": 130,
     "metadata": {},
     "output_type": "execute_result"
    }
   ],
   "source": [
    "rwf = np.array(data).reshape(-1, 1)\n",
    "rwf.shape"
   ]
  },
  {
   "cell_type": "code",
   "execution_count": 131,
   "metadata": {},
   "outputs": [
    {
     "data": {
      "text/plain": [
       "(0.03267780385513211, 0.016042752727964068)"
      ]
     },
     "execution_count": 131,
     "metadata": {},
     "output_type": "execute_result"
    }
   ],
   "source": [
    "rwf.mean(), rwf.std()"
   ]
  },
  {
   "cell_type": "code",
   "execution_count": null,
   "metadata": {},
   "outputs": [],
   "source": []
  },
  {
   "cell_type": "markdown",
   "metadata": {},
   "source": [
    "### удобочитаемые + cov"
   ]
  },
  {
   "cell_type": "code",
   "execution_count": 132,
   "metadata": {},
   "outputs": [],
   "source": [
    "X = np.c_[pos_fractions.toarray(), avg_sent_l, avg_len_word, type_token_ratio, rwf, dia_frac]"
   ]
  },
  {
   "cell_type": "code",
   "execution_count": 133,
   "metadata": {},
   "outputs": [
    {
     "data": {
      "text/plain": [
       "(2344, 25)"
      ]
     },
     "execution_count": 133,
     "metadata": {},
     "output_type": "execute_result"
    }
   ],
   "source": [
    "X.shape"
   ]
  },
  {
   "cell_type": "code",
   "execution_count": 134,
   "metadata": {},
   "outputs": [
    {
     "name": "stdout",
     "output_type": "stream",
     "text": [
      "test_fraction: 0.5051194539249146\n"
     ]
    }
   ],
   "source": [
    "idx_train, idx_test = train_test_split(X, authors, return_idx=True, mod='s')\n",
    "x_train, y_train, x_test, y_test = X[idx_train], authors[idx_train], X[idx_test], authors[idx_test]\n",
    "book_ids_train, book_ids_test = book_ids[idx_train], book_ids[idx_test]"
   ]
  },
  {
   "cell_type": "code",
   "execution_count": 135,
   "metadata": {},
   "outputs": [],
   "source": [
    "scaler = StandardScaler().fit(x_train)\n",
    "x_train_sc = scaler.transform(x_train)\n",
    "x_test_sc = scaler.transform(x_test)"
   ]
  },
  {
   "cell_type": "code",
   "execution_count": 136,
   "metadata": {},
   "outputs": [
    {
     "name": "stdout",
     "output_type": "stream",
     "text": [
      "eu train rpec: 0.1593026260995011\n",
      "eu test rpec: 0.1761742375023625\n",
      "CPU times: user 6.9 s, sys: 7.96 ms, total: 6.91 s\n",
      "Wall time: 6.91 s\n"
     ]
    }
   ],
   "source": [
    "%%time\n",
    "eu_train_matrix = pdist(x_train_sc)\n",
    "eu_test_matrix = pdist(x_test_sc)\n",
    "print(\"eu train rpec:\", np.mean(r_precision_m(matrix=pd.DataFrame(eu_train_matrix), authors=y_train)))\n",
    "print(\"eu test rpec:\", np.mean(r_precision_m(matrix=pd.DataFrame(eu_test_matrix), authors=y_test)))"
   ]
  },
  {
   "cell_type": "code",
   "execution_count": 137,
   "metadata": {},
   "outputs": [
    {
     "name": "stdout",
     "output_type": "stream",
     "text": [
      "CPU times: user 2.85 ms, sys: 13 µs, total: 2.86 ms\n",
      "Wall time: 1.71 ms\n"
     ]
    }
   ],
   "source": [
    "%%time\n",
    "sk_cov_metric = DistanceMetric.get_metric('mahalanobis', V=np.cov(x_train_sc.T))"
   ]
  },
  {
   "cell_type": "code",
   "execution_count": 138,
   "metadata": {},
   "outputs": [
    {
     "name": "stdout",
     "output_type": "stream",
     "text": [
      "CPU times: user 422 ms, sys: 5 µs, total: 422 ms\n",
      "Wall time: 418 ms\n"
     ]
    }
   ],
   "source": [
    "%%time\n",
    "distances = sk_cov_metric.pairwise(x_train_sc)"
   ]
  },
  {
   "cell_type": "code",
   "execution_count": 139,
   "metadata": {},
   "outputs": [
    {
     "data": {
      "text/plain": [
       "0.007913934085809086"
      ]
     },
     "execution_count": 139,
     "metadata": {},
     "output_type": "execute_result"
    }
   ],
   "source": [
    "np.array(r_precision_m(authors=y_train, matrix=pd.DataFrame(distances))).mean()"
   ]
  },
  {
   "cell_type": "code",
   "execution_count": 140,
   "metadata": {},
   "outputs": [
    {
     "data": {
      "text/plain": [
       "0.008463307291432293"
      ]
     },
     "execution_count": 140,
     "metadata": {},
     "output_type": "execute_result"
    }
   ],
   "source": [
    "test_dist =  sk_cov_metric.pairwise(x_test_sc)\n",
    "np.array(r_precision_m(authors=y_test, matrix=pd.DataFrame(test_dist))).mean()"
   ]
  },
  {
   "cell_type": "code",
   "execution_count": 141,
   "metadata": {},
   "outputs": [
    {
     "data": {
      "text/plain": [
       "(199160, 197736)"
      ]
     },
     "execution_count": 141,
     "metadata": {},
     "output_type": "execute_result"
    }
   ],
   "source": [
    "np.isnan(distances).sum(), np.isnan(test_dist).sum()"
   ]
  },
  {
   "cell_type": "code",
   "execution_count": 142,
   "metadata": {},
   "outputs": [
    {
     "data": {
      "text/plain": [
       "-2.999238996186679e-22"
      ]
     },
     "execution_count": 142,
     "metadata": {},
     "output_type": "execute_result"
    }
   ],
   "source": [
    "np.linalg.det(np.cov(x_train_sc.T))"
   ]
  },
  {
   "cell_type": "markdown",
   "metadata": {},
   "source": [
    "### удобочитаемые + xgb"
   ]
  },
  {
   "cell_type": "code",
   "execution_count": 143,
   "metadata": {},
   "outputs": [
    {
     "name": "stdout",
     "output_type": "stream",
     "text": [
      "test_fraction: 0.5051194539249146\n"
     ]
    }
   ],
   "source": [
    "X = np.c_[pos_fractions.toarray(), avg_sent_l, avg_len_word, type_token_ratio, rwf, dia_frac]\n",
    "\n",
    "idx_train, idx_test = train_test_split(X, authors, return_idx=True, mod='s')\n",
    "x_train, y_train, x_test, y_test = X[idx_train], authors[idx_train], X[idx_test], authors[idx_test]\n",
    "book_ids_train, book_ids_test = book_ids[idx_train], book_ids[idx_test]\n",
    "\n",
    "scaler = StandardScaler().fit(x_train)\n",
    "x_train_sc = scaler.transform(x_train)\n",
    "x_test_sc = scaler.transform(x_test)"
   ]
  },
  {
   "cell_type": "code",
   "execution_count": 144,
   "metadata": {},
   "outputs": [],
   "source": [
    "np.random.seed(17)\n",
    "CLOSE = 0\n",
    "MID = 1\n",
    "FAR = 2\n",
    "positive = []\n",
    "labels_positive = []\n",
    "for i, x1 in enumerate(x_train_sc):\n",
    "    for j, x2 in enumerate(x_train_sc):\n",
    "        if book_ids_train[i] == book_ids_train[j] and i != j:\n",
    "            positive.append(\n",
    "                np.abs(x1 - x2)\n",
    "            )\n",
    "            labels_positive.append(CLOSE)\n",
    "        elif y_train[i] == y_train[j] and i != j:\n",
    "            positive.append(\n",
    "                np.abs(x1 - x2)\n",
    "            )\n",
    "            labels_positive.append(MID)\n",
    "\n",
    "negative = []\n",
    "labels_negative = []\n",
    "while len(negative) < len(positive):\n",
    "    idx1, idx2 = np.random.choice(len(y_train), 2, replace=False)\n",
    "    if y_train[idx1] == y_train[idx2]:\n",
    "        continue\n",
    "    negative.append(\n",
    "        np.abs(x_train_sc[idx1] - x_train_sc[idx2])\n",
    "    )\n",
    "    labels_negative.append(FAR)\n",
    "\n",
    "data_train = [*positive, *negative]\n",
    "labels_train = [*labels_positive, *labels_negative]\n",
    "\n",
    "positive_test = []\n",
    "labels_positive_test = []\n",
    "for i, x1 in enumerate(x_test_sc):\n",
    "    for j, x2 in enumerate(x_test_sc):\n",
    "        if book_ids_test[i] == book_ids_test[j] and i != j:\n",
    "            positive_test.append(\n",
    "                np.abs(x1 - x2)\n",
    "            )\n",
    "            labels_positive_test.append(CLOSE)\n",
    "        elif y_test[i] == y_test[j] and i != j:\n",
    "            positive_test.append(\n",
    "                np.abs(x1 - x2)\n",
    "            )\n",
    "            labels_positive_test.append(MID)\n",
    "            \n",
    "negative_test = []\n",
    "labels_negative_test = []\n",
    "while len(negative_test) < len(positive_test):\n",
    "    idx1, idx2 = np.random.choice(len(y_test), 2, replace=False)\n",
    "    if y_test[idx1] == y_test[idx2]:\n",
    "        continue\n",
    "    negative_test.append(\n",
    "        np.abs(x_test_sc[idx1] - x_test_sc[idx2])\n",
    "    )\n",
    "    labels_negative_test.append(FAR)\n",
    "    \n",
    "data_test = [*positive_test, *negative_test]\n",
    "labels_test = [*labels_positive_test, *labels_negative_test]\n",
    "\n",
    "eval_set = [(data_train, labels_train), (data_test, labels_test)]"
   ]
  },
  {
   "cell_type": "code",
   "execution_count": 145,
   "metadata": {},
   "outputs": [],
   "source": [
    "xreg = XGBRegressor(objective ='reg:linear', n_jobs=1, booster='gbtree', n_estimators=2000, subsample=0.7)"
   ]
  },
  {
   "cell_type": "code",
   "execution_count": 146,
   "metadata": {
    "scrolled": true
   },
   "outputs": [
    {
     "name": "stdout",
     "output_type": "stream",
     "text": [
      "[0]\tvalidation_0-rmse:1.03787\tvalidation_1-rmse:1.03913\n",
      "Multiple eval metrics have been passed: 'validation_1-rmse' will be used for early stopping.\n",
      "\n",
      "Will train until validation_1-rmse hasn't improved in 150 rounds.\n",
      "[1]\tvalidation_0-rmse:0.967473\tvalidation_1-rmse:0.969805\n",
      "[2]\tvalidation_0-rmse:0.906704\tvalidation_1-rmse:0.909675\n",
      "[3]\tvalidation_0-rmse:0.854092\tvalidation_1-rmse:0.857755\n",
      "[4]\tvalidation_0-rmse:0.808458\tvalidation_1-rmse:0.812358\n",
      "[5]\tvalidation_0-rmse:0.768853\tvalidation_1-rmse:0.773029\n",
      "[6]\tvalidation_0-rmse:0.735234\tvalidation_1-rmse:0.739622\n",
      "[7]\tvalidation_0-rmse:0.705837\tvalidation_1-rmse:0.710652\n",
      "[8]\tvalidation_0-rmse:0.680938\tvalidation_1-rmse:0.686302\n",
      "[9]\tvalidation_0-rmse:0.659411\tvalidation_1-rmse:0.664933\n",
      "[10]\tvalidation_0-rmse:0.641133\tvalidation_1-rmse:0.647085\n",
      "[11]\tvalidation_0-rmse:0.625597\tvalidation_1-rmse:0.631876\n",
      "[12]\tvalidation_0-rmse:0.612426\tvalidation_1-rmse:0.618948\n",
      "[13]\tvalidation_0-rmse:0.600601\tvalidation_1-rmse:0.607486\n",
      "[14]\tvalidation_0-rmse:0.590705\tvalidation_1-rmse:0.597791\n",
      "[15]\tvalidation_0-rmse:0.58256\tvalidation_1-rmse:0.589934\n",
      "[16]\tvalidation_0-rmse:0.575099\tvalidation_1-rmse:0.58276\n",
      "[17]\tvalidation_0-rmse:0.56914\tvalidation_1-rmse:0.577132\n",
      "[18]\tvalidation_0-rmse:0.564052\tvalidation_1-rmse:0.572389\n",
      "[19]\tvalidation_0-rmse:0.559443\tvalidation_1-rmse:0.568148\n",
      "[20]\tvalidation_0-rmse:0.55533\tvalidation_1-rmse:0.564412\n",
      "[21]\tvalidation_0-rmse:0.551811\tvalidation_1-rmse:0.561171\n",
      "[22]\tvalidation_0-rmse:0.548723\tvalidation_1-rmse:0.558223\n",
      "[23]\tvalidation_0-rmse:0.545944\tvalidation_1-rmse:0.555769\n",
      "[24]\tvalidation_0-rmse:0.543638\tvalidation_1-rmse:0.55374\n",
      "[25]\tvalidation_0-rmse:0.541419\tvalidation_1-rmse:0.551907\n",
      "[26]\tvalidation_0-rmse:0.539202\tvalidation_1-rmse:0.549909\n",
      "[27]\tvalidation_0-rmse:0.537466\tvalidation_1-rmse:0.548422\n",
      "[28]\tvalidation_0-rmse:0.535753\tvalidation_1-rmse:0.546984\n",
      "[29]\tvalidation_0-rmse:0.53406\tvalidation_1-rmse:0.545492\n",
      "[30]\tvalidation_0-rmse:0.532701\tvalidation_1-rmse:0.54439\n",
      "[31]\tvalidation_0-rmse:0.531328\tvalidation_1-rmse:0.543392\n",
      "[32]\tvalidation_0-rmse:0.53004\tvalidation_1-rmse:0.542436\n",
      "[33]\tvalidation_0-rmse:0.528836\tvalidation_1-rmse:0.54167\n",
      "[34]\tvalidation_0-rmse:0.527782\tvalidation_1-rmse:0.540966\n",
      "[35]\tvalidation_0-rmse:0.526784\tvalidation_1-rmse:0.540251\n",
      "[36]\tvalidation_0-rmse:0.525864\tvalidation_1-rmse:0.539521\n",
      "[37]\tvalidation_0-rmse:0.525001\tvalidation_1-rmse:0.538983\n",
      "[38]\tvalidation_0-rmse:0.524201\tvalidation_1-rmse:0.5384\n",
      "[39]\tvalidation_0-rmse:0.523388\tvalidation_1-rmse:0.5379\n",
      "[40]\tvalidation_0-rmse:0.522448\tvalidation_1-rmse:0.537243\n",
      "[41]\tvalidation_0-rmse:0.521731\tvalidation_1-rmse:0.536699\n",
      "[42]\tvalidation_0-rmse:0.521078\tvalidation_1-rmse:0.536342\n",
      "[43]\tvalidation_0-rmse:0.52042\tvalidation_1-rmse:0.536\n",
      "[44]\tvalidation_0-rmse:0.519654\tvalidation_1-rmse:0.535649\n",
      "[45]\tvalidation_0-rmse:0.519\tvalidation_1-rmse:0.535116\n",
      "[46]\tvalidation_0-rmse:0.518336\tvalidation_1-rmse:0.53481\n",
      "[47]\tvalidation_0-rmse:0.51768\tvalidation_1-rmse:0.534412\n",
      "[48]\tvalidation_0-rmse:0.517022\tvalidation_1-rmse:0.534157\n",
      "[49]\tvalidation_0-rmse:0.516381\tvalidation_1-rmse:0.533866\n",
      "[50]\tvalidation_0-rmse:0.515872\tvalidation_1-rmse:0.533683\n",
      "[51]\tvalidation_0-rmse:0.515325\tvalidation_1-rmse:0.533319\n",
      "[52]\tvalidation_0-rmse:0.514791\tvalidation_1-rmse:0.533235\n",
      "[53]\tvalidation_0-rmse:0.51418\tvalidation_1-rmse:0.532883\n",
      "[54]\tvalidation_0-rmse:0.513744\tvalidation_1-rmse:0.532772\n",
      "[55]\tvalidation_0-rmse:0.513241\tvalidation_1-rmse:0.532544\n",
      "[56]\tvalidation_0-rmse:0.512538\tvalidation_1-rmse:0.532284\n",
      "[57]\tvalidation_0-rmse:0.511947\tvalidation_1-rmse:0.53203\n",
      "[58]\tvalidation_0-rmse:0.511617\tvalidation_1-rmse:0.531897\n",
      "[59]\tvalidation_0-rmse:0.511015\tvalidation_1-rmse:0.531627\n",
      "[60]\tvalidation_0-rmse:0.510733\tvalidation_1-rmse:0.53156\n",
      "[61]\tvalidation_0-rmse:0.51041\tvalidation_1-rmse:0.531527\n",
      "[62]\tvalidation_0-rmse:0.509951\tvalidation_1-rmse:0.531283\n",
      "[63]\tvalidation_0-rmse:0.509591\tvalidation_1-rmse:0.53125\n",
      "[64]\tvalidation_0-rmse:0.509224\tvalidation_1-rmse:0.531091\n",
      "[65]\tvalidation_0-rmse:0.508713\tvalidation_1-rmse:0.530777\n",
      "[66]\tvalidation_0-rmse:0.508461\tvalidation_1-rmse:0.530786\n",
      "[67]\tvalidation_0-rmse:0.508178\tvalidation_1-rmse:0.530701\n",
      "[68]\tvalidation_0-rmse:0.50779\tvalidation_1-rmse:0.530475\n",
      "[69]\tvalidation_0-rmse:0.50736\tvalidation_1-rmse:0.530292\n",
      "[70]\tvalidation_0-rmse:0.506924\tvalidation_1-rmse:0.530124\n",
      "[71]\tvalidation_0-rmse:0.506296\tvalidation_1-rmse:0.529887\n",
      "[72]\tvalidation_0-rmse:0.505894\tvalidation_1-rmse:0.529736\n",
      "[73]\tvalidation_0-rmse:0.505579\tvalidation_1-rmse:0.529664\n",
      "[74]\tvalidation_0-rmse:0.505381\tvalidation_1-rmse:0.529708\n",
      "[75]\tvalidation_0-rmse:0.504977\tvalidation_1-rmse:0.52959\n",
      "[76]\tvalidation_0-rmse:0.504554\tvalidation_1-rmse:0.529454\n",
      "[77]\tvalidation_0-rmse:0.504094\tvalidation_1-rmse:0.529419\n",
      "[78]\tvalidation_0-rmse:0.503714\tvalidation_1-rmse:0.529404\n",
      "[79]\tvalidation_0-rmse:0.503332\tvalidation_1-rmse:0.529347\n",
      "[80]\tvalidation_0-rmse:0.503033\tvalidation_1-rmse:0.529368\n",
      "[81]\tvalidation_0-rmse:0.502827\tvalidation_1-rmse:0.52932\n",
      "[82]\tvalidation_0-rmse:0.502439\tvalidation_1-rmse:0.529215\n",
      "[83]\tvalidation_0-rmse:0.502235\tvalidation_1-rmse:0.529198\n",
      "[84]\tvalidation_0-rmse:0.501898\tvalidation_1-rmse:0.529134\n",
      "[85]\tvalidation_0-rmse:0.50138\tvalidation_1-rmse:0.528931\n",
      "[86]\tvalidation_0-rmse:0.501216\tvalidation_1-rmse:0.528962\n",
      "[87]\tvalidation_0-rmse:0.501013\tvalidation_1-rmse:0.528826\n",
      "[88]\tvalidation_0-rmse:0.500661\tvalidation_1-rmse:0.52883\n",
      "[89]\tvalidation_0-rmse:0.500396\tvalidation_1-rmse:0.528726\n",
      "[90]\tvalidation_0-rmse:0.500188\tvalidation_1-rmse:0.528666\n",
      "[91]\tvalidation_0-rmse:0.499694\tvalidation_1-rmse:0.528367\n",
      "[92]\tvalidation_0-rmse:0.499398\tvalidation_1-rmse:0.528474\n",
      "[93]\tvalidation_0-rmse:0.499131\tvalidation_1-rmse:0.528539\n",
      "[94]\tvalidation_0-rmse:0.498824\tvalidation_1-rmse:0.528369\n",
      "[95]\tvalidation_0-rmse:0.498593\tvalidation_1-rmse:0.528282\n",
      "[96]\tvalidation_0-rmse:0.498178\tvalidation_1-rmse:0.528106\n",
      "[97]\tvalidation_0-rmse:0.498015\tvalidation_1-rmse:0.528078\n",
      "[98]\tvalidation_0-rmse:0.497658\tvalidation_1-rmse:0.52797\n",
      "[99]\tvalidation_0-rmse:0.497381\tvalidation_1-rmse:0.527886\n",
      "[100]\tvalidation_0-rmse:0.497194\tvalidation_1-rmse:0.527782\n",
      "[101]\tvalidation_0-rmse:0.497063\tvalidation_1-rmse:0.527801\n",
      "[102]\tvalidation_0-rmse:0.496801\tvalidation_1-rmse:0.527775\n",
      "[103]\tvalidation_0-rmse:0.496463\tvalidation_1-rmse:0.527676\n",
      "[104]\tvalidation_0-rmse:0.496242\tvalidation_1-rmse:0.527619\n",
      "[105]\tvalidation_0-rmse:0.496061\tvalidation_1-rmse:0.527639\n",
      "[106]\tvalidation_0-rmse:0.495783\tvalidation_1-rmse:0.527529\n",
      "[107]\tvalidation_0-rmse:0.495594\tvalidation_1-rmse:0.527497\n",
      "[108]\tvalidation_0-rmse:0.495369\tvalidation_1-rmse:0.527557\n",
      "[109]\tvalidation_0-rmse:0.49521\tvalidation_1-rmse:0.527587\n",
      "[110]\tvalidation_0-rmse:0.494994\tvalidation_1-rmse:0.527507\n",
      "[111]\tvalidation_0-rmse:0.494821\tvalidation_1-rmse:0.527464\n",
      "[112]\tvalidation_0-rmse:0.494555\tvalidation_1-rmse:0.527286\n",
      "[113]\tvalidation_0-rmse:0.494121\tvalidation_1-rmse:0.527054\n",
      "[114]\tvalidation_0-rmse:0.493888\tvalidation_1-rmse:0.527043\n",
      "[115]\tvalidation_0-rmse:0.493587\tvalidation_1-rmse:0.527108\n",
      "[116]\tvalidation_0-rmse:0.493422\tvalidation_1-rmse:0.527066\n",
      "[117]\tvalidation_0-rmse:0.493136\tvalidation_1-rmse:0.527016\n",
      "[118]\tvalidation_0-rmse:0.492973\tvalidation_1-rmse:0.527002\n",
      "[119]\tvalidation_0-rmse:0.492735\tvalidation_1-rmse:0.526977\n",
      "[120]\tvalidation_0-rmse:0.49251\tvalidation_1-rmse:0.526846\n",
      "[121]\tvalidation_0-rmse:0.492232\tvalidation_1-rmse:0.526773\n",
      "[122]\tvalidation_0-rmse:0.492019\tvalidation_1-rmse:0.526742\n",
      "[123]\tvalidation_0-rmse:0.491807\tvalidation_1-rmse:0.526745\n",
      "[124]\tvalidation_0-rmse:0.491556\tvalidation_1-rmse:0.526738\n",
      "[125]\tvalidation_0-rmse:0.491277\tvalidation_1-rmse:0.526729\n",
      "[126]\tvalidation_0-rmse:0.49117\tvalidation_1-rmse:0.526747\n",
      "[127]\tvalidation_0-rmse:0.490922\tvalidation_1-rmse:0.526745\n",
      "[128]\tvalidation_0-rmse:0.490535\tvalidation_1-rmse:0.526482\n",
      "[129]\tvalidation_0-rmse:0.490398\tvalidation_1-rmse:0.526555\n",
      "[130]\tvalidation_0-rmse:0.489808\tvalidation_1-rmse:0.526378\n",
      "[131]\tvalidation_0-rmse:0.489587\tvalidation_1-rmse:0.526357\n",
      "[132]\tvalidation_0-rmse:0.489275\tvalidation_1-rmse:0.526361\n",
      "[133]\tvalidation_0-rmse:0.488981\tvalidation_1-rmse:0.526206\n",
      "[134]\tvalidation_0-rmse:0.488782\tvalidation_1-rmse:0.526281\n",
      "[135]\tvalidation_0-rmse:0.488579\tvalidation_1-rmse:0.526347\n",
      "[136]\tvalidation_0-rmse:0.488327\tvalidation_1-rmse:0.526256\n"
     ]
    },
    {
     "name": "stdout",
     "output_type": "stream",
     "text": [
      "[137]\tvalidation_0-rmse:0.488239\tvalidation_1-rmse:0.526311\n",
      "[138]\tvalidation_0-rmse:0.487995\tvalidation_1-rmse:0.526315\n",
      "[139]\tvalidation_0-rmse:0.487572\tvalidation_1-rmse:0.526084\n",
      "[140]\tvalidation_0-rmse:0.487242\tvalidation_1-rmse:0.525878\n",
      "[141]\tvalidation_0-rmse:0.487033\tvalidation_1-rmse:0.525905\n",
      "[142]\tvalidation_0-rmse:0.486443\tvalidation_1-rmse:0.525538\n",
      "[143]\tvalidation_0-rmse:0.486232\tvalidation_1-rmse:0.525594\n",
      "[144]\tvalidation_0-rmse:0.486005\tvalidation_1-rmse:0.525656\n",
      "[145]\tvalidation_0-rmse:0.485725\tvalidation_1-rmse:0.525615\n",
      "[146]\tvalidation_0-rmse:0.485453\tvalidation_1-rmse:0.525629\n",
      "[147]\tvalidation_0-rmse:0.485237\tvalidation_1-rmse:0.52559\n",
      "[148]\tvalidation_0-rmse:0.485069\tvalidation_1-rmse:0.525502\n",
      "[149]\tvalidation_0-rmse:0.484738\tvalidation_1-rmse:0.525315\n",
      "[150]\tvalidation_0-rmse:0.484479\tvalidation_1-rmse:0.525165\n",
      "[151]\tvalidation_0-rmse:0.484259\tvalidation_1-rmse:0.525138\n",
      "[152]\tvalidation_0-rmse:0.484046\tvalidation_1-rmse:0.525013\n",
      "[153]\tvalidation_0-rmse:0.483809\tvalidation_1-rmse:0.524821\n",
      "[154]\tvalidation_0-rmse:0.483684\tvalidation_1-rmse:0.524815\n",
      "[155]\tvalidation_0-rmse:0.48359\tvalidation_1-rmse:0.524852\n",
      "[156]\tvalidation_0-rmse:0.483467\tvalidation_1-rmse:0.524815\n",
      "[157]\tvalidation_0-rmse:0.483199\tvalidation_1-rmse:0.524805\n",
      "[158]\tvalidation_0-rmse:0.483041\tvalidation_1-rmse:0.524723\n",
      "[159]\tvalidation_0-rmse:0.48284\tvalidation_1-rmse:0.524733\n",
      "[160]\tvalidation_0-rmse:0.48276\tvalidation_1-rmse:0.524745\n",
      "[161]\tvalidation_0-rmse:0.482501\tvalidation_1-rmse:0.524735\n",
      "[162]\tvalidation_0-rmse:0.482256\tvalidation_1-rmse:0.52474\n",
      "[163]\tvalidation_0-rmse:0.482121\tvalidation_1-rmse:0.524812\n",
      "[164]\tvalidation_0-rmse:0.481777\tvalidation_1-rmse:0.524698\n",
      "[165]\tvalidation_0-rmse:0.481506\tvalidation_1-rmse:0.524674\n",
      "[166]\tvalidation_0-rmse:0.481261\tvalidation_1-rmse:0.524619\n",
      "[167]\tvalidation_0-rmse:0.48108\tvalidation_1-rmse:0.524601\n",
      "[168]\tvalidation_0-rmse:0.480877\tvalidation_1-rmse:0.524579\n",
      "[169]\tvalidation_0-rmse:0.480632\tvalidation_1-rmse:0.524554\n",
      "[170]\tvalidation_0-rmse:0.480128\tvalidation_1-rmse:0.524211\n",
      "[171]\tvalidation_0-rmse:0.47994\tvalidation_1-rmse:0.524164\n",
      "[172]\tvalidation_0-rmse:0.47977\tvalidation_1-rmse:0.524159\n",
      "[173]\tvalidation_0-rmse:0.479489\tvalidation_1-rmse:0.524101\n",
      "[174]\tvalidation_0-rmse:0.479317\tvalidation_1-rmse:0.524128\n",
      "[175]\tvalidation_0-rmse:0.47915\tvalidation_1-rmse:0.524076\n",
      "[176]\tvalidation_0-rmse:0.478959\tvalidation_1-rmse:0.524101\n",
      "[177]\tvalidation_0-rmse:0.478722\tvalidation_1-rmse:0.524131\n",
      "[178]\tvalidation_0-rmse:0.4784\tvalidation_1-rmse:0.524021\n",
      "[179]\tvalidation_0-rmse:0.478058\tvalidation_1-rmse:0.524038\n",
      "[180]\tvalidation_0-rmse:0.477933\tvalidation_1-rmse:0.524027\n",
      "[181]\tvalidation_0-rmse:0.477656\tvalidation_1-rmse:0.523965\n",
      "[182]\tvalidation_0-rmse:0.477449\tvalidation_1-rmse:0.52396\n",
      "[183]\tvalidation_0-rmse:0.477248\tvalidation_1-rmse:0.523943\n",
      "[184]\tvalidation_0-rmse:0.477129\tvalidation_1-rmse:0.523942\n",
      "[185]\tvalidation_0-rmse:0.476837\tvalidation_1-rmse:0.523943\n",
      "[186]\tvalidation_0-rmse:0.476693\tvalidation_1-rmse:0.523932\n",
      "[187]\tvalidation_0-rmse:0.476587\tvalidation_1-rmse:0.523923\n",
      "[188]\tvalidation_0-rmse:0.476412\tvalidation_1-rmse:0.523963\n",
      "[189]\tvalidation_0-rmse:0.476157\tvalidation_1-rmse:0.523931\n",
      "[190]\tvalidation_0-rmse:0.476013\tvalidation_1-rmse:0.523951\n",
      "[191]\tvalidation_0-rmse:0.475819\tvalidation_1-rmse:0.523892\n",
      "[192]\tvalidation_0-rmse:0.475686\tvalidation_1-rmse:0.523902\n",
      "[193]\tvalidation_0-rmse:0.475463\tvalidation_1-rmse:0.523872\n",
      "[194]\tvalidation_0-rmse:0.475202\tvalidation_1-rmse:0.523923\n",
      "[195]\tvalidation_0-rmse:0.474936\tvalidation_1-rmse:0.523876\n",
      "[196]\tvalidation_0-rmse:0.474805\tvalidation_1-rmse:0.523885\n",
      "[197]\tvalidation_0-rmse:0.474699\tvalidation_1-rmse:0.523942\n",
      "[198]\tvalidation_0-rmse:0.47444\tvalidation_1-rmse:0.523843\n",
      "[199]\tvalidation_0-rmse:0.474241\tvalidation_1-rmse:0.523845\n",
      "[200]\tvalidation_0-rmse:0.47412\tvalidation_1-rmse:0.523862\n",
      "[201]\tvalidation_0-rmse:0.473951\tvalidation_1-rmse:0.52384\n",
      "[202]\tvalidation_0-rmse:0.473897\tvalidation_1-rmse:0.523888\n",
      "[203]\tvalidation_0-rmse:0.473634\tvalidation_1-rmse:0.523875\n",
      "[204]\tvalidation_0-rmse:0.473323\tvalidation_1-rmse:0.52384\n",
      "[205]\tvalidation_0-rmse:0.472931\tvalidation_1-rmse:0.523622\n",
      "[206]\tvalidation_0-rmse:0.472597\tvalidation_1-rmse:0.523547\n",
      "[207]\tvalidation_0-rmse:0.472406\tvalidation_1-rmse:0.523574\n",
      "[208]\tvalidation_0-rmse:0.472274\tvalidation_1-rmse:0.523572\n",
      "[209]\tvalidation_0-rmse:0.4721\tvalidation_1-rmse:0.523551\n",
      "[210]\tvalidation_0-rmse:0.471977\tvalidation_1-rmse:0.523584\n",
      "[211]\tvalidation_0-rmse:0.471813\tvalidation_1-rmse:0.523598\n",
      "[212]\tvalidation_0-rmse:0.471644\tvalidation_1-rmse:0.523535\n",
      "[213]\tvalidation_0-rmse:0.471502\tvalidation_1-rmse:0.523525\n",
      "[214]\tvalidation_0-rmse:0.471431\tvalidation_1-rmse:0.523542\n",
      "[215]\tvalidation_0-rmse:0.471206\tvalidation_1-rmse:0.523464\n",
      "[216]\tvalidation_0-rmse:0.471092\tvalidation_1-rmse:0.523491\n",
      "[217]\tvalidation_0-rmse:0.470733\tvalidation_1-rmse:0.523326\n",
      "[218]\tvalidation_0-rmse:0.470612\tvalidation_1-rmse:0.523335\n",
      "[219]\tvalidation_0-rmse:0.470421\tvalidation_1-rmse:0.523325\n",
      "[220]\tvalidation_0-rmse:0.470213\tvalidation_1-rmse:0.523267\n",
      "[221]\tvalidation_0-rmse:0.47006\tvalidation_1-rmse:0.523286\n",
      "[222]\tvalidation_0-rmse:0.46982\tvalidation_1-rmse:0.523274\n",
      "[223]\tvalidation_0-rmse:0.469703\tvalidation_1-rmse:0.523314\n",
      "[224]\tvalidation_0-rmse:0.469587\tvalidation_1-rmse:0.52337\n",
      "[225]\tvalidation_0-rmse:0.469383\tvalidation_1-rmse:0.523497\n",
      "[226]\tvalidation_0-rmse:0.469202\tvalidation_1-rmse:0.523558\n",
      "[227]\tvalidation_0-rmse:0.469009\tvalidation_1-rmse:0.523471\n",
      "[228]\tvalidation_0-rmse:0.468863\tvalidation_1-rmse:0.523463\n",
      "[229]\tvalidation_0-rmse:0.468528\tvalidation_1-rmse:0.523309\n",
      "[230]\tvalidation_0-rmse:0.468382\tvalidation_1-rmse:0.523385\n",
      "[231]\tvalidation_0-rmse:0.46828\tvalidation_1-rmse:0.523379\n",
      "[232]\tvalidation_0-rmse:0.468063\tvalidation_1-rmse:0.52338\n",
      "[233]\tvalidation_0-rmse:0.467911\tvalidation_1-rmse:0.52336\n",
      "[234]\tvalidation_0-rmse:0.467718\tvalidation_1-rmse:0.52338\n",
      "[235]\tvalidation_0-rmse:0.467612\tvalidation_1-rmse:0.523506\n",
      "[236]\tvalidation_0-rmse:0.467471\tvalidation_1-rmse:0.523498\n",
      "[237]\tvalidation_0-rmse:0.467293\tvalidation_1-rmse:0.523418\n",
      "[238]\tvalidation_0-rmse:0.46709\tvalidation_1-rmse:0.523383\n",
      "[239]\tvalidation_0-rmse:0.46693\tvalidation_1-rmse:0.52341\n",
      "[240]\tvalidation_0-rmse:0.46672\tvalidation_1-rmse:0.523367\n",
      "[241]\tvalidation_0-rmse:0.466468\tvalidation_1-rmse:0.523317\n",
      "[242]\tvalidation_0-rmse:0.466249\tvalidation_1-rmse:0.523299\n",
      "[243]\tvalidation_0-rmse:0.46605\tvalidation_1-rmse:0.523277\n",
      "[244]\tvalidation_0-rmse:0.465899\tvalidation_1-rmse:0.523266\n",
      "[245]\tvalidation_0-rmse:0.465709\tvalidation_1-rmse:0.523257\n",
      "[246]\tvalidation_0-rmse:0.465563\tvalidation_1-rmse:0.523337\n",
      "[247]\tvalidation_0-rmse:0.465382\tvalidation_1-rmse:0.523312\n",
      "[248]\tvalidation_0-rmse:0.465126\tvalidation_1-rmse:0.523223\n",
      "[249]\tvalidation_0-rmse:0.464944\tvalidation_1-rmse:0.52318\n",
      "[250]\tvalidation_0-rmse:0.464806\tvalidation_1-rmse:0.523174\n",
      "[251]\tvalidation_0-rmse:0.464585\tvalidation_1-rmse:0.523223\n",
      "[252]\tvalidation_0-rmse:0.464418\tvalidation_1-rmse:0.523175\n",
      "[253]\tvalidation_0-rmse:0.464147\tvalidation_1-rmse:0.523111\n",
      "[254]\tvalidation_0-rmse:0.464061\tvalidation_1-rmse:0.523089\n",
      "[255]\tvalidation_0-rmse:0.463869\tvalidation_1-rmse:0.523088\n",
      "[256]\tvalidation_0-rmse:0.463712\tvalidation_1-rmse:0.523134\n",
      "[257]\tvalidation_0-rmse:0.463517\tvalidation_1-rmse:0.523148\n",
      "[258]\tvalidation_0-rmse:0.463341\tvalidation_1-rmse:0.523105\n",
      "[259]\tvalidation_0-rmse:0.463112\tvalidation_1-rmse:0.523002\n",
      "[260]\tvalidation_0-rmse:0.462912\tvalidation_1-rmse:0.523053\n",
      "[261]\tvalidation_0-rmse:0.462628\tvalidation_1-rmse:0.522904\n",
      "[262]\tvalidation_0-rmse:0.462494\tvalidation_1-rmse:0.522858\n",
      "[263]\tvalidation_0-rmse:0.462278\tvalidation_1-rmse:0.522828\n",
      "[264]\tvalidation_0-rmse:0.462191\tvalidation_1-rmse:0.522788\n",
      "[265]\tvalidation_0-rmse:0.462145\tvalidation_1-rmse:0.522849\n",
      "[266]\tvalidation_0-rmse:0.462063\tvalidation_1-rmse:0.522888\n",
      "[267]\tvalidation_0-rmse:0.461767\tvalidation_1-rmse:0.522771\n",
      "[268]\tvalidation_0-rmse:0.461593\tvalidation_1-rmse:0.522756\n",
      "[269]\tvalidation_0-rmse:0.461308\tvalidation_1-rmse:0.522744\n",
      "[270]\tvalidation_0-rmse:0.461094\tvalidation_1-rmse:0.522661\n",
      "[271]\tvalidation_0-rmse:0.460919\tvalidation_1-rmse:0.522526\n",
      "[272]\tvalidation_0-rmse:0.46075\tvalidation_1-rmse:0.522589\n",
      "[273]\tvalidation_0-rmse:0.460448\tvalidation_1-rmse:0.522538\n",
      "[274]\tvalidation_0-rmse:0.460276\tvalidation_1-rmse:0.522514\n"
     ]
    },
    {
     "name": "stdout",
     "output_type": "stream",
     "text": [
      "[275]\tvalidation_0-rmse:0.460155\tvalidation_1-rmse:0.522508\n",
      "[276]\tvalidation_0-rmse:0.459926\tvalidation_1-rmse:0.522422\n",
      "[277]\tvalidation_0-rmse:0.459748\tvalidation_1-rmse:0.522451\n",
      "[278]\tvalidation_0-rmse:0.459646\tvalidation_1-rmse:0.522438\n",
      "[279]\tvalidation_0-rmse:0.459497\tvalidation_1-rmse:0.522445\n",
      "[280]\tvalidation_0-rmse:0.459321\tvalidation_1-rmse:0.522473\n",
      "[281]\tvalidation_0-rmse:0.459102\tvalidation_1-rmse:0.522433\n",
      "[282]\tvalidation_0-rmse:0.458926\tvalidation_1-rmse:0.522489\n",
      "[283]\tvalidation_0-rmse:0.458833\tvalidation_1-rmse:0.522507\n",
      "[284]\tvalidation_0-rmse:0.458669\tvalidation_1-rmse:0.522511\n",
      "[285]\tvalidation_0-rmse:0.458451\tvalidation_1-rmse:0.522553\n",
      "[286]\tvalidation_0-rmse:0.458266\tvalidation_1-rmse:0.522514\n",
      "[287]\tvalidation_0-rmse:0.458046\tvalidation_1-rmse:0.522506\n",
      "[288]\tvalidation_0-rmse:0.457845\tvalidation_1-rmse:0.522526\n",
      "[289]\tvalidation_0-rmse:0.457648\tvalidation_1-rmse:0.522569\n",
      "[290]\tvalidation_0-rmse:0.457502\tvalidation_1-rmse:0.5226\n",
      "[291]\tvalidation_0-rmse:0.457323\tvalidation_1-rmse:0.522592\n",
      "[292]\tvalidation_0-rmse:0.457178\tvalidation_1-rmse:0.522604\n",
      "[293]\tvalidation_0-rmse:0.457066\tvalidation_1-rmse:0.522602\n",
      "[294]\tvalidation_0-rmse:0.456866\tvalidation_1-rmse:0.522579\n",
      "[295]\tvalidation_0-rmse:0.456636\tvalidation_1-rmse:0.522557\n",
      "[296]\tvalidation_0-rmse:0.456421\tvalidation_1-rmse:0.522532\n",
      "[297]\tvalidation_0-rmse:0.456219\tvalidation_1-rmse:0.522454\n",
      "[298]\tvalidation_0-rmse:0.456114\tvalidation_1-rmse:0.522501\n",
      "[299]\tvalidation_0-rmse:0.456034\tvalidation_1-rmse:0.522504\n",
      "[300]\tvalidation_0-rmse:0.455788\tvalidation_1-rmse:0.522387\n",
      "[301]\tvalidation_0-rmse:0.455643\tvalidation_1-rmse:0.522439\n",
      "[302]\tvalidation_0-rmse:0.455483\tvalidation_1-rmse:0.522476\n",
      "[303]\tvalidation_0-rmse:0.455337\tvalidation_1-rmse:0.522467\n",
      "[304]\tvalidation_0-rmse:0.45511\tvalidation_1-rmse:0.522378\n",
      "[305]\tvalidation_0-rmse:0.454941\tvalidation_1-rmse:0.522409\n",
      "[306]\tvalidation_0-rmse:0.454823\tvalidation_1-rmse:0.522409\n",
      "[307]\tvalidation_0-rmse:0.454602\tvalidation_1-rmse:0.52237\n",
      "[308]\tvalidation_0-rmse:0.454536\tvalidation_1-rmse:0.522409\n",
      "[309]\tvalidation_0-rmse:0.454309\tvalidation_1-rmse:0.522408\n",
      "[310]\tvalidation_0-rmse:0.454074\tvalidation_1-rmse:0.522384\n",
      "[311]\tvalidation_0-rmse:0.453932\tvalidation_1-rmse:0.522452\n",
      "[312]\tvalidation_0-rmse:0.453724\tvalidation_1-rmse:0.522409\n",
      "[313]\tvalidation_0-rmse:0.453586\tvalidation_1-rmse:0.522377\n",
      "[314]\tvalidation_0-rmse:0.45348\tvalidation_1-rmse:0.522463\n",
      "[315]\tvalidation_0-rmse:0.453355\tvalidation_1-rmse:0.522453\n",
      "[316]\tvalidation_0-rmse:0.453252\tvalidation_1-rmse:0.522478\n",
      "[317]\tvalidation_0-rmse:0.453099\tvalidation_1-rmse:0.522493\n",
      "[318]\tvalidation_0-rmse:0.452859\tvalidation_1-rmse:0.522501\n",
      "[319]\tvalidation_0-rmse:0.452669\tvalidation_1-rmse:0.522506\n",
      "[320]\tvalidation_0-rmse:0.452533\tvalidation_1-rmse:0.522461\n",
      "[321]\tvalidation_0-rmse:0.452398\tvalidation_1-rmse:0.52247\n",
      "[322]\tvalidation_0-rmse:0.452189\tvalidation_1-rmse:0.522359\n",
      "[323]\tvalidation_0-rmse:0.452048\tvalidation_1-rmse:0.522428\n",
      "[324]\tvalidation_0-rmse:0.451946\tvalidation_1-rmse:0.522442\n",
      "[325]\tvalidation_0-rmse:0.451756\tvalidation_1-rmse:0.522498\n",
      "[326]\tvalidation_0-rmse:0.451596\tvalidation_1-rmse:0.522527\n",
      "[327]\tvalidation_0-rmse:0.451371\tvalidation_1-rmse:0.522439\n",
      "[328]\tvalidation_0-rmse:0.451223\tvalidation_1-rmse:0.522517\n",
      "[329]\tvalidation_0-rmse:0.45101\tvalidation_1-rmse:0.522499\n",
      "[330]\tvalidation_0-rmse:0.450792\tvalidation_1-rmse:0.522391\n",
      "[331]\tvalidation_0-rmse:0.450618\tvalidation_1-rmse:0.522355\n",
      "[332]\tvalidation_0-rmse:0.450425\tvalidation_1-rmse:0.522315\n",
      "[333]\tvalidation_0-rmse:0.45027\tvalidation_1-rmse:0.522336\n",
      "[334]\tvalidation_0-rmse:0.450117\tvalidation_1-rmse:0.522326\n",
      "[335]\tvalidation_0-rmse:0.449823\tvalidation_1-rmse:0.522207\n",
      "[336]\tvalidation_0-rmse:0.449719\tvalidation_1-rmse:0.522219\n",
      "[337]\tvalidation_0-rmse:0.449688\tvalidation_1-rmse:0.52221\n",
      "[338]\tvalidation_0-rmse:0.449501\tvalidation_1-rmse:0.522158\n",
      "[339]\tvalidation_0-rmse:0.449359\tvalidation_1-rmse:0.522102\n",
      "[340]\tvalidation_0-rmse:0.449234\tvalidation_1-rmse:0.522098\n",
      "[341]\tvalidation_0-rmse:0.449071\tvalidation_1-rmse:0.522083\n",
      "[342]\tvalidation_0-rmse:0.448961\tvalidation_1-rmse:0.522129\n",
      "[343]\tvalidation_0-rmse:0.448728\tvalidation_1-rmse:0.52214\n",
      "[344]\tvalidation_0-rmse:0.448499\tvalidation_1-rmse:0.522132\n",
      "[345]\tvalidation_0-rmse:0.448291\tvalidation_1-rmse:0.52209\n",
      "[346]\tvalidation_0-rmse:0.448234\tvalidation_1-rmse:0.522061\n",
      "[347]\tvalidation_0-rmse:0.448158\tvalidation_1-rmse:0.52205\n",
      "[348]\tvalidation_0-rmse:0.447984\tvalidation_1-rmse:0.522065\n",
      "[349]\tvalidation_0-rmse:0.447793\tvalidation_1-rmse:0.52199\n",
      "[350]\tvalidation_0-rmse:0.447659\tvalidation_1-rmse:0.522064\n",
      "[351]\tvalidation_0-rmse:0.447493\tvalidation_1-rmse:0.522091\n",
      "[352]\tvalidation_0-rmse:0.44734\tvalidation_1-rmse:0.522132\n",
      "[353]\tvalidation_0-rmse:0.447161\tvalidation_1-rmse:0.522184\n",
      "[354]\tvalidation_0-rmse:0.447051\tvalidation_1-rmse:0.522221\n",
      "[355]\tvalidation_0-rmse:0.44691\tvalidation_1-rmse:0.522258\n",
      "[356]\tvalidation_0-rmse:0.446745\tvalidation_1-rmse:0.522228\n",
      "[357]\tvalidation_0-rmse:0.446646\tvalidation_1-rmse:0.522228\n",
      "[358]\tvalidation_0-rmse:0.446514\tvalidation_1-rmse:0.522229\n",
      "[359]\tvalidation_0-rmse:0.446378\tvalidation_1-rmse:0.522258\n",
      "[360]\tvalidation_0-rmse:0.446136\tvalidation_1-rmse:0.522209\n",
      "[361]\tvalidation_0-rmse:0.446042\tvalidation_1-rmse:0.522244\n",
      "[362]\tvalidation_0-rmse:0.445931\tvalidation_1-rmse:0.5222\n",
      "[363]\tvalidation_0-rmse:0.445827\tvalidation_1-rmse:0.522199\n",
      "[364]\tvalidation_0-rmse:0.445631\tvalidation_1-rmse:0.522157\n",
      "[365]\tvalidation_0-rmse:0.445512\tvalidation_1-rmse:0.522127\n",
      "[366]\tvalidation_0-rmse:0.445432\tvalidation_1-rmse:0.522206\n",
      "[367]\tvalidation_0-rmse:0.445332\tvalidation_1-rmse:0.52217\n",
      "[368]\tvalidation_0-rmse:0.445244\tvalidation_1-rmse:0.522157\n",
      "[369]\tvalidation_0-rmse:0.445147\tvalidation_1-rmse:0.522143\n",
      "[370]\tvalidation_0-rmse:0.445064\tvalidation_1-rmse:0.522189\n",
      "[371]\tvalidation_0-rmse:0.444914\tvalidation_1-rmse:0.522212\n",
      "[372]\tvalidation_0-rmse:0.444751\tvalidation_1-rmse:0.522152\n",
      "[373]\tvalidation_0-rmse:0.44455\tvalidation_1-rmse:0.522103\n",
      "[374]\tvalidation_0-rmse:0.444459\tvalidation_1-rmse:0.5221\n",
      "[375]\tvalidation_0-rmse:0.444309\tvalidation_1-rmse:0.522116\n",
      "[376]\tvalidation_0-rmse:0.444187\tvalidation_1-rmse:0.522133\n",
      "[377]\tvalidation_0-rmse:0.443928\tvalidation_1-rmse:0.522112\n",
      "[378]\tvalidation_0-rmse:0.443766\tvalidation_1-rmse:0.52204\n",
      "[379]\tvalidation_0-rmse:0.443583\tvalidation_1-rmse:0.522021\n",
      "[380]\tvalidation_0-rmse:0.443542\tvalidation_1-rmse:0.522062\n",
      "[381]\tvalidation_0-rmse:0.443459\tvalidation_1-rmse:0.52207\n",
      "[382]\tvalidation_0-rmse:0.44331\tvalidation_1-rmse:0.522124\n",
      "[383]\tvalidation_0-rmse:0.443171\tvalidation_1-rmse:0.522113\n",
      "[384]\tvalidation_0-rmse:0.44297\tvalidation_1-rmse:0.522114\n",
      "[385]\tvalidation_0-rmse:0.442831\tvalidation_1-rmse:0.522162\n",
      "[386]\tvalidation_0-rmse:0.442708\tvalidation_1-rmse:0.522196\n",
      "[387]\tvalidation_0-rmse:0.442598\tvalidation_1-rmse:0.522182\n",
      "[388]\tvalidation_0-rmse:0.442422\tvalidation_1-rmse:0.52221\n",
      "[389]\tvalidation_0-rmse:0.442199\tvalidation_1-rmse:0.522261\n",
      "[390]\tvalidation_0-rmse:0.442034\tvalidation_1-rmse:0.522269\n",
      "[391]\tvalidation_0-rmse:0.441876\tvalidation_1-rmse:0.522281\n",
      "[392]\tvalidation_0-rmse:0.441712\tvalidation_1-rmse:0.522371\n",
      "[393]\tvalidation_0-rmse:0.441469\tvalidation_1-rmse:0.522283\n",
      "[394]\tvalidation_0-rmse:0.441294\tvalidation_1-rmse:0.522267\n",
      "[395]\tvalidation_0-rmse:0.441164\tvalidation_1-rmse:0.52224\n",
      "[396]\tvalidation_0-rmse:0.441008\tvalidation_1-rmse:0.522214\n",
      "[397]\tvalidation_0-rmse:0.440843\tvalidation_1-rmse:0.522247\n",
      "[398]\tvalidation_0-rmse:0.440619\tvalidation_1-rmse:0.522185\n",
      "[399]\tvalidation_0-rmse:0.44043\tvalidation_1-rmse:0.522253\n",
      "[400]\tvalidation_0-rmse:0.440218\tvalidation_1-rmse:0.522289\n",
      "[401]\tvalidation_0-rmse:0.440032\tvalidation_1-rmse:0.522256\n",
      "[402]\tvalidation_0-rmse:0.439886\tvalidation_1-rmse:0.522265\n",
      "[403]\tvalidation_0-rmse:0.439738\tvalidation_1-rmse:0.522261\n",
      "[404]\tvalidation_0-rmse:0.439569\tvalidation_1-rmse:0.522284\n",
      "[405]\tvalidation_0-rmse:0.439309\tvalidation_1-rmse:0.522148\n",
      "[406]\tvalidation_0-rmse:0.439234\tvalidation_1-rmse:0.522126\n",
      "[407]\tvalidation_0-rmse:0.43903\tvalidation_1-rmse:0.522183\n",
      "[408]\tvalidation_0-rmse:0.438872\tvalidation_1-rmse:0.522167\n",
      "[409]\tvalidation_0-rmse:0.438733\tvalidation_1-rmse:0.522161\n",
      "[410]\tvalidation_0-rmse:0.438495\tvalidation_1-rmse:0.522103\n",
      "[411]\tvalidation_0-rmse:0.438317\tvalidation_1-rmse:0.522047\n",
      "[412]\tvalidation_0-rmse:0.438118\tvalidation_1-rmse:0.521951\n"
     ]
    },
    {
     "name": "stdout",
     "output_type": "stream",
     "text": [
      "[413]\tvalidation_0-rmse:0.437935\tvalidation_1-rmse:0.522038\n",
      "[414]\tvalidation_0-rmse:0.437777\tvalidation_1-rmse:0.522011\n",
      "[415]\tvalidation_0-rmse:0.437691\tvalidation_1-rmse:0.522031\n",
      "[416]\tvalidation_0-rmse:0.437538\tvalidation_1-rmse:0.522059\n",
      "[417]\tvalidation_0-rmse:0.437386\tvalidation_1-rmse:0.522066\n",
      "[418]\tvalidation_0-rmse:0.437205\tvalidation_1-rmse:0.522047\n",
      "[419]\tvalidation_0-rmse:0.437081\tvalidation_1-rmse:0.522085\n",
      "[420]\tvalidation_0-rmse:0.436972\tvalidation_1-rmse:0.522103\n",
      "[421]\tvalidation_0-rmse:0.436814\tvalidation_1-rmse:0.522041\n",
      "[422]\tvalidation_0-rmse:0.436679\tvalidation_1-rmse:0.522023\n",
      "[423]\tvalidation_0-rmse:0.436564\tvalidation_1-rmse:0.522058\n",
      "[424]\tvalidation_0-rmse:0.43645\tvalidation_1-rmse:0.522083\n",
      "[425]\tvalidation_0-rmse:0.436265\tvalidation_1-rmse:0.522059\n",
      "[426]\tvalidation_0-rmse:0.436133\tvalidation_1-rmse:0.522075\n",
      "[427]\tvalidation_0-rmse:0.435899\tvalidation_1-rmse:0.521989\n",
      "[428]\tvalidation_0-rmse:0.435764\tvalidation_1-rmse:0.521983\n",
      "[429]\tvalidation_0-rmse:0.435565\tvalidation_1-rmse:0.522013\n",
      "[430]\tvalidation_0-rmse:0.435432\tvalidation_1-rmse:0.522004\n",
      "[431]\tvalidation_0-rmse:0.435246\tvalidation_1-rmse:0.52192\n",
      "[432]\tvalidation_0-rmse:0.435049\tvalidation_1-rmse:0.521835\n",
      "[433]\tvalidation_0-rmse:0.434894\tvalidation_1-rmse:0.5218\n",
      "[434]\tvalidation_0-rmse:0.434745\tvalidation_1-rmse:0.521779\n",
      "[435]\tvalidation_0-rmse:0.434599\tvalidation_1-rmse:0.521803\n",
      "[436]\tvalidation_0-rmse:0.43448\tvalidation_1-rmse:0.521767\n",
      "[437]\tvalidation_0-rmse:0.434374\tvalidation_1-rmse:0.521754\n",
      "[438]\tvalidation_0-rmse:0.434304\tvalidation_1-rmse:0.521745\n",
      "[439]\tvalidation_0-rmse:0.434236\tvalidation_1-rmse:0.521746\n",
      "[440]\tvalidation_0-rmse:0.434021\tvalidation_1-rmse:0.521619\n",
      "[441]\tvalidation_0-rmse:0.433823\tvalidation_1-rmse:0.521652\n",
      "[442]\tvalidation_0-rmse:0.433768\tvalidation_1-rmse:0.521664\n",
      "[443]\tvalidation_0-rmse:0.433619\tvalidation_1-rmse:0.521692\n",
      "[444]\tvalidation_0-rmse:0.433495\tvalidation_1-rmse:0.52169\n",
      "[445]\tvalidation_0-rmse:0.433394\tvalidation_1-rmse:0.521699\n",
      "[446]\tvalidation_0-rmse:0.433257\tvalidation_1-rmse:0.521759\n",
      "[447]\tvalidation_0-rmse:0.433148\tvalidation_1-rmse:0.521757\n",
      "[448]\tvalidation_0-rmse:0.432972\tvalidation_1-rmse:0.52177\n",
      "[449]\tvalidation_0-rmse:0.432897\tvalidation_1-rmse:0.521846\n",
      "[450]\tvalidation_0-rmse:0.432694\tvalidation_1-rmse:0.521887\n",
      "[451]\tvalidation_0-rmse:0.432579\tvalidation_1-rmse:0.521906\n",
      "[452]\tvalidation_0-rmse:0.432383\tvalidation_1-rmse:0.521738\n",
      "[453]\tvalidation_0-rmse:0.432225\tvalidation_1-rmse:0.521744\n",
      "[454]\tvalidation_0-rmse:0.432067\tvalidation_1-rmse:0.521852\n",
      "[455]\tvalidation_0-rmse:0.43197\tvalidation_1-rmse:0.521875\n",
      "[456]\tvalidation_0-rmse:0.431881\tvalidation_1-rmse:0.521887\n",
      "[457]\tvalidation_0-rmse:0.431756\tvalidation_1-rmse:0.521882\n",
      "[458]\tvalidation_0-rmse:0.431679\tvalidation_1-rmse:0.521898\n",
      "[459]\tvalidation_0-rmse:0.431533\tvalidation_1-rmse:0.521837\n",
      "[460]\tvalidation_0-rmse:0.431366\tvalidation_1-rmse:0.521912\n",
      "[461]\tvalidation_0-rmse:0.431243\tvalidation_1-rmse:0.52192\n",
      "[462]\tvalidation_0-rmse:0.431132\tvalidation_1-rmse:0.521911\n",
      "[463]\tvalidation_0-rmse:0.431013\tvalidation_1-rmse:0.521981\n",
      "[464]\tvalidation_0-rmse:0.430891\tvalidation_1-rmse:0.521997\n",
      "[465]\tvalidation_0-rmse:0.43068\tvalidation_1-rmse:0.521874\n",
      "[466]\tvalidation_0-rmse:0.430622\tvalidation_1-rmse:0.52188\n",
      "[467]\tvalidation_0-rmse:0.430413\tvalidation_1-rmse:0.521938\n",
      "[468]\tvalidation_0-rmse:0.430343\tvalidation_1-rmse:0.521972\n",
      "[469]\tvalidation_0-rmse:0.430188\tvalidation_1-rmse:0.521994\n",
      "[470]\tvalidation_0-rmse:0.429997\tvalidation_1-rmse:0.52206\n",
      "[471]\tvalidation_0-rmse:0.429827\tvalidation_1-rmse:0.522038\n",
      "[472]\tvalidation_0-rmse:0.429703\tvalidation_1-rmse:0.522017\n",
      "[473]\tvalidation_0-rmse:0.429631\tvalidation_1-rmse:0.522024\n",
      "[474]\tvalidation_0-rmse:0.429501\tvalidation_1-rmse:0.522088\n",
      "[475]\tvalidation_0-rmse:0.429318\tvalidation_1-rmse:0.522091\n",
      "[476]\tvalidation_0-rmse:0.429174\tvalidation_1-rmse:0.522152\n",
      "[477]\tvalidation_0-rmse:0.42915\tvalidation_1-rmse:0.522153\n",
      "[478]\tvalidation_0-rmse:0.428931\tvalidation_1-rmse:0.522215\n",
      "[479]\tvalidation_0-rmse:0.42882\tvalidation_1-rmse:0.522221\n",
      "[480]\tvalidation_0-rmse:0.428667\tvalidation_1-rmse:0.522206\n",
      "[481]\tvalidation_0-rmse:0.428522\tvalidation_1-rmse:0.522248\n",
      "[482]\tvalidation_0-rmse:0.428439\tvalidation_1-rmse:0.522272\n",
      "[483]\tvalidation_0-rmse:0.428291\tvalidation_1-rmse:0.52236\n",
      "[484]\tvalidation_0-rmse:0.428105\tvalidation_1-rmse:0.522337\n",
      "[485]\tvalidation_0-rmse:0.427953\tvalidation_1-rmse:0.522375\n",
      "[486]\tvalidation_0-rmse:0.427797\tvalidation_1-rmse:0.522392\n",
      "[487]\tvalidation_0-rmse:0.427653\tvalidation_1-rmse:0.522383\n",
      "[488]\tvalidation_0-rmse:0.427513\tvalidation_1-rmse:0.522395\n",
      "[489]\tvalidation_0-rmse:0.427327\tvalidation_1-rmse:0.522422\n",
      "[490]\tvalidation_0-rmse:0.427213\tvalidation_1-rmse:0.522415\n",
      "[491]\tvalidation_0-rmse:0.427144\tvalidation_1-rmse:0.522434\n",
      "[492]\tvalidation_0-rmse:0.427007\tvalidation_1-rmse:0.522457\n",
      "[493]\tvalidation_0-rmse:0.426846\tvalidation_1-rmse:0.522476\n",
      "[494]\tvalidation_0-rmse:0.426734\tvalidation_1-rmse:0.522445\n",
      "[495]\tvalidation_0-rmse:0.426607\tvalidation_1-rmse:0.522434\n",
      "[496]\tvalidation_0-rmse:0.426531\tvalidation_1-rmse:0.52246\n",
      "[497]\tvalidation_0-rmse:0.426342\tvalidation_1-rmse:0.522501\n",
      "[498]\tvalidation_0-rmse:0.42615\tvalidation_1-rmse:0.522505\n",
      "[499]\tvalidation_0-rmse:0.426083\tvalidation_1-rmse:0.522543\n",
      "[500]\tvalidation_0-rmse:0.425956\tvalidation_1-rmse:0.522517\n",
      "[501]\tvalidation_0-rmse:0.425801\tvalidation_1-rmse:0.522531\n",
      "[502]\tvalidation_0-rmse:0.425628\tvalidation_1-rmse:0.522539\n",
      "[503]\tvalidation_0-rmse:0.425464\tvalidation_1-rmse:0.52261\n",
      "[504]\tvalidation_0-rmse:0.425376\tvalidation_1-rmse:0.522599\n",
      "[505]\tvalidation_0-rmse:0.425257\tvalidation_1-rmse:0.522546\n",
      "[506]\tvalidation_0-rmse:0.425084\tvalidation_1-rmse:0.522506\n",
      "[507]\tvalidation_0-rmse:0.424953\tvalidation_1-rmse:0.522527\n",
      "[508]\tvalidation_0-rmse:0.424796\tvalidation_1-rmse:0.522475\n",
      "[509]\tvalidation_0-rmse:0.424608\tvalidation_1-rmse:0.522534\n",
      "[510]\tvalidation_0-rmse:0.424466\tvalidation_1-rmse:0.522602\n",
      "[511]\tvalidation_0-rmse:0.424332\tvalidation_1-rmse:0.522639\n",
      "[512]\tvalidation_0-rmse:0.424176\tvalidation_1-rmse:0.522655\n",
      "[513]\tvalidation_0-rmse:0.424134\tvalidation_1-rmse:0.522675\n",
      "[514]\tvalidation_0-rmse:0.424038\tvalidation_1-rmse:0.522643\n",
      "[515]\tvalidation_0-rmse:0.423992\tvalidation_1-rmse:0.522613\n",
      "[516]\tvalidation_0-rmse:0.423874\tvalidation_1-rmse:0.522729\n",
      "[517]\tvalidation_0-rmse:0.423731\tvalidation_1-rmse:0.522769\n",
      "[518]\tvalidation_0-rmse:0.42365\tvalidation_1-rmse:0.522785\n",
      "[519]\tvalidation_0-rmse:0.423517\tvalidation_1-rmse:0.522721\n",
      "[520]\tvalidation_0-rmse:0.423429\tvalidation_1-rmse:0.522742\n",
      "[521]\tvalidation_0-rmse:0.423268\tvalidation_1-rmse:0.522752\n",
      "[522]\tvalidation_0-rmse:0.42312\tvalidation_1-rmse:0.522857\n",
      "[523]\tvalidation_0-rmse:0.422977\tvalidation_1-rmse:0.522892\n",
      "[524]\tvalidation_0-rmse:0.422886\tvalidation_1-rmse:0.522936\n",
      "[525]\tvalidation_0-rmse:0.422747\tvalidation_1-rmse:0.522944\n",
      "[526]\tvalidation_0-rmse:0.422564\tvalidation_1-rmse:0.523013\n",
      "[527]\tvalidation_0-rmse:0.422443\tvalidation_1-rmse:0.523016\n",
      "[528]\tvalidation_0-rmse:0.422247\tvalidation_1-rmse:0.52309\n",
      "[529]\tvalidation_0-rmse:0.422109\tvalidation_1-rmse:0.523118\n",
      "[530]\tvalidation_0-rmse:0.421933\tvalidation_1-rmse:0.523164\n",
      "[531]\tvalidation_0-rmse:0.421791\tvalidation_1-rmse:0.523156\n",
      "[532]\tvalidation_0-rmse:0.421681\tvalidation_1-rmse:0.523106\n",
      "[533]\tvalidation_0-rmse:0.421536\tvalidation_1-rmse:0.523161\n",
      "[534]\tvalidation_0-rmse:0.421374\tvalidation_1-rmse:0.523069\n",
      "[535]\tvalidation_0-rmse:0.421203\tvalidation_1-rmse:0.523072\n",
      "[536]\tvalidation_0-rmse:0.421048\tvalidation_1-rmse:0.523076\n",
      "[537]\tvalidation_0-rmse:0.420927\tvalidation_1-rmse:0.523111\n",
      "[538]\tvalidation_0-rmse:0.420786\tvalidation_1-rmse:0.5231\n",
      "[539]\tvalidation_0-rmse:0.420646\tvalidation_1-rmse:0.523105\n",
      "[540]\tvalidation_0-rmse:0.42052\tvalidation_1-rmse:0.523117\n",
      "[541]\tvalidation_0-rmse:0.420408\tvalidation_1-rmse:0.523148\n",
      "[542]\tvalidation_0-rmse:0.420276\tvalidation_1-rmse:0.523164\n",
      "[543]\tvalidation_0-rmse:0.420126\tvalidation_1-rmse:0.523092\n",
      "[544]\tvalidation_0-rmse:0.420083\tvalidation_1-rmse:0.523078\n",
      "[545]\tvalidation_0-rmse:0.419896\tvalidation_1-rmse:0.523135\n",
      "[546]\tvalidation_0-rmse:0.419772\tvalidation_1-rmse:0.523169\n",
      "[547]\tvalidation_0-rmse:0.419611\tvalidation_1-rmse:0.523179\n",
      "[548]\tvalidation_0-rmse:0.419465\tvalidation_1-rmse:0.523201\n",
      "[549]\tvalidation_0-rmse:0.419371\tvalidation_1-rmse:0.523181\n"
     ]
    },
    {
     "name": "stdout",
     "output_type": "stream",
     "text": [
      "[550]\tvalidation_0-rmse:0.419218\tvalidation_1-rmse:0.523111\n",
      "[551]\tvalidation_0-rmse:0.419064\tvalidation_1-rmse:0.52313\n",
      "[552]\tvalidation_0-rmse:0.418939\tvalidation_1-rmse:0.523114\n",
      "[553]\tvalidation_0-rmse:0.418798\tvalidation_1-rmse:0.523059\n",
      "[554]\tvalidation_0-rmse:0.41866\tvalidation_1-rmse:0.523026\n",
      "[555]\tvalidation_0-rmse:0.418563\tvalidation_1-rmse:0.523067\n",
      "[556]\tvalidation_0-rmse:0.418463\tvalidation_1-rmse:0.523075\n",
      "[557]\tvalidation_0-rmse:0.418363\tvalidation_1-rmse:0.523064\n",
      "[558]\tvalidation_0-rmse:0.418248\tvalidation_1-rmse:0.523119\n",
      "[559]\tvalidation_0-rmse:0.418102\tvalidation_1-rmse:0.523139\n",
      "[560]\tvalidation_0-rmse:0.417956\tvalidation_1-rmse:0.523105\n",
      "[561]\tvalidation_0-rmse:0.417844\tvalidation_1-rmse:0.523057\n",
      "[562]\tvalidation_0-rmse:0.41767\tvalidation_1-rmse:0.52302\n",
      "[563]\tvalidation_0-rmse:0.417563\tvalidation_1-rmse:0.523035\n",
      "[564]\tvalidation_0-rmse:0.417391\tvalidation_1-rmse:0.523079\n",
      "[565]\tvalidation_0-rmse:0.417253\tvalidation_1-rmse:0.523079\n",
      "[566]\tvalidation_0-rmse:0.417131\tvalidation_1-rmse:0.523035\n",
      "[567]\tvalidation_0-rmse:0.416946\tvalidation_1-rmse:0.523011\n",
      "[568]\tvalidation_0-rmse:0.41673\tvalidation_1-rmse:0.522946\n",
      "[569]\tvalidation_0-rmse:0.416673\tvalidation_1-rmse:0.523029\n",
      "[570]\tvalidation_0-rmse:0.416599\tvalidation_1-rmse:0.523013\n",
      "[571]\tvalidation_0-rmse:0.416446\tvalidation_1-rmse:0.523047\n",
      "[572]\tvalidation_0-rmse:0.41633\tvalidation_1-rmse:0.523068\n",
      "[573]\tvalidation_0-rmse:0.416245\tvalidation_1-rmse:0.523114\n",
      "[574]\tvalidation_0-rmse:0.416174\tvalidation_1-rmse:0.523143\n",
      "[575]\tvalidation_0-rmse:0.415977\tvalidation_1-rmse:0.523257\n",
      "[576]\tvalidation_0-rmse:0.415842\tvalidation_1-rmse:0.523194\n",
      "[577]\tvalidation_0-rmse:0.41569\tvalidation_1-rmse:0.523159\n",
      "[578]\tvalidation_0-rmse:0.415592\tvalidation_1-rmse:0.523191\n",
      "[579]\tvalidation_0-rmse:0.415436\tvalidation_1-rmse:0.523218\n",
      "[580]\tvalidation_0-rmse:0.415284\tvalidation_1-rmse:0.523256\n",
      "[581]\tvalidation_0-rmse:0.415145\tvalidation_1-rmse:0.523232\n",
      "[582]\tvalidation_0-rmse:0.415022\tvalidation_1-rmse:0.523192\n",
      "[583]\tvalidation_0-rmse:0.414905\tvalidation_1-rmse:0.523172\n",
      "[584]\tvalidation_0-rmse:0.414755\tvalidation_1-rmse:0.52316\n",
      "[585]\tvalidation_0-rmse:0.414658\tvalidation_1-rmse:0.523224\n",
      "[586]\tvalidation_0-rmse:0.41452\tvalidation_1-rmse:0.523249\n",
      "[587]\tvalidation_0-rmse:0.414389\tvalidation_1-rmse:0.523245\n",
      "[588]\tvalidation_0-rmse:0.414298\tvalidation_1-rmse:0.523229\n",
      "[589]\tvalidation_0-rmse:0.414145\tvalidation_1-rmse:0.523292\n",
      "[590]\tvalidation_0-rmse:0.41401\tvalidation_1-rmse:0.523323\n",
      "Stopping. Best iteration:\n",
      "[440]\tvalidation_0-rmse:0.434021\tvalidation_1-rmse:0.521619\n",
      "\n",
      "CPU times: user 29.6 s, sys: 128 ms, total: 29.7 s\n",
      "Wall time: 29.4 s\n"
     ]
    },
    {
     "data": {
      "text/plain": [
       "XGBRegressor(base_score=0.5, booster='gbtree', colsample_bylevel=1,\n",
       "       colsample_bytree=1, gamma=0, importance_type='gain',\n",
       "       learning_rate=0.1, max_delta_step=0, max_depth=3,\n",
       "       min_child_weight=1, missing=None, n_estimators=2000, n_jobs=1,\n",
       "       nthread=None, objective='reg:linear', random_state=0, reg_alpha=0,\n",
       "       reg_lambda=1, scale_pos_weight=1, seed=None, silent=True,\n",
       "       subsample=0.7)"
      ]
     },
     "execution_count": 146,
     "metadata": {},
     "output_type": "execute_result"
    }
   ],
   "source": [
    "%%time\n",
    "xreg.fit(data_train,labels_train, eval_set=eval_set, early_stopping_rounds=150)"
   ]
  },
  {
   "cell_type": "code",
   "execution_count": 147,
   "metadata": {},
   "outputs": [
    {
     "name": "stdout",
     "output_type": "stream",
     "text": [
      "xgb train rpec: 0.16793269254206755\n",
      "xgb test rpec: 0.16066119034869034\n",
      "CPU times: user 2min 31s, sys: 3.91 ms, total: 2min 31s\n",
      "Wall time: 2min 31s\n"
     ]
    }
   ],
   "source": [
    "%%time\n",
    "dist_xgb_train = np.zeros((len(x_train_sc), len(x_train_sc)))\n",
    "for i, x1 in enumerate(x_train_sc):\n",
    "    for j, x2 in enumerate(x_train_sc):\n",
    "        if dist_xgb_train[i][j] == 0:\n",
    "            p = xreg.predict(np.abs([x1 - x2]))[0]\n",
    "            dist_xgb_train[i][j] = p\n",
    "            dist_xgb_train[j][i] = p\n",
    "\n",
    "print(\"xgb train rpec:\", np.mean(r_precision_m(matrix=pd.DataFrame(dist_xgb_train), authors=y_train)))\n",
    "\n",
    "dist_xgb_test = np.zeros((len(x_test_sc), len(x_test_sc)))\n",
    "for i, x1 in enumerate(x_test_sc):\n",
    "    for j, x2 in enumerate(x_test_sc):\n",
    "        if dist_xgb_test[i][j] == 0:\n",
    "            p = xreg.predict(np.abs([x1 - x2]))[0]\n",
    "            dist_xgb_test[i][j] = p\n",
    "            dist_xgb_test[j][i] = p\n",
    "\n",
    "print(\"xgb test rpec:\", np.mean(r_precision_m(matrix=pd.DataFrame(dist_xgb_test), authors=y_test)))"
   ]
  },
  {
   "cell_type": "code",
   "execution_count": 148,
   "metadata": {
    "scrolled": true
   },
   "outputs": [
    {
     "data": {
      "text/plain": [
       "<matplotlib.axes._subplots.AxesSubplot at 0x7f9858484160>"
      ]
     },
     "execution_count": 148,
     "metadata": {},
     "output_type": "execute_result"
    },
    {
     "data": {
      "image/png": "[encoded data removed]",
      "text/plain": [
       "<Figure size 432x288 with 1 Axes>"
      ]
     },
     "metadata": {
      "needs_background": "light"
     },
     "output_type": "display_data"
    }
   ],
   "source": [
    "plot_importance(xreg, max_num_features=50)"
   ]
  },
  {
   "cell_type": "markdown",
   "metadata": {},
   "source": [
    "#### 25 + itml"
   ]
  },
  {
   "cell_type": "code",
   "execution_count": 96,
   "metadata": {},
   "outputs": [],
   "source": [
    "clf = ITML_Supervised(num_constraints=1000, verbose=True, convergence_threshold=0.001)"
   ]
  },
  {
   "cell_type": "code",
   "execution_count": 97,
   "metadata": {},
   "outputs": [
    {
     "data": {
      "text/plain": [
       "(337, 25)"
      ]
     },
     "execution_count": 97,
     "metadata": {},
     "output_type": "execute_result"
    }
   ],
   "source": [
    "x_train_sc.shape"
   ]
  },
  {
   "cell_type": "code",
   "execution_count": 98,
   "metadata": {
    "scrolled": true
   },
   "outputs": [
    {
     "name": "stderr",
     "output_type": "stream",
     "text": [
      "/home/artesby/anaconda3/envs/myenv/lib/python3.7/site-packages/metric_learn/constraints.py:62: UserWarning: Only generated 566 positive constraints (requested 1000)\n",
      "  len(ab), 'positive' if same_label else 'negative', num_constraints))\n"
     ]
    },
    {
     "name": "stdout",
     "output_type": "stream",
     "text": [
      "itml iter: 0, conv = 12.257700\n",
      "itml iter: 1, conv = 3.591601\n",
      "itml iter: 2, conv = 2.246185\n",
      "itml iter: 3, conv = 1.709264\n",
      "itml iter: 4, conv = 1.423264\n",
      "itml iter: 5, conv = 1.223823\n",
      "itml iter: 6, conv = 1.087506\n",
      "itml iter: 7, conv = 0.983216\n",
      "itml iter: 8, conv = 0.898864\n",
      "itml iter: 9, conv = 0.831640\n",
      "itml iter: 10, conv = 0.774728\n",
      "itml iter: 11, conv = 0.731870\n",
      "itml iter: 12, conv = 0.690364\n",
      "itml iter: 13, conv = 0.656431\n",
      "itml iter: 14, conv = 0.624659\n",
      "itml iter: 15, conv = 0.595801\n",
      "itml iter: 16, conv = 0.572897\n",
      "itml iter: 17, conv = 0.550198\n",
      "itml iter: 18, conv = 0.529966\n",
      "itml iter: 19, conv = 0.511145\n",
      "itml iter: 20, conv = 0.493404\n",
      "itml iter: 21, conv = 0.480161\n",
      "itml iter: 22, conv = 0.469824\n",
      "itml iter: 23, conv = 0.462531\n",
      "itml iter: 24, conv = 0.456121\n",
      "itml iter: 25, conv = 0.451301\n",
      "itml iter: 26, conv = 0.444087\n",
      "itml iter: 27, conv = 0.440911\n",
      "itml iter: 28, conv = 0.438339\n",
      "itml iter: 29, conv = 0.435649\n",
      "itml iter: 30, conv = 0.433826\n",
      "itml iter: 31, conv = 0.432751\n",
      "itml iter: 32, conv = 0.432059\n",
      "itml iter: 33, conv = 0.431401\n",
      "itml iter: 34, conv = 0.432166\n",
      "itml iter: 35, conv = 0.436137\n",
      "itml iter: 36, conv = 0.440707\n",
      "itml iter: 37, conv = 0.445448\n",
      "itml iter: 38, conv = 0.451609\n",
      "itml iter: 39, conv = 0.460613\n",
      "itml iter: 40, conv = 0.471331\n",
      "itml iter: 41, conv = 0.483493\n",
      "itml iter: 42, conv = 0.494599\n",
      "itml iter: 43, conv = 0.502117\n",
      "itml iter: 44, conv = 0.511966\n",
      "itml iter: 45, conv = 0.519285\n",
      "itml iter: 46, conv = 0.528460\n",
      "itml iter: 47, conv = 0.537891\n",
      "itml iter: 48, conv = 0.549428\n",
      "itml iter: 49, conv = 0.560819\n",
      "itml iter: 50, conv = 0.575758\n",
      "itml iter: 51, conv = 0.591650\n",
      "itml iter: 52, conv = 0.600021\n",
      "itml iter: 53, conv = 0.611354\n",
      "itml iter: 54, conv = 0.624474\n",
      "itml iter: 55, conv = 0.642638\n",
      "itml iter: 56, conv = 0.660371\n",
      "itml iter: 57, conv = 0.677357\n",
      "itml iter: 58, conv = 0.695215\n",
      "itml iter: 59, conv = 0.712803\n",
      "itml iter: 60, conv = 0.718824\n",
      "itml iter: 61, conv = 0.712003\n",
      "itml iter: 62, conv = 0.698192\n",
      "itml iter: 63, conv = 0.680479\n",
      "itml iter: 64, conv = 0.656822\n",
      "itml iter: 65, conv = 0.640643\n",
      "itml iter: 66, conv = 0.615704\n",
      "itml iter: 67, conv = 0.598471\n",
      "itml iter: 68, conv = 0.589059\n",
      "itml iter: 69, conv = 0.565125\n",
      "itml iter: 70, conv = 0.537387\n",
      "itml iter: 71, conv = 0.509578\n",
      "itml iter: 72, conv = 0.482847\n",
      "itml iter: 73, conv = 0.455832\n",
      "itml iter: 74, conv = 0.430666\n",
      "itml iter: 75, conv = 0.407198\n",
      "itml iter: 76, conv = 0.386423\n",
      "itml iter: 77, conv = 0.367149\n",
      "itml iter: 78, conv = 0.350742\n",
      "itml iter: 79, conv = 0.337663\n",
      "itml iter: 80, conv = 0.326619\n",
      "itml iter: 81, conv = 0.316136\n",
      "itml iter: 82, conv = 0.306274\n",
      "itml iter: 83, conv = 0.297121\n",
      "itml iter: 84, conv = 0.290226\n",
      "itml iter: 85, conv = 0.284822\n",
      "itml iter: 86, conv = 0.279793\n",
      "itml iter: 87, conv = 0.275231\n",
      "itml iter: 88, conv = 0.271877\n",
      "itml iter: 89, conv = 0.268535\n",
      "itml iter: 90, conv = 0.265110\n",
      "itml iter: 91, conv = 0.262259\n",
      "itml iter: 92, conv = 0.259108\n",
      "itml iter: 93, conv = 0.255994\n",
      "itml iter: 94, conv = 0.253495\n",
      "itml iter: 95, conv = 0.252085\n",
      "itml iter: 96, conv = 0.251033\n",
      "itml iter: 97, conv = 0.251535\n",
      "itml iter: 98, conv = 0.251994\n",
      "itml iter: 99, conv = 0.253938\n",
      "itml iter: 100, conv = 0.255503\n",
      "itml iter: 101, conv = 0.257890\n",
      "itml iter: 102, conv = 0.260958\n",
      "itml iter: 103, conv = 0.263389\n",
      "itml iter: 104, conv = 0.265341\n",
      "itml iter: 105, conv = 0.268926\n",
      "itml iter: 106, conv = 0.272708\n",
      "itml iter: 107, conv = 0.276235\n",
      "itml iter: 108, conv = 0.277329\n",
      "itml iter: 109, conv = 0.278896\n",
      "itml iter: 110, conv = 0.280059\n",
      "itml iter: 111, conv = 0.282256\n",
      "itml iter: 112, conv = 0.282891\n",
      "itml iter: 113, conv = 0.284672\n",
      "itml iter: 114, conv = 0.286039\n",
      "itml iter: 115, conv = 0.287207\n",
      "itml iter: 116, conv = 0.289005\n",
      "itml iter: 117, conv = 0.289370\n",
      "itml iter: 118, conv = 0.288682\n",
      "itml iter: 119, conv = 0.285961\n",
      "itml iter: 120, conv = 0.282398\n",
      "itml iter: 121, conv = 0.278612\n",
      "itml iter: 122, conv = 0.274050\n",
      "itml iter: 123, conv = 0.270680\n",
      "itml iter: 124, conv = 0.269374\n",
      "itml iter: 125, conv = 0.267533\n",
      "itml iter: 126, conv = 0.264159\n",
      "itml iter: 127, conv = 0.259913\n",
      "itml iter: 128, conv = 0.255756\n",
      "itml iter: 129, conv = 0.251211\n",
      "itml iter: 130, conv = 0.246757\n",
      "itml iter: 131, conv = 0.243531\n",
      "itml iter: 132, conv = 0.239380\n",
      "itml iter: 133, conv = 0.234979\n",
      "itml iter: 134, conv = 0.230772\n",
      "itml iter: 135, conv = 0.225055\n",
      "itml iter: 136, conv = 0.218628\n",
      "itml iter: 137, conv = 0.211346\n",
      "itml iter: 138, conv = 0.203820\n",
      "itml iter: 139, conv = 0.196633\n",
      "itml iter: 140, conv = 0.190477\n",
      "itml iter: 141, conv = 0.184908\n",
      "itml iter: 142, conv = 0.179649\n",
      "itml iter: 143, conv = 0.174980\n",
      "itml iter: 144, conv = 0.170535\n",
      "itml iter: 145, conv = 0.166297\n",
      "itml iter: 146, conv = 0.163446\n",
      "itml iter: 147, conv = 0.161145\n",
      "itml iter: 148, conv = 0.158914\n",
      "itml iter: 149, conv = 0.156660\n",
      "itml iter: 150, conv = 0.154372\n",
      "itml iter: 151, conv = 0.151840\n",
      "itml iter: 152, conv = 0.149004\n",
      "itml iter: 153, conv = 0.146888\n",
      "itml iter: 154, conv = 0.144941\n",
      "itml iter: 155, conv = 0.143592\n",
      "itml iter: 156, conv = 0.142428\n",
      "itml iter: 157, conv = 0.141858\n",
      "itml iter: 158, conv = 0.141531\n",
      "itml iter: 159, conv = 0.141329\n",
      "itml iter: 160, conv = 0.141671\n",
      "itml iter: 161, conv = 0.143011\n",
      "itml iter: 162, conv = 0.144038\n",
      "itml iter: 163, conv = 0.144467\n",
      "itml iter: 164, conv = 0.144558\n",
      "itml iter: 165, conv = 0.145378\n",
      "itml iter: 166, conv = 0.145785\n",
      "itml iter: 167, conv = 0.146439\n",
      "itml iter: 168, conv = 0.147008\n",
      "itml iter: 169, conv = 0.147280\n",
      "itml iter: 170, conv = 0.146793\n",
      "itml iter: 171, conv = 0.146462\n",
      "itml iter: 172, conv = 0.146162\n",
      "itml iter: 173, conv = 0.145563\n",
      "itml iter: 174, conv = 0.145168\n",
      "itml iter: 175, conv = 0.144461\n",
      "itml iter: 176, conv = 0.143174\n",
      "itml iter: 177, conv = 0.141160\n",
      "itml iter: 178, conv = 0.139144\n",
      "itml iter: 179, conv = 0.137588\n",
      "itml iter: 180, conv = 0.136084\n",
      "itml iter: 181, conv = 0.134425\n",
      "itml iter: 182, conv = 0.133201\n",
      "itml iter: 183, conv = 0.131848\n",
      "itml iter: 184, conv = 0.130097\n",
      "itml iter: 185, conv = 0.128580\n",
      "itml iter: 186, conv = 0.126868\n",
      "itml iter: 187, conv = 0.125785\n",
      "itml iter: 188, conv = 0.124746\n",
      "itml iter: 189, conv = 0.123562\n",
      "itml iter: 190, conv = 0.122376\n",
      "itml iter: 191, conv = 0.121512\n",
      "itml iter: 192, conv = 0.120171\n",
      "itml iter: 193, conv = 0.118656\n",
      "itml iter: 194, conv = 0.117151\n",
      "itml iter: 195, conv = 0.116129\n",
      "itml iter: 196, conv = 0.114590\n",
      "itml iter: 197, conv = 0.112786\n",
      "itml iter: 198, conv = 0.110730\n",
      "itml iter: 199, conv = 0.108087\n",
      "itml iter: 200, conv = 0.105350\n",
      "itml iter: 201, conv = 0.102709\n",
      "itml iter: 202, conv = 0.100162\n",
      "itml iter: 203, conv = 0.097704\n",
      "itml iter: 204, conv = 0.095469\n",
      "itml iter: 205, conv = 0.093529\n",
      "itml iter: 206, conv = 0.091833\n",
      "itml iter: 207, conv = 0.089976\n",
      "itml iter: 208, conv = 0.088336\n",
      "itml iter: 209, conv = 0.087007\n",
      "itml iter: 210, conv = 0.085857\n",
      "itml iter: 211, conv = 0.084715\n",
      "itml iter: 212, conv = 0.083445\n",
      "itml iter: 213, conv = 0.082366\n",
      "itml iter: 214, conv = 0.081316\n",
      "itml iter: 215, conv = 0.080317\n",
      "itml iter: 216, conv = 0.079802\n",
      "itml iter: 217, conv = 0.079327\n",
      "itml iter: 218, conv = 0.079015\n",
      "itml iter: 219, conv = 0.078890\n",
      "itml iter: 220, conv = 0.079012\n",
      "itml iter: 221, conv = 0.079306\n",
      "itml iter: 222, conv = 0.079558\n",
      "itml iter: 223, conv = 0.079445\n",
      "itml iter: 224, conv = 0.079242\n",
      "itml iter: 225, conv = 0.079325\n",
      "itml iter: 226, conv = 0.079484\n",
      "itml iter: 227, conv = 0.079340\n",
      "itml iter: 228, conv = 0.078997\n",
      "itml iter: 229, conv = 0.078623\n",
      "itml iter: 230, conv = 0.078160\n",
      "itml iter: 231, conv = 0.077806\n",
      "itml iter: 232, conv = 0.077244\n",
      "itml iter: 233, conv = 0.076577\n",
      "itml iter: 234, conv = 0.075725\n",
      "itml iter: 235, conv = 0.074587\n",
      "itml iter: 236, conv = 0.073577\n",
      "itml iter: 237, conv = 0.072557\n",
      "itml iter: 238, conv = 0.071350\n",
      "itml iter: 239, conv = 0.070343\n",
      "itml iter: 240, conv = 0.069460\n",
      "itml iter: 241, conv = 0.068682\n",
      "itml iter: 242, conv = 0.067967\n",
      "itml iter: 243, conv = 0.067657\n",
      "itml iter: 244, conv = 0.067025\n",
      "itml iter: 245, conv = 0.066145\n",
      "itml iter: 246, conv = 0.065381\n",
      "itml iter: 247, conv = 0.064541\n",
      "itml iter: 248, conv = 0.064120\n",
      "itml iter: 249, conv = 0.063840\n",
      "itml iter: 250, conv = 0.063484\n",
      "itml iter: 251, conv = 0.063190\n",
      "itml iter: 252, conv = 0.062836\n",
      "itml iter: 253, conv = 0.062340\n",
      "itml iter: 254, conv = 0.061750\n",
      "itml iter: 255, conv = 0.061236\n",
      "itml iter: 256, conv = 0.060704\n",
      "itml iter: 257, conv = 0.060084\n",
      "itml iter: 258, conv = 0.059453\n",
      "itml iter: 259, conv = 0.058637\n"
     ]
    },
    {
     "name": "stdout",
     "output_type": "stream",
     "text": [
      "itml iter: 260, conv = 0.057500\n",
      "itml iter: 261, conv = 0.056316\n",
      "itml iter: 262, conv = 0.055077\n",
      "itml iter: 263, conv = 0.053891\n",
      "itml iter: 264, conv = 0.052867\n",
      "itml iter: 265, conv = 0.051884\n",
      "itml iter: 266, conv = 0.050896\n",
      "itml iter: 267, conv = 0.049953\n",
      "itml iter: 268, conv = 0.048961\n",
      "itml iter: 269, conv = 0.048151\n",
      "itml iter: 270, conv = 0.047548\n",
      "itml iter: 271, conv = 0.047073\n",
      "itml iter: 272, conv = 0.046595\n",
      "itml iter: 273, conv = 0.046000\n",
      "itml iter: 274, conv = 0.045459\n",
      "itml iter: 275, conv = 0.044919\n",
      "itml iter: 276, conv = 0.044331\n",
      "itml iter: 277, conv = 0.043989\n",
      "itml iter: 278, conv = 0.043788\n",
      "itml iter: 279, conv = 0.043609\n",
      "itml iter: 280, conv = 0.043506\n",
      "itml iter: 281, conv = 0.043408\n",
      "itml iter: 282, conv = 0.043499\n",
      "itml iter: 283, conv = 0.043545\n",
      "itml iter: 284, conv = 0.043404\n",
      "itml iter: 285, conv = 0.043229\n",
      "itml iter: 286, conv = 0.043152\n",
      "itml iter: 287, conv = 0.042952\n",
      "itml iter: 288, conv = 0.042789\n",
      "itml iter: 289, conv = 0.042575\n",
      "itml iter: 290, conv = 0.042276\n",
      "itml iter: 291, conv = 0.041887\n",
      "itml iter: 292, conv = 0.041431\n",
      "itml iter: 293, conv = 0.040940\n",
      "itml iter: 294, conv = 0.040384\n",
      "itml iter: 295, conv = 0.039770\n",
      "itml iter: 296, conv = 0.039184\n",
      "itml iter: 297, conv = 0.038636\n",
      "itml iter: 298, conv = 0.037982\n",
      "itml iter: 299, conv = 0.037325\n",
      "itml iter: 300, conv = 0.036815\n",
      "itml iter: 301, conv = 0.036360\n",
      "itml iter: 302, conv = 0.036079\n",
      "itml iter: 303, conv = 0.035734\n",
      "itml iter: 304, conv = 0.035338\n",
      "itml iter: 305, conv = 0.034944\n",
      "itml iter: 306, conv = 0.034537\n",
      "itml iter: 307, conv = 0.034137\n",
      "itml iter: 308, conv = 0.033889\n",
      "itml iter: 309, conv = 0.033728\n",
      "itml iter: 310, conv = 0.033510\n",
      "itml iter: 311, conv = 0.033366\n",
      "itml iter: 312, conv = 0.033208\n",
      "itml iter: 313, conv = 0.033011\n",
      "itml iter: 314, conv = 0.032789\n",
      "itml iter: 315, conv = 0.032591\n",
      "itml iter: 316, conv = 0.032387\n",
      "itml iter: 317, conv = 0.032143\n",
      "itml iter: 318, conv = 0.031835\n",
      "itml iter: 319, conv = 0.031590\n",
      "itml iter: 320, conv = 0.031206\n",
      "itml iter: 321, conv = 0.030779\n",
      "itml iter: 322, conv = 0.030291\n",
      "itml iter: 323, conv = 0.029749\n",
      "itml iter: 324, conv = 0.029207\n",
      "itml iter: 325, conv = 0.028639\n",
      "itml iter: 326, conv = 0.028136\n",
      "itml iter: 327, conv = 0.027643\n",
      "itml iter: 328, conv = 0.027104\n",
      "itml iter: 329, conv = 0.026563\n",
      "itml iter: 330, conv = 0.026184\n",
      "itml iter: 331, conv = 0.025862\n",
      "itml iter: 332, conv = 0.025610\n",
      "itml iter: 333, conv = 0.025313\n",
      "itml iter: 334, conv = 0.025038\n",
      "itml iter: 335, conv = 0.024700\n",
      "itml iter: 336, conv = 0.024390\n",
      "itml iter: 337, conv = 0.024154\n",
      "itml iter: 338, conv = 0.024028\n",
      "itml iter: 339, conv = 0.023932\n",
      "itml iter: 340, conv = 0.023793\n",
      "itml iter: 341, conv = 0.023657\n",
      "itml iter: 342, conv = 0.023677\n",
      "itml iter: 343, conv = 0.023693\n",
      "itml iter: 344, conv = 0.023627\n",
      "itml iter: 345, conv = 0.023500\n",
      "itml iter: 346, conv = 0.023432\n",
      "itml iter: 347, conv = 0.023361\n",
      "itml iter: 348, conv = 0.023224\n",
      "itml iter: 349, conv = 0.023107\n",
      "itml iter: 350, conv = 0.022955\n",
      "itml iter: 351, conv = 0.022741\n",
      "itml iter: 352, conv = 0.022467\n",
      "itml iter: 353, conv = 0.022189\n",
      "itml iter: 354, conv = 0.021870\n",
      "itml iter: 355, conv = 0.021505\n",
      "itml iter: 356, conv = 0.021172\n",
      "itml iter: 357, conv = 0.020852\n",
      "itml iter: 358, conv = 0.020524\n",
      "itml iter: 359, conv = 0.020145\n",
      "itml iter: 360, conv = 0.019778\n",
      "itml iter: 361, conv = 0.019505\n",
      "itml iter: 362, conv = 0.019282\n",
      "itml iter: 363, conv = 0.019115\n",
      "itml iter: 364, conv = 0.018904\n",
      "itml iter: 365, conv = 0.018715\n",
      "itml iter: 366, conv = 0.018502\n",
      "itml iter: 367, conv = 0.018264\n",
      "itml iter: 368, conv = 0.018107\n",
      "itml iter: 369, conv = 0.018020\n",
      "itml iter: 370, conv = 0.017940\n",
      "itml iter: 371, conv = 0.017851\n",
      "itml iter: 372, conv = 0.017803\n",
      "itml iter: 373, conv = 0.017720\n",
      "itml iter: 374, conv = 0.017628\n",
      "itml iter: 375, conv = 0.017519\n",
      "itml iter: 376, conv = 0.017431\n",
      "itml iter: 377, conv = 0.017321\n",
      "itml iter: 378, conv = 0.017194\n",
      "itml iter: 379, conv = 0.017070\n",
      "itml iter: 380, conv = 0.016939\n",
      "itml iter: 381, conv = 0.016729\n",
      "itml iter: 382, conv = 0.016509\n",
      "itml iter: 383, conv = 0.016251\n",
      "itml iter: 384, conv = 0.015986\n",
      "itml iter: 385, conv = 0.015702\n",
      "itml iter: 386, conv = 0.015412\n",
      "itml iter: 387, conv = 0.015152\n",
      "itml iter: 388, conv = 0.014889\n",
      "itml iter: 389, conv = 0.014582\n",
      "itml iter: 390, conv = 0.014311\n",
      "itml iter: 391, conv = 0.014125\n",
      "itml iter: 392, conv = 0.013960\n",
      "itml iter: 393, conv = 0.013826\n",
      "itml iter: 394, conv = 0.013687\n",
      "itml iter: 395, conv = 0.013543\n",
      "itml iter: 396, conv = 0.013369\n",
      "itml iter: 397, conv = 0.013221\n",
      "itml iter: 398, conv = 0.013105\n",
      "itml iter: 399, conv = 0.013025\n",
      "itml iter: 400, conv = 0.012967\n",
      "itml iter: 401, conv = 0.012883\n",
      "itml iter: 402, conv = 0.012829\n",
      "itml iter: 403, conv = 0.012819\n",
      "itml iter: 404, conv = 0.012798\n",
      "itml iter: 405, conv = 0.012765\n",
      "itml iter: 406, conv = 0.012700\n",
      "itml iter: 407, conv = 0.012649\n",
      "itml iter: 408, conv = 0.012591\n",
      "itml iter: 409, conv = 0.012523\n",
      "itml iter: 410, conv = 0.012447\n",
      "itml iter: 411, conv = 0.012349\n",
      "itml iter: 412, conv = 0.012203\n",
      "itml iter: 413, conv = 0.012052\n",
      "itml iter: 414, conv = 0.011882\n",
      "itml iter: 415, conv = 0.011697\n",
      "itml iter: 416, conv = 0.011493\n",
      "itml iter: 417, conv = 0.011314\n",
      "itml iter: 418, conv = 0.011145\n",
      "itml iter: 419, conv = 0.010949\n",
      "itml iter: 420, conv = 0.010735\n",
      "itml iter: 421, conv = 0.010562\n",
      "itml iter: 422, conv = 0.010430\n",
      "itml iter: 423, conv = 0.010327\n",
      "itml iter: 424, conv = 0.010216\n",
      "itml iter: 425, conv = 0.010106\n",
      "itml iter: 426, conv = 0.009991\n",
      "itml iter: 427, conv = 0.009888\n",
      "itml iter: 428, conv = 0.009782\n",
      "itml iter: 429, conv = 0.009712\n",
      "itml iter: 430, conv = 0.009665\n",
      "itml iter: 431, conv = 0.009610\n",
      "itml iter: 432, conv = 0.009574\n",
      "itml iter: 433, conv = 0.009555\n",
      "itml iter: 434, conv = 0.009509\n",
      "itml iter: 435, conv = 0.009460\n",
      "itml iter: 436, conv = 0.009404\n",
      "itml iter: 437, conv = 0.009357\n",
      "itml iter: 438, conv = 0.009310\n",
      "itml iter: 439, conv = 0.009245\n",
      "itml iter: 440, conv = 0.009190\n",
      "itml iter: 441, conv = 0.009118\n",
      "itml iter: 442, conv = 0.009001\n",
      "itml iter: 443, conv = 0.008883\n",
      "itml iter: 444, conv = 0.008745\n",
      "itml iter: 445, conv = 0.008601\n",
      "itml iter: 446, conv = 0.008448\n",
      "itml iter: 447, conv = 0.008298\n",
      "itml iter: 448, conv = 0.008165\n",
      "itml iter: 449, conv = 0.008019\n",
      "itml iter: 450, conv = 0.007853\n",
      "itml iter: 451, conv = 0.007734\n",
      "itml iter: 452, conv = 0.007638\n",
      "itml iter: 453, conv = 0.007553\n",
      "itml iter: 454, conv = 0.007482\n",
      "itml iter: 455, conv = 0.007403\n",
      "itml iter: 456, conv = 0.007316\n",
      "itml iter: 457, conv = 0.007221\n",
      "itml iter: 458, conv = 0.007142\n",
      "itml iter: 459, conv = 0.007085\n",
      "itml iter: 460, conv = 0.007050\n",
      "itml iter: 461, conv = 0.007012\n",
      "itml iter: 462, conv = 0.006968\n",
      "itml iter: 463, conv = 0.006948\n",
      "itml iter: 464, conv = 0.006935\n",
      "itml iter: 465, conv = 0.006916\n",
      "itml iter: 466, conv = 0.006878\n",
      "itml iter: 467, conv = 0.006851\n",
      "itml iter: 468, conv = 0.006822\n",
      "itml iter: 469, conv = 0.006778\n",
      "itml iter: 470, conv = 0.006740\n",
      "itml iter: 471, conv = 0.006699\n",
      "itml iter: 472, conv = 0.006640\n",
      "itml iter: 473, conv = 0.006559\n",
      "itml iter: 474, conv = 0.006468\n",
      "itml iter: 475, conv = 0.006373\n",
      "itml iter: 476, conv = 0.006269\n",
      "itml iter: 477, conv = 0.006163\n",
      "itml iter: 478, conv = 0.006066\n",
      "itml iter: 479, conv = 0.005974\n",
      "itml iter: 480, conv = 0.005859\n",
      "itml iter: 481, conv = 0.005746\n",
      "itml iter: 482, conv = 0.005659\n",
      "itml iter: 483, conv = 0.005589\n",
      "itml iter: 484, conv = 0.005537\n",
      "itml iter: 485, conv = 0.005479\n",
      "itml iter: 486, conv = 0.005421\n",
      "itml iter: 487, conv = 0.005356\n",
      "itml iter: 488, conv = 0.005289\n",
      "itml iter: 489, conv = 0.005245\n",
      "itml iter: 490, conv = 0.005205\n",
      "itml iter: 491, conv = 0.005178\n",
      "itml iter: 492, conv = 0.005150\n",
      "itml iter: 493, conv = 0.005139\n",
      "itml iter: 494, conv = 0.005127\n",
      "itml iter: 495, conv = 0.005107\n",
      "itml iter: 496, conv = 0.005081\n",
      "itml iter: 497, conv = 0.005057\n",
      "itml iter: 498, conv = 0.005037\n",
      "itml iter: 499, conv = 0.005012\n",
      "itml iter: 500, conv = 0.004981\n",
      "itml iter: 501, conv = 0.004951\n",
      "itml iter: 502, conv = 0.004908\n",
      "itml iter: 503, conv = 0.004846\n",
      "itml iter: 504, conv = 0.004780\n",
      "itml iter: 505, conv = 0.004706\n",
      "itml iter: 506, conv = 0.004627\n",
      "itml iter: 507, conv = 0.004547\n",
      "itml iter: 508, conv = 0.004471\n",
      "itml iter: 509, conv = 0.004401\n",
      "itml iter: 510, conv = 0.004321\n",
      "itml iter: 511, conv = 0.004231\n",
      "itml iter: 512, conv = 0.004165\n",
      "itml iter: 513, conv = 0.004113\n",
      "itml iter: 514, conv = 0.004072\n",
      "itml iter: 515, conv = 0.004030\n",
      "itml iter: 516, conv = 0.003986\n",
      "itml iter: 517, conv = 0.003936\n",
      "itml iter: 518, conv = 0.003888\n",
      "itml iter: 519, conv = 0.003850\n",
      "itml iter: 520, conv = 0.003824\n",
      "itml iter: 521, conv = 0.003809\n",
      "itml iter: 522, conv = 0.003785\n",
      "itml iter: 523, conv = 0.003765\n"
     ]
    },
    {
     "name": "stdout",
     "output_type": "stream",
     "text": [
      "itml iter: 524, conv = 0.003757\n",
      "itml iter: 525, conv = 0.003747\n",
      "itml iter: 526, conv = 0.003736\n",
      "itml iter: 527, conv = 0.003714\n",
      "itml iter: 528, conv = 0.003699\n",
      "itml iter: 529, conv = 0.003682\n",
      "itml iter: 530, conv = 0.003658\n",
      "itml iter: 531, conv = 0.003636\n",
      "itml iter: 532, conv = 0.003614\n",
      "itml iter: 533, conv = 0.003576\n",
      "itml iter: 534, conv = 0.003531\n",
      "itml iter: 535, conv = 0.003479\n",
      "itml iter: 536, conv = 0.003426\n",
      "itml iter: 537, conv = 0.003367\n",
      "itml iter: 538, conv = 0.003309\n",
      "itml iter: 539, conv = 0.003259\n",
      "itml iter: 540, conv = 0.003204\n",
      "itml iter: 541, conv = 0.003141\n",
      "itml iter: 542, conv = 0.003085\n",
      "itml iter: 543, conv = 0.003040\n",
      "itml iter: 544, conv = 0.003005\n",
      "itml iter: 545, conv = 0.002977\n",
      "itml iter: 546, conv = 0.002946\n",
      "itml iter: 547, conv = 0.002914\n",
      "itml iter: 548, conv = 0.002877\n",
      "itml iter: 549, conv = 0.002843\n",
      "itml iter: 550, conv = 0.002819\n",
      "itml iter: 551, conv = 0.002807\n",
      "itml iter: 552, conv = 0.002795\n",
      "itml iter: 553, conv = 0.002780\n",
      "itml iter: 554, conv = 0.002779\n",
      "itml iter: 555, conv = 0.002770\n",
      "itml iter: 556, conv = 0.002760\n",
      "itml iter: 557, conv = 0.002745\n",
      "itml iter: 558, conv = 0.002733\n",
      "itml iter: 559, conv = 0.002721\n",
      "itml iter: 560, conv = 0.002707\n",
      "itml iter: 561, conv = 0.002690\n",
      "itml iter: 562, conv = 0.002674\n",
      "itml iter: 563, conv = 0.002648\n",
      "itml iter: 564, conv = 0.002614\n",
      "itml iter: 565, conv = 0.002577\n",
      "itml iter: 566, conv = 0.002536\n",
      "itml iter: 567, conv = 0.002492\n",
      "itml iter: 568, conv = 0.002447\n",
      "itml iter: 569, conv = 0.002407\n",
      "itml iter: 570, conv = 0.002369\n",
      "itml iter: 571, conv = 0.002323\n",
      "itml iter: 572, conv = 0.002277\n",
      "itml iter: 573, conv = 0.002243\n",
      "itml iter: 574, conv = 0.002216\n",
      "itml iter: 575, conv = 0.002193\n",
      "itml iter: 576, conv = 0.002170\n",
      "itml iter: 577, conv = 0.002148\n",
      "itml iter: 578, conv = 0.002121\n",
      "itml iter: 579, conv = 0.002096\n",
      "itml iter: 580, conv = 0.002076\n",
      "itml iter: 581, conv = 0.002064\n",
      "itml iter: 582, conv = 0.002055\n",
      "itml iter: 583, conv = 0.002043\n",
      "itml iter: 584, conv = 0.002034\n",
      "itml iter: 585, conv = 0.002031\n",
      "itml iter: 586, conv = 0.002024\n",
      "itml iter: 587, conv = 0.002017\n",
      "itml iter: 588, conv = 0.002006\n",
      "itml iter: 589, conv = 0.001998\n",
      "itml iter: 590, conv = 0.001988\n",
      "itml iter: 591, conv = 0.001976\n",
      "itml iter: 592, conv = 0.001964\n",
      "itml iter: 593, conv = 0.001951\n",
      "itml iter: 594, conv = 0.001928\n",
      "itml iter: 595, conv = 0.001904\n",
      "itml iter: 596, conv = 0.001875\n",
      "itml iter: 597, conv = 0.001846\n",
      "itml iter: 598, conv = 0.001815\n",
      "itml iter: 599, conv = 0.001783\n",
      "itml iter: 600, conv = 0.001756\n",
      "itml iter: 601, conv = 0.001726\n",
      "itml iter: 602, conv = 0.001692\n",
      "itml iter: 603, conv = 0.001664\n",
      "itml iter: 604, conv = 0.001640\n",
      "itml iter: 605, conv = 0.001621\n",
      "itml iter: 606, conv = 0.001607\n",
      "itml iter: 607, conv = 0.001590\n",
      "itml iter: 608, conv = 0.001572\n",
      "itml iter: 609, conv = 0.001552\n",
      "itml iter: 610, conv = 0.001535\n",
      "itml iter: 611, conv = 0.001523\n",
      "itml iter: 612, conv = 0.001516\n",
      "itml iter: 613, conv = 0.001508\n",
      "itml iter: 614, conv = 0.001500\n",
      "itml iter: 615, conv = 0.001499\n",
      "itml iter: 616, conv = 0.001496\n",
      "itml iter: 617, conv = 0.001490\n",
      "itml iter: 618, conv = 0.001482\n",
      "itml iter: 619, conv = 0.001475\n",
      "itml iter: 620, conv = 0.001469\n",
      "itml iter: 621, conv = 0.001459\n",
      "itml iter: 622, conv = 0.001450\n",
      "itml iter: 623, conv = 0.001441\n",
      "itml iter: 624, conv = 0.001426\n",
      "itml iter: 625, conv = 0.001408\n",
      "itml iter: 626, conv = 0.001388\n",
      "itml iter: 627, conv = 0.001366\n",
      "itml iter: 628, conv = 0.001343\n",
      "itml iter: 629, conv = 0.001319\n",
      "itml iter: 630, conv = 0.001298\n",
      "itml iter: 631, conv = 0.001276\n",
      "itml iter: 632, conv = 0.001251\n",
      "itml iter: 633, conv = 0.001227\n",
      "itml iter: 634, conv = 0.001209\n",
      "itml iter: 635, conv = 0.001195\n",
      "itml iter: 636, conv = 0.001183\n",
      "itml iter: 637, conv = 0.001171\n",
      "itml iter: 638, conv = 0.001159\n",
      "itml iter: 639, conv = 0.001145\n",
      "itml iter: 640, conv = 0.001132\n",
      "itml iter: 641, conv = 0.001121\n",
      "itml iter: 642, conv = 0.001115\n",
      "itml iter: 643, conv = 0.001111\n",
      "itml iter: 644, conv = 0.001104\n",
      "itml iter: 645, conv = 0.001100\n",
      "itml iter: 646, conv = 0.001098\n",
      "itml iter: 647, conv = 0.001095\n",
      "itml iter: 648, conv = 0.001091\n",
      "itml iter: 649, conv = 0.001085\n",
      "itml iter: 650, conv = 0.001080\n",
      "itml iter: 651, conv = 0.001075\n",
      "itml iter: 652, conv = 0.001068\n",
      "itml iter: 653, conv = 0.001062\n",
      "itml iter: 654, conv = 0.001054\n",
      "itml iter: 655, conv = 0.001041\n",
      "itml iter: 656, conv = 0.001028\n",
      "itml iter: 657, conv = 0.001013\n",
      "itml converged at iter: 658, conv = 0.000996\n",
      "CPU times: user 18.3 s, sys: 77.3 ms, total: 18.4 s\n",
      "Wall time: 17.7 s\n"
     ]
    },
    {
     "data": {
      "text/plain": [
       "ITML_Supervised(A0=None, bounds=None, convergence_threshold=0.001, gamma=1.0,\n",
       "        max_iter=1000, num_constraints=1000, num_labeled=inf, verbose=True)"
      ]
     },
     "execution_count": 98,
     "metadata": {},
     "output_type": "execute_result"
    }
   ],
   "source": [
    "%%time\n",
    "clf.fit(x_train_sc, y_train)"
   ]
  },
  {
   "cell_type": "code",
   "execution_count": 99,
   "metadata": {},
   "outputs": [],
   "source": [
    "i_metric = metric(clf.metric())"
   ]
  },
  {
   "cell_type": "code",
   "execution_count": 100,
   "metadata": {},
   "outputs": [
    {
     "name": "stdout",
     "output_type": "stream",
     "text": [
      "0.2101879327398615\n",
      "CPU times: user 502 ms, sys: 72 µs, total: 502 ms\n",
      "Wall time: 500 ms\n"
     ]
    }
   ],
   "source": [
    "%%time\n",
    "test_dist_matrix = pdist(x_test_sc, metric=i_metric)\n",
    "\n",
    "print(np.mean(r_precision_m(authors=y_test, matrix=pd.DataFrame(test_dist_matrix))))"
   ]
  },
  {
   "cell_type": "code",
   "execution_count": 101,
   "metadata": {},
   "outputs": [
    {
     "name": "stdout",
     "output_type": "stream",
     "text": [
      "0.24480712166172106\n",
      "CPU times: user 499 ms, sys: 7.96 ms, total: 507 ms\n",
      "Wall time: 492 ms\n"
     ]
    }
   ],
   "source": [
    "%%time\n",
    "train_dist_matrix = pdist(x_train_sc, metric=i_metric)\n",
    "\n",
    "print(np.mean(r_precision_m(authors=y_train, matrix=pd.DataFrame(train_dist_matrix))))"
   ]
  },
  {
   "cell_type": "markdown",
   "metadata": {},
   "source": [
    "#### 25 + lsml"
   ]
  },
  {
   "cell_type": "code",
   "execution_count": 102,
   "metadata": {},
   "outputs": [],
   "source": [
    "clf = LSML_Supervised(num_constraints=10, verbose=True)"
   ]
  },
  {
   "cell_type": "code",
   "execution_count": 103,
   "metadata": {},
   "outputs": [
    {
     "data": {
      "text/plain": [
       "(337, 25)"
      ]
     },
     "execution_count": 103,
     "metadata": {},
     "output_type": "execute_result"
    }
   ],
   "source": [
    "x_train_sc.shape"
   ]
  },
  {
   "cell_type": "code",
   "execution_count": 104,
   "metadata": {
    "scrolled": true
   },
   "outputs": [
    {
     "data": {
      "text/plain": [
       "1.4256993436072638e-22"
      ]
     },
     "execution_count": 104,
     "metadata": {},
     "output_type": "execute_result"
    }
   ],
   "source": [
    "np.linalg.det(np.cov((x_train_sc.T)))"
   ]
  },
  {
   "cell_type": "code",
   "execution_count": 105,
   "metadata": {},
   "outputs": [
    {
     "name": "stdout",
     "output_type": "stream",
     "text": [
      "initial loss 298.527408424312\n",
      "gradient norm 30.882785630722882\n",
      "iter 1 cost 4.188748029887815 best step 0.07742636826811278\n",
      "gradient norm 141771692.65391725\n",
      "iter 2 cost -31.964475658481945 best step 1.0\n",
      "gradient norm 85.8631656543225\n",
      "iter 3 cost -31.964475658481945 best step 6.056439338981824e-07\n",
      "CPU times: user 112 ms, sys: 4.3 ms, total: 116 ms\n",
      "Wall time: 33.4 ms\n"
     ]
    },
    {
     "data": {
      "text/plain": [
       "LSML_Supervised(max_iter=1000, num_constraints=10, num_labeled=inf,\n",
       "        prior=None, tol=0.001, verbose=True, weights=None)"
      ]
     },
     "execution_count": 105,
     "metadata": {},
     "output_type": "execute_result"
    }
   ],
   "source": [
    "%%time\n",
    "clf.fit(x_train, y_train)"
   ]
  },
  {
   "cell_type": "code",
   "execution_count": 106,
   "metadata": {},
   "outputs": [],
   "source": [
    "l_metric = metric(clf.metric())"
   ]
  },
  {
   "cell_type": "code",
   "execution_count": 107,
   "metadata": {},
   "outputs": [
    {
     "name": "stdout",
     "output_type": "stream",
     "text": [
      "0.09446092977250246\n",
      "CPU times: user 507 ms, sys: 130 µs, total: 507 ms\n",
      "Wall time: 506 ms\n"
     ]
    }
   ],
   "source": [
    "%%time\n",
    "test_dist_matrix = pdist(x_test, metric=l_metric)\n",
    "\n",
    "print(np.mean(r_precision_m(authors=y_test, matrix=pd.DataFrame(test_dist_matrix))))"
   ]
  },
  {
   "cell_type": "code",
   "execution_count": 108,
   "metadata": {},
   "outputs": [
    {
     "name": "stdout",
     "output_type": "stream",
     "text": [
      "0.08778437190900099\n",
      "CPU times: user 507 ms, sys: 4.07 ms, total: 511 ms\n",
      "Wall time: 503 ms\n"
     ]
    }
   ],
   "source": [
    "%%time\n",
    "train_dist_matrix = pdist(x_train, metric=l_metric)\n",
    "\n",
    "print(np.mean(r_precision_m(authors=y_train, matrix=pd.DataFrame(train_dist_matrix))))"
   ]
  },
  {
   "cell_type": "code",
   "execution_count": null,
   "metadata": {},
   "outputs": [],
   "source": []
  },
  {
   "cell_type": "markdown",
   "metadata": {},
   "source": [
    "### Most Frequent Words"
   ]
  },
  {
   "cell_type": "code",
   "execution_count": 56,
   "metadata": {},
   "outputs": [],
   "source": [
    "qq1 = sorted([q.rsplit('.', 1)[0] for q in os.listdir('parsed_json_cut_chunks16')])"
   ]
  },
  {
   "cell_type": "code",
   "execution_count": 57,
   "metadata": {},
   "outputs": [],
   "source": [
    "qq2 = sorted([q for q in os.listdir(\"txt_cut_chunks15\")])"
   ]
  },
  {
   "cell_type": "code",
   "execution_count": 27,
   "metadata": {},
   "outputs": [],
   "source": [
    "k = 2000"
   ]
  },
  {
   "cell_type": "code",
   "execution_count": 34,
   "metadata": {},
   "outputs": [
    {
     "name": "stdout",
     "output_type": "stream",
     "text": [
      "CPU times: user 3.43 s, sys: 155 ms, total: 3.58 s\n",
      "Wall time: 3.68 s\n"
     ]
    }
   ],
   "source": [
    "%%time\n",
    "data = []\n",
    "lengths = []\n",
    "# lengths = Counter()\n",
    "for filename in sorted(os.listdir(\"txt_cut_chunks15\")):\n",
    "    fbusta_id = int(filename.split('.')[0])\n",
    "    if get_author_id(fbusta_id, catalog) in singles:\n",
    "        continue\n",
    "    with codecs.open(os.path.join(\"txt_cut_chunks15\", filename), encoding='utf-8') as book:\n",
    "        content = book.read()\n",
    "        data.append(content)\n",
    "        lengths.append(len(re.findall(u\"(?u)\\\\b\\\\w+\\\\b\", content)))\n",
    "#         lengths[get_book_id(fbusta_id, catalog)] += len(re.findall(u\"(?u)\\\\b\\\\w+\\\\b\", content))\n",
    "# lengths = np.array(list(map(lambda t: lengths[t], book_ids)))"
   ]
  },
  {
   "cell_type": "code",
   "execution_count": 35,
   "metadata": {},
   "outputs": [
    {
     "data": {
      "text/plain": [
       "2338"
      ]
     },
     "execution_count": 35,
     "metadata": {},
     "output_type": "execute_result"
    }
   ],
   "source": [
    "len(data)"
   ]
  },
  {
   "cell_type": "code",
   "execution_count": 37,
   "metadata": {},
   "outputs": [
    {
     "data": {
      "text/plain": [
       "2338"
      ]
     },
     "execution_count": 37,
     "metadata": {},
     "output_type": "execute_result"
    }
   ],
   "source": [
    "len(authors)"
   ]
  },
  {
   "cell_type": "code",
   "execution_count": 38,
   "metadata": {
    "scrolled": true
   },
   "outputs": [
    {
     "name": "stdout",
     "output_type": "stream",
     "text": [
      "test_fraction: 0.5055603079555175\n"
     ]
    }
   ],
   "source": [
    "train_idx, test_idx = train_test_split(np.array(data), authors, return_idx=True, mod='s')\n",
    "book_ids_train, book_ids_test = book_ids[train_idx], book_ids[test_idx]\n",
    "data_train = np.array(data)[train_idx]\n",
    "authors_train = authors[train_idx]\n",
    "len_train = np.array(lengths)[train_idx]"
   ]
  },
  {
   "cell_type": "code",
   "execution_count": 71,
   "metadata": {},
   "outputs": [
    {
     "name": "stdout",
     "output_type": "stream",
     "text": [
      "test_fraction: 0.5051194539249146\n"
     ]
    }
   ],
   "source": [
    "#for 3pos\n",
    "\n",
    "data = []\n",
    "lengths = []\n",
    "for filename in sorted(os.listdir(dir_in_parsed)):\n",
    "    book_id = int(filename.split('.')[0])\n",
    "    if get_author_id(book_id, catalog) in singles:\n",
    "        continue\n",
    "    with codecs.open(os.path.join(dir_in_parsed, filename), encoding='utf-8') as book:\n",
    "        content = book.read()\n",
    "        data.append(content)\n",
    "        lengths.append(len(re.findall(u\"(?u)\\\\b\\\\w+\\\\b\", content)))\n",
    "\n",
    "train_idx, test_idx = train_test_split(np.array(data), authors, return_idx=True, mod='s')\n",
    "data_train = np.array(data)[train_idx]\n",
    "authors_train = authors[train_idx]\n",
    "len_train = np.array(lengths)[train_idx]"
   ]
  },
  {
   "cell_type": "code",
   "execution_count": 76,
   "metadata": {},
   "outputs": [
    {
     "name": "stdout",
     "output_type": "stream",
     "text": [
      "CPU times: user 19.4 s, sys: 348 ms, total: 19.8 s\n",
      "Wall time: 19.8 s\n"
     ]
    }
   ],
   "source": [
    "%%time\n",
    "tri_grams, cv_tri_grams = count_n_grams(data_train, n=3, stopgrams=stop3grams, max_features=2000) #5700"
   ]
  },
  {
   "cell_type": "code",
   "execution_count": 77,
   "metadata": {},
   "outputs": [
    {
     "data": {
      "text/plain": [
       "<1184x2000 sparse matrix of type '<class 'numpy.int64'>'\n",
       "\twith 53872 stored elements in Compressed Sparse Row format>"
      ]
     },
     "execution_count": 77,
     "metadata": {},
     "output_type": "execute_result"
    }
   ],
   "source": [
    "tri_grams"
   ]
  },
  {
   "cell_type": "code",
   "execution_count": 478,
   "metadata": {},
   "outputs": [
    {
     "data": {
      "text/plain": [
       "(0.4146884272997033, 0.4000989119683481)"
      ]
     },
     "execution_count": 478,
     "metadata": {},
     "output_type": "execute_result"
    }
   ],
   "source": [
    "td = pd.DataFrame(cv_tri_grams.transform(data_train).todense())\n",
    "td.columns = sorted(cv_tri_grams.vocabulary_) \n",
    "freqs = td.div(len_train, axis=0)\n",
    "sclr = StandardScaler().fit(freqs)\n",
    "freqs_sc = sclr.transform(freqs)\n",
    "cosine_delta = pd.DataFrame(pdist(freqs_sc, metric='cosine') / k)\n",
    "b_delta = pd.DataFrame(pdist(freqs_sc, metric='manhattan') / k)\n",
    "np.mean(r_precision_m(cosine_delta, authors_train)), np.mean(r_precision_m(b_delta, authors_train))"
   ]
  },
  {
   "cell_type": "code",
   "execution_count": 479,
   "metadata": {},
   "outputs": [],
   "source": [
    "data_test = np.array(data)[test_idx]\n",
    "authors_test = authors[test_idx]\n",
    "len_test = np.array(lengths)[test_idx]"
   ]
  },
  {
   "cell_type": "code",
   "execution_count": 480,
   "metadata": {},
   "outputs": [
    {
     "data": {
      "text/plain": [
       "(0.4047972304648863, 0.3852621167161227)"
      ]
     },
     "execution_count": 480,
     "metadata": {},
     "output_type": "execute_result"
    }
   ],
   "source": [
    "td = pd.DataFrame(cv_tri_grams.transform(data_test).todense())\n",
    "td.columns = sorted(cv_tri_grams.vocabulary_)\n",
    "\n",
    "freqs_test = td.div(len_test, axis=0)\n",
    "freqs_test_sc = sclr.transform(freqs_test)\n",
    "cosine_delta_test = pd.DataFrame(pdist(freqs_test_sc, metric='cosine') / k)\n",
    "b_delta_test = pd.DataFrame(pdist(freqs_test_sc, metric='manhattan') / k)\n",
    "np.mean(r_precision_m(cosine_delta_test, authors_test)), np.mean(r_precision_m(b_delta_test, authors_test))"
   ]
  },
  {
   "cell_type": "code",
   "execution_count": null,
   "metadata": {},
   "outputs": [],
   "source": []
  },
  {
   "cell_type": "markdown",
   "metadata": {},
   "source": [
    "#### delta"
   ]
  },
  {
   "cell_type": "code",
   "execution_count": 355,
   "metadata": {},
   "outputs": [
    {
     "data": {
      "text/plain": [
       "array(['и', 'в', 'не', 'на', 'что', 'с', 'я', 'он', 'а', 'как', 'но',\n",
       "       'его', 'к', 'это', 'она', 'все', 'по', 'у', 'из', 'за', 'так',\n",
       "       'от', 'ее', 'ты', 'же', 'было', 'о', 'бы', 'меня', 'мне', 'они',\n",
       "       'только', 'мы', 'то', 'еще', 'когда', 'если', 'был', 'для', 'вы',\n",
       "       'чтобы', 'уже', 'их', 'до', 'или', 'ему', 'да', 'даже', 'ни',\n",
       "       'нет', 'вот', 'была', 'себя', 'него', 'сказал', 'может', 'чем',\n",
       "       'время', 'были', 'со', 'очень', 'ли', 'под', 'там', 'раз', 'тебя',\n",
       "       'есть', 'ей', 'теперь', 'того', 'быть', 'где', 'будет', 'ничего',\n",
       "       'потом', 'во', 'этого', 'нас', 'тебе', 'здесь', 'этот', 'себе',\n",
       "       'тут', 'после', 'сейчас', 'этом', 'просто', 'кто', 'без', 'больше',\n",
       "       'можно', 'ну', 'через', 'них', 'том', 'вас', 'при', 'тоже', 'один',\n",
       "       'надо'], dtype=object)"
      ]
     },
     "execution_count": 355,
     "metadata": {},
     "output_type": "execute_result"
    }
   ],
   "source": [
    "lara_mfw = pd.read_csv('mfw.txt', header=None, sep=' ')[0].values[:k]\n",
    "lara_mfw"
   ]
  },
  {
   "cell_type": "code",
   "execution_count": 39,
   "metadata": {
    "scrolled": true
   },
   "outputs": [
    {
     "name": "stdout",
     "output_type": "stream",
     "text": [
      "CPU times: user 4.5 s, sys: 30.3 ms, total: 4.53 s\n",
      "Wall time: 4.53 s\n"
     ]
    }
   ],
   "source": [
    "%%time\n",
    "cv_mfw = CountVectorizer(max_features=k, token_pattern=u\"(?u)\\\\b\\\\w+\\\\b\").fit(data_train)\n",
    "td = pd.DataFrame(cv_mfw.transform(data_train).todense())\n",
    "td.columns = sorted(cv_mfw.vocabulary_) "
   ]
  },
  {
   "cell_type": "code",
   "execution_count": 40,
   "metadata": {},
   "outputs": [],
   "source": [
    "freqs = td.div(len_train, axis=0)\n",
    "sclr = StandardScaler().fit(freqs)\n",
    "freqs_sc = sclr.transform(freqs)\n",
    "cosine_delta = pd.DataFrame(pdist(freqs_sc, metric='cosine') / k)\n",
    "b_delta = pd.DataFrame(pdist(freqs_sc, metric='manhattan') / k)"
   ]
  },
  {
   "cell_type": "code",
   "execution_count": 41,
   "metadata": {
    "scrolled": true
   },
   "outputs": [
    {
     "data": {
      "text/plain": [
       "(0.34580925513666627, 0.15746084147099373)"
      ]
     },
     "execution_count": 41,
     "metadata": {},
     "output_type": "execute_result"
    }
   ],
   "source": [
    "np.mean(r_precision_m(cosine_delta, authors_train)), np.mean(r_precision_m(b_delta, authors_train))"
   ]
  },
  {
   "cell_type": "code",
   "execution_count": 73,
   "metadata": {},
   "outputs": [],
   "source": [
    "data_test = np.array(data)[test_idx]\n",
    "authors_test = authors[test_idx]\n",
    "len_test = np.array(lengths)[test_idx]"
   ]
  },
  {
   "cell_type": "code",
   "execution_count": 74,
   "metadata": {},
   "outputs": [],
   "source": [
    "td = pd.DataFrame(cv_mfw.transform(data_test).todense())\n",
    "td.columns = sorted(cv_mfw.vocabulary_)\n",
    "freqs_test = td.div(len_test, axis=0)\n",
    "freqs_test_sc = sclr.transform(freqs_test)\n",
    "cosine_delta_test = pd.DataFrame(pdist(freqs_test_sc, metric='cosine') / k)\n",
    "b_delta_test = pd.DataFrame(pdist(freqs_test_sc, metric='manhattan') / k)"
   ]
  },
  {
   "cell_type": "code",
   "execution_count": 75,
   "metadata": {},
   "outputs": [
    {
     "data": {
      "text/plain": [
       "(0.3276719793308973, 0.15158586951697686)"
      ]
     },
     "execution_count": 75,
     "metadata": {},
     "output_type": "execute_result"
    }
   ],
   "source": [
    "np.mean(r_precision_m(cosine_delta_test, authors_test)), np.mean(r_precision_m(b_delta_test, authors_test))"
   ]
  },
  {
   "cell_type": "code",
   "execution_count": 76,
   "metadata": {},
   "outputs": [
    {
     "data": {
      "text/plain": [
       "'Дом'"
      ]
     },
     "execution_count": 76,
     "metadata": {},
     "output_type": "execute_result"
    }
   ],
   "source": [
    "book_names[test_idx[3]]"
   ]
  },
  {
   "cell_type": "code",
   "execution_count": 77,
   "metadata": {},
   "outputs": [
    {
     "data": {
      "text/plain": [
       "('Абрамов', 'Дом')"
      ]
     },
     "execution_count": 77,
     "metadata": {},
     "output_type": "execute_result"
    }
   ],
   "source": [
    "get_author_name(book_fbusta_ids[test_idx[3]], catalog), get_book_name(book_fbusta_ids[test_idx[3]], catalog)"
   ]
  },
  {
   "cell_type": "code",
   "execution_count": 78,
   "metadata": {
    "scrolled": false
   },
   "outputs": [
    {
     "data": {
      "text/plain": [
       "[('Абрамов', 'Братья и сестры'),\n",
       " ('Решетников', 'Подлиповцы'),\n",
       " ('Васильев', 'Не стреляйте белых лебедей'),\n",
       " ('Гладков', 'Маша из Заполья'),\n",
       " ('Пелевин', 'Тайные виды на гору Фудзи'),\n",
       " ('Гладков', 'Маша из Заполья'),\n",
       " ('Петров', 'Двенадцать стульев'),\n",
       " ('Абрамов', 'Пути-перепутья'),\n",
       " ('Дудинцев', 'Белые одежды'),\n",
       " ('Стругацкий', 'Улитка на склоне'),\n",
       " ('Абрамов', 'Пути-перепутья'),\n",
       " ('Белов', 'Привычное дело'),\n",
       " ('Крюков', 'Новым строем'),\n",
       " ('Дудинцев', 'Белые одежды'),\n",
       " ('Абрамов', 'Дом')]"
      ]
     },
     "execution_count": 78,
     "metadata": {},
     "output_type": "execute_result"
    }
   ],
   "source": [
    "[(get_author_name(book_fbusta_ids[x], catalog), get_book_name(book_fbusta_ids[x], catalog)) for x in test_idx[cosine_delta_test[0].argsort()[:15]]]"
   ]
  },
  {
   "cell_type": "code",
   "execution_count": 68,
   "metadata": {},
   "outputs": [],
   "source": [
    "dic = {}\n",
    "for i in cosine_delta_test:\n",
    "    col = cosine_delta_test[i]\n",
    "    closest = test_idx[col.argsort()[:15].values]\n",
    "    arr = [(get_author_name(book_fbusta_ids[x], catalog), get_book_name(book_fbusta_ids[x], catalog)) for x in closest]\n",
    "    dic[arr[0]] = arr[1:]"
   ]
  },
  {
   "cell_type": "code",
   "execution_count": 69,
   "metadata": {
    "scrolled": false
   },
   "outputs": [],
   "source": [
    "from pprint import pprint\n",
    "stream = open('cosine_delta_similarity_chunks15_2kMFW', 'w')\n",
    "pprint(dic, stream)"
   ]
  },
  {
   "cell_type": "markdown",
   "metadata": {},
   "source": [
    "#### delta + xgb"
   ]
  },
  {
   "cell_type": "code",
   "execution_count": 79,
   "metadata": {},
   "outputs": [],
   "source": [
    "np.random.seed(17)\n",
    "\n",
    "y_train = authors_train\n",
    "y_test = authors_test\n",
    "x_train_sc = freqs_sc\n",
    "x_test_sc = freqs_test_sc\n",
    "CLOSE = 0\n",
    "MID = 1\n",
    "FAR = 2\n",
    "positive = []\n",
    "labels_positive = []\n",
    "for i, x1 in enumerate(x_train_sc):\n",
    "    for j, x2 in enumerate(x_train_sc):\n",
    "        if book_ids_train[i] == book_ids_train[j] and i != j:\n",
    "            positive.append(\n",
    "                np.abs(x1 - x2)\n",
    "            )\n",
    "            labels_positive.append(CLOSE)\n",
    "        elif y_train[i] == y_train[j] and i != j:\n",
    "            positive.append(\n",
    "                np.abs(x1 - x2)\n",
    "            )\n",
    "            labels_positive.append(MID)\n",
    "\n",
    "negative = []\n",
    "labels_negative = []\n",
    "while len(negative) < len(positive):\n",
    "    idx1, idx2 = np.random.choice(len(y_train), 2, replace=False)\n",
    "    if y_train[idx1] == y_train[idx2]:\n",
    "        continue\n",
    "    negative.append(\n",
    "        np.abs(x_train_sc[idx1] - x_train_sc[idx2])\n",
    "    )\n",
    "    labels_negative.append(FAR)\n",
    "\n",
    "data_train = [*positive, *negative]\n",
    "labels_train = [*labels_positive, *labels_negative]\n",
    "\n",
    "positive_test = []\n",
    "labels_positive_test = []\n",
    "for i, x1 in enumerate(x_test_sc):\n",
    "    for j, x2 in enumerate(x_test_sc):\n",
    "        if book_ids_test[i] == book_ids_test[j] and i != j:\n",
    "            positive_test.append(\n",
    "                np.abs(x1 - x2)\n",
    "            )\n",
    "            labels_positive_test.append(CLOSE)\n",
    "        elif y_test[i] == y_test[j] and i != j:\n",
    "            positive_test.append(\n",
    "                np.abs(x1 - x2)\n",
    "            )\n",
    "            labels_positive_test.append(MID)\n",
    "            \n",
    "negative_test = []\n",
    "labels_negative_test = []\n",
    "while len(negative_test) < len(positive_test):\n",
    "    idx1, idx2 = np.random.choice(len(y_test), 2, replace=False)\n",
    "    if y_test[idx1] == y_test[idx2]:\n",
    "        continue\n",
    "    negative_test.append(\n",
    "        np.abs(x_test_sc[idx1] - x_test_sc[idx2])\n",
    "    )\n",
    "    labels_negative_test.append(FAR)\n",
    "    \n",
    "data_test = [*positive_test, *negative_test]\n",
    "labels_test = [*labels_positive_test, *labels_negative_test]\n",
    "\n",
    "eval_set = [(data_train, labels_train), (data_test, labels_test)]"
   ]
  },
  {
   "cell_type": "code",
   "execution_count": 80,
   "metadata": {},
   "outputs": [
    {
     "name": "stdout",
     "output_type": "stream",
     "text": [
      "eu train rpec: 0.12987700404226185\n",
      "eu test rpec: 0.1213423962155999\n",
      "CPU times: user 7.04 s, sys: 71.8 ms, total: 7.12 s\n",
      "Wall time: 6.13 s\n"
     ]
    }
   ],
   "source": [
    "%%time\n",
    "eu_train_matrix = pdist(x_train_sc)\n",
    "eu_test_matrix = pdist(x_test_sc)\n",
    "print(\"eu train rpec:\", np.mean(r_precision_m(matrix=pd.DataFrame(eu_train_matrix), authors=y_train)))\n",
    "print(\"eu test rpec:\", np.mean(r_precision_m(matrix=pd.DataFrame(eu_test_matrix), authors=y_test)))"
   ]
  },
  {
   "cell_type": "code",
   "execution_count": 81,
   "metadata": {},
   "outputs": [],
   "source": [
    "xreg = XGBRegressor(objective ='reg:linear', n_jobs=1, booster='gbtree', n_estimators=2000, subsample=0.7)"
   ]
  },
  {
   "cell_type": "code",
   "execution_count": 82,
   "metadata": {},
   "outputs": [
    {
     "name": "stdout",
     "output_type": "stream",
     "text": [
      "[0]\tvalidation_0-rmse:1.0396\tvalidation_1-rmse:1.03964\n",
      "Multiple eval metrics have been passed: 'validation_1-rmse' will be used for early stopping.\n",
      "\n",
      "Will train until validation_1-rmse hasn't improved in 200 rounds.\n",
      "[1]\tvalidation_0-rmse:0.97107\tvalidation_1-rmse:0.971262\n",
      "[2]\tvalidation_0-rmse:0.912059\tvalidation_1-rmse:0.912285\n",
      "[3]\tvalidation_0-rmse:0.860604\tvalidation_1-rmse:0.860901\n",
      "[4]\tvalidation_0-rmse:0.81657\tvalidation_1-rmse:0.817104\n",
      "[5]\tvalidation_0-rmse:0.778487\tvalidation_1-rmse:0.779105\n",
      "[6]\tvalidation_0-rmse:0.746246\tvalidation_1-rmse:0.747896\n",
      "[7]\tvalidation_0-rmse:0.718136\tvalidation_1-rmse:0.720209\n",
      "[8]\tvalidation_0-rmse:0.694569\tvalidation_1-rmse:0.697\n",
      "[9]\tvalidation_0-rmse:0.674616\tvalidation_1-rmse:0.677632\n",
      "[10]\tvalidation_0-rmse:0.657625\tvalidation_1-rmse:0.660936\n",
      "[11]\tvalidation_0-rmse:0.643257\tvalidation_1-rmse:0.646963\n",
      "[12]\tvalidation_0-rmse:0.630815\tvalidation_1-rmse:0.635228\n",
      "[13]\tvalidation_0-rmse:0.620182\tvalidation_1-rmse:0.624794\n",
      "[14]\tvalidation_0-rmse:0.610968\tvalidation_1-rmse:0.616149\n",
      "[15]\tvalidation_0-rmse:0.603229\tvalidation_1-rmse:0.608915\n",
      "[16]\tvalidation_0-rmse:0.59642\tvalidation_1-rmse:0.60249\n",
      "[17]\tvalidation_0-rmse:0.59043\tvalidation_1-rmse:0.596894\n",
      "[18]\tvalidation_0-rmse:0.585409\tvalidation_1-rmse:0.592388\n",
      "[19]\tvalidation_0-rmse:0.580653\tvalidation_1-rmse:0.588224\n",
      "[20]\tvalidation_0-rmse:0.576499\tvalidation_1-rmse:0.584918\n",
      "[21]\tvalidation_0-rmse:0.572605\tvalidation_1-rmse:0.581615\n",
      "[22]\tvalidation_0-rmse:0.569424\tvalidation_1-rmse:0.579055\n",
      "[23]\tvalidation_0-rmse:0.566222\tvalidation_1-rmse:0.57663\n",
      "[24]\tvalidation_0-rmse:0.563539\tvalidation_1-rmse:0.574315\n",
      "[25]\tvalidation_0-rmse:0.560901\tvalidation_1-rmse:0.572351\n",
      "[26]\tvalidation_0-rmse:0.558626\tvalidation_1-rmse:0.570857\n",
      "[27]\tvalidation_0-rmse:0.556697\tvalidation_1-rmse:0.569404\n",
      "[28]\tvalidation_0-rmse:0.554645\tvalidation_1-rmse:0.567851\n",
      "[29]\tvalidation_0-rmse:0.552698\tvalidation_1-rmse:0.56659\n",
      "[30]\tvalidation_0-rmse:0.550899\tvalidation_1-rmse:0.565635\n",
      "[31]\tvalidation_0-rmse:0.548973\tvalidation_1-rmse:0.563982\n",
      "[32]\tvalidation_0-rmse:0.54712\tvalidation_1-rmse:0.562632\n",
      "[33]\tvalidation_0-rmse:0.545395\tvalidation_1-rmse:0.561589\n",
      "[34]\tvalidation_0-rmse:0.543793\tvalidation_1-rmse:0.560541\n",
      "[35]\tvalidation_0-rmse:0.542101\tvalidation_1-rmse:0.559088\n",
      "[36]\tvalidation_0-rmse:0.540409\tvalidation_1-rmse:0.557957\n",
      "[37]\tvalidation_0-rmse:0.539127\tvalidation_1-rmse:0.557113\n",
      "[38]\tvalidation_0-rmse:0.537608\tvalidation_1-rmse:0.556069\n",
      "[39]\tvalidation_0-rmse:0.536073\tvalidation_1-rmse:0.555117\n",
      "[40]\tvalidation_0-rmse:0.53468\tvalidation_1-rmse:0.553974\n",
      "[41]\tvalidation_0-rmse:0.533207\tvalidation_1-rmse:0.552944\n",
      "[42]\tvalidation_0-rmse:0.531605\tvalidation_1-rmse:0.552365\n",
      "[43]\tvalidation_0-rmse:0.530227\tvalidation_1-rmse:0.551676\n",
      "[44]\tvalidation_0-rmse:0.528809\tvalidation_1-rmse:0.550877\n",
      "[45]\tvalidation_0-rmse:0.527477\tvalidation_1-rmse:0.550242\n",
      "[46]\tvalidation_0-rmse:0.526175\tvalidation_1-rmse:0.549239\n",
      "[47]\tvalidation_0-rmse:0.524728\tvalidation_1-rmse:0.548343\n",
      "[48]\tvalidation_0-rmse:0.523336\tvalidation_1-rmse:0.547711\n",
      "[49]\tvalidation_0-rmse:0.522014\tvalidation_1-rmse:0.54706\n",
      "[50]\tvalidation_0-rmse:0.520753\tvalidation_1-rmse:0.546187\n",
      "[51]\tvalidation_0-rmse:0.519603\tvalidation_1-rmse:0.545577\n",
      "[52]\tvalidation_0-rmse:0.518295\tvalidation_1-rmse:0.544897\n",
      "[53]\tvalidation_0-rmse:0.517049\tvalidation_1-rmse:0.544075\n",
      "[54]\tvalidation_0-rmse:0.515838\tvalidation_1-rmse:0.543317\n",
      "[55]\tvalidation_0-rmse:0.514506\tvalidation_1-rmse:0.542361\n",
      "[56]\tvalidation_0-rmse:0.513292\tvalidation_1-rmse:0.541721\n",
      "[57]\tvalidation_0-rmse:0.512149\tvalidation_1-rmse:0.540806\n",
      "[58]\tvalidation_0-rmse:0.510921\tvalidation_1-rmse:0.540089\n",
      "[59]\tvalidation_0-rmse:0.509795\tvalidation_1-rmse:0.539652\n",
      "[60]\tvalidation_0-rmse:0.508713\tvalidation_1-rmse:0.538895\n",
      "[61]\tvalidation_0-rmse:0.507553\tvalidation_1-rmse:0.53845\n",
      "[62]\tvalidation_0-rmse:0.506385\tvalidation_1-rmse:0.537686\n",
      "[63]\tvalidation_0-rmse:0.505343\tvalidation_1-rmse:0.537169\n",
      "[64]\tvalidation_0-rmse:0.504249\tvalidation_1-rmse:0.536603\n",
      "[65]\tvalidation_0-rmse:0.503006\tvalidation_1-rmse:0.535821\n",
      "[66]\tvalidation_0-rmse:0.501929\tvalidation_1-rmse:0.535269\n",
      "[67]\tvalidation_0-rmse:0.500736\tvalidation_1-rmse:0.534621\n",
      "[68]\tvalidation_0-rmse:0.499744\tvalidation_1-rmse:0.534272\n",
      "[69]\tvalidation_0-rmse:0.498656\tvalidation_1-rmse:0.533544\n",
      "[70]\tvalidation_0-rmse:0.497722\tvalidation_1-rmse:0.533007\n",
      "[71]\tvalidation_0-rmse:0.49673\tvalidation_1-rmse:0.532723\n",
      "[72]\tvalidation_0-rmse:0.495774\tvalidation_1-rmse:0.532325\n",
      "[73]\tvalidation_0-rmse:0.494657\tvalidation_1-rmse:0.531917\n",
      "[74]\tvalidation_0-rmse:0.493637\tvalidation_1-rmse:0.53153\n",
      "[75]\tvalidation_0-rmse:0.492707\tvalidation_1-rmse:0.531094\n",
      "[76]\tvalidation_0-rmse:0.491859\tvalidation_1-rmse:0.530733\n",
      "[77]\tvalidation_0-rmse:0.490864\tvalidation_1-rmse:0.530155\n",
      "[78]\tvalidation_0-rmse:0.489832\tvalidation_1-rmse:0.529713\n",
      "[79]\tvalidation_0-rmse:0.488918\tvalidation_1-rmse:0.529414\n",
      "[80]\tvalidation_0-rmse:0.487869\tvalidation_1-rmse:0.529053\n",
      "[81]\tvalidation_0-rmse:0.486952\tvalidation_1-rmse:0.528827\n",
      "[82]\tvalidation_0-rmse:0.485889\tvalidation_1-rmse:0.528441\n",
      "[83]\tvalidation_0-rmse:0.485102\tvalidation_1-rmse:0.527983\n",
      "[84]\tvalidation_0-rmse:0.484151\tvalidation_1-rmse:0.527641\n",
      "[85]\tvalidation_0-rmse:0.483427\tvalidation_1-rmse:0.527282\n",
      "[86]\tvalidation_0-rmse:0.482565\tvalidation_1-rmse:0.526948\n",
      "[87]\tvalidation_0-rmse:0.481803\tvalidation_1-rmse:0.526569\n",
      "[88]\tvalidation_0-rmse:0.480844\tvalidation_1-rmse:0.526048\n",
      "[89]\tvalidation_0-rmse:0.480004\tvalidation_1-rmse:0.525614\n",
      "[90]\tvalidation_0-rmse:0.479281\tvalidation_1-rmse:0.525366\n",
      "[91]\tvalidation_0-rmse:0.478339\tvalidation_1-rmse:0.524938\n",
      "[92]\tvalidation_0-rmse:0.477342\tvalidation_1-rmse:0.524373\n",
      "[93]\tvalidation_0-rmse:0.476352\tvalidation_1-rmse:0.523862\n",
      "[94]\tvalidation_0-rmse:0.475467\tvalidation_1-rmse:0.523608\n",
      "[95]\tvalidation_0-rmse:0.474742\tvalidation_1-rmse:0.523172\n",
      "[96]\tvalidation_0-rmse:0.473867\tvalidation_1-rmse:0.522832\n",
      "[97]\tvalidation_0-rmse:0.47304\tvalidation_1-rmse:0.522427\n",
      "[98]\tvalidation_0-rmse:0.472358\tvalidation_1-rmse:0.522108\n",
      "[99]\tvalidation_0-rmse:0.471587\tvalidation_1-rmse:0.521729\n",
      "[100]\tvalidation_0-rmse:0.470792\tvalidation_1-rmse:0.521608\n",
      "[101]\tvalidation_0-rmse:0.46992\tvalidation_1-rmse:0.521139\n",
      "[102]\tvalidation_0-rmse:0.469031\tvalidation_1-rmse:0.520919\n",
      "[103]\tvalidation_0-rmse:0.46828\tvalidation_1-rmse:0.520617\n",
      "[104]\tvalidation_0-rmse:0.467451\tvalidation_1-rmse:0.520314\n",
      "[105]\tvalidation_0-rmse:0.466728\tvalidation_1-rmse:0.519982\n",
      "[106]\tvalidation_0-rmse:0.465969\tvalidation_1-rmse:0.519704\n",
      "[107]\tvalidation_0-rmse:0.465229\tvalidation_1-rmse:0.519478\n",
      "[108]\tvalidation_0-rmse:0.464628\tvalidation_1-rmse:0.519362\n",
      "[109]\tvalidation_0-rmse:0.463842\tvalidation_1-rmse:0.518981\n",
      "[110]\tvalidation_0-rmse:0.463096\tvalidation_1-rmse:0.518609\n",
      "[111]\tvalidation_0-rmse:0.462331\tvalidation_1-rmse:0.518253\n",
      "[112]\tvalidation_0-rmse:0.46164\tvalidation_1-rmse:0.517889\n",
      "[113]\tvalidation_0-rmse:0.460859\tvalidation_1-rmse:0.517582\n",
      "[114]\tvalidation_0-rmse:0.460146\tvalidation_1-rmse:0.517228\n",
      "[115]\tvalidation_0-rmse:0.459399\tvalidation_1-rmse:0.516956\n",
      "[116]\tvalidation_0-rmse:0.458728\tvalidation_1-rmse:0.516609\n",
      "[117]\tvalidation_0-rmse:0.457971\tvalidation_1-rmse:0.516415\n",
      "[118]\tvalidation_0-rmse:0.457415\tvalidation_1-rmse:0.516155\n",
      "[119]\tvalidation_0-rmse:0.45653\tvalidation_1-rmse:0.515963\n",
      "[120]\tvalidation_0-rmse:0.45584\tvalidation_1-rmse:0.515776\n",
      "[121]\tvalidation_0-rmse:0.455323\tvalidation_1-rmse:0.515631\n",
      "[122]\tvalidation_0-rmse:0.454607\tvalidation_1-rmse:0.515376\n",
      "[123]\tvalidation_0-rmse:0.453829\tvalidation_1-rmse:0.515012\n",
      "[124]\tvalidation_0-rmse:0.45303\tvalidation_1-rmse:0.514732\n",
      "[125]\tvalidation_0-rmse:0.45247\tvalidation_1-rmse:0.514684\n",
      "[126]\tvalidation_0-rmse:0.451743\tvalidation_1-rmse:0.514396\n",
      "[127]\tvalidation_0-rmse:0.450961\tvalidation_1-rmse:0.514179\n",
      "[128]\tvalidation_0-rmse:0.450407\tvalidation_1-rmse:0.51407\n",
      "[129]\tvalidation_0-rmse:0.449809\tvalidation_1-rmse:0.513974\n",
      "[130]\tvalidation_0-rmse:0.449406\tvalidation_1-rmse:0.513835\n",
      "[131]\tvalidation_0-rmse:0.448653\tvalidation_1-rmse:0.513532\n",
      "[132]\tvalidation_0-rmse:0.448022\tvalidation_1-rmse:0.513388\n",
      "[133]\tvalidation_0-rmse:0.447313\tvalidation_1-rmse:0.513179\n",
      "[134]\tvalidation_0-rmse:0.446714\tvalidation_1-rmse:0.513185\n",
      "[135]\tvalidation_0-rmse:0.446129\tvalidation_1-rmse:0.513073\n",
      "[136]\tvalidation_0-rmse:0.445584\tvalidation_1-rmse:0.512899\n"
     ]
    },
    {
     "name": "stdout",
     "output_type": "stream",
     "text": [
      "[137]\tvalidation_0-rmse:0.445094\tvalidation_1-rmse:0.512667\n",
      "[138]\tvalidation_0-rmse:0.4445\tvalidation_1-rmse:0.512461\n",
      "[139]\tvalidation_0-rmse:0.443901\tvalidation_1-rmse:0.512285\n",
      "[140]\tvalidation_0-rmse:0.443337\tvalidation_1-rmse:0.511976\n",
      "[141]\tvalidation_0-rmse:0.442684\tvalidation_1-rmse:0.5118\n",
      "[142]\tvalidation_0-rmse:0.442082\tvalidation_1-rmse:0.511611\n",
      "[143]\tvalidation_0-rmse:0.441381\tvalidation_1-rmse:0.511313\n",
      "[144]\tvalidation_0-rmse:0.440631\tvalidation_1-rmse:0.511118\n",
      "[145]\tvalidation_0-rmse:0.439982\tvalidation_1-rmse:0.510982\n",
      "[146]\tvalidation_0-rmse:0.439178\tvalidation_1-rmse:0.51047\n",
      "[147]\tvalidation_0-rmse:0.438672\tvalidation_1-rmse:0.510331\n",
      "[148]\tvalidation_0-rmse:0.438025\tvalidation_1-rmse:0.510155\n",
      "[149]\tvalidation_0-rmse:0.437369\tvalidation_1-rmse:0.509904\n",
      "[150]\tvalidation_0-rmse:0.436828\tvalidation_1-rmse:0.509878\n",
      "[151]\tvalidation_0-rmse:0.436098\tvalidation_1-rmse:0.509796\n",
      "[152]\tvalidation_0-rmse:0.435483\tvalidation_1-rmse:0.509588\n",
      "[153]\tvalidation_0-rmse:0.434787\tvalidation_1-rmse:0.509364\n",
      "[154]\tvalidation_0-rmse:0.43427\tvalidation_1-rmse:0.509248\n",
      "[155]\tvalidation_0-rmse:0.433802\tvalidation_1-rmse:0.509146\n",
      "[156]\tvalidation_0-rmse:0.433158\tvalidation_1-rmse:0.509005\n",
      "[157]\tvalidation_0-rmse:0.432648\tvalidation_1-rmse:0.508851\n",
      "[158]\tvalidation_0-rmse:0.432192\tvalidation_1-rmse:0.508631\n",
      "[159]\tvalidation_0-rmse:0.431731\tvalidation_1-rmse:0.508568\n",
      "[160]\tvalidation_0-rmse:0.431222\tvalidation_1-rmse:0.508511\n",
      "[161]\tvalidation_0-rmse:0.430732\tvalidation_1-rmse:0.508393\n",
      "[162]\tvalidation_0-rmse:0.430259\tvalidation_1-rmse:0.508407\n",
      "[163]\tvalidation_0-rmse:0.429761\tvalidation_1-rmse:0.508231\n",
      "[164]\tvalidation_0-rmse:0.42915\tvalidation_1-rmse:0.507955\n",
      "[165]\tvalidation_0-rmse:0.428515\tvalidation_1-rmse:0.507798\n",
      "[166]\tvalidation_0-rmse:0.427984\tvalidation_1-rmse:0.507558\n",
      "[167]\tvalidation_0-rmse:0.42743\tvalidation_1-rmse:0.507364\n",
      "[168]\tvalidation_0-rmse:0.426924\tvalidation_1-rmse:0.507256\n",
      "[169]\tvalidation_0-rmse:0.426462\tvalidation_1-rmse:0.50712\n",
      "[170]\tvalidation_0-rmse:0.425915\tvalidation_1-rmse:0.50682\n",
      "[171]\tvalidation_0-rmse:0.425399\tvalidation_1-rmse:0.506768\n",
      "[172]\tvalidation_0-rmse:0.424814\tvalidation_1-rmse:0.506641\n",
      "[173]\tvalidation_0-rmse:0.424337\tvalidation_1-rmse:0.506477\n",
      "[174]\tvalidation_0-rmse:0.423751\tvalidation_1-rmse:0.506256\n",
      "[175]\tvalidation_0-rmse:0.423179\tvalidation_1-rmse:0.506192\n",
      "[176]\tvalidation_0-rmse:0.422706\tvalidation_1-rmse:0.506045\n",
      "[177]\tvalidation_0-rmse:0.422176\tvalidation_1-rmse:0.505835\n",
      "[178]\tvalidation_0-rmse:0.421642\tvalidation_1-rmse:0.50569\n",
      "[179]\tvalidation_0-rmse:0.421096\tvalidation_1-rmse:0.505556\n",
      "[180]\tvalidation_0-rmse:0.420553\tvalidation_1-rmse:0.50529\n",
      "[181]\tvalidation_0-rmse:0.420016\tvalidation_1-rmse:0.505154\n",
      "[182]\tvalidation_0-rmse:0.419533\tvalidation_1-rmse:0.504982\n",
      "[183]\tvalidation_0-rmse:0.418965\tvalidation_1-rmse:0.504838\n",
      "[184]\tvalidation_0-rmse:0.418415\tvalidation_1-rmse:0.504747\n",
      "[185]\tvalidation_0-rmse:0.418058\tvalidation_1-rmse:0.504695\n",
      "[186]\tvalidation_0-rmse:0.417415\tvalidation_1-rmse:0.504569\n",
      "[187]\tvalidation_0-rmse:0.416885\tvalidation_1-rmse:0.504481\n",
      "[188]\tvalidation_0-rmse:0.416354\tvalidation_1-rmse:0.504199\n",
      "[189]\tvalidation_0-rmse:0.415896\tvalidation_1-rmse:0.50407\n",
      "[190]\tvalidation_0-rmse:0.415468\tvalidation_1-rmse:0.503975\n",
      "[191]\tvalidation_0-rmse:0.415045\tvalidation_1-rmse:0.503921\n",
      "[192]\tvalidation_0-rmse:0.414591\tvalidation_1-rmse:0.503798\n",
      "[193]\tvalidation_0-rmse:0.413967\tvalidation_1-rmse:0.503725\n",
      "[194]\tvalidation_0-rmse:0.413422\tvalidation_1-rmse:0.503575\n",
      "[195]\tvalidation_0-rmse:0.412838\tvalidation_1-rmse:0.503342\n",
      "[196]\tvalidation_0-rmse:0.412374\tvalidation_1-rmse:0.503325\n",
      "[197]\tvalidation_0-rmse:0.4118\tvalidation_1-rmse:0.50329\n",
      "[198]\tvalidation_0-rmse:0.411348\tvalidation_1-rmse:0.503213\n",
      "[199]\tvalidation_0-rmse:0.410856\tvalidation_1-rmse:0.503159\n",
      "[200]\tvalidation_0-rmse:0.410361\tvalidation_1-rmse:0.502999\n",
      "[201]\tvalidation_0-rmse:0.409871\tvalidation_1-rmse:0.502847\n",
      "[202]\tvalidation_0-rmse:0.409466\tvalidation_1-rmse:0.50281\n",
      "[203]\tvalidation_0-rmse:0.408988\tvalidation_1-rmse:0.502755\n",
      "[204]\tvalidation_0-rmse:0.408333\tvalidation_1-rmse:0.502471\n",
      "[205]\tvalidation_0-rmse:0.407825\tvalidation_1-rmse:0.502361\n",
      "[206]\tvalidation_0-rmse:0.407297\tvalidation_1-rmse:0.502272\n",
      "[207]\tvalidation_0-rmse:0.406863\tvalidation_1-rmse:0.502065\n",
      "[208]\tvalidation_0-rmse:0.406319\tvalidation_1-rmse:0.50195\n",
      "[209]\tvalidation_0-rmse:0.405884\tvalidation_1-rmse:0.50193\n",
      "[210]\tvalidation_0-rmse:0.405436\tvalidation_1-rmse:0.501875\n",
      "[211]\tvalidation_0-rmse:0.404935\tvalidation_1-rmse:0.501926\n",
      "[212]\tvalidation_0-rmse:0.404394\tvalidation_1-rmse:0.501835\n",
      "[213]\tvalidation_0-rmse:0.403895\tvalidation_1-rmse:0.501742\n",
      "[214]\tvalidation_0-rmse:0.403419\tvalidation_1-rmse:0.501594\n",
      "[215]\tvalidation_0-rmse:0.402939\tvalidation_1-rmse:0.501417\n",
      "[216]\tvalidation_0-rmse:0.402385\tvalidation_1-rmse:0.501355\n",
      "[217]\tvalidation_0-rmse:0.401896\tvalidation_1-rmse:0.501218\n",
      "[218]\tvalidation_0-rmse:0.401388\tvalidation_1-rmse:0.500938\n",
      "[219]\tvalidation_0-rmse:0.400914\tvalidation_1-rmse:0.50077\n",
      "[220]\tvalidation_0-rmse:0.400413\tvalidation_1-rmse:0.50057\n",
      "[221]\tvalidation_0-rmse:0.400076\tvalidation_1-rmse:0.500523\n",
      "[222]\tvalidation_0-rmse:0.399612\tvalidation_1-rmse:0.500399\n",
      "[223]\tvalidation_0-rmse:0.39912\tvalidation_1-rmse:0.500308\n",
      "[224]\tvalidation_0-rmse:0.398664\tvalidation_1-rmse:0.500221\n",
      "[225]\tvalidation_0-rmse:0.398158\tvalidation_1-rmse:0.500085\n",
      "[226]\tvalidation_0-rmse:0.397776\tvalidation_1-rmse:0.500055\n",
      "[227]\tvalidation_0-rmse:0.39735\tvalidation_1-rmse:0.499943\n",
      "[228]\tvalidation_0-rmse:0.39705\tvalidation_1-rmse:0.499867\n",
      "[229]\tvalidation_0-rmse:0.39665\tvalidation_1-rmse:0.499669\n",
      "[230]\tvalidation_0-rmse:0.396194\tvalidation_1-rmse:0.499681\n",
      "[231]\tvalidation_0-rmse:0.395832\tvalidation_1-rmse:0.499578\n",
      "[232]\tvalidation_0-rmse:0.395438\tvalidation_1-rmse:0.499411\n",
      "[233]\tvalidation_0-rmse:0.395107\tvalidation_1-rmse:0.499375\n",
      "[234]\tvalidation_0-rmse:0.394686\tvalidation_1-rmse:0.499161\n",
      "[235]\tvalidation_0-rmse:0.394263\tvalidation_1-rmse:0.499066\n",
      "[236]\tvalidation_0-rmse:0.393974\tvalidation_1-rmse:0.498976\n",
      "[237]\tvalidation_0-rmse:0.393507\tvalidation_1-rmse:0.498823\n",
      "[238]\tvalidation_0-rmse:0.393064\tvalidation_1-rmse:0.498725\n",
      "[239]\tvalidation_0-rmse:0.392628\tvalidation_1-rmse:0.498658\n",
      "[240]\tvalidation_0-rmse:0.392095\tvalidation_1-rmse:0.498661\n",
      "[241]\tvalidation_0-rmse:0.391661\tvalidation_1-rmse:0.498514\n",
      "[242]\tvalidation_0-rmse:0.391155\tvalidation_1-rmse:0.498451\n",
      "[243]\tvalidation_0-rmse:0.39069\tvalidation_1-rmse:0.498333\n",
      "[244]\tvalidation_0-rmse:0.390321\tvalidation_1-rmse:0.498283\n",
      "[245]\tvalidation_0-rmse:0.390044\tvalidation_1-rmse:0.498226\n",
      "[246]\tvalidation_0-rmse:0.389705\tvalidation_1-rmse:0.498177\n",
      "[247]\tvalidation_0-rmse:0.389276\tvalidation_1-rmse:0.497999\n",
      "[248]\tvalidation_0-rmse:0.388813\tvalidation_1-rmse:0.497954\n",
      "[249]\tvalidation_0-rmse:0.388438\tvalidation_1-rmse:0.497824\n",
      "[250]\tvalidation_0-rmse:0.388031\tvalidation_1-rmse:0.497749\n",
      "[251]\tvalidation_0-rmse:0.387544\tvalidation_1-rmse:0.497623\n",
      "[252]\tvalidation_0-rmse:0.387067\tvalidation_1-rmse:0.497625\n",
      "[253]\tvalidation_0-rmse:0.38668\tvalidation_1-rmse:0.497564\n",
      "[254]\tvalidation_0-rmse:0.386191\tvalidation_1-rmse:0.497416\n",
      "[255]\tvalidation_0-rmse:0.385821\tvalidation_1-rmse:0.497381\n",
      "[256]\tvalidation_0-rmse:0.385364\tvalidation_1-rmse:0.497264\n",
      "[257]\tvalidation_0-rmse:0.384918\tvalidation_1-rmse:0.497224\n",
      "[258]\tvalidation_0-rmse:0.384493\tvalidation_1-rmse:0.497089\n",
      "[259]\tvalidation_0-rmse:0.384136\tvalidation_1-rmse:0.497113\n",
      "[260]\tvalidation_0-rmse:0.383679\tvalidation_1-rmse:0.497093\n",
      "[261]\tvalidation_0-rmse:0.383289\tvalidation_1-rmse:0.496907\n",
      "[262]\tvalidation_0-rmse:0.382891\tvalidation_1-rmse:0.496705\n",
      "[263]\tvalidation_0-rmse:0.382427\tvalidation_1-rmse:0.496624\n",
      "[264]\tvalidation_0-rmse:0.382066\tvalidation_1-rmse:0.496515\n",
      "[265]\tvalidation_0-rmse:0.381739\tvalidation_1-rmse:0.496451\n",
      "[266]\tvalidation_0-rmse:0.381339\tvalidation_1-rmse:0.49642\n",
      "[267]\tvalidation_0-rmse:0.380946\tvalidation_1-rmse:0.496357\n",
      "[268]\tvalidation_0-rmse:0.380519\tvalidation_1-rmse:0.496253\n",
      "[269]\tvalidation_0-rmse:0.380051\tvalidation_1-rmse:0.496192\n",
      "[270]\tvalidation_0-rmse:0.379566\tvalidation_1-rmse:0.496057\n",
      "[271]\tvalidation_0-rmse:0.37918\tvalidation_1-rmse:0.496005\n",
      "[272]\tvalidation_0-rmse:0.378833\tvalidation_1-rmse:0.495995\n",
      "[273]\tvalidation_0-rmse:0.378565\tvalidation_1-rmse:0.495921\n",
      "[274]\tvalidation_0-rmse:0.378233\tvalidation_1-rmse:0.495931\n"
     ]
    },
    {
     "name": "stdout",
     "output_type": "stream",
     "text": [
      "[275]\tvalidation_0-rmse:0.377817\tvalidation_1-rmse:0.495777\n",
      "[276]\tvalidation_0-rmse:0.377453\tvalidation_1-rmse:0.495725\n",
      "[277]\tvalidation_0-rmse:0.377007\tvalidation_1-rmse:0.495631\n",
      "[278]\tvalidation_0-rmse:0.376708\tvalidation_1-rmse:0.495453\n",
      "[279]\tvalidation_0-rmse:0.376294\tvalidation_1-rmse:0.495336\n",
      "[280]\tvalidation_0-rmse:0.375989\tvalidation_1-rmse:0.495231\n",
      "[281]\tvalidation_0-rmse:0.375557\tvalidation_1-rmse:0.495203\n",
      "[282]\tvalidation_0-rmse:0.375112\tvalidation_1-rmse:0.49518\n",
      "[283]\tvalidation_0-rmse:0.374803\tvalidation_1-rmse:0.495063\n",
      "[284]\tvalidation_0-rmse:0.374371\tvalidation_1-rmse:0.494934\n",
      "[285]\tvalidation_0-rmse:0.373923\tvalidation_1-rmse:0.494738\n",
      "[286]\tvalidation_0-rmse:0.373598\tvalidation_1-rmse:0.494645\n",
      "[287]\tvalidation_0-rmse:0.373233\tvalidation_1-rmse:0.494713\n",
      "[288]\tvalidation_0-rmse:0.372995\tvalidation_1-rmse:0.494712\n",
      "[289]\tvalidation_0-rmse:0.372563\tvalidation_1-rmse:0.494816\n",
      "[290]\tvalidation_0-rmse:0.372293\tvalidation_1-rmse:0.494831\n",
      "[291]\tvalidation_0-rmse:0.371945\tvalidation_1-rmse:0.494747\n",
      "[292]\tvalidation_0-rmse:0.371615\tvalidation_1-rmse:0.494604\n",
      "[293]\tvalidation_0-rmse:0.371247\tvalidation_1-rmse:0.49463\n",
      "[294]\tvalidation_0-rmse:0.370998\tvalidation_1-rmse:0.494612\n",
      "[295]\tvalidation_0-rmse:0.370806\tvalidation_1-rmse:0.494606\n",
      "[296]\tvalidation_0-rmse:0.370357\tvalidation_1-rmse:0.494471\n",
      "[297]\tvalidation_0-rmse:0.370065\tvalidation_1-rmse:0.494387\n",
      "[298]\tvalidation_0-rmse:0.369623\tvalidation_1-rmse:0.494275\n",
      "[299]\tvalidation_0-rmse:0.369197\tvalidation_1-rmse:0.494133\n",
      "[300]\tvalidation_0-rmse:0.368775\tvalidation_1-rmse:0.493987\n",
      "[301]\tvalidation_0-rmse:0.368539\tvalidation_1-rmse:0.493938\n",
      "[302]\tvalidation_0-rmse:0.368238\tvalidation_1-rmse:0.493928\n",
      "[303]\tvalidation_0-rmse:0.367895\tvalidation_1-rmse:0.493891\n",
      "[304]\tvalidation_0-rmse:0.367586\tvalidation_1-rmse:0.493802\n",
      "[305]\tvalidation_0-rmse:0.367331\tvalidation_1-rmse:0.493683\n",
      "[306]\tvalidation_0-rmse:0.366988\tvalidation_1-rmse:0.493564\n",
      "[307]\tvalidation_0-rmse:0.366592\tvalidation_1-rmse:0.493549\n",
      "[308]\tvalidation_0-rmse:0.366205\tvalidation_1-rmse:0.493505\n",
      "[309]\tvalidation_0-rmse:0.365781\tvalidation_1-rmse:0.493435\n",
      "[310]\tvalidation_0-rmse:0.36551\tvalidation_1-rmse:0.493306\n",
      "[311]\tvalidation_0-rmse:0.36522\tvalidation_1-rmse:0.493247\n",
      "[312]\tvalidation_0-rmse:0.364846\tvalidation_1-rmse:0.493084\n",
      "[313]\tvalidation_0-rmse:0.364432\tvalidation_1-rmse:0.492952\n",
      "[314]\tvalidation_0-rmse:0.364004\tvalidation_1-rmse:0.49282\n",
      "[315]\tvalidation_0-rmse:0.363709\tvalidation_1-rmse:0.492871\n",
      "[316]\tvalidation_0-rmse:0.363346\tvalidation_1-rmse:0.492824\n",
      "[317]\tvalidation_0-rmse:0.363044\tvalidation_1-rmse:0.49274\n",
      "[318]\tvalidation_0-rmse:0.362757\tvalidation_1-rmse:0.492674\n",
      "[319]\tvalidation_0-rmse:0.362516\tvalidation_1-rmse:0.492688\n",
      "[320]\tvalidation_0-rmse:0.362243\tvalidation_1-rmse:0.492685\n",
      "[321]\tvalidation_0-rmse:0.36184\tvalidation_1-rmse:0.492531\n",
      "[322]\tvalidation_0-rmse:0.361419\tvalidation_1-rmse:0.492521\n",
      "[323]\tvalidation_0-rmse:0.36115\tvalidation_1-rmse:0.492482\n",
      "[324]\tvalidation_0-rmse:0.360749\tvalidation_1-rmse:0.492409\n",
      "[325]\tvalidation_0-rmse:0.360338\tvalidation_1-rmse:0.492319\n",
      "[326]\tvalidation_0-rmse:0.359982\tvalidation_1-rmse:0.492233\n",
      "[327]\tvalidation_0-rmse:0.359631\tvalidation_1-rmse:0.492174\n",
      "[328]\tvalidation_0-rmse:0.359291\tvalidation_1-rmse:0.492101\n",
      "[329]\tvalidation_0-rmse:0.359066\tvalidation_1-rmse:0.492065\n",
      "[330]\tvalidation_0-rmse:0.3587\tvalidation_1-rmse:0.491963\n",
      "[331]\tvalidation_0-rmse:0.358363\tvalidation_1-rmse:0.491938\n",
      "[332]\tvalidation_0-rmse:0.358131\tvalidation_1-rmse:0.491935\n",
      "[333]\tvalidation_0-rmse:0.357781\tvalidation_1-rmse:0.491818\n",
      "[334]\tvalidation_0-rmse:0.35749\tvalidation_1-rmse:0.491755\n",
      "[335]\tvalidation_0-rmse:0.357181\tvalidation_1-rmse:0.491701\n",
      "[336]\tvalidation_0-rmse:0.356854\tvalidation_1-rmse:0.491651\n",
      "[337]\tvalidation_0-rmse:0.35654\tvalidation_1-rmse:0.491604\n",
      "[338]\tvalidation_0-rmse:0.356235\tvalidation_1-rmse:0.491552\n",
      "[339]\tvalidation_0-rmse:0.355927\tvalidation_1-rmse:0.491578\n",
      "[340]\tvalidation_0-rmse:0.355629\tvalidation_1-rmse:0.491542\n",
      "[341]\tvalidation_0-rmse:0.355487\tvalidation_1-rmse:0.491531\n",
      "[342]\tvalidation_0-rmse:0.355166\tvalidation_1-rmse:0.491478\n",
      "[343]\tvalidation_0-rmse:0.354845\tvalidation_1-rmse:0.491491\n",
      "[344]\tvalidation_0-rmse:0.354574\tvalidation_1-rmse:0.491432\n",
      "[345]\tvalidation_0-rmse:0.354249\tvalidation_1-rmse:0.491357\n",
      "[346]\tvalidation_0-rmse:0.353965\tvalidation_1-rmse:0.491311\n",
      "[347]\tvalidation_0-rmse:0.353666\tvalidation_1-rmse:0.491211\n",
      "[348]\tvalidation_0-rmse:0.353307\tvalidation_1-rmse:0.491195\n",
      "[349]\tvalidation_0-rmse:0.352976\tvalidation_1-rmse:0.491185\n",
      "[350]\tvalidation_0-rmse:0.352734\tvalidation_1-rmse:0.491283\n",
      "[351]\tvalidation_0-rmse:0.352368\tvalidation_1-rmse:0.4912\n",
      "[352]\tvalidation_0-rmse:0.352045\tvalidation_1-rmse:0.491216\n",
      "[353]\tvalidation_0-rmse:0.351677\tvalidation_1-rmse:0.491114\n",
      "[354]\tvalidation_0-rmse:0.351344\tvalidation_1-rmse:0.491088\n",
      "[355]\tvalidation_0-rmse:0.351142\tvalidation_1-rmse:0.491058\n",
      "[356]\tvalidation_0-rmse:0.350848\tvalidation_1-rmse:0.491075\n",
      "[357]\tvalidation_0-rmse:0.350445\tvalidation_1-rmse:0.491027\n",
      "[358]\tvalidation_0-rmse:0.350157\tvalidation_1-rmse:0.491005\n",
      "[359]\tvalidation_0-rmse:0.349797\tvalidation_1-rmse:0.490976\n",
      "[360]\tvalidation_0-rmse:0.349545\tvalidation_1-rmse:0.49094\n",
      "[361]\tvalidation_0-rmse:0.349303\tvalidation_1-rmse:0.490893\n",
      "[362]\tvalidation_0-rmse:0.348974\tvalidation_1-rmse:0.490918\n",
      "[363]\tvalidation_0-rmse:0.348647\tvalidation_1-rmse:0.490895\n",
      "[364]\tvalidation_0-rmse:0.348428\tvalidation_1-rmse:0.49091\n",
      "[365]\tvalidation_0-rmse:0.348087\tvalidation_1-rmse:0.490872\n",
      "[366]\tvalidation_0-rmse:0.34775\tvalidation_1-rmse:0.490676\n",
      "[367]\tvalidation_0-rmse:0.347459\tvalidation_1-rmse:0.49056\n",
      "[368]\tvalidation_0-rmse:0.347273\tvalidation_1-rmse:0.490568\n",
      "[369]\tvalidation_0-rmse:0.347077\tvalidation_1-rmse:0.490501\n",
      "[370]\tvalidation_0-rmse:0.346879\tvalidation_1-rmse:0.490465\n",
      "[371]\tvalidation_0-rmse:0.346567\tvalidation_1-rmse:0.490414\n",
      "[372]\tvalidation_0-rmse:0.346336\tvalidation_1-rmse:0.490363\n",
      "[373]\tvalidation_0-rmse:0.34604\tvalidation_1-rmse:0.490348\n",
      "[374]\tvalidation_0-rmse:0.345728\tvalidation_1-rmse:0.490301\n",
      "[375]\tvalidation_0-rmse:0.34541\tvalidation_1-rmse:0.490264\n",
      "[376]\tvalidation_0-rmse:0.34509\tvalidation_1-rmse:0.490123\n",
      "[377]\tvalidation_0-rmse:0.3447\tvalidation_1-rmse:0.490041\n",
      "[378]\tvalidation_0-rmse:0.34439\tvalidation_1-rmse:0.489993\n",
      "[379]\tvalidation_0-rmse:0.344161\tvalidation_1-rmse:0.490005\n",
      "[380]\tvalidation_0-rmse:0.343848\tvalidation_1-rmse:0.489979\n",
      "[381]\tvalidation_0-rmse:0.343525\tvalidation_1-rmse:0.489927\n",
      "[382]\tvalidation_0-rmse:0.343161\tvalidation_1-rmse:0.489968\n",
      "[383]\tvalidation_0-rmse:0.342892\tvalidation_1-rmse:0.490005\n",
      "[384]\tvalidation_0-rmse:0.342598\tvalidation_1-rmse:0.489914\n",
      "[385]\tvalidation_0-rmse:0.342327\tvalidation_1-rmse:0.489856\n",
      "[386]\tvalidation_0-rmse:0.342019\tvalidation_1-rmse:0.489792\n",
      "[387]\tvalidation_0-rmse:0.341676\tvalidation_1-rmse:0.489726\n",
      "[388]\tvalidation_0-rmse:0.3414\tvalidation_1-rmse:0.489651\n",
      "[389]\tvalidation_0-rmse:0.341135\tvalidation_1-rmse:0.489536\n",
      "[390]\tvalidation_0-rmse:0.340821\tvalidation_1-rmse:0.489571\n",
      "[391]\tvalidation_0-rmse:0.340528\tvalidation_1-rmse:0.489576\n",
      "[392]\tvalidation_0-rmse:0.340185\tvalidation_1-rmse:0.489636\n",
      "[393]\tvalidation_0-rmse:0.339848\tvalidation_1-rmse:0.489664\n",
      "[394]\tvalidation_0-rmse:0.339581\tvalidation_1-rmse:0.489569\n",
      "[395]\tvalidation_0-rmse:0.33933\tvalidation_1-rmse:0.489508\n",
      "[396]\tvalidation_0-rmse:0.339139\tvalidation_1-rmse:0.489469\n",
      "[397]\tvalidation_0-rmse:0.338859\tvalidation_1-rmse:0.489392\n",
      "[398]\tvalidation_0-rmse:0.338542\tvalidation_1-rmse:0.489317\n",
      "[399]\tvalidation_0-rmse:0.338266\tvalidation_1-rmse:0.489289\n",
      "[400]\tvalidation_0-rmse:0.337972\tvalidation_1-rmse:0.489223\n",
      "[401]\tvalidation_0-rmse:0.337667\tvalidation_1-rmse:0.489131\n",
      "[402]\tvalidation_0-rmse:0.33744\tvalidation_1-rmse:0.489036\n",
      "[403]\tvalidation_0-rmse:0.337064\tvalidation_1-rmse:0.488964\n",
      "[404]\tvalidation_0-rmse:0.336801\tvalidation_1-rmse:0.488975\n",
      "[405]\tvalidation_0-rmse:0.336535\tvalidation_1-rmse:0.488985\n",
      "[406]\tvalidation_0-rmse:0.33637\tvalidation_1-rmse:0.488962\n",
      "[407]\tvalidation_0-rmse:0.336057\tvalidation_1-rmse:0.488893\n",
      "[408]\tvalidation_0-rmse:0.335826\tvalidation_1-rmse:0.488862\n",
      "[409]\tvalidation_0-rmse:0.335567\tvalidation_1-rmse:0.488768\n",
      "[410]\tvalidation_0-rmse:0.335239\tvalidation_1-rmse:0.488679\n",
      "[411]\tvalidation_0-rmse:0.334987\tvalidation_1-rmse:0.488618\n",
      "[412]\tvalidation_0-rmse:0.334641\tvalidation_1-rmse:0.488646\n"
     ]
    },
    {
     "name": "stdout",
     "output_type": "stream",
     "text": [
      "[413]\tvalidation_0-rmse:0.334279\tvalidation_1-rmse:0.488648\n",
      "[414]\tvalidation_0-rmse:0.333981\tvalidation_1-rmse:0.488633\n",
      "[415]\tvalidation_0-rmse:0.333675\tvalidation_1-rmse:0.488568\n",
      "[416]\tvalidation_0-rmse:0.333313\tvalidation_1-rmse:0.488483\n",
      "[417]\tvalidation_0-rmse:0.333071\tvalidation_1-rmse:0.488509\n",
      "[418]\tvalidation_0-rmse:0.332735\tvalidation_1-rmse:0.488486\n",
      "[419]\tvalidation_0-rmse:0.332447\tvalidation_1-rmse:0.488484\n",
      "[420]\tvalidation_0-rmse:0.332254\tvalidation_1-rmse:0.488514\n",
      "[421]\tvalidation_0-rmse:0.33203\tvalidation_1-rmse:0.488497\n",
      "[422]\tvalidation_0-rmse:0.331707\tvalidation_1-rmse:0.488463\n",
      "[423]\tvalidation_0-rmse:0.331466\tvalidation_1-rmse:0.488473\n",
      "[424]\tvalidation_0-rmse:0.331245\tvalidation_1-rmse:0.488426\n",
      "[425]\tvalidation_0-rmse:0.331049\tvalidation_1-rmse:0.48835\n",
      "[426]\tvalidation_0-rmse:0.33073\tvalidation_1-rmse:0.488327\n",
      "[427]\tvalidation_0-rmse:0.330431\tvalidation_1-rmse:0.488166\n",
      "[428]\tvalidation_0-rmse:0.330089\tvalidation_1-rmse:0.4882\n",
      "[429]\tvalidation_0-rmse:0.329916\tvalidation_1-rmse:0.488228\n",
      "[430]\tvalidation_0-rmse:0.329646\tvalidation_1-rmse:0.488203\n",
      "[431]\tvalidation_0-rmse:0.329332\tvalidation_1-rmse:0.488149\n",
      "[432]\tvalidation_0-rmse:0.329049\tvalidation_1-rmse:0.488096\n",
      "[433]\tvalidation_0-rmse:0.328732\tvalidation_1-rmse:0.488105\n",
      "[434]\tvalidation_0-rmse:0.328563\tvalidation_1-rmse:0.488096\n",
      "[435]\tvalidation_0-rmse:0.328315\tvalidation_1-rmse:0.48805\n",
      "[436]\tvalidation_0-rmse:0.328126\tvalidation_1-rmse:0.488041\n",
      "[437]\tvalidation_0-rmse:0.327798\tvalidation_1-rmse:0.48799\n",
      "[438]\tvalidation_0-rmse:0.327486\tvalidation_1-rmse:0.487944\n",
      "[439]\tvalidation_0-rmse:0.327217\tvalidation_1-rmse:0.487996\n",
      "[440]\tvalidation_0-rmse:0.326919\tvalidation_1-rmse:0.487891\n",
      "[441]\tvalidation_0-rmse:0.326615\tvalidation_1-rmse:0.48783\n",
      "[442]\tvalidation_0-rmse:0.326311\tvalidation_1-rmse:0.487815\n",
      "[443]\tvalidation_0-rmse:0.326061\tvalidation_1-rmse:0.487818\n",
      "[444]\tvalidation_0-rmse:0.325756\tvalidation_1-rmse:0.487695\n",
      "[445]\tvalidation_0-rmse:0.325455\tvalidation_1-rmse:0.487671\n",
      "[446]\tvalidation_0-rmse:0.325125\tvalidation_1-rmse:0.487683\n",
      "[447]\tvalidation_0-rmse:0.32489\tvalidation_1-rmse:0.487638\n",
      "[448]\tvalidation_0-rmse:0.324503\tvalidation_1-rmse:0.48755\n",
      "[449]\tvalidation_0-rmse:0.324244\tvalidation_1-rmse:0.487562\n",
      "[450]\tvalidation_0-rmse:0.323911\tvalidation_1-rmse:0.48744\n",
      "[451]\tvalidation_0-rmse:0.323603\tvalidation_1-rmse:0.487429\n",
      "[452]\tvalidation_0-rmse:0.32334\tvalidation_1-rmse:0.487547\n",
      "[453]\tvalidation_0-rmse:0.323091\tvalidation_1-rmse:0.487565\n",
      "[454]\tvalidation_0-rmse:0.322929\tvalidation_1-rmse:0.487525\n",
      "[455]\tvalidation_0-rmse:0.322719\tvalidation_1-rmse:0.487523\n",
      "[456]\tvalidation_0-rmse:0.322468\tvalidation_1-rmse:0.487468\n",
      "[457]\tvalidation_0-rmse:0.322164\tvalidation_1-rmse:0.487442\n",
      "[458]\tvalidation_0-rmse:0.321861\tvalidation_1-rmse:0.487387\n",
      "[459]\tvalidation_0-rmse:0.321664\tvalidation_1-rmse:0.487372\n",
      "[460]\tvalidation_0-rmse:0.321407\tvalidation_1-rmse:0.487293\n",
      "[461]\tvalidation_0-rmse:0.321191\tvalidation_1-rmse:0.487298\n",
      "[462]\tvalidation_0-rmse:0.321091\tvalidation_1-rmse:0.487275\n",
      "[463]\tvalidation_0-rmse:0.320896\tvalidation_1-rmse:0.487205\n",
      "[464]\tvalidation_0-rmse:0.320603\tvalidation_1-rmse:0.487124\n",
      "[465]\tvalidation_0-rmse:0.320357\tvalidation_1-rmse:0.487109\n",
      "[466]\tvalidation_0-rmse:0.320106\tvalidation_1-rmse:0.48705\n",
      "[467]\tvalidation_0-rmse:0.319872\tvalidation_1-rmse:0.486955\n",
      "[468]\tvalidation_0-rmse:0.319645\tvalidation_1-rmse:0.486921\n",
      "[469]\tvalidation_0-rmse:0.319514\tvalidation_1-rmse:0.486907\n",
      "[470]\tvalidation_0-rmse:0.319246\tvalidation_1-rmse:0.486916\n",
      "[471]\tvalidation_0-rmse:0.319065\tvalidation_1-rmse:0.486919\n",
      "[472]\tvalidation_0-rmse:0.318729\tvalidation_1-rmse:0.486859\n",
      "[473]\tvalidation_0-rmse:0.31858\tvalidation_1-rmse:0.486842\n",
      "[474]\tvalidation_0-rmse:0.318312\tvalidation_1-rmse:0.486959\n",
      "[475]\tvalidation_0-rmse:0.31807\tvalidation_1-rmse:0.48689\n",
      "[476]\tvalidation_0-rmse:0.317868\tvalidation_1-rmse:0.486795\n",
      "[477]\tvalidation_0-rmse:0.317663\tvalidation_1-rmse:0.486729\n",
      "[478]\tvalidation_0-rmse:0.317362\tvalidation_1-rmse:0.486734\n",
      "[479]\tvalidation_0-rmse:0.317113\tvalidation_1-rmse:0.486756\n",
      "[480]\tvalidation_0-rmse:0.316827\tvalidation_1-rmse:0.486712\n",
      "[481]\tvalidation_0-rmse:0.316656\tvalidation_1-rmse:0.486668\n",
      "[482]\tvalidation_0-rmse:0.316325\tvalidation_1-rmse:0.486615\n",
      "[483]\tvalidation_0-rmse:0.316112\tvalidation_1-rmse:0.48656\n",
      "[484]\tvalidation_0-rmse:0.31584\tvalidation_1-rmse:0.486523\n",
      "[485]\tvalidation_0-rmse:0.315649\tvalidation_1-rmse:0.486434\n",
      "[486]\tvalidation_0-rmse:0.315382\tvalidation_1-rmse:0.486503\n",
      "[487]\tvalidation_0-rmse:0.315152\tvalidation_1-rmse:0.486468\n",
      "[488]\tvalidation_0-rmse:0.314907\tvalidation_1-rmse:0.48643\n",
      "[489]\tvalidation_0-rmse:0.314643\tvalidation_1-rmse:0.486462\n",
      "[490]\tvalidation_0-rmse:0.314479\tvalidation_1-rmse:0.486405\n",
      "[491]\tvalidation_0-rmse:0.314206\tvalidation_1-rmse:0.486298\n",
      "[492]\tvalidation_0-rmse:0.313958\tvalidation_1-rmse:0.486241\n",
      "[493]\tvalidation_0-rmse:0.313825\tvalidation_1-rmse:0.486302\n",
      "[494]\tvalidation_0-rmse:0.313549\tvalidation_1-rmse:0.486297\n",
      "[495]\tvalidation_0-rmse:0.313359\tvalidation_1-rmse:0.486227\n",
      "[496]\tvalidation_0-rmse:0.313157\tvalidation_1-rmse:0.486284\n",
      "[497]\tvalidation_0-rmse:0.312958\tvalidation_1-rmse:0.486328\n",
      "[498]\tvalidation_0-rmse:0.312783\tvalidation_1-rmse:0.48635\n",
      "[499]\tvalidation_0-rmse:0.312536\tvalidation_1-rmse:0.486431\n",
      "[500]\tvalidation_0-rmse:0.312285\tvalidation_1-rmse:0.486354\n",
      "[501]\tvalidation_0-rmse:0.312018\tvalidation_1-rmse:0.486328\n",
      "[502]\tvalidation_0-rmse:0.311874\tvalidation_1-rmse:0.486347\n",
      "[503]\tvalidation_0-rmse:0.31163\tvalidation_1-rmse:0.486339\n",
      "[504]\tvalidation_0-rmse:0.31136\tvalidation_1-rmse:0.486408\n",
      "[505]\tvalidation_0-rmse:0.311117\tvalidation_1-rmse:0.486426\n",
      "[506]\tvalidation_0-rmse:0.310845\tvalidation_1-rmse:0.486404\n",
      "[507]\tvalidation_0-rmse:0.310569\tvalidation_1-rmse:0.486371\n",
      "[508]\tvalidation_0-rmse:0.310339\tvalidation_1-rmse:0.486313\n",
      "[509]\tvalidation_0-rmse:0.31012\tvalidation_1-rmse:0.486201\n",
      "[510]\tvalidation_0-rmse:0.309869\tvalidation_1-rmse:0.486172\n",
      "[511]\tvalidation_0-rmse:0.309571\tvalidation_1-rmse:0.486123\n",
      "[512]\tvalidation_0-rmse:0.309435\tvalidation_1-rmse:0.486146\n",
      "[513]\tvalidation_0-rmse:0.309303\tvalidation_1-rmse:0.486164\n",
      "[514]\tvalidation_0-rmse:0.309058\tvalidation_1-rmse:0.486117\n",
      "[515]\tvalidation_0-rmse:0.308838\tvalidation_1-rmse:0.486052\n",
      "[516]\tvalidation_0-rmse:0.308531\tvalidation_1-rmse:0.486011\n",
      "[517]\tvalidation_0-rmse:0.308305\tvalidation_1-rmse:0.485959\n",
      "[518]\tvalidation_0-rmse:0.308026\tvalidation_1-rmse:0.485926\n",
      "[519]\tvalidation_0-rmse:0.307765\tvalidation_1-rmse:0.485879\n",
      "[520]\tvalidation_0-rmse:0.307532\tvalidation_1-rmse:0.485867\n",
      "[521]\tvalidation_0-rmse:0.307325\tvalidation_1-rmse:0.485905\n",
      "[522]\tvalidation_0-rmse:0.307092\tvalidation_1-rmse:0.485924\n",
      "[523]\tvalidation_0-rmse:0.306862\tvalidation_1-rmse:0.485922\n",
      "[524]\tvalidation_0-rmse:0.306648\tvalidation_1-rmse:0.485942\n",
      "[525]\tvalidation_0-rmse:0.306372\tvalidation_1-rmse:0.485799\n",
      "[526]\tvalidation_0-rmse:0.306189\tvalidation_1-rmse:0.485728\n",
      "[527]\tvalidation_0-rmse:0.305901\tvalidation_1-rmse:0.485726\n",
      "[528]\tvalidation_0-rmse:0.305677\tvalidation_1-rmse:0.485645\n",
      "[529]\tvalidation_0-rmse:0.305482\tvalidation_1-rmse:0.485609\n",
      "[530]\tvalidation_0-rmse:0.305341\tvalidation_1-rmse:0.485589\n",
      "[531]\tvalidation_0-rmse:0.305109\tvalidation_1-rmse:0.485569\n",
      "[532]\tvalidation_0-rmse:0.304887\tvalidation_1-rmse:0.485533\n",
      "[533]\tvalidation_0-rmse:0.304692\tvalidation_1-rmse:0.485467\n",
      "[534]\tvalidation_0-rmse:0.304418\tvalidation_1-rmse:0.485502\n",
      "[535]\tvalidation_0-rmse:0.304127\tvalidation_1-rmse:0.485466\n",
      "[536]\tvalidation_0-rmse:0.304005\tvalidation_1-rmse:0.485411\n",
      "[537]\tvalidation_0-rmse:0.30373\tvalidation_1-rmse:0.48536\n",
      "[538]\tvalidation_0-rmse:0.303534\tvalidation_1-rmse:0.485332\n",
      "[539]\tvalidation_0-rmse:0.303282\tvalidation_1-rmse:0.485319\n",
      "[540]\tvalidation_0-rmse:0.303076\tvalidation_1-rmse:0.485331\n",
      "[541]\tvalidation_0-rmse:0.302835\tvalidation_1-rmse:0.485273\n",
      "[542]\tvalidation_0-rmse:0.302717\tvalidation_1-rmse:0.485273\n",
      "[543]\tvalidation_0-rmse:0.302476\tvalidation_1-rmse:0.485292\n",
      "[544]\tvalidation_0-rmse:0.302228\tvalidation_1-rmse:0.485302\n",
      "[545]\tvalidation_0-rmse:0.302063\tvalidation_1-rmse:0.485292\n",
      "[546]\tvalidation_0-rmse:0.301818\tvalidation_1-rmse:0.485273\n",
      "[547]\tvalidation_0-rmse:0.301598\tvalidation_1-rmse:0.485258\n",
      "[548]\tvalidation_0-rmse:0.301293\tvalidation_1-rmse:0.485147\n",
      "[549]\tvalidation_0-rmse:0.301032\tvalidation_1-rmse:0.485142\n"
     ]
    },
    {
     "name": "stdout",
     "output_type": "stream",
     "text": [
      "[550]\tvalidation_0-rmse:0.300827\tvalidation_1-rmse:0.485112\n",
      "[551]\tvalidation_0-rmse:0.300614\tvalidation_1-rmse:0.485121\n",
      "[552]\tvalidation_0-rmse:0.300365\tvalidation_1-rmse:0.485078\n",
      "[553]\tvalidation_0-rmse:0.300176\tvalidation_1-rmse:0.484973\n",
      "[554]\tvalidation_0-rmse:0.299986\tvalidation_1-rmse:0.484935\n",
      "[555]\tvalidation_0-rmse:0.299728\tvalidation_1-rmse:0.484883\n",
      "[556]\tvalidation_0-rmse:0.299546\tvalidation_1-rmse:0.484823\n",
      "[557]\tvalidation_0-rmse:0.29928\tvalidation_1-rmse:0.484813\n",
      "[558]\tvalidation_0-rmse:0.299049\tvalidation_1-rmse:0.484759\n",
      "[559]\tvalidation_0-rmse:0.298833\tvalidation_1-rmse:0.484759\n",
      "[560]\tvalidation_0-rmse:0.298607\tvalidation_1-rmse:0.484748\n",
      "[561]\tvalidation_0-rmse:0.298346\tvalidation_1-rmse:0.484696\n",
      "[562]\tvalidation_0-rmse:0.29808\tvalidation_1-rmse:0.484668\n",
      "[563]\tvalidation_0-rmse:0.297892\tvalidation_1-rmse:0.48468\n",
      "[564]\tvalidation_0-rmse:0.297631\tvalidation_1-rmse:0.484694\n",
      "[565]\tvalidation_0-rmse:0.297376\tvalidation_1-rmse:0.484624\n",
      "[566]\tvalidation_0-rmse:0.297128\tvalidation_1-rmse:0.484622\n",
      "[567]\tvalidation_0-rmse:0.296933\tvalidation_1-rmse:0.484683\n",
      "[568]\tvalidation_0-rmse:0.296701\tvalidation_1-rmse:0.48463\n",
      "[569]\tvalidation_0-rmse:0.29647\tvalidation_1-rmse:0.484611\n",
      "[570]\tvalidation_0-rmse:0.296223\tvalidation_1-rmse:0.484581\n",
      "[571]\tvalidation_0-rmse:0.29594\tvalidation_1-rmse:0.484492\n",
      "[572]\tvalidation_0-rmse:0.295754\tvalidation_1-rmse:0.484488\n",
      "[573]\tvalidation_0-rmse:0.295545\tvalidation_1-rmse:0.484475\n",
      "[574]\tvalidation_0-rmse:0.295387\tvalidation_1-rmse:0.484531\n",
      "[575]\tvalidation_0-rmse:0.295242\tvalidation_1-rmse:0.484512\n",
      "[576]\tvalidation_0-rmse:0.295031\tvalidation_1-rmse:0.484433\n",
      "[577]\tvalidation_0-rmse:0.29481\tvalidation_1-rmse:0.484465\n",
      "[578]\tvalidation_0-rmse:0.294723\tvalidation_1-rmse:0.484474\n",
      "[579]\tvalidation_0-rmse:0.294562\tvalidation_1-rmse:0.484492\n",
      "[580]\tvalidation_0-rmse:0.294384\tvalidation_1-rmse:0.484475\n",
      "[581]\tvalidation_0-rmse:0.294193\tvalidation_1-rmse:0.484495\n",
      "[582]\tvalidation_0-rmse:0.293938\tvalidation_1-rmse:0.484505\n",
      "[583]\tvalidation_0-rmse:0.293696\tvalidation_1-rmse:0.484509\n",
      "[584]\tvalidation_0-rmse:0.293487\tvalidation_1-rmse:0.484489\n",
      "[585]\tvalidation_0-rmse:0.293362\tvalidation_1-rmse:0.484502\n",
      "[586]\tvalidation_0-rmse:0.293194\tvalidation_1-rmse:0.484522\n",
      "[587]\tvalidation_0-rmse:0.292997\tvalidation_1-rmse:0.484473\n",
      "[588]\tvalidation_0-rmse:0.292716\tvalidation_1-rmse:0.484462\n",
      "[589]\tvalidation_0-rmse:0.292444\tvalidation_1-rmse:0.484414\n",
      "[590]\tvalidation_0-rmse:0.292275\tvalidation_1-rmse:0.48442\n",
      "[591]\tvalidation_0-rmse:0.292019\tvalidation_1-rmse:0.484455\n",
      "[592]\tvalidation_0-rmse:0.291795\tvalidation_1-rmse:0.484514\n",
      "[593]\tvalidation_0-rmse:0.291578\tvalidation_1-rmse:0.484445\n",
      "[594]\tvalidation_0-rmse:0.291355\tvalidation_1-rmse:0.484474\n",
      "[595]\tvalidation_0-rmse:0.291103\tvalidation_1-rmse:0.484549\n",
      "[596]\tvalidation_0-rmse:0.291011\tvalidation_1-rmse:0.484505\n",
      "[597]\tvalidation_0-rmse:0.290741\tvalidation_1-rmse:0.484555\n",
      "[598]\tvalidation_0-rmse:0.290576\tvalidation_1-rmse:0.484536\n",
      "[599]\tvalidation_0-rmse:0.290333\tvalidation_1-rmse:0.484489\n",
      "[600]\tvalidation_0-rmse:0.290101\tvalidation_1-rmse:0.484454\n",
      "[601]\tvalidation_0-rmse:0.289951\tvalidation_1-rmse:0.484485\n",
      "[602]\tvalidation_0-rmse:0.289684\tvalidation_1-rmse:0.484456\n",
      "[603]\tvalidation_0-rmse:0.2894\tvalidation_1-rmse:0.484437\n",
      "[604]\tvalidation_0-rmse:0.289225\tvalidation_1-rmse:0.484348\n",
      "[605]\tvalidation_0-rmse:0.289033\tvalidation_1-rmse:0.48427\n",
      "[606]\tvalidation_0-rmse:0.288838\tvalidation_1-rmse:0.484268\n",
      "[607]\tvalidation_0-rmse:0.288619\tvalidation_1-rmse:0.484269\n",
      "[608]\tvalidation_0-rmse:0.288411\tvalidation_1-rmse:0.484203\n",
      "[609]\tvalidation_0-rmse:0.288173\tvalidation_1-rmse:0.484137\n",
      "[610]\tvalidation_0-rmse:0.288023\tvalidation_1-rmse:0.484146\n",
      "[611]\tvalidation_0-rmse:0.287869\tvalidation_1-rmse:0.484142\n",
      "[612]\tvalidation_0-rmse:0.287747\tvalidation_1-rmse:0.484167\n",
      "[613]\tvalidation_0-rmse:0.287506\tvalidation_1-rmse:0.484175\n",
      "[614]\tvalidation_0-rmse:0.287358\tvalidation_1-rmse:0.484142\n",
      "[615]\tvalidation_0-rmse:0.28713\tvalidation_1-rmse:0.484098\n",
      "[616]\tvalidation_0-rmse:0.286932\tvalidation_1-rmse:0.484051\n",
      "[617]\tvalidation_0-rmse:0.28669\tvalidation_1-rmse:0.484052\n",
      "[618]\tvalidation_0-rmse:0.286557\tvalidation_1-rmse:0.48403\n",
      "[619]\tvalidation_0-rmse:0.286331\tvalidation_1-rmse:0.483919\n",
      "[620]\tvalidation_0-rmse:0.286251\tvalidation_1-rmse:0.483897\n",
      "[621]\tvalidation_0-rmse:0.285998\tvalidation_1-rmse:0.483879\n",
      "[622]\tvalidation_0-rmse:0.285719\tvalidation_1-rmse:0.483901\n",
      "[623]\tvalidation_0-rmse:0.285503\tvalidation_1-rmse:0.4839\n",
      "[624]\tvalidation_0-rmse:0.285423\tvalidation_1-rmse:0.483876\n",
      "[625]\tvalidation_0-rmse:0.285184\tvalidation_1-rmse:0.48383\n",
      "[626]\tvalidation_0-rmse:0.285014\tvalidation_1-rmse:0.483777\n",
      "[627]\tvalidation_0-rmse:0.284837\tvalidation_1-rmse:0.483798\n",
      "[628]\tvalidation_0-rmse:0.284631\tvalidation_1-rmse:0.483787\n",
      "[629]\tvalidation_0-rmse:0.284369\tvalidation_1-rmse:0.483781\n",
      "[630]\tvalidation_0-rmse:0.284219\tvalidation_1-rmse:0.483793\n",
      "[631]\tvalidation_0-rmse:0.284092\tvalidation_1-rmse:0.483793\n",
      "[632]\tvalidation_0-rmse:0.283912\tvalidation_1-rmse:0.48379\n",
      "[633]\tvalidation_0-rmse:0.283723\tvalidation_1-rmse:0.48378\n",
      "[634]\tvalidation_0-rmse:0.283493\tvalidation_1-rmse:0.483797\n",
      "[635]\tvalidation_0-rmse:0.283295\tvalidation_1-rmse:0.483789\n",
      "[636]\tvalidation_0-rmse:0.283098\tvalidation_1-rmse:0.483798\n",
      "[637]\tvalidation_0-rmse:0.282902\tvalidation_1-rmse:0.483812\n",
      "[638]\tvalidation_0-rmse:0.282776\tvalidation_1-rmse:0.483759\n",
      "[639]\tvalidation_0-rmse:0.28257\tvalidation_1-rmse:0.48367\n",
      "[640]\tvalidation_0-rmse:0.282401\tvalidation_1-rmse:0.4837\n",
      "[641]\tvalidation_0-rmse:0.282198\tvalidation_1-rmse:0.483643\n",
      "[642]\tvalidation_0-rmse:0.281957\tvalidation_1-rmse:0.483651\n",
      "[643]\tvalidation_0-rmse:0.281758\tvalidation_1-rmse:0.48366\n",
      "[644]\tvalidation_0-rmse:0.28159\tvalidation_1-rmse:0.483632\n",
      "[645]\tvalidation_0-rmse:0.28144\tvalidation_1-rmse:0.483648\n",
      "[646]\tvalidation_0-rmse:0.281273\tvalidation_1-rmse:0.483678\n",
      "[647]\tvalidation_0-rmse:0.281121\tvalidation_1-rmse:0.483658\n",
      "[648]\tvalidation_0-rmse:0.280882\tvalidation_1-rmse:0.483589\n",
      "[649]\tvalidation_0-rmse:0.280769\tvalidation_1-rmse:0.483591\n",
      "[650]\tvalidation_0-rmse:0.280592\tvalidation_1-rmse:0.483605\n",
      "[651]\tvalidation_0-rmse:0.280475\tvalidation_1-rmse:0.483616\n",
      "[652]\tvalidation_0-rmse:0.280259\tvalidation_1-rmse:0.483678\n",
      "[653]\tvalidation_0-rmse:0.280034\tvalidation_1-rmse:0.483638\n",
      "[654]\tvalidation_0-rmse:0.279802\tvalidation_1-rmse:0.483637\n",
      "[655]\tvalidation_0-rmse:0.279674\tvalidation_1-rmse:0.483648\n",
      "[656]\tvalidation_0-rmse:0.279423\tvalidation_1-rmse:0.483663\n",
      "[657]\tvalidation_0-rmse:0.279254\tvalidation_1-rmse:0.483608\n",
      "[658]\tvalidation_0-rmse:0.279098\tvalidation_1-rmse:0.483588\n",
      "[659]\tvalidation_0-rmse:0.278883\tvalidation_1-rmse:0.48357\n",
      "[660]\tvalidation_0-rmse:0.278796\tvalidation_1-rmse:0.483585\n",
      "[661]\tvalidation_0-rmse:0.278694\tvalidation_1-rmse:0.483572\n",
      "[662]\tvalidation_0-rmse:0.278478\tvalidation_1-rmse:0.483558\n",
      "[663]\tvalidation_0-rmse:0.278271\tvalidation_1-rmse:0.483502\n",
      "[664]\tvalidation_0-rmse:0.278077\tvalidation_1-rmse:0.483504\n",
      "[665]\tvalidation_0-rmse:0.27796\tvalidation_1-rmse:0.483483\n",
      "[666]\tvalidation_0-rmse:0.277728\tvalidation_1-rmse:0.483442\n",
      "[667]\tvalidation_0-rmse:0.277565\tvalidation_1-rmse:0.48342\n",
      "[668]\tvalidation_0-rmse:0.277386\tvalidation_1-rmse:0.483417\n",
      "[669]\tvalidation_0-rmse:0.277241\tvalidation_1-rmse:0.483415\n",
      "[670]\tvalidation_0-rmse:0.277107\tvalidation_1-rmse:0.483424\n",
      "[671]\tvalidation_0-rmse:0.276984\tvalidation_1-rmse:0.483387\n",
      "[672]\tvalidation_0-rmse:0.276829\tvalidation_1-rmse:0.48339\n",
      "[673]\tvalidation_0-rmse:0.276635\tvalidation_1-rmse:0.483325\n",
      "[674]\tvalidation_0-rmse:0.276415\tvalidation_1-rmse:0.483355\n",
      "[675]\tvalidation_0-rmse:0.276285\tvalidation_1-rmse:0.483328\n",
      "[676]\tvalidation_0-rmse:0.276154\tvalidation_1-rmse:0.483367\n",
      "[677]\tvalidation_0-rmse:0.275898\tvalidation_1-rmse:0.483321\n",
      "[678]\tvalidation_0-rmse:0.275692\tvalidation_1-rmse:0.483335\n",
      "[679]\tvalidation_0-rmse:0.275469\tvalidation_1-rmse:0.483317\n",
      "[680]\tvalidation_0-rmse:0.275301\tvalidation_1-rmse:0.483341\n",
      "[681]\tvalidation_0-rmse:0.275146\tvalidation_1-rmse:0.483333\n",
      "[682]\tvalidation_0-rmse:0.274968\tvalidation_1-rmse:0.483281\n",
      "[683]\tvalidation_0-rmse:0.274722\tvalidation_1-rmse:0.483236\n",
      "[684]\tvalidation_0-rmse:0.274486\tvalidation_1-rmse:0.483241\n",
      "[685]\tvalidation_0-rmse:0.274374\tvalidation_1-rmse:0.483211\n",
      "[686]\tvalidation_0-rmse:0.274151\tvalidation_1-rmse:0.483179\n",
      "[687]\tvalidation_0-rmse:0.273988\tvalidation_1-rmse:0.483165\n"
     ]
    },
    {
     "name": "stdout",
     "output_type": "stream",
     "text": [
      "[688]\tvalidation_0-rmse:0.273798\tvalidation_1-rmse:0.483196\n",
      "[689]\tvalidation_0-rmse:0.273604\tvalidation_1-rmse:0.483199\n",
      "[690]\tvalidation_0-rmse:0.273437\tvalidation_1-rmse:0.483179\n",
      "[691]\tvalidation_0-rmse:0.273209\tvalidation_1-rmse:0.483241\n",
      "[692]\tvalidation_0-rmse:0.273008\tvalidation_1-rmse:0.483254\n",
      "[693]\tvalidation_0-rmse:0.272904\tvalidation_1-rmse:0.483268\n",
      "[694]\tvalidation_0-rmse:0.272764\tvalidation_1-rmse:0.483264\n",
      "[695]\tvalidation_0-rmse:0.272565\tvalidation_1-rmse:0.483294\n",
      "[696]\tvalidation_0-rmse:0.272381\tvalidation_1-rmse:0.483332\n",
      "[697]\tvalidation_0-rmse:0.272213\tvalidation_1-rmse:0.483356\n",
      "[698]\tvalidation_0-rmse:0.271976\tvalidation_1-rmse:0.483277\n",
      "[699]\tvalidation_0-rmse:0.271806\tvalidation_1-rmse:0.483221\n",
      "[700]\tvalidation_0-rmse:0.271679\tvalidation_1-rmse:0.483214\n",
      "[701]\tvalidation_0-rmse:0.271471\tvalidation_1-rmse:0.483175\n",
      "[702]\tvalidation_0-rmse:0.271286\tvalidation_1-rmse:0.483142\n",
      "[703]\tvalidation_0-rmse:0.271138\tvalidation_1-rmse:0.483122\n",
      "[704]\tvalidation_0-rmse:0.270991\tvalidation_1-rmse:0.483099\n",
      "[705]\tvalidation_0-rmse:0.270793\tvalidation_1-rmse:0.48312\n",
      "[706]\tvalidation_0-rmse:0.270605\tvalidation_1-rmse:0.483126\n",
      "[707]\tvalidation_0-rmse:0.270411\tvalidation_1-rmse:0.483208\n",
      "[708]\tvalidation_0-rmse:0.270215\tvalidation_1-rmse:0.483204\n",
      "[709]\tvalidation_0-rmse:0.270028\tvalidation_1-rmse:0.483242\n",
      "[710]\tvalidation_0-rmse:0.269883\tvalidation_1-rmse:0.483224\n",
      "[711]\tvalidation_0-rmse:0.269676\tvalidation_1-rmse:0.483197\n",
      "[712]\tvalidation_0-rmse:0.269551\tvalidation_1-rmse:0.483191\n",
      "[713]\tvalidation_0-rmse:0.269329\tvalidation_1-rmse:0.483234\n",
      "[714]\tvalidation_0-rmse:0.269181\tvalidation_1-rmse:0.483234\n",
      "[715]\tvalidation_0-rmse:0.269025\tvalidation_1-rmse:0.483209\n",
      "[716]\tvalidation_0-rmse:0.268825\tvalidation_1-rmse:0.483153\n",
      "[717]\tvalidation_0-rmse:0.268628\tvalidation_1-rmse:0.483143\n",
      "[718]\tvalidation_0-rmse:0.268531\tvalidation_1-rmse:0.483156\n",
      "[719]\tvalidation_0-rmse:0.268424\tvalidation_1-rmse:0.483173\n",
      "[720]\tvalidation_0-rmse:0.268278\tvalidation_1-rmse:0.483156\n",
      "[721]\tvalidation_0-rmse:0.268085\tvalidation_1-rmse:0.48315\n",
      "[722]\tvalidation_0-rmse:0.26784\tvalidation_1-rmse:0.483163\n",
      "[723]\tvalidation_0-rmse:0.267635\tvalidation_1-rmse:0.483142\n",
      "[724]\tvalidation_0-rmse:0.267435\tvalidation_1-rmse:0.483112\n",
      "[725]\tvalidation_0-rmse:0.267302\tvalidation_1-rmse:0.483099\n",
      "[726]\tvalidation_0-rmse:0.26713\tvalidation_1-rmse:0.483129\n",
      "[727]\tvalidation_0-rmse:0.266945\tvalidation_1-rmse:0.483145\n",
      "[728]\tvalidation_0-rmse:0.266746\tvalidation_1-rmse:0.483102\n",
      "[729]\tvalidation_0-rmse:0.26655\tvalidation_1-rmse:0.483066\n",
      "[730]\tvalidation_0-rmse:0.26638\tvalidation_1-rmse:0.483061\n",
      "[731]\tvalidation_0-rmse:0.266172\tvalidation_1-rmse:0.483004\n",
      "[732]\tvalidation_0-rmse:0.26604\tvalidation_1-rmse:0.483028\n",
      "[733]\tvalidation_0-rmse:0.265804\tvalidation_1-rmse:0.482975\n",
      "[734]\tvalidation_0-rmse:0.265647\tvalidation_1-rmse:0.482965\n",
      "[735]\tvalidation_0-rmse:0.265451\tvalidation_1-rmse:0.482962\n",
      "[736]\tvalidation_0-rmse:0.265294\tvalidation_1-rmse:0.482975\n",
      "[737]\tvalidation_0-rmse:0.265059\tvalidation_1-rmse:0.482851\n",
      "[738]\tvalidation_0-rmse:0.264911\tvalidation_1-rmse:0.482879\n",
      "[739]\tvalidation_0-rmse:0.264714\tvalidation_1-rmse:0.482786\n",
      "[740]\tvalidation_0-rmse:0.264581\tvalidation_1-rmse:0.482774\n",
      "[741]\tvalidation_0-rmse:0.264465\tvalidation_1-rmse:0.482728\n",
      "[742]\tvalidation_0-rmse:0.264257\tvalidation_1-rmse:0.482685\n",
      "[743]\tvalidation_0-rmse:0.264136\tvalidation_1-rmse:0.482664\n",
      "[744]\tvalidation_0-rmse:0.263919\tvalidation_1-rmse:0.482628\n",
      "[745]\tvalidation_0-rmse:0.263723\tvalidation_1-rmse:0.482609\n",
      "[746]\tvalidation_0-rmse:0.263561\tvalidation_1-rmse:0.482591\n",
      "[747]\tvalidation_0-rmse:0.263426\tvalidation_1-rmse:0.482592\n",
      "[748]\tvalidation_0-rmse:0.263252\tvalidation_1-rmse:0.482583\n",
      "[749]\tvalidation_0-rmse:0.263088\tvalidation_1-rmse:0.482568\n",
      "[750]\tvalidation_0-rmse:0.262876\tvalidation_1-rmse:0.482579\n",
      "[751]\tvalidation_0-rmse:0.262668\tvalidation_1-rmse:0.482586\n",
      "[752]\tvalidation_0-rmse:0.262543\tvalidation_1-rmse:0.482614\n",
      "[753]\tvalidation_0-rmse:0.262364\tvalidation_1-rmse:0.482629\n",
      "[754]\tvalidation_0-rmse:0.262188\tvalidation_1-rmse:0.482569\n",
      "[755]\tvalidation_0-rmse:0.262053\tvalidation_1-rmse:0.482544\n",
      "[756]\tvalidation_0-rmse:0.261875\tvalidation_1-rmse:0.482571\n",
      "[757]\tvalidation_0-rmse:0.261702\tvalidation_1-rmse:0.482626\n",
      "[758]\tvalidation_0-rmse:0.261541\tvalidation_1-rmse:0.482602\n",
      "[759]\tvalidation_0-rmse:0.261342\tvalidation_1-rmse:0.482601\n",
      "[760]\tvalidation_0-rmse:0.261267\tvalidation_1-rmse:0.482597\n",
      "[761]\tvalidation_0-rmse:0.261085\tvalidation_1-rmse:0.482626\n",
      "[762]\tvalidation_0-rmse:0.260893\tvalidation_1-rmse:0.482603\n",
      "[763]\tvalidation_0-rmse:0.260673\tvalidation_1-rmse:0.482632\n",
      "[764]\tvalidation_0-rmse:0.260476\tvalidation_1-rmse:0.482585\n",
      "[765]\tvalidation_0-rmse:0.260267\tvalidation_1-rmse:0.482588\n",
      "[766]\tvalidation_0-rmse:0.26008\tvalidation_1-rmse:0.482532\n",
      "[767]\tvalidation_0-rmse:0.259868\tvalidation_1-rmse:0.48255\n",
      "[768]\tvalidation_0-rmse:0.259671\tvalidation_1-rmse:0.482532\n",
      "[769]\tvalidation_0-rmse:0.259557\tvalidation_1-rmse:0.482543\n",
      "[770]\tvalidation_0-rmse:0.259343\tvalidation_1-rmse:0.482518\n",
      "[771]\tvalidation_0-rmse:0.259122\tvalidation_1-rmse:0.482576\n",
      "[772]\tvalidation_0-rmse:0.258959\tvalidation_1-rmse:0.482574\n",
      "[773]\tvalidation_0-rmse:0.258852\tvalidation_1-rmse:0.482554\n",
      "[774]\tvalidation_0-rmse:0.258738\tvalidation_1-rmse:0.482523\n",
      "[775]\tvalidation_0-rmse:0.258598\tvalidation_1-rmse:0.482513\n",
      "[776]\tvalidation_0-rmse:0.258406\tvalidation_1-rmse:0.482488\n",
      "[777]\tvalidation_0-rmse:0.258303\tvalidation_1-rmse:0.482481\n",
      "[778]\tvalidation_0-rmse:0.258114\tvalidation_1-rmse:0.482446\n",
      "[779]\tvalidation_0-rmse:0.257944\tvalidation_1-rmse:0.482504\n",
      "[780]\tvalidation_0-rmse:0.257835\tvalidation_1-rmse:0.482511\n",
      "[781]\tvalidation_0-rmse:0.257638\tvalidation_1-rmse:0.482518\n",
      "[782]\tvalidation_0-rmse:0.257453\tvalidation_1-rmse:0.482494\n",
      "[783]\tvalidation_0-rmse:0.257326\tvalidation_1-rmse:0.482477\n",
      "[784]\tvalidation_0-rmse:0.257196\tvalidation_1-rmse:0.482442\n",
      "[785]\tvalidation_0-rmse:0.257015\tvalidation_1-rmse:0.482442\n",
      "[786]\tvalidation_0-rmse:0.25686\tvalidation_1-rmse:0.48241\n",
      "[787]\tvalidation_0-rmse:0.256662\tvalidation_1-rmse:0.482385\n",
      "[788]\tvalidation_0-rmse:0.256481\tvalidation_1-rmse:0.482366\n",
      "[789]\tvalidation_0-rmse:0.25633\tvalidation_1-rmse:0.482335\n",
      "[790]\tvalidation_0-rmse:0.256152\tvalidation_1-rmse:0.482342\n",
      "[791]\tvalidation_0-rmse:0.255971\tvalidation_1-rmse:0.482337\n",
      "[792]\tvalidation_0-rmse:0.255815\tvalidation_1-rmse:0.482327\n",
      "[793]\tvalidation_0-rmse:0.255645\tvalidation_1-rmse:0.482417\n",
      "[794]\tvalidation_0-rmse:0.255449\tvalidation_1-rmse:0.482425\n",
      "[795]\tvalidation_0-rmse:0.255307\tvalidation_1-rmse:0.482492\n",
      "[796]\tvalidation_0-rmse:0.255174\tvalidation_1-rmse:0.48249\n",
      "[797]\tvalidation_0-rmse:0.255031\tvalidation_1-rmse:0.482507\n",
      "[798]\tvalidation_0-rmse:0.254826\tvalidation_1-rmse:0.482538\n",
      "[799]\tvalidation_0-rmse:0.25466\tvalidation_1-rmse:0.482555\n",
      "[800]\tvalidation_0-rmse:0.254563\tvalidation_1-rmse:0.482555\n",
      "[801]\tvalidation_0-rmse:0.254443\tvalidation_1-rmse:0.482598\n",
      "[802]\tvalidation_0-rmse:0.254305\tvalidation_1-rmse:0.48258\n",
      "[803]\tvalidation_0-rmse:0.254152\tvalidation_1-rmse:0.482542\n",
      "[804]\tvalidation_0-rmse:0.254074\tvalidation_1-rmse:0.482585\n",
      "[805]\tvalidation_0-rmse:0.253985\tvalidation_1-rmse:0.482622\n",
      "[806]\tvalidation_0-rmse:0.25384\tvalidation_1-rmse:0.482607\n",
      "[807]\tvalidation_0-rmse:0.253687\tvalidation_1-rmse:0.48262\n",
      "[808]\tvalidation_0-rmse:0.253549\tvalidation_1-rmse:0.482654\n",
      "[809]\tvalidation_0-rmse:0.253454\tvalidation_1-rmse:0.482665\n",
      "[810]\tvalidation_0-rmse:0.253252\tvalidation_1-rmse:0.482638\n",
      "[811]\tvalidation_0-rmse:0.253082\tvalidation_1-rmse:0.482667\n",
      "[812]\tvalidation_0-rmse:0.252899\tvalidation_1-rmse:0.482662\n",
      "[813]\tvalidation_0-rmse:0.252731\tvalidation_1-rmse:0.482676\n",
      "[814]\tvalidation_0-rmse:0.252542\tvalidation_1-rmse:0.482724\n",
      "[815]\tvalidation_0-rmse:0.252323\tvalidation_1-rmse:0.482638\n",
      "[816]\tvalidation_0-rmse:0.252203\tvalidation_1-rmse:0.482638\n",
      "[817]\tvalidation_0-rmse:0.252093\tvalidation_1-rmse:0.482614\n",
      "[818]\tvalidation_0-rmse:0.251936\tvalidation_1-rmse:0.482642\n",
      "[819]\tvalidation_0-rmse:0.251821\tvalidation_1-rmse:0.482648\n",
      "[820]\tvalidation_0-rmse:0.251676\tvalidation_1-rmse:0.482664\n",
      "[821]\tvalidation_0-rmse:0.251485\tvalidation_1-rmse:0.482684\n",
      "[822]\tvalidation_0-rmse:0.251304\tvalidation_1-rmse:0.482677\n",
      "[823]\tvalidation_0-rmse:0.25121\tvalidation_1-rmse:0.482693\n",
      "[824]\tvalidation_0-rmse:0.251022\tvalidation_1-rmse:0.482678\n"
     ]
    },
    {
     "name": "stdout",
     "output_type": "stream",
     "text": [
      "[825]\tvalidation_0-rmse:0.250888\tvalidation_1-rmse:0.482637\n",
      "[826]\tvalidation_0-rmse:0.250703\tvalidation_1-rmse:0.482569\n",
      "[827]\tvalidation_0-rmse:0.250528\tvalidation_1-rmse:0.482588\n",
      "[828]\tvalidation_0-rmse:0.25035\tvalidation_1-rmse:0.482475\n",
      "[829]\tvalidation_0-rmse:0.250194\tvalidation_1-rmse:0.482527\n",
      "[830]\tvalidation_0-rmse:0.250096\tvalidation_1-rmse:0.482517\n",
      "[831]\tvalidation_0-rmse:0.249984\tvalidation_1-rmse:0.482531\n",
      "[832]\tvalidation_0-rmse:0.249861\tvalidation_1-rmse:0.48253\n",
      "[833]\tvalidation_0-rmse:0.249718\tvalidation_1-rmse:0.48255\n",
      "[834]\tvalidation_0-rmse:0.249569\tvalidation_1-rmse:0.482487\n",
      "[835]\tvalidation_0-rmse:0.249357\tvalidation_1-rmse:0.482468\n",
      "[836]\tvalidation_0-rmse:0.249168\tvalidation_1-rmse:0.482477\n",
      "[837]\tvalidation_0-rmse:0.249031\tvalidation_1-rmse:0.482503\n",
      "[838]\tvalidation_0-rmse:0.248862\tvalidation_1-rmse:0.482455\n",
      "[839]\tvalidation_0-rmse:0.248735\tvalidation_1-rmse:0.482473\n",
      "[840]\tvalidation_0-rmse:0.248595\tvalidation_1-rmse:0.482417\n",
      "[841]\tvalidation_0-rmse:0.248441\tvalidation_1-rmse:0.482414\n",
      "[842]\tvalidation_0-rmse:0.248236\tvalidation_1-rmse:0.482407\n",
      "[843]\tvalidation_0-rmse:0.248115\tvalidation_1-rmse:0.482388\n",
      "[844]\tvalidation_0-rmse:0.247974\tvalidation_1-rmse:0.482401\n",
      "[845]\tvalidation_0-rmse:0.247821\tvalidation_1-rmse:0.482439\n",
      "[846]\tvalidation_0-rmse:0.247707\tvalidation_1-rmse:0.482458\n",
      "[847]\tvalidation_0-rmse:0.247523\tvalidation_1-rmse:0.48242\n",
      "[848]\tvalidation_0-rmse:0.247362\tvalidation_1-rmse:0.482368\n",
      "[849]\tvalidation_0-rmse:0.247251\tvalidation_1-rmse:0.482398\n",
      "[850]\tvalidation_0-rmse:0.247125\tvalidation_1-rmse:0.482363\n",
      "[851]\tvalidation_0-rmse:0.246956\tvalidation_1-rmse:0.482355\n",
      "[852]\tvalidation_0-rmse:0.246763\tvalidation_1-rmse:0.482353\n",
      "[853]\tvalidation_0-rmse:0.246611\tvalidation_1-rmse:0.482345\n",
      "[854]\tvalidation_0-rmse:0.246477\tvalidation_1-rmse:0.482352\n",
      "[855]\tvalidation_0-rmse:0.246324\tvalidation_1-rmse:0.482315\n",
      "[856]\tvalidation_0-rmse:0.246102\tvalidation_1-rmse:0.482311\n",
      "[857]\tvalidation_0-rmse:0.246027\tvalidation_1-rmse:0.48233\n",
      "[858]\tvalidation_0-rmse:0.245801\tvalidation_1-rmse:0.482298\n",
      "[859]\tvalidation_0-rmse:0.24564\tvalidation_1-rmse:0.482302\n",
      "[860]\tvalidation_0-rmse:0.245498\tvalidation_1-rmse:0.482297\n",
      "[861]\tvalidation_0-rmse:0.245304\tvalidation_1-rmse:0.482217\n",
      "[862]\tvalidation_0-rmse:0.245155\tvalidation_1-rmse:0.482193\n",
      "[863]\tvalidation_0-rmse:0.245016\tvalidation_1-rmse:0.482229\n",
      "[864]\tvalidation_0-rmse:0.24486\tvalidation_1-rmse:0.482234\n",
      "[865]\tvalidation_0-rmse:0.244706\tvalidation_1-rmse:0.482234\n",
      "[866]\tvalidation_0-rmse:0.24457\tvalidation_1-rmse:0.482309\n",
      "[867]\tvalidation_0-rmse:0.244454\tvalidation_1-rmse:0.482327\n",
      "[868]\tvalidation_0-rmse:0.244256\tvalidation_1-rmse:0.482404\n",
      "[869]\tvalidation_0-rmse:0.244151\tvalidation_1-rmse:0.482432\n",
      "[870]\tvalidation_0-rmse:0.244054\tvalidation_1-rmse:0.482447\n",
      "[871]\tvalidation_0-rmse:0.243874\tvalidation_1-rmse:0.482456\n",
      "[872]\tvalidation_0-rmse:0.243717\tvalidation_1-rmse:0.482449\n",
      "[873]\tvalidation_0-rmse:0.2436\tvalidation_1-rmse:0.482404\n",
      "[874]\tvalidation_0-rmse:0.243474\tvalidation_1-rmse:0.482364\n",
      "[875]\tvalidation_0-rmse:0.243364\tvalidation_1-rmse:0.482362\n",
      "[876]\tvalidation_0-rmse:0.24323\tvalidation_1-rmse:0.482392\n",
      "[877]\tvalidation_0-rmse:0.243049\tvalidation_1-rmse:0.4824\n",
      "[878]\tvalidation_0-rmse:0.242921\tvalidation_1-rmse:0.482377\n",
      "[879]\tvalidation_0-rmse:0.242809\tvalidation_1-rmse:0.482385\n",
      "[880]\tvalidation_0-rmse:0.242611\tvalidation_1-rmse:0.482392\n",
      "[881]\tvalidation_0-rmse:0.242512\tvalidation_1-rmse:0.482404\n",
      "[882]\tvalidation_0-rmse:0.242334\tvalidation_1-rmse:0.482389\n",
      "[883]\tvalidation_0-rmse:0.242164\tvalidation_1-rmse:0.482403\n",
      "[884]\tvalidation_0-rmse:0.242038\tvalidation_1-rmse:0.482423\n",
      "[885]\tvalidation_0-rmse:0.241849\tvalidation_1-rmse:0.482396\n",
      "[886]\tvalidation_0-rmse:0.241723\tvalidation_1-rmse:0.482397\n",
      "[887]\tvalidation_0-rmse:0.241595\tvalidation_1-rmse:0.482367\n",
      "[888]\tvalidation_0-rmse:0.241371\tvalidation_1-rmse:0.482368\n",
      "[889]\tvalidation_0-rmse:0.241221\tvalidation_1-rmse:0.482395\n",
      "[890]\tvalidation_0-rmse:0.24105\tvalidation_1-rmse:0.482431\n",
      "[891]\tvalidation_0-rmse:0.240892\tvalidation_1-rmse:0.482389\n",
      "[892]\tvalidation_0-rmse:0.240735\tvalidation_1-rmse:0.482328\n",
      "[893]\tvalidation_0-rmse:0.240529\tvalidation_1-rmse:0.482329\n",
      "[894]\tvalidation_0-rmse:0.24042\tvalidation_1-rmse:0.482274\n",
      "[895]\tvalidation_0-rmse:0.24029\tvalidation_1-rmse:0.482289\n",
      "[896]\tvalidation_0-rmse:0.240217\tvalidation_1-rmse:0.482305\n",
      "[897]\tvalidation_0-rmse:0.240061\tvalidation_1-rmse:0.482304\n",
      "[898]\tvalidation_0-rmse:0.239981\tvalidation_1-rmse:0.482328\n",
      "[899]\tvalidation_0-rmse:0.239856\tvalidation_1-rmse:0.482324\n",
      "[900]\tvalidation_0-rmse:0.239771\tvalidation_1-rmse:0.482283\n",
      "[901]\tvalidation_0-rmse:0.23963\tvalidation_1-rmse:0.482226\n",
      "[902]\tvalidation_0-rmse:0.239431\tvalidation_1-rmse:0.482182\n",
      "[903]\tvalidation_0-rmse:0.239318\tvalidation_1-rmse:0.482196\n",
      "[904]\tvalidation_0-rmse:0.239156\tvalidation_1-rmse:0.482204\n",
      "[905]\tvalidation_0-rmse:0.23907\tvalidation_1-rmse:0.482186\n",
      "[906]\tvalidation_0-rmse:0.238902\tvalidation_1-rmse:0.482177\n",
      "[907]\tvalidation_0-rmse:0.238749\tvalidation_1-rmse:0.482152\n",
      "[908]\tvalidation_0-rmse:0.238535\tvalidation_1-rmse:0.482143\n",
      "[909]\tvalidation_0-rmse:0.238392\tvalidation_1-rmse:0.482157\n",
      "[910]\tvalidation_0-rmse:0.238249\tvalidation_1-rmse:0.482157\n",
      "[911]\tvalidation_0-rmse:0.23818\tvalidation_1-rmse:0.482181\n",
      "[912]\tvalidation_0-rmse:0.238038\tvalidation_1-rmse:0.482224\n",
      "[913]\tvalidation_0-rmse:0.237868\tvalidation_1-rmse:0.482278\n",
      "[914]\tvalidation_0-rmse:0.237736\tvalidation_1-rmse:0.482296\n",
      "[915]\tvalidation_0-rmse:0.237548\tvalidation_1-rmse:0.482294\n",
      "[916]\tvalidation_0-rmse:0.237463\tvalidation_1-rmse:0.482276\n",
      "[917]\tvalidation_0-rmse:0.237296\tvalidation_1-rmse:0.482253\n",
      "[918]\tvalidation_0-rmse:0.237125\tvalidation_1-rmse:0.482266\n",
      "[919]\tvalidation_0-rmse:0.236969\tvalidation_1-rmse:0.482315\n",
      "[920]\tvalidation_0-rmse:0.236892\tvalidation_1-rmse:0.48232\n",
      "[921]\tvalidation_0-rmse:0.236774\tvalidation_1-rmse:0.482356\n",
      "[922]\tvalidation_0-rmse:0.236635\tvalidation_1-rmse:0.482389\n",
      "[923]\tvalidation_0-rmse:0.23647\tvalidation_1-rmse:0.482405\n",
      "[924]\tvalidation_0-rmse:0.236321\tvalidation_1-rmse:0.482411\n",
      "[925]\tvalidation_0-rmse:0.236181\tvalidation_1-rmse:0.482418\n",
      "[926]\tvalidation_0-rmse:0.235995\tvalidation_1-rmse:0.482437\n",
      "[927]\tvalidation_0-rmse:0.235862\tvalidation_1-rmse:0.482436\n",
      "[928]\tvalidation_0-rmse:0.235762\tvalidation_1-rmse:0.482448\n",
      "[929]\tvalidation_0-rmse:0.235609\tvalidation_1-rmse:0.482444\n",
      "[930]\tvalidation_0-rmse:0.235491\tvalidation_1-rmse:0.482528\n",
      "[931]\tvalidation_0-rmse:0.235339\tvalidation_1-rmse:0.482561\n",
      "[932]\tvalidation_0-rmse:0.235155\tvalidation_1-rmse:0.482603\n",
      "[933]\tvalidation_0-rmse:0.235005\tvalidation_1-rmse:0.482576\n",
      "[934]\tvalidation_0-rmse:0.234838\tvalidation_1-rmse:0.482553\n",
      "[935]\tvalidation_0-rmse:0.234709\tvalidation_1-rmse:0.482556\n",
      "[936]\tvalidation_0-rmse:0.234518\tvalidation_1-rmse:0.482563\n",
      "[937]\tvalidation_0-rmse:0.234352\tvalidation_1-rmse:0.482561\n",
      "[938]\tvalidation_0-rmse:0.234184\tvalidation_1-rmse:0.482537\n",
      "[939]\tvalidation_0-rmse:0.234042\tvalidation_1-rmse:0.482549\n",
      "[940]\tvalidation_0-rmse:0.233848\tvalidation_1-rmse:0.482461\n",
      "[941]\tvalidation_0-rmse:0.233694\tvalidation_1-rmse:0.482508\n",
      "[942]\tvalidation_0-rmse:0.233541\tvalidation_1-rmse:0.482495\n",
      "[943]\tvalidation_0-rmse:0.233434\tvalidation_1-rmse:0.482504\n",
      "[944]\tvalidation_0-rmse:0.233291\tvalidation_1-rmse:0.482513\n",
      "[945]\tvalidation_0-rmse:0.233165\tvalidation_1-rmse:0.48252\n",
      "[946]\tvalidation_0-rmse:0.233016\tvalidation_1-rmse:0.482491\n",
      "[947]\tvalidation_0-rmse:0.232847\tvalidation_1-rmse:0.482528\n",
      "[948]\tvalidation_0-rmse:0.232734\tvalidation_1-rmse:0.482557\n",
      "[949]\tvalidation_0-rmse:0.232646\tvalidation_1-rmse:0.482547\n",
      "[950]\tvalidation_0-rmse:0.23252\tvalidation_1-rmse:0.482548\n",
      "[951]\tvalidation_0-rmse:0.23243\tvalidation_1-rmse:0.482555\n",
      "[952]\tvalidation_0-rmse:0.232255\tvalidation_1-rmse:0.482625\n",
      "[953]\tvalidation_0-rmse:0.232105\tvalidation_1-rmse:0.482645\n",
      "[954]\tvalidation_0-rmse:0.23197\tvalidation_1-rmse:0.482606\n",
      "[955]\tvalidation_0-rmse:0.231848\tvalidation_1-rmse:0.482568\n",
      "[956]\tvalidation_0-rmse:0.231694\tvalidation_1-rmse:0.482588\n",
      "[957]\tvalidation_0-rmse:0.231578\tvalidation_1-rmse:0.482576\n",
      "[958]\tvalidation_0-rmse:0.23141\tvalidation_1-rmse:0.482595\n",
      "[959]\tvalidation_0-rmse:0.231275\tvalidation_1-rmse:0.482575\n",
      "[960]\tvalidation_0-rmse:0.231131\tvalidation_1-rmse:0.482584\n",
      "[961]\tvalidation_0-rmse:0.231006\tvalidation_1-rmse:0.482613\n"
     ]
    },
    {
     "name": "stdout",
     "output_type": "stream",
     "text": [
      "[962]\tvalidation_0-rmse:0.230918\tvalidation_1-rmse:0.482626\n",
      "[963]\tvalidation_0-rmse:0.230826\tvalidation_1-rmse:0.482645\n",
      "[964]\tvalidation_0-rmse:0.230659\tvalidation_1-rmse:0.482671\n",
      "[965]\tvalidation_0-rmse:0.230544\tvalidation_1-rmse:0.482661\n",
      "[966]\tvalidation_0-rmse:0.230412\tvalidation_1-rmse:0.482619\n",
      "[967]\tvalidation_0-rmse:0.230273\tvalidation_1-rmse:0.482646\n",
      "[968]\tvalidation_0-rmse:0.230108\tvalidation_1-rmse:0.482644\n",
      "[969]\tvalidation_0-rmse:0.229987\tvalidation_1-rmse:0.482611\n",
      "[970]\tvalidation_0-rmse:0.229869\tvalidation_1-rmse:0.482655\n",
      "[971]\tvalidation_0-rmse:0.229719\tvalidation_1-rmse:0.482732\n",
      "[972]\tvalidation_0-rmse:0.229579\tvalidation_1-rmse:0.482724\n",
      "[973]\tvalidation_0-rmse:0.229486\tvalidation_1-rmse:0.482722\n",
      "[974]\tvalidation_0-rmse:0.229341\tvalidation_1-rmse:0.482706\n",
      "[975]\tvalidation_0-rmse:0.229216\tvalidation_1-rmse:0.482743\n",
      "[976]\tvalidation_0-rmse:0.229092\tvalidation_1-rmse:0.482706\n",
      "[977]\tvalidation_0-rmse:0.228997\tvalidation_1-rmse:0.482654\n",
      "[978]\tvalidation_0-rmse:0.228867\tvalidation_1-rmse:0.482644\n",
      "[979]\tvalidation_0-rmse:0.228771\tvalidation_1-rmse:0.482626\n",
      "[980]\tvalidation_0-rmse:0.228669\tvalidation_1-rmse:0.482625\n",
      "[981]\tvalidation_0-rmse:0.228496\tvalidation_1-rmse:0.482623\n",
      "[982]\tvalidation_0-rmse:0.228352\tvalidation_1-rmse:0.482585\n",
      "[983]\tvalidation_0-rmse:0.228198\tvalidation_1-rmse:0.48261\n",
      "[984]\tvalidation_0-rmse:0.227981\tvalidation_1-rmse:0.482542\n",
      "[985]\tvalidation_0-rmse:0.227856\tvalidation_1-rmse:0.482536\n",
      "[986]\tvalidation_0-rmse:0.227684\tvalidation_1-rmse:0.482525\n",
      "[987]\tvalidation_0-rmse:0.227551\tvalidation_1-rmse:0.48248\n",
      "[988]\tvalidation_0-rmse:0.227411\tvalidation_1-rmse:0.482436\n",
      "[989]\tvalidation_0-rmse:0.227267\tvalidation_1-rmse:0.482452\n",
      "[990]\tvalidation_0-rmse:0.227133\tvalidation_1-rmse:0.482484\n",
      "[991]\tvalidation_0-rmse:0.227034\tvalidation_1-rmse:0.482468\n",
      "[992]\tvalidation_0-rmse:0.226943\tvalidation_1-rmse:0.482519\n",
      "[993]\tvalidation_0-rmse:0.226813\tvalidation_1-rmse:0.482464\n",
      "[994]\tvalidation_0-rmse:0.226712\tvalidation_1-rmse:0.482489\n",
      "[995]\tvalidation_0-rmse:0.22657\tvalidation_1-rmse:0.482469\n",
      "[996]\tvalidation_0-rmse:0.226458\tvalidation_1-rmse:0.482477\n",
      "[997]\tvalidation_0-rmse:0.226274\tvalidation_1-rmse:0.482412\n",
      "[998]\tvalidation_0-rmse:0.226105\tvalidation_1-rmse:0.482435\n",
      "[999]\tvalidation_0-rmse:0.225925\tvalidation_1-rmse:0.482434\n",
      "[1000]\tvalidation_0-rmse:0.225788\tvalidation_1-rmse:0.482451\n",
      "[1001]\tvalidation_0-rmse:0.225681\tvalidation_1-rmse:0.482438\n",
      "[1002]\tvalidation_0-rmse:0.225543\tvalidation_1-rmse:0.482494\n",
      "[1003]\tvalidation_0-rmse:0.225379\tvalidation_1-rmse:0.482438\n",
      "[1004]\tvalidation_0-rmse:0.225221\tvalidation_1-rmse:0.482397\n",
      "[1005]\tvalidation_0-rmse:0.225085\tvalidation_1-rmse:0.48241\n",
      "[1006]\tvalidation_0-rmse:0.224937\tvalidation_1-rmse:0.482427\n",
      "[1007]\tvalidation_0-rmse:0.224802\tvalidation_1-rmse:0.482487\n",
      "[1008]\tvalidation_0-rmse:0.22471\tvalidation_1-rmse:0.482474\n",
      "[1009]\tvalidation_0-rmse:0.224523\tvalidation_1-rmse:0.482447\n",
      "[1010]\tvalidation_0-rmse:0.224391\tvalidation_1-rmse:0.482425\n",
      "[1011]\tvalidation_0-rmse:0.224221\tvalidation_1-rmse:0.482423\n",
      "[1012]\tvalidation_0-rmse:0.224043\tvalidation_1-rmse:0.482469\n",
      "[1013]\tvalidation_0-rmse:0.223915\tvalidation_1-rmse:0.482439\n",
      "[1014]\tvalidation_0-rmse:0.223826\tvalidation_1-rmse:0.482432\n",
      "[1015]\tvalidation_0-rmse:0.223719\tvalidation_1-rmse:0.482432\n",
      "[1016]\tvalidation_0-rmse:0.223541\tvalidation_1-rmse:0.482423\n",
      "[1017]\tvalidation_0-rmse:0.223419\tvalidation_1-rmse:0.482398\n",
      "[1018]\tvalidation_0-rmse:0.223273\tvalidation_1-rmse:0.482434\n",
      "[1019]\tvalidation_0-rmse:0.223132\tvalidation_1-rmse:0.482475\n",
      "[1020]\tvalidation_0-rmse:0.22304\tvalidation_1-rmse:0.482482\n",
      "[1021]\tvalidation_0-rmse:0.222871\tvalidation_1-rmse:0.482485\n",
      "[1022]\tvalidation_0-rmse:0.222734\tvalidation_1-rmse:0.482496\n",
      "[1023]\tvalidation_0-rmse:0.222582\tvalidation_1-rmse:0.482502\n",
      "[1024]\tvalidation_0-rmse:0.222461\tvalidation_1-rmse:0.482512\n",
      "[1025]\tvalidation_0-rmse:0.222295\tvalidation_1-rmse:0.482531\n",
      "[1026]\tvalidation_0-rmse:0.222134\tvalidation_1-rmse:0.482497\n",
      "[1027]\tvalidation_0-rmse:0.222013\tvalidation_1-rmse:0.482534\n",
      "[1028]\tvalidation_0-rmse:0.221905\tvalidation_1-rmse:0.482533\n",
      "[1029]\tvalidation_0-rmse:0.221765\tvalidation_1-rmse:0.482565\n",
      "[1030]\tvalidation_0-rmse:0.221633\tvalidation_1-rmse:0.482568\n",
      "[1031]\tvalidation_0-rmse:0.221546\tvalidation_1-rmse:0.482603\n",
      "[1032]\tvalidation_0-rmse:0.221433\tvalidation_1-rmse:0.482607\n",
      "[1033]\tvalidation_0-rmse:0.221282\tvalidation_1-rmse:0.482556\n",
      "[1034]\tvalidation_0-rmse:0.221131\tvalidation_1-rmse:0.482592\n",
      "[1035]\tvalidation_0-rmse:0.221052\tvalidation_1-rmse:0.482593\n",
      "[1036]\tvalidation_0-rmse:0.220933\tvalidation_1-rmse:0.482602\n",
      "[1037]\tvalidation_0-rmse:0.220805\tvalidation_1-rmse:0.482557\n",
      "[1038]\tvalidation_0-rmse:0.220709\tvalidation_1-rmse:0.482568\n",
      "[1039]\tvalidation_0-rmse:0.22055\tvalidation_1-rmse:0.482525\n",
      "[1040]\tvalidation_0-rmse:0.220443\tvalidation_1-rmse:0.482505\n",
      "[1041]\tvalidation_0-rmse:0.220337\tvalidation_1-rmse:0.482534\n",
      "[1042]\tvalidation_0-rmse:0.220154\tvalidation_1-rmse:0.482544\n",
      "[1043]\tvalidation_0-rmse:0.219987\tvalidation_1-rmse:0.482533\n",
      "[1044]\tvalidation_0-rmse:0.219813\tvalidation_1-rmse:0.482569\n",
      "[1045]\tvalidation_0-rmse:0.219676\tvalidation_1-rmse:0.482537\n",
      "[1046]\tvalidation_0-rmse:0.219571\tvalidation_1-rmse:0.482517\n",
      "[1047]\tvalidation_0-rmse:0.219421\tvalidation_1-rmse:0.482588\n",
      "[1048]\tvalidation_0-rmse:0.219339\tvalidation_1-rmse:0.482579\n",
      "[1049]\tvalidation_0-rmse:0.219178\tvalidation_1-rmse:0.482657\n",
      "[1050]\tvalidation_0-rmse:0.21906\tvalidation_1-rmse:0.482678\n",
      "[1051]\tvalidation_0-rmse:0.218924\tvalidation_1-rmse:0.482667\n",
      "[1052]\tvalidation_0-rmse:0.218785\tvalidation_1-rmse:0.482677\n",
      "[1053]\tvalidation_0-rmse:0.218652\tvalidation_1-rmse:0.482706\n",
      "[1054]\tvalidation_0-rmse:0.218571\tvalidation_1-rmse:0.482705\n",
      "[1055]\tvalidation_0-rmse:0.21843\tvalidation_1-rmse:0.482696\n",
      "[1056]\tvalidation_0-rmse:0.218298\tvalidation_1-rmse:0.482689\n",
      "[1057]\tvalidation_0-rmse:0.218169\tvalidation_1-rmse:0.482671\n",
      "[1058]\tvalidation_0-rmse:0.218048\tvalidation_1-rmse:0.482695\n",
      "[1059]\tvalidation_0-rmse:0.217941\tvalidation_1-rmse:0.48266\n",
      "[1060]\tvalidation_0-rmse:0.217805\tvalidation_1-rmse:0.482673\n",
      "[1061]\tvalidation_0-rmse:0.217655\tvalidation_1-rmse:0.482723\n",
      "[1062]\tvalidation_0-rmse:0.217599\tvalidation_1-rmse:0.482713\n",
      "[1063]\tvalidation_0-rmse:0.217483\tvalidation_1-rmse:0.482722\n",
      "[1064]\tvalidation_0-rmse:0.217352\tvalidation_1-rmse:0.482677\n",
      "[1065]\tvalidation_0-rmse:0.217242\tvalidation_1-rmse:0.482675\n",
      "[1066]\tvalidation_0-rmse:0.217096\tvalidation_1-rmse:0.482635\n",
      "[1067]\tvalidation_0-rmse:0.216955\tvalidation_1-rmse:0.482629\n",
      "[1068]\tvalidation_0-rmse:0.216828\tvalidation_1-rmse:0.482648\n",
      "[1069]\tvalidation_0-rmse:0.216674\tvalidation_1-rmse:0.482627\n",
      "[1070]\tvalidation_0-rmse:0.216579\tvalidation_1-rmse:0.482621\n",
      "[1071]\tvalidation_0-rmse:0.216509\tvalidation_1-rmse:0.482659\n",
      "[1072]\tvalidation_0-rmse:0.216415\tvalidation_1-rmse:0.482626\n",
      "[1073]\tvalidation_0-rmse:0.216255\tvalidation_1-rmse:0.482623\n",
      "[1074]\tvalidation_0-rmse:0.216183\tvalidation_1-rmse:0.4826\n",
      "[1075]\tvalidation_0-rmse:0.216107\tvalidation_1-rmse:0.482606\n",
      "[1076]\tvalidation_0-rmse:0.215979\tvalidation_1-rmse:0.482576\n",
      "[1077]\tvalidation_0-rmse:0.215815\tvalidation_1-rmse:0.482565\n",
      "[1078]\tvalidation_0-rmse:0.215685\tvalidation_1-rmse:0.482573\n",
      "[1079]\tvalidation_0-rmse:0.215564\tvalidation_1-rmse:0.482517\n",
      "[1080]\tvalidation_0-rmse:0.215494\tvalidation_1-rmse:0.482562\n",
      "[1081]\tvalidation_0-rmse:0.215363\tvalidation_1-rmse:0.482515\n",
      "[1082]\tvalidation_0-rmse:0.215235\tvalidation_1-rmse:0.482513\n",
      "[1083]\tvalidation_0-rmse:0.215123\tvalidation_1-rmse:0.482499\n",
      "[1084]\tvalidation_0-rmse:0.21502\tvalidation_1-rmse:0.482504\n",
      "[1085]\tvalidation_0-rmse:0.214896\tvalidation_1-rmse:0.482468\n",
      "[1086]\tvalidation_0-rmse:0.214736\tvalidation_1-rmse:0.48244\n",
      "[1087]\tvalidation_0-rmse:0.21465\tvalidation_1-rmse:0.482445\n",
      "[1088]\tvalidation_0-rmse:0.214542\tvalidation_1-rmse:0.482484\n",
      "[1089]\tvalidation_0-rmse:0.214416\tvalidation_1-rmse:0.482473\n",
      "[1090]\tvalidation_0-rmse:0.214215\tvalidation_1-rmse:0.482442\n",
      "[1091]\tvalidation_0-rmse:0.214093\tvalidation_1-rmse:0.482454\n",
      "[1092]\tvalidation_0-rmse:0.21393\tvalidation_1-rmse:0.482481\n",
      "[1093]\tvalidation_0-rmse:0.213857\tvalidation_1-rmse:0.482498\n",
      "[1094]\tvalidation_0-rmse:0.21377\tvalidation_1-rmse:0.482473\n",
      "[1095]\tvalidation_0-rmse:0.213601\tvalidation_1-rmse:0.482426\n",
      "[1096]\tvalidation_0-rmse:0.213447\tvalidation_1-rmse:0.482438\n",
      "[1097]\tvalidation_0-rmse:0.213399\tvalidation_1-rmse:0.482439\n"
     ]
    },
    {
     "name": "stdout",
     "output_type": "stream",
     "text": [
      "[1098]\tvalidation_0-rmse:0.213208\tvalidation_1-rmse:0.482393\n",
      "[1099]\tvalidation_0-rmse:0.213083\tvalidation_1-rmse:0.482406\n",
      "[1100]\tvalidation_0-rmse:0.212924\tvalidation_1-rmse:0.482401\n",
      "[1101]\tvalidation_0-rmse:0.21282\tvalidation_1-rmse:0.482431\n",
      "[1102]\tvalidation_0-rmse:0.212696\tvalidation_1-rmse:0.482428\n",
      "[1103]\tvalidation_0-rmse:0.212589\tvalidation_1-rmse:0.482455\n",
      "[1104]\tvalidation_0-rmse:0.212453\tvalidation_1-rmse:0.482453\n",
      "[1105]\tvalidation_0-rmse:0.212331\tvalidation_1-rmse:0.482418\n",
      "[1106]\tvalidation_0-rmse:0.212275\tvalidation_1-rmse:0.482432\n",
      "[1107]\tvalidation_0-rmse:0.212182\tvalidation_1-rmse:0.482409\n",
      "[1108]\tvalidation_0-rmse:0.212074\tvalidation_1-rmse:0.482451\n",
      "Stopping. Best iteration:\n",
      "[908]\tvalidation_0-rmse:0.238535\tvalidation_1-rmse:0.482143\n",
      "\n",
      "CPU times: user 18min 39s, sys: 1.85 s, total: 18min 41s\n",
      "Wall time: 18min 41s\n"
     ]
    },
    {
     "data": {
      "text/plain": [
       "XGBRegressor(base_score=0.5, booster='gbtree', colsample_bylevel=1,\n",
       "       colsample_bytree=1, gamma=0, importance_type='gain',\n",
       "       learning_rate=0.1, max_delta_step=0, max_depth=3,\n",
       "       min_child_weight=1, missing=None, n_estimators=2000, n_jobs=1,\n",
       "       nthread=None, objective='reg:linear', random_state=0, reg_alpha=0,\n",
       "       reg_lambda=1, scale_pos_weight=1, seed=None, silent=True,\n",
       "       subsample=0.7)"
      ]
     },
     "execution_count": 82,
     "metadata": {},
     "output_type": "execute_result"
    }
   ],
   "source": [
    "%%time\n",
    "xreg.fit(data_train,labels_train, eval_set=eval_set, early_stopping_rounds=200)"
   ]
  },
  {
   "cell_type": "code",
   "execution_count": 83,
   "metadata": {},
   "outputs": [
    {
     "name": "stdout",
     "output_type": "stream",
     "text": [
      "xgb train rpec: 0.11699949693398552\n",
      "xgb test rpec: 0.0751075858958361\n",
      "CPU times: user 16min 2s, sys: 140 ms, total: 16min 2s\n",
      "Wall time: 16min 2s\n"
     ]
    }
   ],
   "source": [
    "%%time\n",
    "dist_xgb_train = np.zeros((len(x_train_sc), len(x_train_sc)))\n",
    "for i, x1 in enumerate(x_train_sc):\n",
    "    for j, x2 in enumerate(x_train_sc):\n",
    "        if dist_xgb_train[i][j] == 0:\n",
    "            p = xreg.predict(np.abs([x1 - x2]))[0]\n",
    "            dist_xgb_train[i][j] = p\n",
    "            dist_xgb_train[j][i] = p\n",
    "\n",
    "print(\"xgb train rpec:\", np.mean(r_precision_m(matrix=pd.DataFrame(dist_xgb_train), authors=y_train)))\n",
    "\n",
    "dist_xgb_test = np.zeros((len(x_test_sc), len(x_test_sc)))\n",
    "for i, x1 in enumerate(x_test_sc):\n",
    "    for j, x2 in enumerate(x_test_sc):\n",
    "        if dist_xgb_test[i][j] == 0:\n",
    "            p = xreg.predict(np.abs([x1 - x2]))[0]\n",
    "            dist_xgb_test[i][j] = p\n",
    "            dist_xgb_test[j][i] = p\n",
    "\n",
    "print(\"xgb test rpec:\", np.mean(r_precision_m(matrix=pd.DataFrame(dist_xgb_test), authors=y_test)))"
   ]
  },
  {
   "cell_type": "code",
   "execution_count": null,
   "metadata": {},
   "outputs": [],
   "source": []
  },
  {
   "cell_type": "code",
   "execution_count": null,
   "metadata": {},
   "outputs": [],
   "source": []
  },
  {
   "cell_type": "code",
   "execution_count": 169,
   "metadata": {},
   "outputs": [],
   "source": [
    "dic = {}\n",
    "dists = pd.DataFrame(dist_xgb_test)\n",
    "for i in dists:\n",
    "    col = dists[i]\n",
    "    closest = test_idx[col.argsort()[:15]]\n",
    "    arr = [(get_author_name(book_fbusta_ids[x], catalog), get_book_name(book_fbusta_ids[x], catalog)) for x in closest]\n",
    "    dic[arr[0]] = arr[1:]\n",
    "from pprint import pprint\n",
    "stream = open('xgb_delta_similarity_chunks15_2kMFW_stratified', 'w')\n",
    "pprint(dic, stream)"
   ]
  },
  {
   "cell_type": "markdown",
   "metadata": {},
   "source": [
    "#### delta + itml"
   ]
  },
  {
   "cell_type": "code",
   "execution_count": 368,
   "metadata": {},
   "outputs": [
    {
     "data": {
      "text/plain": [
       "array([[1., 0., 0.],\n",
       "       [0., 1., 0.],\n",
       "       [0., 0., 1.]])"
      ]
     },
     "execution_count": 368,
     "metadata": {},
     "output_type": "execute_result"
    }
   ],
   "source": [
    "np.eye(3)"
   ]
  },
  {
   "cell_type": "code",
   "execution_count": 372,
   "metadata": {},
   "outputs": [],
   "source": [
    "clf = ITML_Supervised(num_constraints=900, verbose=True, convergence_threshold=0.0001)"
   ]
  },
  {
   "cell_type": "code",
   "execution_count": 373,
   "metadata": {
    "scrolled": true
   },
   "outputs": [
    {
     "name": "stdout",
     "output_type": "stream",
     "text": [
      "itml iter: 0, conv = 21.942314\n",
      "itml iter: 1, conv = 5.927483\n",
      "itml iter: 2, conv = 4.143769\n",
      "itml iter: 3, conv = 3.268984\n",
      "itml iter: 4, conv = 2.821780\n",
      "itml iter: 5, conv = 2.500896\n",
      "itml iter: 6, conv = 2.241373\n",
      "itml iter: 7, conv = 1.921770\n",
      "itml iter: 8, conv = 1.658593\n",
      "itml iter: 9, conv = 1.401144\n",
      "itml iter: 10, conv = 1.027116\n",
      "itml iter: 11, conv = 0.683538\n",
      "itml iter: 12, conv = 0.497288\n",
      "itml iter: 13, conv = 0.410995\n",
      "itml iter: 14, conv = 0.340519\n",
      "itml iter: 15, conv = 0.266183\n",
      "itml iter: 16, conv = 0.193173\n",
      "itml iter: 17, conv = 0.143563\n",
      "itml iter: 18, conv = 0.119489\n",
      "itml iter: 19, conv = 0.098666\n",
      "itml iter: 20, conv = 0.076380\n",
      "itml iter: 21, conv = 0.054629\n",
      "itml iter: 22, conv = 0.039940\n",
      "itml iter: 23, conv = 0.032888\n",
      "itml iter: 24, conv = 0.027298\n",
      "itml iter: 25, conv = 0.021417\n",
      "itml iter: 26, conv = 0.015470\n",
      "itml iter: 27, conv = 0.011262\n",
      "itml iter: 28, conv = 0.009194\n",
      "itml iter: 29, conv = 0.007639\n",
      "itml iter: 30, conv = 0.006042\n",
      "itml iter: 31, conv = 0.004379\n",
      "itml iter: 32, conv = 0.003172\n",
      "itml iter: 33, conv = 0.002553\n",
      "itml iter: 34, conv = 0.002129\n",
      "itml iter: 35, conv = 0.001698\n",
      "itml iter: 36, conv = 0.001239\n",
      "itml iter: 37, conv = 0.000892\n",
      "itml iter: 38, conv = 0.000708\n",
      "itml iter: 39, conv = 0.000593\n",
      "itml iter: 40, conv = 0.000476\n",
      "itml iter: 41, conv = 0.000350\n",
      "itml iter: 42, conv = 0.000251\n",
      "itml iter: 43, conv = 0.000197\n",
      "itml iter: 44, conv = 0.000165\n",
      "itml iter: 45, conv = 0.000133\n",
      "itml converged at iter: 46, conv = 0.000099\n",
      "CPU times: user 4.17 s, sys: 8.2 ms, total: 4.18 s\n",
      "Wall time: 3.51 s\n"
     ]
    },
    {
     "data": {
      "text/plain": [
       "ITML_Supervised(A0=None, bounds=None, convergence_threshold=0.0001, gamma=1.0,\n",
       "        max_iter=1000, num_constraints=900, num_labeled=inf, verbose=True)"
      ]
     },
     "execution_count": 373,
     "metadata": {},
     "output_type": "execute_result"
    }
   ],
   "source": [
    "%%time\n",
    "clf.fit(x_train_sc, y_train)"
   ]
  },
  {
   "cell_type": "code",
   "execution_count": 374,
   "metadata": {},
   "outputs": [],
   "source": [
    "i_metric = metric(clf.metric())"
   ]
  },
  {
   "cell_type": "code",
   "execution_count": 375,
   "metadata": {},
   "outputs": [
    {
     "name": "stdout",
     "output_type": "stream",
     "text": [
      "0.5897505217226333\n",
      "CPU times: user 1.33 s, sys: 3.79 ms, total: 1.33 s\n",
      "Wall time: 1.34 s\n"
     ]
    }
   ],
   "source": [
    "%%time\n",
    "train_dist_matrix = pdist(x_train_sc, metric=i_metric)\n",
    "\n",
    "print(np.mean(r_precision_m(authors=y_train, matrix=pd.DataFrame(train_dist_matrix))))"
   ]
  },
  {
   "cell_type": "code",
   "execution_count": 376,
   "metadata": {},
   "outputs": [
    {
     "name": "stdout",
     "output_type": "stream",
     "text": [
      "0.39405797101449275\n",
      "CPU times: user 122 ms, sys: 0 ns, total: 122 ms\n",
      "Wall time: 122 ms\n"
     ]
    }
   ],
   "source": [
    "%%time\n",
    "test_dist_matrix = pdist(x_test_sc, metric=i_metric)\n",
    "\n",
    "print(np.mean(r_precision_m(authors=y_test, matrix=pd.DataFrame(test_dist_matrix))))"
   ]
  },
  {
   "cell_type": "markdown",
   "metadata": {},
   "source": [
    "#### delta + lsml"
   ]
  },
  {
   "cell_type": "code",
   "execution_count": 298,
   "metadata": {},
   "outputs": [
    {
     "data": {
      "text/plain": [
       "array([[-1.30888854,  0.2702789 , -0.40076212, ..., -0.23626613,\n",
       "        -0.55487229,  0.45985542],\n",
       "       [-0.9122457 , -0.08889377,  0.46908537, ...,  0.0156277 ,\n",
       "         0.07632148,  0.62500745],\n",
       "       [-0.65525592,  0.59707722, -0.05663998, ...,  0.16153021,\n",
       "         0.81265258,  0.70071264],\n",
       "       ...,\n",
       "       [-0.62523203, -1.51177972, -0.6590426 , ...,  0.17127919,\n",
       "         1.9326877 , -0.29624269],\n",
       "       [ 2.18683835, -0.71133972, -0.07717716, ..., -0.69174114,\n",
       "        -0.54600199, -0.13634111],\n",
       "       [ 2.33773995, -1.3171795 , -0.03540123, ...,  3.47989067,\n",
       "        -0.5873353 ,  0.89297354]])"
      ]
     },
     "execution_count": 298,
     "metadata": {},
     "output_type": "execute_result"
    }
   ],
   "source": [
    "x_train_sc"
   ]
  },
  {
   "cell_type": "code",
   "execution_count": 299,
   "metadata": {},
   "outputs": [
    {
     "data": {
      "text/plain": [
       "8.782767802394456e-28"
      ]
     },
     "execution_count": 299,
     "metadata": {},
     "output_type": "execute_result"
    }
   ],
   "source": [
    "np.linalg.det(np.cov(x_train_sc.T))"
   ]
  },
  {
   "cell_type": "code",
   "execution_count": 300,
   "metadata": {},
   "outputs": [
    {
     "data": {
      "text/plain": [
       "array([[1., 0., 0.],\n",
       "       [0., 1., 0.],\n",
       "       [0., 0., 1.]])"
      ]
     },
     "execution_count": 300,
     "metadata": {},
     "output_type": "execute_result"
    }
   ],
   "source": [
    "np.eye(3)"
   ]
  },
  {
   "cell_type": "code",
   "execution_count": 377,
   "metadata": {},
   "outputs": [],
   "source": [
    "clf = LSML_Supervised(num_constraints=1990,verbose=True, prior=np.eye(x_train_sc.T.shape[0]), )"
   ]
  },
  {
   "cell_type": "code",
   "execution_count": 378,
   "metadata": {
    "scrolled": true
   },
   "outputs": [
    {
     "name": "stdout",
     "output_type": "stream",
     "text": [
      "initial loss 101.69612002457745\n",
      "gradient norm 2117.8686985471927\n",
      "iter 1 cost 101.43352503758751 best step 1.0\n",
      "gradient norm 1267.3907158735417\n",
      "iter 2 cost 101.43352503758751 best step 0.5984274269424452\n",
      "CPU times: user 595 ms, sys: 4.24 ms, total: 600 ms\n",
      "Wall time: 198 ms\n"
     ]
    },
    {
     "name": "stderr",
     "output_type": "stream",
     "text": [
      "/home/artesby/anaconda3/envs/myenv/lib/python3.7/site-packages/metric_learn/constraints.py:62: UserWarning: Only generated 1754 positive constraints (requested 1990)\n",
      "  len(ab), 'positive' if same_label else 'negative', num_constraints))\n"
     ]
    },
    {
     "data": {
      "text/plain": [
       "LSML_Supervised(max_iter=1000, num_constraints=1990, num_labeled=inf,\n",
       "        prior=array([[1., 0., ..., 0., 0.],\n",
       "       [0., 1., ..., 0., 0.],\n",
       "       ...,\n",
       "       [0., 0., ..., 1., 0.],\n",
       "       [0., 0., ..., 0., 1.]]),\n",
       "        tol=0.001, verbose=True, weights=None)"
      ]
     },
     "execution_count": 378,
     "metadata": {},
     "output_type": "execute_result"
    }
   ],
   "source": [
    "%%time\n",
    "clf.fit(x_train_sc, y_train)"
   ]
  },
  {
   "cell_type": "code",
   "execution_count": 379,
   "metadata": {},
   "outputs": [],
   "source": [
    "l_metric = metric(clf.metric())"
   ]
  },
  {
   "cell_type": "code",
   "execution_count": 380,
   "metadata": {},
   "outputs": [
    {
     "name": "stdout",
     "output_type": "stream",
     "text": [
      "0.3263991652437868\n",
      "CPU times: user 1.89 s, sys: 8.06 ms, total: 1.89 s\n",
      "Wall time: 1.35 s\n"
     ]
    }
   ],
   "source": [
    "%%time\n",
    "train_dist_matrix = pdist(x_train_sc, metric=l_metric)\n",
    "\n",
    "print(np.mean(r_precision_m(authors=y_train, matrix=pd.DataFrame(train_dist_matrix))))"
   ]
  },
  {
   "cell_type": "code",
   "execution_count": 381,
   "metadata": {},
   "outputs": [
    {
     "name": "stdout",
     "output_type": "stream",
     "text": [
      "0.4652173913043478\n",
      "CPU times: user 126 ms, sys: 0 ns, total: 126 ms\n",
      "Wall time: 126 ms\n"
     ]
    }
   ],
   "source": [
    "%%time\n",
    "test_dist_matrix = pdist(x_test_sc, metric=l_metric)\n",
    "\n",
    "print(np.mean(r_precision_m(authors=y_test, matrix=pd.DataFrame(test_dist_matrix))))"
   ]
  },
  {
   "cell_type": "code",
   "execution_count": null,
   "metadata": {},
   "outputs": [],
   "source": []
  },
  {
   "cell_type": "markdown",
   "metadata": {},
   "source": [
    "### baseline"
   ]
  },
  {
   "cell_type": "code",
   "execution_count": 805,
   "metadata": {},
   "outputs": [],
   "source": [
    "from math import factorial as fa"
   ]
  },
  {
   "cell_type": "code",
   "execution_count": 806,
   "metadata": {},
   "outputs": [],
   "source": [
    "def partial_factorial(begin, end):\n",
    "    s = 1\n",
    "    for i in range(begin, end+1):\n",
    "        s *= i\n",
    "    return s\n",
    "pfa = partial_factorial"
   ]
  },
  {
   "cell_type": "code",
   "execution_count": 807,
   "metadata": {},
   "outputs": [],
   "source": [
    "def E_r_precision(n_books, n_relevant):\n",
    "    n = n_books\n",
    "    x = n_relevant\n",
    "    s = 0\n",
    "    c = fa(x) * fa(x) / pfa(n-x+1, n)\n",
    "    for k in range(x+1):\n",
    "        s += (k) * pfa(n-x-k+1, n-x) / fa(k) / fa(k) / fa(x-k)\n",
    "    return c * s"
   ]
  },
  {
   "cell_type": "code",
   "execution_count": 808,
   "metadata": {},
   "outputs": [
    {
     "data": {
      "text/plain": [
       "0.04999999999999982"
      ]
     },
     "execution_count": 808,
     "metadata": {},
     "output_type": "execute_result"
    }
   ],
   "source": [
    "5 - E_r_precision(500, 5)"
   ]
  },
  {
   "cell_type": "markdown",
   "metadata": {},
   "source": [
    "? = n_relevant * n_relevant / n_books"
   ]
  },
  {
   "cell_type": "code",
   "execution_count": 809,
   "metadata": {},
   "outputs": [],
   "source": [
    "def estimation(n_books, n_relevant):\n",
    "    return n_relevant * n_relevant / n_books"
   ]
  },
  {
   "cell_type": "code",
   "execution_count": 810,
   "metadata": {},
   "outputs": [
    {
     "name": "stdout",
     "output_type": "stream",
     "text": [
      "train E rp: 0.04813415660068887\n",
      "test E rp: 0.19243856332703216\n"
     ]
    }
   ],
   "source": [
    "rps = []\n",
    "for author in y_train:\n",
    "    rps.append(estimation(len(y_train), (y_train==author).sum()))\n",
    "print(\"train E rp:\", np.mean(rps))\n",
    "\n",
    "rps = []\n",
    "for author in y_test:\n",
    "    rps.append(estimation(len(y_test), (y_test==author).sum()))\n",
    "print(\"test E rp:\", np.mean(rps))\n"
   ]
  },
  {
   "cell_type": "code",
   "execution_count": null,
   "metadata": {},
   "outputs": [],
   "source": []
  },
  {
   "cell_type": "markdown",
   "metadata": {},
   "source": [
    "### some correlations"
   ]
  },
  {
   "cell_type": "code",
   "execution_count": 311,
   "metadata": {},
   "outputs": [
    {
     "data": {
      "text/plain": [
       "<matplotlib.axes._subplots.AxesSubplot at 0x7f74fbeb1a90>"
      ]
     },
     "execution_count": 311,
     "metadata": {},
     "output_type": "execute_result"
    },
    {
     "data": {
      "image/png": "[encoded data removed]",
      "text/plain": [
       "<Figure size 1152x720 with 2 Axes>"
      ]
     },
     "metadata": {
      "needs_background": "light"
     },
     "output_type": "display_data"
    }
   ],
   "source": [
    "from seaborn import heatmap\n",
    "import matplotlib.pyplot as plt\n",
    "\n",
    "fig, ax = plt.subplots(figsize=(16,10))    \n",
    "df = pd.DataFrame(pos_fractions.toarray())\n",
    "df.columns = sorted(cv_fractions.vocabulary_)\n",
    "heatmap(df.corr().round(2), annot=True, cmap=\"YlGnBu\")"
   ]
  },
  {
   "cell_type": "code",
   "execution_count": 63,
   "metadata": {},
   "outputs": [
    {
     "data": {
      "text/plain": [
       "<matplotlib.axes._subplots.AxesSubplot at 0x7f0c2ac89b70>"
      ]
     },
     "execution_count": 63,
     "metadata": {},
     "output_type": "execute_result"
    },
    {
     "data": {
      "image/png": "[encoded data removed]",
      "text/plain": [
       "<Figure size 1152x720 with 2 Axes>"
      ]
     },
     "metadata": {
      "needs_background": "light"
     },
     "output_type": "display_data"
    }
   ],
   "source": [
    "fig, ax = plt.subplots(figsize=(16,10))    \n",
    "df = pd.DataFrame(np.c_[pos_fractions.todense(), avg_sent_l, avg_len_word, type_token_ratio, rwf])\n",
    "df.columns = sorted(cv_fractions.vocabulary_)+ ['avg_sent_len', 'avg_w_len', 'type_token_r', '%rare_w']\n",
    "heatmap(df.corr().round(2), annot=True, cmap=\"YlGnBu\")"
   ]
  }
 ],
 "metadata": {
  "kernelspec": {
   "display_name": "Python 3",
   "language": "python",
   "name": "python3"
  },
  "language_info": {
   "codemirror_mode": {
    "name": "ipython",
    "version": 3
   },
   "file_extension": ".py",
   "mimetype": "text/x-python",
   "name": "python",
   "nbconvert_exporter": "python",
   "pygments_lexer": "ipython3",
   "version": "3.7.3"
  }
 },
 "nbformat": 4,
 "nbformat_minor": 2
}
