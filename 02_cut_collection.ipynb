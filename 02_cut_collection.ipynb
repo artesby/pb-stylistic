{
 "cells": [
  {
   "cell_type": "code",
   "execution_count": 1,
   "metadata": {},
   "outputs": [],
   "source": [
    "import os\n",
    "import re"
   ]
  },
  {
   "cell_type": "code",
   "execution_count": 2,
   "metadata": {},
   "outputs": [],
   "source": [
    "import zipfile\n"
   ]
  },
  {
   "cell_type": "code",
   "execution_count": 3,
   "metadata": {},
   "outputs": [],
   "source": [
    "dir_in = 'txt'\n",
    "dir_out = 'plain_texts_cut'\n",
    "MIN_SIZE = 14000\n",
    "MAX_SIZE = 60000\n",
    "\n",
    "if not os.path.exists(dir_out):\n",
    "    os.makedirs(dir_out)"
   ]
  },
  {
   "cell_type": "code",
   "execution_count": 8,
   "metadata": {},
   "outputs": [
    {
     "name": "stderr",
     "output_type": "stream",
     "text": [
      "100%|██████████| 44843/44843 [36:27<00:00, 20.50it/s]  \n"
     ]
    }
   ],
   "source": [
    "# for filename in sorted(os.listdir(dir_in)\n",
    "min_len = 0\n",
    "lengths = []\n",
    "from tqdm import tqdm\n",
    "with zipfile.ZipFile('plain_texts.zip') as z:\n",
    "    for filename in tqdm(z.namelist()[1:]):\n",
    "#     with open(os.path.join(dir_in, filename), 'r') as book:\n",
    "        with z.open(filename) as book:\n",
    "            content = book.read().decode('utf8')\n",
    "            content = content.replace('?..', '?').replace('!..', '!').replace('...', '…').replace('--', '–')\n",
    "            content = re.sub('[…]+', ' … ', content)\n",
    "            content = re.sub('\\s+', ' ', content)\n",
    "            content = re.sub('[_]+', '_', content)\n",
    "            content = re.sub('[\\n]+', ' \\n ', content)\n",
    "            content = re.sub('[*]+', '*', content)\n",
    "            content = re.sub('\\xa0', ' ', content)\n",
    "            if len(content) < MIN_SIZE:\n",
    "                lengths.append(len(content))\n",
    "                min_len += 1\n",
    "                continue\n",
    "            if len(content) > MAX_SIZE:\n",
    "                cur = MAX_SIZE\n",
    "                next_char = content[cur]\n",
    "                while next_char.isalpha() and len(content) > cur:\n",
    "                    cur += 1\n",
    "                    next_char = content[cur]\n",
    "                content = content[:cur]\n",
    "\n",
    "        with open(os.path.join(dir_out, filename.replace('plain_texts/', '')), 'w') as book:\n",
    "            book.write(content)\n"
   ]
  },
  {
   "cell_type": "code",
   "execution_count": 9,
   "metadata": {},
   "outputs": [
    {
     "data": {
      "text/plain": [
       "6418"
      ]
     },
     "execution_count": 9,
     "metadata": {},
     "output_type": "execute_result"
    }
   ],
   "source": [
    "min_len"
   ]
  },
  {
   "cell_type": "code",
   "execution_count": 11,
   "metadata": {},
   "outputs": [
    {
     "data": {
      "text/plain": [
       "38425"
      ]
     },
     "execution_count": 11,
     "metadata": {},
     "output_type": "execute_result"
    }
   ],
   "source": [
    "len(os.listdir(dir_out))"
   ]
  },
  {
   "cell_type": "code",
   "execution_count": 9,
   "metadata": {},
   "outputs": [
    {
     "data": {
      "text/plain": [
       "'?.!'"
      ]
     },
     "execution_count": 9,
     "metadata": {},
     "output_type": "execute_result"
    }
   ],
   "source": [
    "'?...!..'.replace('?..', '?').replace('!..', '!')"
   ]
  },
  {
   "cell_type": "code",
   "execution_count": 60,
   "metadata": {},
   "outputs": [
    {
     "name": "stdout",
     "output_type": "stream",
     "text": [
      " 76-Т3 (fb\n"
     ]
    }
   ],
   "source": [
    "with open(os.path.join(dir_out, '76-т3plain')) as f:\n",
    "    print(f.read()[:10])"
   ]
  },
  {
   "cell_type": "code",
   "execution_count": null,
   "metadata": {},
   "outputs": [],
   "source": []
  }
 ],
 "metadata": {
  "kernelspec": {
   "display_name": "Python 3",
   "language": "python",
   "name": "python3"
  },
  "language_info": {
   "codemirror_mode": {
    "name": "ipython",
    "version": 3
   },
   "file_extension": ".py",
   "mimetype": "text/x-python",
   "name": "python",
   "nbconvert_exporter": "python",
   "pygments_lexer": "ipython3",
   "version": "3.7.3"
  }
 },
 "nbformat": 4,
 "nbformat_minor": 2
}
